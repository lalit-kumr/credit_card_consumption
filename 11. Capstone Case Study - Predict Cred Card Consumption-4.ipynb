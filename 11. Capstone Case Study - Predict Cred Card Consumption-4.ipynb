{
  "nbformat": 4,
  "nbformat_minor": 0,
  "metadata": {
    "kernelspec": {
      "display_name": "Python 3",
      "language": "python",
      "name": "python3"
    },
    "language_info": {
      "codemirror_mode": {
        "name": "ipython",
        "version": 3
      },
      "file_extension": ".py",
      "mimetype": "text/x-python",
      "name": "python",
      "nbconvert_exporter": "python",
      "pygments_lexer": "ipython3",
      "version": "3.8.5"
    },
    "colab": {
      "name": "11. Capstone Case Study - Predict Cred Card Consumption.ipynb",
      "provenance": []
    }
  },
  "cells": [
    {
      "cell_type": "code",
      "metadata": {
        "id": "zxsHzBZZmGF1"
      },
      "source": [
        "import pandas as pd\n",
        "import numpy as np\n",
        "import matplotlib.pyplot as plt\n",
        "import seaborn as sns\n",
        "\n",
        "from pandas_profiling import ProfileReport\n",
        "\n",
        "from sklearn.model_selection import train_test_split\n",
        "import sklearn.linear_model\n",
        "import sklearn.metrics as met\n",
        "from sklearn.preprocessing import OneHotEncoder\n",
        "from sklearn.feature_selection import RFE\n",
        "\n",
        "from scipy import stats\n",
        "\n",
        "\n",
        "from sklearn import linear_model"
      ],
      "execution_count": 23,
      "outputs": []
    },
    {
      "cell_type": "markdown",
      "metadata": {
        "id": "6Jv5H5bsmGF7"
      },
      "source": [
        "###1. Importing and cleaning data\n",
        "#### 1.1 Importing Data"
      ]
    },
    {
      "cell_type": "code",
      "metadata": {
        "id": "NgO8xoo5gPAT"
      },
      "source": [
        "# behaviour = pd.read_csv('CustomerBehaviorData.csv')\n",
        "# consumption = pd.read_csv('CreditConsumptionData.csv')\n",
        "# customer = pd.read_csv('CustomerDemographics.csv')\n",
        "\n",
        "\n",
        "behaviour = pd.read_csv('https://github.com/lalit-kumr/credit_card_consumption/blob/main/CustomerBehaviorData.csv?raw=true')\n",
        "consumption = pd.read_csv('https://github.com/lalit-kumr/credit_card_consumption/raw/main/CreditConsumptionData.csv')\n",
        "customer = pd.read_csv('https://github.com/lalit-kumr/credit_card_consumption/raw/main/CustomerDemographics.csv')"
      ],
      "execution_count": 2,
      "outputs": []
    },
    {
      "cell_type": "markdown",
      "metadata": {
        "id": "E-txyd8UmGF-"
      },
      "source": [
        "####1.2 Cleaning Customer df"
      ]
    },
    {
      "cell_type": "code",
      "metadata": {
        "id": "M-FVxKE2mGF-"
      },
      "source": [
        "#finding NaN values in customer df\n",
        "# customer.isna().sum()\n",
        "#Droppping observations having NaN values\n",
        "customer.dropna(inplace=True)\n",
        "# customer.isna().sum()"
      ],
      "execution_count": 3,
      "outputs": []
    },
    {
      "cell_type": "markdown",
      "metadata": {
        "id": "c_BplhxPmGGC"
      },
      "source": [
        "####1.3 Cleaning behaviour df"
      ]
    },
    {
      "cell_type": "code",
      "metadata": {
        "id": "v0BPwegmmGGD"
      },
      "source": [
        "#Droppping observations having NaN values\n",
        "behaviour.dropna(inplace=True)\n",
        "# behaviour.isna().sum()"
      ],
      "execution_count": 4,
      "outputs": []
    },
    {
      "cell_type": "markdown",
      "metadata": {
        "id": "YMkKem4xmGGH"
      },
      "source": [
        "####1.4 Cleaning consumption df"
      ]
    },
    {
      "cell_type": "code",
      "metadata": {
        "colab": {
          "base_uri": "https://localhost:8080/"
        },
        "id": "1O7__viLmGGH",
        "outputId": "3ad5e484-142f-4072-e62a-e096b49d9b74"
      },
      "source": [
        "consumption.isna().sum() # no NaN values except the ones we have to predict"
      ],
      "execution_count": 5,
      "outputs": [
        {
          "output_type": "execute_result",
          "data": {
            "text/plain": [
              "customer_id          0\n",
              "cc_cons_target    5000\n",
              "dtype: int64"
            ]
          },
          "metadata": {},
          "execution_count": 5
        }
      ]
    },
    {
      "cell_type": "markdown",
      "metadata": {
        "id": "yftDGJlemGGJ"
      },
      "source": [
        "###2. Merging and cleaning the dataframes\n",
        "\n"
      ]
    },
    {
      "cell_type": "markdown",
      "metadata": {
        "id": "RE5tT2ejrjOp"
      },
      "source": [
        "####2.1 Merging df "
      ]
    },
    {
      "cell_type": "code",
      "metadata": {
        "id": "7CaWIBuNmGGJ"
      },
      "source": [
        "# - now we will merge all three dataframes on the basis of customer_id.\n",
        "# - first we will merge customer and behaviour dataframes as customer_be\n",
        "# - next we will merge the cosumption dataframe with the custoemr_be df and store the resultant dataframe in **final**\n",
        "\n",
        "\n",
        "customer_behaviour = pd.merge(left=customer, right=behaviour, on='customer_id')\n",
        "final = pd.merge(left=customer_behaviour, right=consumption, on='customer_id')"
      ],
      "execution_count": 6,
      "outputs": []
    },
    {
      "cell_type": "markdown",
      "metadata": {
        "id": "LAGoH1yiiw6p"
      },
      "source": [
        "####2.2 summing features and removing orignal features"
      ]
    },
    {
      "cell_type": "code",
      "metadata": {
        "id": "d6labVz7B5RQ"
      },
      "source": [
        "#Total investments\n",
        "final['investment'] = final['investment_1']+final['investment_2']+final['investment_3']+final['investment_4']\n",
        "#Total debit amount\n",
        "final[\"Total_debit_amount\"]=final['debit_amount_apr']+final['debit_amount_may']+final['debit_amount_jun']\n",
        "#Total Credit Amount\n",
        "final[\"Total_credit_amount\"]=final['credit_amount_apr']+final['credit_amount_may']+final['credit_amount_jun']\n",
        "#Total Max Credit amount\n",
        "final[\"Total_max_credit_acmout\"]=final['max_credit_amount_apr']+final['max_credit_amount_may']+final['max_credit_amount_jun']\n",
        "#Total Active Loan\n",
        "final[\"Totat_active_loan\"]= final['personal_loan_active'] + final['vehicle_loan_active']\n",
        "#Toatal Closed Loan\n",
        "final[\"Total_closed_loan\"]= final['personal_loan_closed'] + final['vehicle_loan_closed']\n",
        "#Credit Card expenditure total\n",
        "final['creditcard_exp']= final['cc_cons_apr'] + final['cc_cons_may'] + final['cc_cons_jun'] \n",
        "#Debit Card expenditure total\n",
        "final['debitcard_exp']= final['dc_cons_apr'] + final['dc_cons_may'] + final['dc_cons_jun']\n",
        "#credit card use count total\n",
        "final['cc_count']=final['cc_count_apr']+final['cc_count_may']+final['cc_count_jun']\n",
        "# debit card use count total\n",
        "final['dc_count']=final['dc_count_apr']+final['dc_count_may']+final['dc_count_jun']\n",
        "#debit payments count total\n",
        "final['debit_count']=final['debit_count_apr']+ final['debit_count_may']+ final['debit_count_jun']\n",
        "#credit payments count total\n",
        "final['credit_count']=final['credit_count_apr']+ final['credit_count_may']+ final['credit_count_jun']\n",
        "\n",
        "extra = ['investment_1','investment_2','investment_3','investment_4',\n",
        "         'debit_amount_apr','debit_amount_may','debit_amount_jun',\n",
        "         'credit_amount_apr','credit_amount_may','credit_amount_jun',\n",
        "         'max_credit_amount_apr','max_credit_amount_may','max_credit_amount_jun',\n",
        "         'personal_loan_active','vehicle_loan_active',\n",
        "         'personal_loan_closed','vehicle_loan_closed',\n",
        "         'cc_cons_apr','cc_cons_may','cc_cons_jun',\n",
        "         'dc_cons_apr','dc_cons_may','dc_cons_jun',\n",
        "         'cc_count_apr','cc_count_may','cc_count_jun',\n",
        "         'dc_count_apr','dc_count_may','dc_count_jun',\n",
        "         'debit_count_apr','debit_count_may','debit_count_jun',\n",
        "         'credit_count_apr','credit_count_may','credit_count_jun'\n",
        "         ]\n",
        "\n",
        "final.drop(labels=extra,axis=1,inplace=True)\n",
        "# final.head(3)\n"
      ],
      "execution_count": 7,
      "outputs": []
    },
    {
      "cell_type": "markdown",
      "metadata": {
        "id": "BRzpMbKxjR3C"
      },
      "source": [
        "####2.3 Encoding categorical variables"
      ]
    },
    {
      "cell_type": "code",
      "metadata": {
        "id": "UF5M3EcrjOd_"
      },
      "source": [
        "#using pd.get_dummies to encode categorical variables in continunous variables and replace the categorical variables.\n",
        "final = pd.get_dummies(final)\n"
      ],
      "execution_count": 8,
      "outputs": []
    },
    {
      "cell_type": "markdown",
      "metadata": {
        "id": "01CiKugUSRc-"
      },
      "source": [
        "###3. EDA\n",
        "####3.1 Profile report\n",
        "After importing the data, the first tasks is to detect and treat outliers and balnk values. For that reason we will first generate a profile report of our dataframe by using pandas profiling package."
      ]
    },
    {
      "cell_type": "code",
      "metadata": {
        "id": "7Za4YuDgmGGL"
      },
      "source": [
        "# profile_report = ProfileReport(final)\n",
        "# profile_report.to_widgets()"
      ],
      "execution_count": 9,
      "outputs": []
    },
    {
      "cell_type": "markdown",
      "metadata": {
        "id": "2sZXZJQqpCkn"
      },
      "source": [
        "#### 3.2 Data. describe()"
      ]
    },
    {
      "cell_type": "code",
      "metadata": {
        "colab": {
          "base_uri": "https://localhost:8080/",
          "height": 320
        },
        "id": "rrqAO07TpIBA",
        "outputId": "962a79aa-6c22-4481-dbb2-cc1cf2754714"
      },
      "source": [
        "final.describe()"
      ],
      "execution_count": 10,
      "outputs": [
        {
          "output_type": "execute_result",
          "data": {
            "text/html": [
              "<div>\n",
              "<style scoped>\n",
              "    .dataframe tbody tr th:only-of-type {\n",
              "        vertical-align: middle;\n",
              "    }\n",
              "\n",
              "    .dataframe tbody tr th {\n",
              "        vertical-align: top;\n",
              "    }\n",
              "\n",
              "    .dataframe thead th {\n",
              "        text-align: right;\n",
              "    }\n",
              "</style>\n",
              "<table border=\"1\" class=\"dataframe\">\n",
              "  <thead>\n",
              "    <tr style=\"text-align: right;\">\n",
              "      <th></th>\n",
              "      <th>customer_id</th>\n",
              "      <th>age</th>\n",
              "      <th>emp_tenure_years</th>\n",
              "      <th>tenure_with_bank</th>\n",
              "      <th>region_code</th>\n",
              "      <th>net_banking_flag</th>\n",
              "      <th>avg_days_between_transaction</th>\n",
              "      <th>card_lim</th>\n",
              "      <th>emi_active</th>\n",
              "      <th>cc_cons_target</th>\n",
              "      <th>investment</th>\n",
              "      <th>Total_debit_amount</th>\n",
              "      <th>Total_credit_amount</th>\n",
              "      <th>Total_max_credit_acmout</th>\n",
              "      <th>Totat_active_loan</th>\n",
              "      <th>Total_closed_loan</th>\n",
              "      <th>creditcard_exp</th>\n",
              "      <th>debitcard_exp</th>\n",
              "      <th>cc_count</th>\n",
              "      <th>dc_count</th>\n",
              "      <th>debit_count</th>\n",
              "      <th>credit_count</th>\n",
              "      <th>account_type_current</th>\n",
              "      <th>account_type_saving</th>\n",
              "      <th>gender_F</th>\n",
              "      <th>gender_M</th>\n",
              "      <th>income_HIGH</th>\n",
              "      <th>income_LOW</th>\n",
              "      <th>income_MEDIUM</th>\n",
              "      <th>loan_enq_Y</th>\n",
              "    </tr>\n",
              "  </thead>\n",
              "  <tbody>\n",
              "    <tr>\n",
              "      <th>count</th>\n",
              "      <td>19988.000000</td>\n",
              "      <td>19988.000000</td>\n",
              "      <td>19988.000000</td>\n",
              "      <td>19988.000000</td>\n",
              "      <td>19988.000000</td>\n",
              "      <td>19988.000000</td>\n",
              "      <td>19988.000000</td>\n",
              "      <td>19988.000000</td>\n",
              "      <td>1.998800e+04</td>\n",
              "      <td>14995.000000</td>\n",
              "      <td>1.998800e+04</td>\n",
              "      <td>1.998800e+04</td>\n",
              "      <td>1.998800e+04</td>\n",
              "      <td>1.998800e+04</td>\n",
              "      <td>19988.0</td>\n",
              "      <td>19988.0</td>\n",
              "      <td>1.998800e+04</td>\n",
              "      <td>19988.000000</td>\n",
              "      <td>19988.000000</td>\n",
              "      <td>19988.000000</td>\n",
              "      <td>19988.000000</td>\n",
              "      <td>19988.000000</td>\n",
              "      <td>19988.000000</td>\n",
              "      <td>19988.000000</td>\n",
              "      <td>19988.000000</td>\n",
              "      <td>19988.000000</td>\n",
              "      <td>19988.000000</td>\n",
              "      <td>19988.000000</td>\n",
              "      <td>19988.000000</td>\n",
              "      <td>19988.0</td>\n",
              "    </tr>\n",
              "    <tr>\n",
              "      <th>mean</th>\n",
              "      <td>9998.746048</td>\n",
              "      <td>47.676506</td>\n",
              "      <td>15.217130</td>\n",
              "      <td>5.496248</td>\n",
              "      <td>598.972333</td>\n",
              "      <td>0.717881</td>\n",
              "      <td>11.043776</td>\n",
              "      <td>278360.162297</td>\n",
              "      <td>1.540378e+04</td>\n",
              "      <td>55156.748249</td>\n",
              "      <td>8.721141e+05</td>\n",
              "      <td>2.120368e+05</td>\n",
              "      <td>2.414512e+05</td>\n",
              "      <td>1.655106e+05</td>\n",
              "      <td>2.0</td>\n",
              "      <td>2.0</td>\n",
              "      <td>4.617868e+04</td>\n",
              "      <td>22943.995663</td>\n",
              "      <td>116.616720</td>\n",
              "      <td>61.619272</td>\n",
              "      <td>121.744397</td>\n",
              "      <td>43.079398</td>\n",
              "      <td>0.846208</td>\n",
              "      <td>0.153792</td>\n",
              "      <td>0.135631</td>\n",
              "      <td>0.864369</td>\n",
              "      <td>0.080598</td>\n",
              "      <td>0.280568</td>\n",
              "      <td>0.638833</td>\n",
              "      <td>1.0</td>\n",
              "    </tr>\n",
              "    <tr>\n",
              "      <th>std</th>\n",
              "      <td>5773.520940</td>\n",
              "      <td>30.367037</td>\n",
              "      <td>20.486393</td>\n",
              "      <td>2.870521</td>\n",
              "      <td>220.110940</td>\n",
              "      <td>0.450042</td>\n",
              "      <td>5.480507</td>\n",
              "      <td>180779.745948</td>\n",
              "      <td>1.202869e+05</td>\n",
              "      <td>97680.466478</td>\n",
              "      <td>2.969239e+06</td>\n",
              "      <td>2.878009e+05</td>\n",
              "      <td>2.961027e+05</td>\n",
              "      <td>3.160146e+05</td>\n",
              "      <td>0.0</td>\n",
              "      <td>0.0</td>\n",
              "      <td>4.134046e+04</td>\n",
              "      <td>26634.982245</td>\n",
              "      <td>119.988169</td>\n",
              "      <td>38.972461</td>\n",
              "      <td>62.444733</td>\n",
              "      <td>34.111134</td>\n",
              "      <td>0.360759</td>\n",
              "      <td>0.360759</td>\n",
              "      <td>0.342405</td>\n",
              "      <td>0.342405</td>\n",
              "      <td>0.272224</td>\n",
              "      <td>0.449288</td>\n",
              "      <td>0.480351</td>\n",
              "      <td>0.0</td>\n",
              "    </tr>\n",
              "    <tr>\n",
              "      <th>min</th>\n",
              "      <td>0.000000</td>\n",
              "      <td>25.000000</td>\n",
              "      <td>0.500000</td>\n",
              "      <td>1.000000</td>\n",
              "      <td>123.000000</td>\n",
              "      <td>0.000000</td>\n",
              "      <td>2.000000</td>\n",
              "      <td>0.000000</td>\n",
              "      <td>0.000000e+00</td>\n",
              "      <td>0.000000</td>\n",
              "      <td>-5.196800e+03</td>\n",
              "      <td>8.443590e+03</td>\n",
              "      <td>1.177500e+03</td>\n",
              "      <td>2.727910e+03</td>\n",
              "      <td>2.0</td>\n",
              "      <td>2.0</td>\n",
              "      <td>1.305000e+03</td>\n",
              "      <td>698.390000</td>\n",
              "      <td>3.000000</td>\n",
              "      <td>3.000000</td>\n",
              "      <td>3.000000</td>\n",
              "      <td>1.000000</td>\n",
              "      <td>0.000000</td>\n",
              "      <td>0.000000</td>\n",
              "      <td>0.000000</td>\n",
              "      <td>0.000000</td>\n",
              "      <td>0.000000</td>\n",
              "      <td>0.000000</td>\n",
              "      <td>0.000000</td>\n",
              "      <td>1.0</td>\n",
              "    </tr>\n",
              "    <tr>\n",
              "      <th>25%</th>\n",
              "      <td>4998.750000</td>\n",
              "      <td>33.000000</td>\n",
              "      <td>5.100000</td>\n",
              "      <td>3.000000</td>\n",
              "      <td>424.000000</td>\n",
              "      <td>0.000000</td>\n",
              "      <td>6.000000</td>\n",
              "      <td>124000.000000</td>\n",
              "      <td>1.545628e+03</td>\n",
              "      <td>6768.000000</td>\n",
              "      <td>1.389297e+05</td>\n",
              "      <td>1.085916e+05</td>\n",
              "      <td>1.211659e+05</td>\n",
              "      <td>8.225765e+04</td>\n",
              "      <td>2.0</td>\n",
              "      <td>2.0</td>\n",
              "      <td>2.176887e+04</td>\n",
              "      <td>9635.750000</td>\n",
              "      <td>55.000000</td>\n",
              "      <td>29.000000</td>\n",
              "      <td>76.000000</td>\n",
              "      <td>15.000000</td>\n",
              "      <td>1.000000</td>\n",
              "      <td>0.000000</td>\n",
              "      <td>0.000000</td>\n",
              "      <td>1.000000</td>\n",
              "      <td>0.000000</td>\n",
              "      <td>0.000000</td>\n",
              "      <td>0.000000</td>\n",
              "      <td>1.0</td>\n",
              "    </tr>\n",
              "    <tr>\n",
              "      <th>50%</th>\n",
              "      <td>9998.500000</td>\n",
              "      <td>40.000000</td>\n",
              "      <td>9.900000</td>\n",
              "      <td>6.000000</td>\n",
              "      <td>623.000000</td>\n",
              "      <td>1.000000</td>\n",
              "      <td>11.000000</td>\n",
              "      <td>272000.000000</td>\n",
              "      <td>3.934660e+03</td>\n",
              "      <td>13363.000000</td>\n",
              "      <td>2.734267e+05</td>\n",
              "      <td>1.611787e+05</td>\n",
              "      <td>1.814157e+05</td>\n",
              "      <td>1.166077e+05</td>\n",
              "      <td>2.0</td>\n",
              "      <td>2.0</td>\n",
              "      <td>3.515539e+04</td>\n",
              "      <td>15955.500000</td>\n",
              "      <td>90.000000</td>\n",
              "      <td>58.000000</td>\n",
              "      <td>114.000000</td>\n",
              "      <td>36.000000</td>\n",
              "      <td>1.000000</td>\n",
              "      <td>0.000000</td>\n",
              "      <td>0.000000</td>\n",
              "      <td>1.000000</td>\n",
              "      <td>0.000000</td>\n",
              "      <td>0.000000</td>\n",
              "      <td>1.000000</td>\n",
              "      <td>1.0</td>\n",
              "    </tr>\n",
              "    <tr>\n",
              "      <th>75%</th>\n",
              "      <td>14997.250000</td>\n",
              "      <td>53.000000</td>\n",
              "      <td>18.000000</td>\n",
              "      <td>8.000000</td>\n",
              "      <td>799.000000</td>\n",
              "      <td>1.000000</td>\n",
              "      <td>16.000000</td>\n",
              "      <td>401000.000000</td>\n",
              "      <td>9.376390e+03</td>\n",
              "      <td>20103.000000</td>\n",
              "      <td>5.848291e+05</td>\n",
              "      <td>2.440029e+05</td>\n",
              "      <td>2.767128e+05</td>\n",
              "      <td>1.753015e+05</td>\n",
              "      <td>2.0</td>\n",
              "      <td>2.0</td>\n",
              "      <td>5.667271e+04</td>\n",
              "      <td>26897.592500</td>\n",
              "      <td>134.000000</td>\n",
              "      <td>87.000000</td>\n",
              "      <td>159.000000</td>\n",
              "      <td>58.000000</td>\n",
              "      <td>1.000000</td>\n",
              "      <td>0.000000</td>\n",
              "      <td>0.000000</td>\n",
              "      <td>1.000000</td>\n",
              "      <td>0.000000</td>\n",
              "      <td>1.000000</td>\n",
              "      <td>1.000000</td>\n",
              "      <td>1.0</td>\n",
              "    </tr>\n",
              "    <tr>\n",
              "      <th>max</th>\n",
              "      <td>19999.000000</td>\n",
              "      <td>223.000000</td>\n",
              "      <td>203.000000</td>\n",
              "      <td>10.000000</td>\n",
              "      <td>974.000000</td>\n",
              "      <td>1.000000</td>\n",
              "      <td>20.000000</td>\n",
              "      <td>1000000.000000</td>\n",
              "      <td>7.447125e+06</td>\n",
              "      <td>408382.000000</td>\n",
              "      <td>6.657157e+07</td>\n",
              "      <td>2.655713e+07</td>\n",
              "      <td>1.089530e+07</td>\n",
              "      <td>1.208749e+07</td>\n",
              "      <td>2.0</td>\n",
              "      <td>2.0</td>\n",
              "      <td>1.161694e+06</td>\n",
              "      <td>932712.450000</td>\n",
              "      <td>1249.000000</td>\n",
              "      <td>229.000000</td>\n",
              "      <td>424.000000</td>\n",
              "      <td>230.000000</td>\n",
              "      <td>1.000000</td>\n",
              "      <td>1.000000</td>\n",
              "      <td>1.000000</td>\n",
              "      <td>1.000000</td>\n",
              "      <td>1.000000</td>\n",
              "      <td>1.000000</td>\n",
              "      <td>1.000000</td>\n",
              "      <td>1.0</td>\n",
              "    </tr>\n",
              "  </tbody>\n",
              "</table>\n",
              "</div>"
            ],
            "text/plain": [
              "        customer_id           age  ...  income_MEDIUM  loan_enq_Y\n",
              "count  19988.000000  19988.000000  ...   19988.000000     19988.0\n",
              "mean    9998.746048     47.676506  ...       0.638833         1.0\n",
              "std     5773.520940     30.367037  ...       0.480351         0.0\n",
              "min        0.000000     25.000000  ...       0.000000         1.0\n",
              "25%     4998.750000     33.000000  ...       0.000000         1.0\n",
              "50%     9998.500000     40.000000  ...       1.000000         1.0\n",
              "75%    14997.250000     53.000000  ...       1.000000         1.0\n",
              "max    19999.000000    223.000000  ...       1.000000         1.0\n",
              "\n",
              "[8 rows x 30 columns]"
            ]
          },
          "metadata": {},
          "execution_count": 10
        }
      ]
    },
    {
      "cell_type": "markdown",
      "metadata": {
        "id": "izah8Qh2pakd"
      },
      "source": [
        "###4. Data Cleaning-2"
      ]
    },
    {
      "cell_type": "markdown",
      "metadata": {
        "id": "5EpbHDX1mGGT"
      },
      "source": [
        "####4.1 Outlier Removal\n",
        "To remove outliers we use scipy.stats.mstats.winsorize function.\n"
      ]
    },
    {
      "cell_type": "code",
      "metadata": {
        "id": "xMZt3TaTmGGT"
      },
      "source": [
        "#outlier removal with limits:\n",
        "#     lower limit: 5% of range\n",
        "#     upper limit: 95% of range\n",
        "from scipy.stats import mstats\n",
        "\n",
        "for x in final.columns:\n",
        "    final[x] = mstats.winsorize(final[x], limits=[0.05, 0.05])"
      ],
      "execution_count": 11,
      "outputs": []
    },
    {
      "cell_type": "markdown",
      "metadata": {
        "id": "moDIT130mGGP"
      },
      "source": [
        "####4.2 Splitting the dataframe in df_predict and df_train for the data to predict and data to train on respectively"
      ]
    },
    {
      "cell_type": "markdown",
      "metadata": {
        "id": "Tr-T8Qf3mGGP"
      },
      "source": [
        "Splitting the rows into df_predict and df_train. df_predict contains cc_cons_target having NA values. These are the customers that we have to predit consumption for.\n",
        "\n",
        "df_train contains all rows that have a numerical value in cc_cons_target. this df will train out liner regression algo"
      ]
    },
    {
      "cell_type": "code",
      "metadata": {
        "colab": {
          "base_uri": "https://localhost:8080/"
        },
        "id": "YUQQGNyumGGP",
        "outputId": "82967d77-cda8-4122-d00e-a37593610f98"
      },
      "source": [
        "#filtering all the rows from final that contain NaN values in cc_cons_target and storing those rows in df_predict.\n",
        "df_predict = final[final.cc_cons_target.isna()]\n",
        "#dropping the NaN values of cc_cons_target \n",
        "df_predict.drop(labels='cc_cons_target',axis=1,inplace=True)\n",
        "\n",
        "# droppping  all the rows that are in the df_predict dataframe and storing the result in df_train\n",
        "df_train = final.drop(df_predict.index)"
      ],
      "execution_count": 12,
      "outputs": [
        {
          "output_type": "stream",
          "text": [
            "/usr/local/lib/python3.7/dist-packages/pandas/core/frame.py:4174: SettingWithCopyWarning: \n",
            "A value is trying to be set on a copy of a slice from a DataFrame\n",
            "\n",
            "See the caveats in the documentation: https://pandas.pydata.org/pandas-docs/stable/user_guide/indexing.html#returning-a-view-versus-a-copy\n",
            "  errors=errors,\n"
          ],
          "name": "stderr"
        }
      ]
    },
    {
      "cell_type": "markdown",
      "metadata": {
        "id": "Cnq6De5xmGGW"
      },
      "source": [
        "####4.3 Standardization"
      ]
    },
    {
      "cell_type": "markdown",
      "metadata": {
        "id": "onOV5gvokIs0"
      },
      "source": [
        "###5. VIF calculations and removing multicollinear features"
      ]
    },
    {
      "cell_type": "code",
      "metadata": {
        "colab": {
          "base_uri": "https://localhost:8080/"
        },
        "id": "NEI0-rHbbZRX",
        "outputId": "2391df7c-c076-4f3c-a7e0-929971e32daf"
      },
      "source": [
        "#R^2 value is determined to find out how well an independent variable is described by the other independent variables. \n",
        "#A high value of R^2 means that the variable is highly correlated with the other variables.\n",
        "#So, the closer the R^2 value to 1, the higher the value of VIF and\n",
        "# the higher the multicollinearity with the particular independent variable.\n",
        "\n",
        "\n",
        "# vif = 1/(1-r^2)\n",
        "\n",
        "\n",
        "# VIF starts at 1 and has no upper limit\n",
        "# VIF = 1, no correlation between the independent variable and the other variables\n",
        "# VIF exceeding 5 or 10 indicates high multicollinearity between this independent variable and the others\n",
        "\n",
        "\n",
        "\n",
        "\n",
        "# Import library for VIF\n",
        "from statsmodels.stats.outliers_influence import variance_inflation_factor\n",
        "\n",
        "def calc_vif(X):\n",
        "\n",
        "    # Calculating VIF\n",
        "    vif = pd.DataFrame()\n",
        "    vif[\"variables\"] = X.columns\n",
        "    vif[\"VIF\"] = [variance_inflation_factor(X.values, i) for i in range(X.shape[1])]\n",
        "\n",
        "    return(vif)\n",
        "\n",
        "\n",
        "X = df_train.iloc[:,:-1]\n",
        "calc_vif(X)\n",
        "\n",
        "\n",
        "\n",
        "#Fixing Multicollinearity\n",
        "\n",
        "# #Dropping one of the correlated features will help in bringing down the multicollinearity between correlated features:\n",
        "# X = df.drop(['Age','Salary'],axis=1)\n",
        "# calc_vif(X)"
      ],
      "execution_count": null,
      "outputs": [
        {
          "output_type": "stream",
          "text": [
            "/usr/local/lib/python3.7/dist-packages/statsmodels/regression/linear_model.py:1636: RuntimeWarning: divide by zero encountered in double_scalars\n",
            "  return 1 - self.ssr/self.centered_tss\n",
            "/usr/local/lib/python3.7/dist-packages/statsmodels/stats/outliers_influence.py:185: RuntimeWarning: divide by zero encountered in double_scalars\n",
            "  vif = 1. / (1. - r_squared_i)\n"
          ],
          "name": "stderr"
        },
        {
          "output_type": "execute_result",
          "data": {
            "text/html": [
              "<div>\n",
              "<style scoped>\n",
              "    .dataframe tbody tr th:only-of-type {\n",
              "        vertical-align: middle;\n",
              "    }\n",
              "\n",
              "    .dataframe tbody tr th {\n",
              "        vertical-align: top;\n",
              "    }\n",
              "\n",
              "    .dataframe thead th {\n",
              "        text-align: right;\n",
              "    }\n",
              "</style>\n",
              "<table border=\"1\" class=\"dataframe\">\n",
              "  <thead>\n",
              "    <tr style=\"text-align: right;\">\n",
              "      <th></th>\n",
              "      <th>variables</th>\n",
              "      <th>VIF</th>\n",
              "    </tr>\n",
              "  </thead>\n",
              "  <tbody>\n",
              "    <tr>\n",
              "      <th>0</th>\n",
              "      <td>customer_id</td>\n",
              "      <td>1.001300</td>\n",
              "    </tr>\n",
              "    <tr>\n",
              "      <th>1</th>\n",
              "      <td>age</td>\n",
              "      <td>2.001917</td>\n",
              "    </tr>\n",
              "    <tr>\n",
              "      <th>2</th>\n",
              "      <td>emp_tenure_years</td>\n",
              "      <td>2.003240</td>\n",
              "    </tr>\n",
              "    <tr>\n",
              "      <th>3</th>\n",
              "      <td>tenure_with_bank</td>\n",
              "      <td>1.001844</td>\n",
              "    </tr>\n",
              "    <tr>\n",
              "      <th>4</th>\n",
              "      <td>region_code</td>\n",
              "      <td>1.002175</td>\n",
              "    </tr>\n",
              "    <tr>\n",
              "      <th>5</th>\n",
              "      <td>net_banking_flag</td>\n",
              "      <td>1.001491</td>\n",
              "    </tr>\n",
              "    <tr>\n",
              "      <th>6</th>\n",
              "      <td>avg_days_between_transaction</td>\n",
              "      <td>1.001309</td>\n",
              "    </tr>\n",
              "    <tr>\n",
              "      <th>7</th>\n",
              "      <td>card_lim</td>\n",
              "      <td>1.000973</td>\n",
              "    </tr>\n",
              "    <tr>\n",
              "      <th>8</th>\n",
              "      <td>emi_active</td>\n",
              "      <td>1.002171</td>\n",
              "    </tr>\n",
              "    <tr>\n",
              "      <th>9</th>\n",
              "      <td>cc_cons_target</td>\n",
              "      <td>1.001473</td>\n",
              "    </tr>\n",
              "    <tr>\n",
              "      <th>10</th>\n",
              "      <td>investment</td>\n",
              "      <td>1.001611</td>\n",
              "    </tr>\n",
              "    <tr>\n",
              "      <th>11</th>\n",
              "      <td>Total_debit_amount</td>\n",
              "      <td>1.001806</td>\n",
              "    </tr>\n",
              "    <tr>\n",
              "      <th>12</th>\n",
              "      <td>Total_credit_amount</td>\n",
              "      <td>1.001962</td>\n",
              "    </tr>\n",
              "    <tr>\n",
              "      <th>13</th>\n",
              "      <td>Total_max_credit_acmout</td>\n",
              "      <td>1.002428</td>\n",
              "    </tr>\n",
              "    <tr>\n",
              "      <th>14</th>\n",
              "      <td>Totat_active_loan</td>\n",
              "      <td>0.000000</td>\n",
              "    </tr>\n",
              "    <tr>\n",
              "      <th>15</th>\n",
              "      <td>Total_closed_loan</td>\n",
              "      <td>0.000000</td>\n",
              "    </tr>\n",
              "    <tr>\n",
              "      <th>16</th>\n",
              "      <td>creditcard_exp</td>\n",
              "      <td>1.002393</td>\n",
              "    </tr>\n",
              "    <tr>\n",
              "      <th>17</th>\n",
              "      <td>debitcard_exp</td>\n",
              "      <td>1.000941</td>\n",
              "    </tr>\n",
              "    <tr>\n",
              "      <th>18</th>\n",
              "      <td>cc_count</td>\n",
              "      <td>1.000689</td>\n",
              "    </tr>\n",
              "    <tr>\n",
              "      <th>19</th>\n",
              "      <td>dc_count</td>\n",
              "      <td>1.002053</td>\n",
              "    </tr>\n",
              "    <tr>\n",
              "      <th>20</th>\n",
              "      <td>debit_count</td>\n",
              "      <td>1.000972</td>\n",
              "    </tr>\n",
              "    <tr>\n",
              "      <th>21</th>\n",
              "      <td>credit_count</td>\n",
              "      <td>1.001975</td>\n",
              "    </tr>\n",
              "    <tr>\n",
              "      <th>22</th>\n",
              "      <td>account_type_current</td>\n",
              "      <td>inf</td>\n",
              "    </tr>\n",
              "    <tr>\n",
              "      <th>23</th>\n",
              "      <td>account_type_saving</td>\n",
              "      <td>inf</td>\n",
              "    </tr>\n",
              "    <tr>\n",
              "      <th>24</th>\n",
              "      <td>gender_F</td>\n",
              "      <td>inf</td>\n",
              "    </tr>\n",
              "    <tr>\n",
              "      <th>25</th>\n",
              "      <td>gender_M</td>\n",
              "      <td>inf</td>\n",
              "    </tr>\n",
              "    <tr>\n",
              "      <th>26</th>\n",
              "      <td>income_HIGH</td>\n",
              "      <td>inf</td>\n",
              "    </tr>\n",
              "    <tr>\n",
              "      <th>27</th>\n",
              "      <td>income_LOW</td>\n",
              "      <td>inf</td>\n",
              "    </tr>\n",
              "    <tr>\n",
              "      <th>28</th>\n",
              "      <td>income_MEDIUM</td>\n",
              "      <td>inf</td>\n",
              "    </tr>\n",
              "  </tbody>\n",
              "</table>\n",
              "</div>"
            ],
            "text/plain": [
              "                       variables       VIF\n",
              "0                    customer_id  1.001300\n",
              "1                            age  2.001917\n",
              "2               emp_tenure_years  2.003240\n",
              "3               tenure_with_bank  1.001844\n",
              "4                    region_code  1.002175\n",
              "5               net_banking_flag  1.001491\n",
              "6   avg_days_between_transaction  1.001309\n",
              "7                       card_lim  1.000973\n",
              "8                     emi_active  1.002171\n",
              "9                 cc_cons_target  1.001473\n",
              "10                    investment  1.001611\n",
              "11            Total_debit_amount  1.001806\n",
              "12           Total_credit_amount  1.001962\n",
              "13       Total_max_credit_acmout  1.002428\n",
              "14             Totat_active_loan  0.000000\n",
              "15             Total_closed_loan  0.000000\n",
              "16                creditcard_exp  1.002393\n",
              "17                 debitcard_exp  1.000941\n",
              "18                      cc_count  1.000689\n",
              "19                      dc_count  1.002053\n",
              "20                   debit_count  1.000972\n",
              "21                  credit_count  1.001975\n",
              "22          account_type_current       inf\n",
              "23           account_type_saving       inf\n",
              "24                      gender_F       inf\n",
              "25                      gender_M       inf\n",
              "26                   income_HIGH       inf\n",
              "27                    income_LOW       inf\n",
              "28                 income_MEDIUM       inf"
            ]
          },
          "metadata": {},
          "execution_count": 261
        }
      ]
    },
    {
      "cell_type": "markdown",
      "metadata": {
        "id": "PpOrSamwqb3C"
      },
      "source": [
        "####5.2 removing columns having high vif values"
      ]
    },
    {
      "cell_type": "code",
      "metadata": {
        "colab": {
          "base_uri": "https://localhost:8080/"
        },
        "id": "saIlGGDPlfnO",
        "outputId": "64758403-5c5e-44b4-e02d-f1b410344aa5"
      },
      "source": [
        "#dropping 'account_type_saving','gender_F','income_HIGH','emp_tenure_years','income_LOW','customer_id'\n",
        "df_train.drop(labels=['account_type_saving','gender_F','income_HIGH','emp_tenure_years','income_LOW','customer_id']\n",
        "              ,axis=1,inplace=True)\n",
        "df_predict.drop(labels=['account_type_saving','gender_F','income_HIGH','emp_tenure_years','income_LOW','customer_id']\n",
        "              ,axis=1,inplace=True)"
      ],
      "execution_count": null,
      "outputs": [
        {
          "output_type": "stream",
          "text": [
            "/usr/local/lib/python3.7/dist-packages/pandas/core/frame.py:4174: SettingWithCopyWarning: \n",
            "A value is trying to be set on a copy of a slice from a DataFrame\n",
            "\n",
            "See the caveats in the documentation: https://pandas.pydata.org/pandas-docs/stable/user_guide/indexing.html#returning-a-view-versus-a-copy\n",
            "  errors=errors,\n"
          ],
          "name": "stderr"
        }
      ]
    },
    {
      "cell_type": "code",
      "metadata": {
        "id": "s1k5Y-xa3otr"
      },
      "source": [
        "##df_train.columns.difference(['cc_cons_target'])"
      ],
      "execution_count": null,
      "outputs": []
    },
    {
      "cell_type": "markdown",
      "metadata": {
        "id": "SCOguuwpmGGZ"
      },
      "source": [
        "###6 Splitting x and y teach data into train and test data for model building and model testing"
      ]
    },
    {
      "cell_type": "code",
      "metadata": {
        "id": "6y0bLIibmGGa"
      },
      "source": [
        "df_train_x = df_train[df_train.columns.difference(['cc_cons_target'])]\n",
        "df_train_y = df_train[['cc_cons_target']]\n",
        "\n",
        "\n",
        "x_train, x_test, y_train, y_test = train_test_split(df_train_x, df_train_y, test_size=0.25, random_state=72)"
      ],
      "execution_count": 13,
      "outputs": []
    },
    {
      "cell_type": "markdown",
      "metadata": {
        "id": "EtVcK0N4N05z"
      },
      "source": [
        "###7. Scaling Data\n"
      ]
    },
    {
      "cell_type": "code",
      "metadata": {
        "id": "2Kni6Fe8mGGW"
      },
      "source": [
        "# from sklearn.preprocessing import LabelEncoder,MinMaxScaler,StandardScaler\n",
        "\n",
        "\n",
        "# scaler = StandardScaler()\n",
        "# X = scaler.fit_transform(x_train)\n",
        "# x_train = pd.DataFrame(X, columns=x_train.columns)\n",
        "\n",
        "# x_train\n",
        "\n",
        "# # sqrt of whole dataset\n",
        "# np.log(x_train)\n",
        "\n",
        "\n",
        "# # for x in x_train.columns:\n",
        "# #   if x_train[x].mean() > 1000:\n",
        "# #     x_train[x]=np.log(x_train[x])\n",
        "\n",
        "y_train = np.log(y_train)\n",
        "y_test = np.log(y_test)"
      ],
      "execution_count": 14,
      "outputs": []
    },
    {
      "cell_type": "code",
      "metadata": {
        "id": "YN4TDhGT5Hd1"
      },
      "source": [
        ""
      ],
      "execution_count": 14,
      "outputs": []
    },
    {
      "cell_type": "markdown",
      "metadata": {
        "id": "MkvPUlz9mGGY"
      },
      "source": [
        "###9. Implementing a linear regression model"
      ]
    },
    {
      "cell_type": "markdown",
      "metadata": {
        "id": "_z8scdQkmGGa"
      },
      "source": [
        "####9.1 RFE and selecting features"
      ]
    },
    {
      "cell_type": "code",
      "metadata": {
        "colab": {
          "base_uri": "https://localhost:8080/",
          "height": 169
        },
        "id": "slg_vU3HmGGa",
        "outputId": "4ff9e4a1-edb8-45ee-ae35-e36dce98677a"
      },
      "source": [
        "from sklearn.tree import DecisionTreeRegressor\n",
        "dt_reg = DecisionTreeRegressor(random_state=0)\n",
        "\n",
        "# lr = LinearRegression()\n",
        "rfe = RFE(estimator=dt_reg, n_features_to_select=5)\n",
        "rfe.fit(x_train, y_train)\n",
        "\n",
        "rfe.ranking_\n",
        "\n",
        "\n",
        "# selecting features given by RFE\n",
        "f = rfe.get_support(1) #the most important features\n",
        "x_train_select = x_train[x_train.columns[f]] # final features`\n",
        "x_train_select.head(2)"
      ],
      "execution_count": 16,
      "outputs": [
        {
          "output_type": "stream",
          "text": [
            "/usr/local/lib/python3.7/dist-packages/sklearn/utils/validation.py:760: DataConversionWarning: A column-vector y was passed when a 1d array was expected. Please change the shape of y to (n_samples, ), for example using ravel().\n",
            "  y = column_or_1d(y, warn=True)\n"
          ],
          "name": "stderr"
        },
        {
          "output_type": "execute_result",
          "data": {
            "text/html": [
              "<div>\n",
              "<style scoped>\n",
              "    .dataframe tbody tr th:only-of-type {\n",
              "        vertical-align: middle;\n",
              "    }\n",
              "\n",
              "    .dataframe tbody tr th {\n",
              "        vertical-align: top;\n",
              "    }\n",
              "\n",
              "    .dataframe thead th {\n",
              "        text-align: right;\n",
              "    }\n",
              "</style>\n",
              "<table border=\"1\" class=\"dataframe\">\n",
              "  <thead>\n",
              "    <tr style=\"text-align: right;\">\n",
              "      <th></th>\n",
              "      <th>Total_max_credit_acmout</th>\n",
              "      <th>creditcard_exp</th>\n",
              "      <th>customer_id</th>\n",
              "      <th>emi_active</th>\n",
              "      <th>investment</th>\n",
              "    </tr>\n",
              "  </thead>\n",
              "  <tbody>\n",
              "    <tr>\n",
              "      <th>8517</th>\n",
              "      <td>154328.0</td>\n",
              "      <td>27771.47</td>\n",
              "      <td>17352</td>\n",
              "      <td>1040.50</td>\n",
              "      <td>1509658.14</td>\n",
              "    </tr>\n",
              "    <tr>\n",
              "      <th>665</th>\n",
              "      <td>198320.0</td>\n",
              "      <td>26058.00</td>\n",
              "      <td>16740</td>\n",
              "      <td>7997.95</td>\n",
              "      <td>607037.55</td>\n",
              "    </tr>\n",
              "  </tbody>\n",
              "</table>\n",
              "</div>"
            ],
            "text/plain": [
              "      Total_max_credit_acmout  creditcard_exp  ...  emi_active  investment\n",
              "8517                 154328.0        27771.47  ...     1040.50  1509658.14\n",
              "665                  198320.0        26058.00  ...     7997.95   607037.55\n",
              "\n",
              "[2 rows x 5 columns]"
            ]
          },
          "metadata": {},
          "execution_count": 16
        }
      ]
    },
    {
      "cell_type": "code",
      "metadata": {
        "colab": {
          "base_uri": "https://localhost:8080/",
          "height": 112
        },
        "id": "7rGxBJGkmGGa",
        "outputId": "8e0efc6f-1a5a-4e57-bd72-80b9fdf4909c"
      },
      "source": [
        "#selecting the same features in test data\n",
        "x_test_select = x_test[x_test.columns[f]]\n",
        "x_test_select.head(2)"
      ],
      "execution_count": 17,
      "outputs": [
        {
          "output_type": "execute_result",
          "data": {
            "text/html": [
              "<div>\n",
              "<style scoped>\n",
              "    .dataframe tbody tr th:only-of-type {\n",
              "        vertical-align: middle;\n",
              "    }\n",
              "\n",
              "    .dataframe tbody tr th {\n",
              "        vertical-align: top;\n",
              "    }\n",
              "\n",
              "    .dataframe thead th {\n",
              "        text-align: right;\n",
              "    }\n",
              "</style>\n",
              "<table border=\"1\" class=\"dataframe\">\n",
              "  <thead>\n",
              "    <tr style=\"text-align: right;\">\n",
              "      <th></th>\n",
              "      <th>Total_max_credit_acmout</th>\n",
              "      <th>creditcard_exp</th>\n",
              "      <th>customer_id</th>\n",
              "      <th>emi_active</th>\n",
              "      <th>investment</th>\n",
              "    </tr>\n",
              "  </thead>\n",
              "  <tbody>\n",
              "    <tr>\n",
              "      <th>6853</th>\n",
              "      <td>223559.11</td>\n",
              "      <td>31761.18</td>\n",
              "      <td>10825</td>\n",
              "      <td>4271.29</td>\n",
              "      <td>205673.25</td>\n",
              "    </tr>\n",
              "    <tr>\n",
              "      <th>1323</th>\n",
              "      <td>91587.00</td>\n",
              "      <td>105645.91</td>\n",
              "      <td>999</td>\n",
              "      <td>6141.61</td>\n",
              "      <td>409703.00</td>\n",
              "    </tr>\n",
              "  </tbody>\n",
              "</table>\n",
              "</div>"
            ],
            "text/plain": [
              "      Total_max_credit_acmout  creditcard_exp  ...  emi_active  investment\n",
              "6853                223559.11        31761.18  ...     4271.29   205673.25\n",
              "1323                 91587.00       105645.91  ...     6141.61   409703.00\n",
              "\n",
              "[2 rows x 5 columns]"
            ]
          },
          "metadata": {},
          "execution_count": 17
        }
      ]
    },
    {
      "cell_type": "code",
      "metadata": {
        "id": "LI9Mtdf1v25i"
      },
      "source": [
        ""
      ],
      "execution_count": 17,
      "outputs": []
    },
    {
      "cell_type": "markdown",
      "metadata": {
        "id": "xBk3tLrQK-qt"
      },
      "source": [
        "####9.2 OLS regression"
      ]
    },
    {
      "cell_type": "code",
      "metadata": {
        "colab": {
          "base_uri": "https://localhost:8080/"
        },
        "id": "m529qW9r6fND",
        "outputId": "e61d13f3-72d3-4aa7-d95c-da0adef60cee"
      },
      "source": [
        "### OLS regression\n",
        "import statsmodels.api as sm\n",
        "# y_train = y_train.reindex(x_train.index)\n",
        "mod = sm.OLS(y_train,x_train_select)\n",
        "\n",
        "res = mod.fit()\n",
        "\n",
        "print(res.summary())\n",
        "\n",
        "\n",
        "\n",
        "#best ols results with np.log(y_train) and rfe with DTreg features = 10\n",
        "#best ols results with np.log(y_train) and rfe with DTreg features = 15"
      ],
      "execution_count": 18,
      "outputs": [
        {
          "output_type": "stream",
          "text": [
            "/usr/local/lib/python3.7/dist-packages/statsmodels/tools/_testing.py:19: FutureWarning: pandas.util.testing is deprecated. Use the functions in the public API at pandas.testing instead.\n",
            "  import pandas.util.testing as tm\n"
          ],
          "name": "stderr"
        },
        {
          "output_type": "stream",
          "text": [
            "                                 OLS Regression Results                                \n",
            "=======================================================================================\n",
            "Dep. Variable:         cc_cons_target   R-squared (uncentered):                   0.884\n",
            "Model:                            OLS   Adj. R-squared (uncentered):              0.884\n",
            "Method:                 Least Squares   F-statistic:                          1.721e+04\n",
            "Date:                Wed, 25 Aug 2021   Prob (F-statistic):                        0.00\n",
            "Time:                        08:00:43   Log-Likelihood:                         -29514.\n",
            "No. Observations:               11246   AIC:                                  5.904e+04\n",
            "Df Residuals:                   11241   BIC:                                  5.907e+04\n",
            "Df Model:                           5                                                  \n",
            "Covariance Type:            nonrobust                                                  \n",
            "===========================================================================================\n",
            "                              coef    std err          t      P>|t|      [0.025      0.975]\n",
            "-------------------------------------------------------------------------------------------\n",
            "Total_max_credit_acmout  1.779e-05   3.13e-07     56.825      0.000    1.72e-05    1.84e-05\n",
            "creditcard_exp           4.792e-05   9.72e-07     49.315      0.000     4.6e-05    4.98e-05\n",
            "customer_id                 0.0003   4.69e-06     60.018      0.000       0.000       0.000\n",
            "emi_active               8.148e-05   3.29e-06     24.787      0.000     7.5e-05    8.79e-05\n",
            "investment               1.288e-06   4.63e-08     27.812      0.000     1.2e-06    1.38e-06\n",
            "==============================================================================\n",
            "Omnibus:                      125.241   Durbin-Watson:                   1.837\n",
            "Prob(Omnibus):                  0.000   Jarque-Bera (JB):              129.286\n",
            "Skew:                          -0.263   Prob(JB):                     8.43e-29\n",
            "Kurtosis:                       3.005   Cond. No.                         129.\n",
            "==============================================================================\n",
            "\n",
            "Warnings:\n",
            "[1] Standard Errors assume that the covariance matrix of the errors is correctly specified.\n"
          ],
          "name": "stdout"
        }
      ]
    },
    {
      "cell_type": "markdown",
      "metadata": {
        "id": "z0KSYJZjs5W7"
      },
      "source": [
        "####9.3 using ols regresssion to predit values"
      ]
    },
    {
      "cell_type": "code",
      "metadata": {
        "colab": {
          "base_uri": "https://localhost:8080/",
          "height": 358
        },
        "id": "j4mJd783ilXy",
        "outputId": "af128ae6-760f-4d89-af0e-38ee6471ea6c"
      },
      "source": [
        "### Predicting the values for test dataset and checking the accuracy of the model\n",
        "res = mod.predict(x_test_select,y_test)"
      ],
      "execution_count": 20,
      "outputs": [
        {
          "output_type": "error",
          "ename": "ValueError",
          "evalue": "ignored",
          "traceback": [
            "\u001b[0;31m---------------------------------------------------------------------------\u001b[0m",
            "\u001b[0;31mValueError\u001b[0m                                Traceback (most recent call last)",
            "\u001b[0;32m<ipython-input-20-b23701399c8b>\u001b[0m in \u001b[0;36m<module>\u001b[0;34m()\u001b[0m\n\u001b[1;32m      1\u001b[0m \u001b[0;31m### Predicting the values for test dataset and checking the accuracy of the model\u001b[0m\u001b[0;34m\u001b[0m\u001b[0;34m\u001b[0m\u001b[0;34m\u001b[0m\u001b[0m\n\u001b[0;32m----> 2\u001b[0;31m \u001b[0mres\u001b[0m \u001b[0;34m=\u001b[0m \u001b[0mmod\u001b[0m\u001b[0;34m.\u001b[0m\u001b[0mpredict\u001b[0m\u001b[0;34m(\u001b[0m\u001b[0mx_test_select\u001b[0m\u001b[0;34m,\u001b[0m\u001b[0my_test\u001b[0m\u001b[0;34m)\u001b[0m\u001b[0;34m\u001b[0m\u001b[0;34m\u001b[0m\u001b[0m\n\u001b[0m",
            "\u001b[0;32m/usr/local/lib/python3.7/dist-packages/statsmodels/regression/linear_model.py\u001b[0m in \u001b[0;36mpredict\u001b[0;34m(self, params, exog)\u001b[0m\n\u001b[1;32m    362\u001b[0m             \u001b[0mexog\u001b[0m \u001b[0;34m=\u001b[0m \u001b[0mself\u001b[0m\u001b[0;34m.\u001b[0m\u001b[0mexog\u001b[0m\u001b[0;34m\u001b[0m\u001b[0;34m\u001b[0m\u001b[0m\n\u001b[1;32m    363\u001b[0m \u001b[0;34m\u001b[0m\u001b[0m\n\u001b[0;32m--> 364\u001b[0;31m         \u001b[0;32mreturn\u001b[0m \u001b[0mnp\u001b[0m\u001b[0;34m.\u001b[0m\u001b[0mdot\u001b[0m\u001b[0;34m(\u001b[0m\u001b[0mexog\u001b[0m\u001b[0;34m,\u001b[0m \u001b[0mparams\u001b[0m\u001b[0;34m)\u001b[0m\u001b[0;34m\u001b[0m\u001b[0;34m\u001b[0m\u001b[0m\n\u001b[0m\u001b[1;32m    365\u001b[0m \u001b[0;34m\u001b[0m\u001b[0m\n\u001b[1;32m    366\u001b[0m     \u001b[0;32mdef\u001b[0m \u001b[0mget_distribution\u001b[0m\u001b[0;34m(\u001b[0m\u001b[0mself\u001b[0m\u001b[0;34m,\u001b[0m \u001b[0mparams\u001b[0m\u001b[0;34m,\u001b[0m \u001b[0mscale\u001b[0m\u001b[0;34m,\u001b[0m \u001b[0mexog\u001b[0m\u001b[0;34m=\u001b[0m\u001b[0;32mNone\u001b[0m\u001b[0;34m,\u001b[0m \u001b[0mdist_class\u001b[0m\u001b[0;34m=\u001b[0m\u001b[0;32mNone\u001b[0m\u001b[0;34m)\u001b[0m\u001b[0;34m:\u001b[0m\u001b[0;34m\u001b[0m\u001b[0;34m\u001b[0m\u001b[0m\n",
            "\u001b[0;32m<__array_function__ internals>\u001b[0m in \u001b[0;36mdot\u001b[0;34m(*args, **kwargs)\u001b[0m\n",
            "\u001b[0;31mValueError\u001b[0m: shapes (3749,1) and (3749,5) not aligned: 1 (dim 1) != 3749 (dim 0)"
          ]
        }
      ]
    },
    {
      "cell_type": "markdown",
      "metadata": {
        "id": "fayFesOPmGGa"
      },
      "source": [
        "### Applying liner regresssion on selected features"
      ]
    },
    {
      "cell_type": "code",
      "metadata": {
        "id": "hWuTRs3cyoTi"
      },
      "source": [
        "# from sklearn.linear_model import LassoCV\n",
        "# reg = LassoCV(cv=5, random_state=0).fit(x_train_select, y_train)\n",
        "# reg.score(x_train_select, y_train)\n",
        "\n",
        "# reg.predict(X[:1,])\n"
      ],
      "execution_count": 27,
      "outputs": []
    },
    {
      "cell_type": "code",
      "metadata": {
        "colab": {
          "base_uri": "https://localhost:8080/"
        },
        "id": "EPH8c312mGGb",
        "outputId": "61bdf7b6-41c5-4850-9570-4dac3bb06adc"
      },
      "source": [
        "from sklearn.linear_model import LinearRegression\n",
        "lr = LinearRegression()\n",
        "# training the linear regression model on x_train_select and y_train \n",
        "lr.fit(x_train_select, y_train.iloc[:,0])\n",
        "\n",
        "# predicting the values of x_train_select and storing them in y_hat_train\n",
        "y_hat_train = lr.predict(x_train_select)\n",
        "\n",
        "## Checking the accuracy of the train data predictions\n",
        "#This is a value between [0 = no-fit] and [1 = perfect fit ]\n",
        "r_sq = met.r2_score(y_pred=y_hat_train,y_true= y_train)\n",
        "print('The accuracy of the model in r^2 :',r_sq)\n",
        "\n",
        "\n",
        "#mae\n",
        "mae = met.mean_absolute_error(y_pred=y_hat_train,y_true= y_train)\n",
        "print('The accuracy of the model in mae :',mae)\n",
        "\n",
        "\n",
        "# #MAPE\n",
        "# y_diff = y_hat_train - y_train\n",
        "# # y_diff  = np.abs(y_diff)/np.max(y_train)#/ np.maximum(np.abs(y_diff))\n",
        "\n",
        "# maperror = (np.sum(np.abs((y_hat_train - y_train))/y_train))/y_train.count()*100\n",
        "# print('The accuracy of the model in mape:',maperror,'%')\n",
        "\n"
      ],
      "execution_count": 29,
      "outputs": [
        {
          "output_type": "stream",
          "text": [
            "The accuracy of the model in r^2 : 0.0007538792572816533\n",
            "The accuracy of the model in mae : 1.094816471251946\n"
          ],
          "name": "stdout"
        }
      ]
    },
    {
      "cell_type": "code",
      "metadata": {
        "colab": {
          "base_uri": "https://localhost:8080/"
        },
        "id": "vSqpPVPvugdm",
        "outputId": "4e47b424-ce3b-47d5-d8e2-dedf203006ae"
      },
      "source": [
        "lr.coef_"
      ],
      "execution_count": 30,
      "outputs": [
        {
          "output_type": "execute_result",
          "data": {
            "text/plain": [
              "array([-1.93540677e-07,  9.10613645e-07,  3.79532899e-07,  1.29710847e-06,\n",
              "        3.44354190e-08])"
            ]
          },
          "metadata": {},
          "execution_count": 30
        }
      ]
    },
    {
      "cell_type": "code",
      "metadata": {
        "colab": {
          "base_uri": "https://localhost:8080/"
        },
        "id": "9L39tCfQiUN0",
        "outputId": "86b6da43-5f8f-4e53-a7ba-554f1e09855a"
      },
      "source": [
        "np.exp(y_hat_train)"
      ],
      "execution_count": 31,
      "outputs": [
        {
          "output_type": "execute_result",
          "data": {
            "text/plain": [
              "array([16677.84074831, 16146.71399885, 16176.78588837, ...,\n",
              "       15777.61595979, 15962.11492846, 15448.80592087])"
            ]
          },
          "metadata": {},
          "execution_count": 31
        }
      ]
    },
    {
      "cell_type": "markdown",
      "metadata": {
        "id": "D014tPwwmGGc"
      },
      "source": [
        "### Predicting the values for test dataset and checking the accuracy of the model"
      ]
    },
    {
      "cell_type": "code",
      "metadata": {
        "colab": {
          "base_uri": "https://localhost:8080/"
        },
        "id": "wNwu1l1vmGGd",
        "outputId": "030ce7cf-2d3a-4988-ca35-30252c5ea445"
      },
      "source": [
        "y_hat_test = lr.predict(x_test_select)\n",
        "\n",
        "# checking the accuracy of test_data predictions\n",
        "r_sq = met.r2_score(y_pred=y_hat_test, y_true= y_test)\n",
        "print('The accuracy of the model in r^2 :',r_sq)\n",
        "\n",
        "met.mean_squared_error(y_pred=y_hat_test, y_true= y_test)\n",
        "\n",
        "# mae = met.mean_absolute_error(y_pred=y_hat_test,y_true= y_test)\n",
        "\n",
        "# # #mape calculations\n",
        "# y_diff = y_test - y_hat_test\n",
        "# y_diff  = np.abs(y_diff)/np.abs(y_test)\n",
        "# print('The accuracy of the model in mape:',np.average(y_diff)*100,'%')\n",
        "\n",
        "# print('The accuracy of the model in mae :',mae)"
      ],
      "execution_count": null,
      "outputs": [
        {
          "output_type": "stream",
          "text": [
            "The accuracy of the model in r^2 : -147519.1373818071\n"
          ],
          "name": "stdout"
        },
        {
          "output_type": "execute_result",
          "data": {
            "text/plain": [
              "331906.703219666"
            ]
          },
          "metadata": {},
          "execution_count": 183
        }
      ]
    }
  ]
}