{
  "nbformat": 4,
  "nbformat_minor": 0,
  "metadata": {
    "colab": {
      "name": "Credit card final-1.ipynb",
      "provenance": [],
      "collapsed_sections": [],
      "authorship_tag": "ABX9TyOgUJIYftr3995Crmux1rcA",
      "include_colab_link": true
    },
    "kernelspec": {
      "name": "python3",
      "display_name": "Python 3"
    },
    "language_info": {
      "name": "python"
    }
  },
  "cells": [
    {
      "cell_type": "markdown",
      "metadata": {
        "id": "view-in-github",
        "colab_type": "text"
      },
      "source": [
        "<a href=\"https://colab.research.google.com/github/lalit-kumr/credit_card_consumption/blob/main/lllllllllllCredit_card_finallllllll.ipynb\" target=\"_parent\"><img src=\"https://colab.research.google.com/assets/colab-badge.svg\" alt=\"Open In Colab\"/></a>"
      ]
    },
    {
      "cell_type": "markdown",
      "metadata": {
        "id": "qcqTIfiM6d32"
      },
      "source": [
        "### Steps\n",
        "- Import libs\n",
        "- Import data\n",
        "- Clean both sets\n",
        "- Merge the data sets\n",
        "- Split data in numerical and categorical\n",
        "- Outlier removal in both sets\n",
        "- fill na\n",
        "- splitting in train and predict\n",
        "- Label encoding\n",
        "- Join dataset\n",
        "- Build model OLS\n",
        "- Remove features having high p value\n",
        "- Apply vif\n",
        "- Drop vif unwanted variables one by one\n",
        "- Log of y \n",
        "- OLS model again\n",
        "- RFE\n",
        "- Apply linear reg model\n",
        "\n",
        "\n",
        "\n"
      ]
    },
    {
      "cell_type": "markdown",
      "metadata": {
        "id": "p2u2qXry7OwV"
      },
      "source": [
        "## 0. Importing libs"
      ]
    },
    {
      "cell_type": "code",
      "metadata": {
        "id": "rjA9G84A7OdS"
      },
      "source": [
        "import pandas as pd\n",
        "import numpy as np\n",
        "import matplotlib.pyplot as plt\n",
        "import seaborn as sns"
      ],
      "execution_count": 21,
      "outputs": []
    },
    {
      "cell_type": "markdown",
      "metadata": {
        "id": "zlRkA-i-5zvX"
      },
      "source": [
        "## 1. Importing Data"
      ]
    },
    {
      "cell_type": "code",
      "metadata": {
        "id": "73KLaUjc5x4t"
      },
      "source": [
        "# behaviour = pd.read_csv('CustomerBehaviorData.csv')\n",
        "# consumption = pd.read_csv('CreditConsumptionData.csv')\n",
        "# customer = pd.read_csv('CustomerDemographics.csv')\n",
        "\n",
        "\n",
        "behaviour = pd.read_csv('https://github.com/lalit-kumr/credit_card_consumption/blob/main/CustomerBehaviorData.csv?raw=true')\n",
        "consumption = pd.read_csv('https://github.com/lalit-kumr/credit_card_consumption/raw/main/CreditConsumptionData.csv')\n",
        "customer = pd.read_csv('https://github.com/lalit-kumr/credit_card_consumption/raw/main/CustomerDemographics.csv')"
      ],
      "execution_count": 22,
      "outputs": []
    },
    {
      "cell_type": "markdown",
      "metadata": {
        "id": "a-C09-ta7gB3"
      },
      "source": [
        "## 2. Cleaning Data"
      ]
    },
    {
      "cell_type": "code",
      "metadata": {
        "colab": {
          "base_uri": "https://localhost:8080/"
        },
        "id": "zdGedsUy7YVY",
        "outputId": "72a0bf26-e6b7-4dc8-b54e-39c3efea6ba8"
      },
      "source": [
        "#finding NaN values in customer df\n",
        "# customer.isna().sum()\n",
        "#Droppping observations having NaN values\n",
        "customer.dropna(inplace=True)\n",
        "customer.isna().sum()"
      ],
      "execution_count": 23,
      "outputs": [
        {
          "output_type": "execute_result",
          "data": {
            "text/plain": [
              "customer_id                     0\n",
              "account_type                    0\n",
              "gender                          0\n",
              "age                             0\n",
              "income                          0\n",
              "emp_tenure_years                0\n",
              "tenure_with_bank                0\n",
              "region_code                     0\n",
              "net_banking_flag                0\n",
              "avg_days_between_transaction    0\n",
              "dtype: int64"
            ]
          },
          "metadata": {},
          "execution_count": 23
        }
      ]
    },
    {
      "cell_type": "code",
      "metadata": {
        "colab": {
          "base_uri": "https://localhost:8080/"
        },
        "id": "nX4JLtSv7sSx",
        "outputId": "8dc723f8-c604-45d0-c571-84adc08bb7bb"
      },
      "source": [
        "#Droppping observations having NaN values\n",
        "behaviour.dropna(inplace=True)\n",
        "behaviour.isna().sum()"
      ],
      "execution_count": 24,
      "outputs": [
        {
          "output_type": "execute_result",
          "data": {
            "text/plain": [
              "customer_id              0\n",
              "cc_cons_apr              0\n",
              "dc_cons_apr              0\n",
              "cc_cons_may              0\n",
              "dc_cons_may              0\n",
              "cc_cons_jun              0\n",
              "dc_cons_jun              0\n",
              "cc_count_apr             0\n",
              "cc_count_may             0\n",
              "cc_count_jun             0\n",
              "dc_count_apr             0\n",
              "dc_count_may             0\n",
              "dc_count_jun             0\n",
              "card_lim                 0\n",
              "personal_loan_active     0\n",
              "vehicle_loan_active      0\n",
              "personal_loan_closed     0\n",
              "vehicle_loan_closed      0\n",
              "investment_1             0\n",
              "investment_2             0\n",
              "investment_3             0\n",
              "investment_4             0\n",
              "debit_amount_apr         0\n",
              "credit_amount_apr        0\n",
              "debit_count_apr          0\n",
              "credit_count_apr         0\n",
              "max_credit_amount_apr    0\n",
              "debit_amount_may         0\n",
              "credit_amount_may        0\n",
              "credit_count_may         0\n",
              "debit_count_may          0\n",
              "max_credit_amount_may    0\n",
              "debit_amount_jun         0\n",
              "credit_amount_jun        0\n",
              "credit_count_jun         0\n",
              "debit_count_jun          0\n",
              "max_credit_amount_jun    0\n",
              "loan_enq                 0\n",
              "emi_active               0\n",
              "dtype: int64"
            ]
          },
          "metadata": {},
          "execution_count": 24
        }
      ]
    },
    {
      "cell_type": "code",
      "metadata": {
        "colab": {
          "base_uri": "https://localhost:8080/"
        },
        "id": "n2vnqpUKBUii",
        "outputId": "f1de6a3f-975a-4663-ef8e-6b5ddd51e282"
      },
      "source": [
        "# checking nan cells in coonsumption\n",
        "consumption.isna().sum()"
      ],
      "execution_count": 25,
      "outputs": [
        {
          "output_type": "execute_result",
          "data": {
            "text/plain": [
              "customer_id          0\n",
              "cc_cons_target    5000\n",
              "dtype: int64"
            ]
          },
          "metadata": {},
          "execution_count": 25
        }
      ]
    },
    {
      "cell_type": "markdown",
      "metadata": {
        "id": "wepZWWi4CvK7"
      },
      "source": [
        "## 3.Merging the data Frames"
      ]
    },
    {
      "cell_type": "markdown",
      "metadata": {
        "id": "1LmSykiYC9fL"
      },
      "source": [
        "### 3.1 Merging the dataframes"
      ]
    },
    {
      "cell_type": "code",
      "metadata": {
        "id": "-Nr_Qwn1BXVh"
      },
      "source": [
        "# - now we will merge all three dataframes on the basis of customer_id.\n",
        "# - first we will merge customer and behaviour dataframes as customer_be\n",
        "# - next we will merge the cosumption dataframe with the custoemr_be df and store the resultant dataframe in **final**\n",
        "\n",
        "\n",
        "customer_behaviour = pd.merge(left=customer, right=behaviour, on='customer_id')\n",
        "final = pd.merge(left=customer_behaviour, right=consumption, on='customer_id')"
      ],
      "execution_count": 26,
      "outputs": []
    },
    {
      "cell_type": "markdown",
      "metadata": {
        "id": "H7voBrMdC84Q"
      },
      "source": [
        "### 3.2 Merging different columns and creating new columns in their place"
      ]
    },
    {
      "cell_type": "code",
      "metadata": {
        "id": "UYcaBUbQO-rr"
      },
      "source": [
        "#dropping customer id\n",
        "final.drop(labels='customer_id',axis=1,inplace=True)"
      ],
      "execution_count": 27,
      "outputs": []
    },
    {
      "cell_type": "code",
      "metadata": {
        "id": "GCdcs-ySC2xA"
      },
      "source": [
        "#Total investments\n",
        "final['investment'] = final['investment_1']+final['investment_2']+final['investment_3']+final['investment_4']\n",
        "\n",
        "#Total debit amount\n",
        "final[\"Total_debit_amount\"]=final['debit_amount_apr']+final['debit_amount_may']+final['debit_amount_jun']\n",
        "\n",
        "#Total Credit Amount\n",
        "final[\"Total_credit_amount\"]=final['credit_amount_apr']+final['credit_amount_may']+final['credit_amount_jun']\n",
        "\n",
        "#Total Max Credit amount\n",
        "final[\"Total_max_credit_acmout\"]=final['max_credit_amount_apr']+final['max_credit_amount_may']+final['max_credit_amount_jun']\n",
        "\n",
        "#Total Active Loan\n",
        "final[\"Totat_active_loan\"]= final['personal_loan_active'] + final['vehicle_loan_active']\n",
        "\n",
        "#Toatal Closed Loan\n",
        "final[\"Total_closed_loan\"]= final['personal_loan_closed'] + final['vehicle_loan_closed']\n",
        "\n",
        "#Credit Card expenditure total\n",
        "final['creditcard_exp']= final['cc_cons_apr'] + final['cc_cons_may'] + final['cc_cons_jun'] \n",
        "\n",
        "#Debit Card expenditure total\n",
        "final['debitcard_exp']= final['dc_cons_apr'] + final['dc_cons_may'] + final['dc_cons_jun']\n",
        "\n",
        "#credit card use count total\n",
        "final['cc_count']=final['cc_count_apr']+final['cc_count_may']+final['cc_count_jun']\n",
        "\n",
        "# debit card use count total\n",
        "final['dc_count']=final['dc_count_apr']+final['dc_count_may']+final['dc_count_jun']\n",
        "\n",
        "#debit payments count total\n",
        "final['debit_count']=final['debit_count_apr']+ final['debit_count_may']+ final['debit_count_jun']\n",
        "\n",
        "#credit payments count total\n",
        "final['credit_count']=final['credit_count_apr']+ final['credit_count_may']+ final['credit_count_jun']"
      ],
      "execution_count": 28,
      "outputs": []
    },
    {
      "cell_type": "code",
      "metadata": {
        "colab": {
          "base_uri": "https://localhost:8080/",
          "height": 163
        },
        "id": "iylhElFrDTcY",
        "outputId": "ea4d19e8-5fb2-4213-ba58-878e403483f9"
      },
      "source": [
        "extra = ['investment_1','investment_2','investment_3','investment_4',\n",
        "         'debit_amount_apr','debit_amount_may','debit_amount_jun',\n",
        "         'credit_amount_apr','credit_amount_may','credit_amount_jun',\n",
        "         'max_credit_amount_apr','max_credit_amount_may','max_credit_amount_jun',\n",
        "         'personal_loan_active','vehicle_loan_active',\n",
        "         'personal_loan_closed','vehicle_loan_closed',\n",
        "         'cc_cons_apr','cc_cons_may','cc_cons_jun',\n",
        "         'dc_cons_apr','dc_cons_may','dc_cons_jun',\n",
        "         'cc_count_apr','cc_count_may','cc_count_jun',\n",
        "         'dc_count_apr','dc_count_may','dc_count_jun',\n",
        "         'debit_count_apr','debit_count_may','debit_count_jun',\n",
        "         'credit_count_apr','credit_count_may','credit_count_jun'\n",
        "         ]\n",
        "\n",
        "final.drop(labels=extra,axis=1,inplace=True)\n",
        "final.head(3)\n"
      ],
      "execution_count": 29,
      "outputs": [
        {
          "output_type": "execute_result",
          "data": {
            "text/html": [
              "<div>\n",
              "<style scoped>\n",
              "    .dataframe tbody tr th:only-of-type {\n",
              "        vertical-align: middle;\n",
              "    }\n",
              "\n",
              "    .dataframe tbody tr th {\n",
              "        vertical-align: top;\n",
              "    }\n",
              "\n",
              "    .dataframe thead th {\n",
              "        text-align: right;\n",
              "    }\n",
              "</style>\n",
              "<table border=\"1\" class=\"dataframe\">\n",
              "  <thead>\n",
              "    <tr style=\"text-align: right;\">\n",
              "      <th></th>\n",
              "      <th>account_type</th>\n",
              "      <th>gender</th>\n",
              "      <th>age</th>\n",
              "      <th>income</th>\n",
              "      <th>emp_tenure_years</th>\n",
              "      <th>tenure_with_bank</th>\n",
              "      <th>region_code</th>\n",
              "      <th>net_banking_flag</th>\n",
              "      <th>avg_days_between_transaction</th>\n",
              "      <th>card_lim</th>\n",
              "      <th>loan_enq</th>\n",
              "      <th>emi_active</th>\n",
              "      <th>cc_cons_target</th>\n",
              "      <th>investment</th>\n",
              "      <th>Total_debit_amount</th>\n",
              "      <th>Total_credit_amount</th>\n",
              "      <th>Total_max_credit_acmout</th>\n",
              "      <th>Totat_active_loan</th>\n",
              "      <th>Total_closed_loan</th>\n",
              "      <th>creditcard_exp</th>\n",
              "      <th>debitcard_exp</th>\n",
              "      <th>cc_count</th>\n",
              "      <th>dc_count</th>\n",
              "      <th>debit_count</th>\n",
              "      <th>credit_count</th>\n",
              "    </tr>\n",
              "  </thead>\n",
              "  <tbody>\n",
              "    <tr>\n",
              "      <th>0</th>\n",
              "      <td>current</td>\n",
              "      <td>M</td>\n",
              "      <td>63</td>\n",
              "      <td>MEDIUM</td>\n",
              "      <td>30.1</td>\n",
              "      <td>10</td>\n",
              "      <td>628.0</td>\n",
              "      <td>1</td>\n",
              "      <td>5.0</td>\n",
              "      <td>519000</td>\n",
              "      <td>Y</td>\n",
              "      <td>2646.72</td>\n",
              "      <td>NaN</td>\n",
              "      <td>114544.0</td>\n",
              "      <td>231631.92</td>\n",
              "      <td>475518.75</td>\n",
              "      <td>114992.00</td>\n",
              "      <td>2</td>\n",
              "      <td>2.0</td>\n",
              "      <td>24433.29</td>\n",
              "      <td>8292.58</td>\n",
              "      <td>44.0</td>\n",
              "      <td>80</td>\n",
              "      <td>173.0</td>\n",
              "      <td>46</td>\n",
              "    </tr>\n",
              "    <tr>\n",
              "      <th>1</th>\n",
              "      <td>current</td>\n",
              "      <td>M</td>\n",
              "      <td>36</td>\n",
              "      <td>MEDIUM</td>\n",
              "      <td>14.4</td>\n",
              "      <td>10</td>\n",
              "      <td>656.0</td>\n",
              "      <td>0</td>\n",
              "      <td>12.0</td>\n",
              "      <td>402000</td>\n",
              "      <td>Y</td>\n",
              "      <td>5469.79</td>\n",
              "      <td>NaN</td>\n",
              "      <td>1143923.7</td>\n",
              "      <td>210621.79</td>\n",
              "      <td>496597.52</td>\n",
              "      <td>128400.00</td>\n",
              "      <td>2</td>\n",
              "      <td>2.0</td>\n",
              "      <td>35898.73</td>\n",
              "      <td>13916.00</td>\n",
              "      <td>58.0</td>\n",
              "      <td>54</td>\n",
              "      <td>85.0</td>\n",
              "      <td>12</td>\n",
              "    </tr>\n",
              "    <tr>\n",
              "      <th>2</th>\n",
              "      <td>current</td>\n",
              "      <td>F</td>\n",
              "      <td>28</td>\n",
              "      <td>MEDIUM</td>\n",
              "      <td>4.8</td>\n",
              "      <td>10</td>\n",
              "      <td>314.0</td>\n",
              "      <td>1</td>\n",
              "      <td>13.0</td>\n",
              "      <td>114000</td>\n",
              "      <td>Y</td>\n",
              "      <td>7207.85</td>\n",
              "      <td>NaN</td>\n",
              "      <td>281087.6</td>\n",
              "      <td>281651.29</td>\n",
              "      <td>110466.00</td>\n",
              "      <td>1077812.79</td>\n",
              "      <td>2</td>\n",
              "      <td>2.0</td>\n",
              "      <td>33973.99</td>\n",
              "      <td>71489.30</td>\n",
              "      <td>86.0</td>\n",
              "      <td>74</td>\n",
              "      <td>179.0</td>\n",
              "      <td>55</td>\n",
              "    </tr>\n",
              "  </tbody>\n",
              "</table>\n",
              "</div>"
            ],
            "text/plain": [
              "  account_type gender  age  ... dc_count  debit_count  credit_count\n",
              "0      current      M   63  ...       80        173.0            46\n",
              "1      current      M   36  ...       54         85.0            12\n",
              "2      current      F   28  ...       74        179.0            55\n",
              "\n",
              "[3 rows x 25 columns]"
            ]
          },
          "metadata": {},
          "execution_count": 29
        }
      ]
    },
    {
      "cell_type": "markdown",
      "metadata": {
        "id": "3GW-Hl0EFmWL"
      },
      "source": [
        "## 4\\. Splitting data into numerical and categorical"
      ]
    },
    {
      "cell_type": "code",
      "metadata": {
        "colab": {
          "base_uri": "https://localhost:8080/"
        },
        "id": "a597ejCfDYMI",
        "outputId": "7fbd8c1b-1a12-4b43-a681-7814b978dba0"
      },
      "source": [
        "#extracting categorical columns from the data\n",
        "cat_cols = final.select_dtypes(include=['O'])\n",
        "cat_cols.columns"
      ],
      "execution_count": 30,
      "outputs": [
        {
          "output_type": "execute_result",
          "data": {
            "text/plain": [
              "Index(['account_type', 'gender', 'income', 'loan_enq'], dtype='object')"
            ]
          },
          "metadata": {},
          "execution_count": 30
        }
      ]
    },
    {
      "cell_type": "code",
      "metadata": {
        "colab": {
          "base_uri": "https://localhost:8080/"
        },
        "id": "m50dMvr4F07B",
        "outputId": "2f85a3a5-8195-476c-8605-a28afe42eeef"
      },
      "source": [
        "#extracting numerical columns from the dataset\n",
        "num_cols = final.columns.difference(['account_type', 'gender', 'income', 'loan_enq'])\n",
        "num_cols = final[num_cols]\n",
        "num_cols.columns"
      ],
      "execution_count": 31,
      "outputs": [
        {
          "output_type": "execute_result",
          "data": {
            "text/plain": [
              "Index(['Total_closed_loan', 'Total_credit_amount', 'Total_debit_amount',\n",
              "       'Total_max_credit_acmout', 'Totat_active_loan', 'age',\n",
              "       'avg_days_between_transaction', 'card_lim', 'cc_cons_target',\n",
              "       'cc_count', 'credit_count', 'creditcard_exp', 'dc_count', 'debit_count',\n",
              "       'debitcard_exp', 'emi_active', 'emp_tenure_years', 'investment',\n",
              "       'net_banking_flag', 'region_code', 'tenure_with_bank'],\n",
              "      dtype='object')"
            ]
          },
          "metadata": {},
          "execution_count": 31
        }
      ]
    },
    {
      "cell_type": "markdown",
      "metadata": {
        "id": "D2ATQtieGbeN"
      },
      "source": [
        "## 5\\. Outlier removal"
      ]
    },
    {
      "cell_type": "code",
      "metadata": {
        "colab": {
          "base_uri": "https://localhost:8080/",
          "height": 429
        },
        "id": "6PfUDafGJrgR",
        "outputId": "74003ec6-026c-4f0e-8acf-651c55288831"
      },
      "source": [
        "from scipy.stats import mstats\n",
        "\n",
        "for x in num_cols:\n",
        "  num_cols.loc[:,x] = mstats.winsorize(num_cols[x], limits=[0.05, 0.05])\n",
        "num_cols.describe()"
      ],
      "execution_count": 32,
      "outputs": [
        {
          "output_type": "stream",
          "name": "stderr",
          "text": [
            "/usr/local/lib/python3.7/dist-packages/pandas/core/indexing.py:1743: SettingWithCopyWarning: \n",
            "A value is trying to be set on a copy of a slice from a DataFrame.\n",
            "Try using .loc[row_indexer,col_indexer] = value instead\n",
            "\n",
            "See the caveats in the documentation: https://pandas.pydata.org/pandas-docs/stable/user_guide/indexing.html#returning-a-view-versus-a-copy\n",
            "  isetter(ilocs[0], value)\n"
          ]
        },
        {
          "output_type": "execute_result",
          "data": {
            "text/html": [
              "<div>\n",
              "<style scoped>\n",
              "    .dataframe tbody tr th:only-of-type {\n",
              "        vertical-align: middle;\n",
              "    }\n",
              "\n",
              "    .dataframe tbody tr th {\n",
              "        vertical-align: top;\n",
              "    }\n",
              "\n",
              "    .dataframe thead th {\n",
              "        text-align: right;\n",
              "    }\n",
              "</style>\n",
              "<table border=\"1\" class=\"dataframe\">\n",
              "  <thead>\n",
              "    <tr style=\"text-align: right;\">\n",
              "      <th></th>\n",
              "      <th>Total_closed_loan</th>\n",
              "      <th>Total_credit_amount</th>\n",
              "      <th>Total_debit_amount</th>\n",
              "      <th>Total_max_credit_acmout</th>\n",
              "      <th>Totat_active_loan</th>\n",
              "      <th>age</th>\n",
              "      <th>avg_days_between_transaction</th>\n",
              "      <th>card_lim</th>\n",
              "      <th>cc_cons_target</th>\n",
              "      <th>cc_count</th>\n",
              "      <th>credit_count</th>\n",
              "      <th>creditcard_exp</th>\n",
              "      <th>dc_count</th>\n",
              "      <th>debit_count</th>\n",
              "      <th>debitcard_exp</th>\n",
              "      <th>emi_active</th>\n",
              "      <th>emp_tenure_years</th>\n",
              "      <th>investment</th>\n",
              "      <th>net_banking_flag</th>\n",
              "      <th>region_code</th>\n",
              "      <th>tenure_with_bank</th>\n",
              "    </tr>\n",
              "  </thead>\n",
              "  <tbody>\n",
              "    <tr>\n",
              "      <th>count</th>\n",
              "      <td>19988.0</td>\n",
              "      <td>19988.000000</td>\n",
              "      <td>19988.000000</td>\n",
              "      <td>19988.000000</td>\n",
              "      <td>19988.0</td>\n",
              "      <td>19988.000000</td>\n",
              "      <td>19988.000000</td>\n",
              "      <td>19988.000000</td>\n",
              "      <td>14995.000000</td>\n",
              "      <td>19988.000000</td>\n",
              "      <td>19988.000000</td>\n",
              "      <td>19988.000000</td>\n",
              "      <td>19988.000000</td>\n",
              "      <td>19988.000000</td>\n",
              "      <td>19988.000000</td>\n",
              "      <td>19988.000000</td>\n",
              "      <td>19988.000000</td>\n",
              "      <td>1.998800e+04</td>\n",
              "      <td>19988.000000</td>\n",
              "      <td>19988.000000</td>\n",
              "      <td>19988.000000</td>\n",
              "    </tr>\n",
              "    <tr>\n",
              "      <th>mean</th>\n",
              "      <td>2.0</td>\n",
              "      <td>218895.226873</td>\n",
              "      <td>194446.598967</td>\n",
              "      <td>143335.601900</td>\n",
              "      <td>2.0</td>\n",
              "      <td>43.497699</td>\n",
              "      <td>11.043776</td>\n",
              "      <td>274474.480889</td>\n",
              "      <td>55216.352984</td>\n",
              "      <td>100.574195</td>\n",
              "      <td>42.071643</td>\n",
              "      <td>43427.682636</td>\n",
              "      <td>60.753202</td>\n",
              "      <td>120.269312</td>\n",
              "      <td>20894.623887</td>\n",
              "      <td>7528.409789</td>\n",
              "      <td>13.261537</td>\n",
              "      <td>5.320343e+05</td>\n",
              "      <td>0.717881</td>\n",
              "      <td>598.841755</td>\n",
              "      <td>5.496248</td>\n",
              "    </tr>\n",
              "    <tr>\n",
              "      <th>std</th>\n",
              "      <td>0.0</td>\n",
              "      <td>131940.029777</td>\n",
              "      <td>116776.734081</td>\n",
              "      <td>86023.471152</td>\n",
              "      <td>0.0</td>\n",
              "      <td>12.641148</td>\n",
              "      <td>5.480507</td>\n",
              "      <td>169969.409868</td>\n",
              "      <td>97647.492383</td>\n",
              "      <td>59.345132</td>\n",
              "      <td>31.022960</td>\n",
              "      <td>29029.445793</td>\n",
              "      <td>36.560903</td>\n",
              "      <td>57.054289</td>\n",
              "      <td>15557.983145</td>\n",
              "      <td>9295.532764</td>\n",
              "      <td>10.705061</td>\n",
              "      <td>6.496300e+05</td>\n",
              "      <td>0.450042</td>\n",
              "      <td>216.308646</td>\n",
              "      <td>2.870521</td>\n",
              "    </tr>\n",
              "    <tr>\n",
              "      <th>min</th>\n",
              "      <td>2.0</td>\n",
              "      <td>67488.640000</td>\n",
              "      <td>62317.840000</td>\n",
              "      <td>51940.000000</td>\n",
              "      <td>2.0</td>\n",
              "      <td>28.000000</td>\n",
              "      <td>2.000000</td>\n",
              "      <td>27000.000000</td>\n",
              "      <td>1747.000000</td>\n",
              "      <td>20.000000</td>\n",
              "      <td>7.000000</td>\n",
              "      <td>10398.700000</td>\n",
              "      <td>8.000000</td>\n",
              "      <td>33.000000</td>\n",
              "      <td>4433.410000</td>\n",
              "      <td>196.960000</td>\n",
              "      <td>1.700000</td>\n",
              "      <td>4.216660e+04</td>\n",
              "      <td>0.000000</td>\n",
              "      <td>249.000000</td>\n",
              "      <td>1.000000</td>\n",
              "    </tr>\n",
              "    <tr>\n",
              "      <th>25%</th>\n",
              "      <td>2.0</td>\n",
              "      <td>121165.895000</td>\n",
              "      <td>108591.570000</td>\n",
              "      <td>82257.647500</td>\n",
              "      <td>2.0</td>\n",
              "      <td>33.000000</td>\n",
              "      <td>6.000000</td>\n",
              "      <td>124000.000000</td>\n",
              "      <td>6768.000000</td>\n",
              "      <td>55.000000</td>\n",
              "      <td>15.000000</td>\n",
              "      <td>21768.867500</td>\n",
              "      <td>29.000000</td>\n",
              "      <td>76.000000</td>\n",
              "      <td>9635.750000</td>\n",
              "      <td>1545.627500</td>\n",
              "      <td>5.100000</td>\n",
              "      <td>1.389297e+05</td>\n",
              "      <td>0.000000</td>\n",
              "      <td>424.000000</td>\n",
              "      <td>3.000000</td>\n",
              "    </tr>\n",
              "    <tr>\n",
              "      <th>50%</th>\n",
              "      <td>2.0</td>\n",
              "      <td>181415.685000</td>\n",
              "      <td>161178.650000</td>\n",
              "      <td>116607.745000</td>\n",
              "      <td>2.0</td>\n",
              "      <td>40.000000</td>\n",
              "      <td>11.000000</td>\n",
              "      <td>272000.000000</td>\n",
              "      <td>13363.000000</td>\n",
              "      <td>90.000000</td>\n",
              "      <td>36.000000</td>\n",
              "      <td>35155.390000</td>\n",
              "      <td>58.000000</td>\n",
              "      <td>114.000000</td>\n",
              "      <td>15955.500000</td>\n",
              "      <td>3934.660000</td>\n",
              "      <td>9.900000</td>\n",
              "      <td>2.734267e+05</td>\n",
              "      <td>1.000000</td>\n",
              "      <td>623.000000</td>\n",
              "      <td>6.000000</td>\n",
              "    </tr>\n",
              "    <tr>\n",
              "      <th>75%</th>\n",
              "      <td>2.0</td>\n",
              "      <td>276712.802500</td>\n",
              "      <td>244002.875000</td>\n",
              "      <td>175301.500000</td>\n",
              "      <td>2.0</td>\n",
              "      <td>53.000000</td>\n",
              "      <td>16.000000</td>\n",
              "      <td>401000.000000</td>\n",
              "      <td>20103.000000</td>\n",
              "      <td>134.000000</td>\n",
              "      <td>58.000000</td>\n",
              "      <td>56672.707500</td>\n",
              "      <td>87.000000</td>\n",
              "      <td>159.000000</td>\n",
              "      <td>26897.592500</td>\n",
              "      <td>9376.390000</td>\n",
              "      <td>18.000000</td>\n",
              "      <td>5.848291e+05</td>\n",
              "      <td>1.000000</td>\n",
              "      <td>799.000000</td>\n",
              "      <td>8.000000</td>\n",
              "    </tr>\n",
              "    <tr>\n",
              "      <th>max</th>\n",
              "      <td>2.0</td>\n",
              "      <td>566279.520000</td>\n",
              "      <td>505316.640000</td>\n",
              "      <td>382024.000000</td>\n",
              "      <td>2.0</td>\n",
              "      <td>66.000000</td>\n",
              "      <td>20.000000</td>\n",
              "      <td>576000.000000</td>\n",
              "      <td>408382.000000</td>\n",
              "      <td>247.000000</td>\n",
              "      <td>115.000000</td>\n",
              "      <td>118722.030000</td>\n",
              "      <td>132.000000</td>\n",
              "      <td>236.000000</td>\n",
              "      <td>63077.980000</td>\n",
              "      <td>36204.770000</td>\n",
              "      <td>40.000000</td>\n",
              "      <td>2.564966e+06</td>\n",
              "      <td>1.000000</td>\n",
              "      <td>937.000000</td>\n",
              "      <td>10.000000</td>\n",
              "    </tr>\n",
              "  </tbody>\n",
              "</table>\n",
              "</div>"
            ],
            "text/plain": [
              "       Total_closed_loan  Total_credit_amount  ...   region_code  tenure_with_bank\n",
              "count            19988.0         19988.000000  ...  19988.000000      19988.000000\n",
              "mean                 2.0        218895.226873  ...    598.841755          5.496248\n",
              "std                  0.0        131940.029777  ...    216.308646          2.870521\n",
              "min                  2.0         67488.640000  ...    249.000000          1.000000\n",
              "25%                  2.0        121165.895000  ...    424.000000          3.000000\n",
              "50%                  2.0        181415.685000  ...    623.000000          6.000000\n",
              "75%                  2.0        276712.802500  ...    799.000000          8.000000\n",
              "max                  2.0        566279.520000  ...    937.000000         10.000000\n",
              "\n",
              "[8 rows x 21 columns]"
            ]
          },
          "metadata": {},
          "execution_count": 32
        }
      ]
    },
    {
      "cell_type": "markdown",
      "metadata": {
        "id": "kmTFwqmgLUM7"
      },
      "source": [
        "## 6\\. label encoding of cat cols"
      ]
    },
    {
      "cell_type": "code",
      "metadata": {
        "colab": {
          "base_uri": "https://localhost:8080/",
          "height": 143
        },
        "id": "imUeTl4SLT5F",
        "outputId": "3ac2be2f-3e9f-4379-ba96-7ae115ebe082"
      },
      "source": [
        "cat_cols = pd.get_dummies(cat_cols)\n",
        "cat_cols.drop(labels=['account_type_saving','gender_F','income_HIGH'],axis=1,inplace=True)\n",
        "#renaming columns\n",
        "cat_cols.columns = ['account_type','gender','income_low','income_medium', 'loan_enq']\n",
        "cat_cols.head(3)"
      ],
      "execution_count": 33,
      "outputs": [
        {
          "output_type": "execute_result",
          "data": {
            "text/html": [
              "<div>\n",
              "<style scoped>\n",
              "    .dataframe tbody tr th:only-of-type {\n",
              "        vertical-align: middle;\n",
              "    }\n",
              "\n",
              "    .dataframe tbody tr th {\n",
              "        vertical-align: top;\n",
              "    }\n",
              "\n",
              "    .dataframe thead th {\n",
              "        text-align: right;\n",
              "    }\n",
              "</style>\n",
              "<table border=\"1\" class=\"dataframe\">\n",
              "  <thead>\n",
              "    <tr style=\"text-align: right;\">\n",
              "      <th></th>\n",
              "      <th>account_type</th>\n",
              "      <th>gender</th>\n",
              "      <th>income_low</th>\n",
              "      <th>income_medium</th>\n",
              "      <th>loan_enq</th>\n",
              "    </tr>\n",
              "  </thead>\n",
              "  <tbody>\n",
              "    <tr>\n",
              "      <th>0</th>\n",
              "      <td>1</td>\n",
              "      <td>1</td>\n",
              "      <td>0</td>\n",
              "      <td>1</td>\n",
              "      <td>1</td>\n",
              "    </tr>\n",
              "    <tr>\n",
              "      <th>1</th>\n",
              "      <td>1</td>\n",
              "      <td>1</td>\n",
              "      <td>0</td>\n",
              "      <td>1</td>\n",
              "      <td>1</td>\n",
              "    </tr>\n",
              "    <tr>\n",
              "      <th>2</th>\n",
              "      <td>1</td>\n",
              "      <td>0</td>\n",
              "      <td>0</td>\n",
              "      <td>1</td>\n",
              "      <td>1</td>\n",
              "    </tr>\n",
              "  </tbody>\n",
              "</table>\n",
              "</div>"
            ],
            "text/plain": [
              "   account_type  gender  income_low  income_medium  loan_enq\n",
              "0             1       1           0              1         1\n",
              "1             1       1           0              1         1\n",
              "2             1       0           0              1         1"
            ]
          },
          "metadata": {},
          "execution_count": 33
        }
      ]
    },
    {
      "cell_type": "markdown",
      "metadata": {
        "id": "0p8kLy6JKw8X"
      },
      "source": [
        "###  Joining cat_cols and num_cols"
      ]
    },
    {
      "cell_type": "code",
      "metadata": {
        "colab": {
          "base_uri": "https://localhost:8080/",
          "height": 163
        },
        "id": "Cidl_CKPKDR5",
        "outputId": "d515d280-7ca0-4578-a1ec-42dceb41aa2f"
      },
      "source": [
        "# joining the num_cols and cat_cols df \n",
        "df = pd.concat([num_cols,cat_cols],axis=1)\n",
        "df.head(3)"
      ],
      "execution_count": 34,
      "outputs": [
        {
          "output_type": "execute_result",
          "data": {
            "text/html": [
              "<div>\n",
              "<style scoped>\n",
              "    .dataframe tbody tr th:only-of-type {\n",
              "        vertical-align: middle;\n",
              "    }\n",
              "\n",
              "    .dataframe tbody tr th {\n",
              "        vertical-align: top;\n",
              "    }\n",
              "\n",
              "    .dataframe thead th {\n",
              "        text-align: right;\n",
              "    }\n",
              "</style>\n",
              "<table border=\"1\" class=\"dataframe\">\n",
              "  <thead>\n",
              "    <tr style=\"text-align: right;\">\n",
              "      <th></th>\n",
              "      <th>Total_closed_loan</th>\n",
              "      <th>Total_credit_amount</th>\n",
              "      <th>Total_debit_amount</th>\n",
              "      <th>Total_max_credit_acmout</th>\n",
              "      <th>Totat_active_loan</th>\n",
              "      <th>age</th>\n",
              "      <th>avg_days_between_transaction</th>\n",
              "      <th>card_lim</th>\n",
              "      <th>cc_cons_target</th>\n",
              "      <th>cc_count</th>\n",
              "      <th>credit_count</th>\n",
              "      <th>creditcard_exp</th>\n",
              "      <th>dc_count</th>\n",
              "      <th>debit_count</th>\n",
              "      <th>debitcard_exp</th>\n",
              "      <th>emi_active</th>\n",
              "      <th>emp_tenure_years</th>\n",
              "      <th>investment</th>\n",
              "      <th>net_banking_flag</th>\n",
              "      <th>region_code</th>\n",
              "      <th>tenure_with_bank</th>\n",
              "      <th>account_type</th>\n",
              "      <th>gender</th>\n",
              "      <th>income_low</th>\n",
              "      <th>income_medium</th>\n",
              "      <th>loan_enq</th>\n",
              "    </tr>\n",
              "  </thead>\n",
              "  <tbody>\n",
              "    <tr>\n",
              "      <th>0</th>\n",
              "      <td>2.0</td>\n",
              "      <td>475518.75</td>\n",
              "      <td>231631.92</td>\n",
              "      <td>114992.0</td>\n",
              "      <td>2</td>\n",
              "      <td>63</td>\n",
              "      <td>5.0</td>\n",
              "      <td>519000</td>\n",
              "      <td>NaN</td>\n",
              "      <td>44.0</td>\n",
              "      <td>46</td>\n",
              "      <td>24433.29</td>\n",
              "      <td>80</td>\n",
              "      <td>173.0</td>\n",
              "      <td>8292.58</td>\n",
              "      <td>2646.72</td>\n",
              "      <td>30.1</td>\n",
              "      <td>114544.0</td>\n",
              "      <td>1</td>\n",
              "      <td>628.0</td>\n",
              "      <td>10</td>\n",
              "      <td>1</td>\n",
              "      <td>1</td>\n",
              "      <td>0</td>\n",
              "      <td>1</td>\n",
              "      <td>1</td>\n",
              "    </tr>\n",
              "    <tr>\n",
              "      <th>1</th>\n",
              "      <td>2.0</td>\n",
              "      <td>496597.52</td>\n",
              "      <td>210621.79</td>\n",
              "      <td>128400.0</td>\n",
              "      <td>2</td>\n",
              "      <td>36</td>\n",
              "      <td>12.0</td>\n",
              "      <td>402000</td>\n",
              "      <td>NaN</td>\n",
              "      <td>58.0</td>\n",
              "      <td>12</td>\n",
              "      <td>35898.73</td>\n",
              "      <td>54</td>\n",
              "      <td>85.0</td>\n",
              "      <td>13916.00</td>\n",
              "      <td>5469.79</td>\n",
              "      <td>14.4</td>\n",
              "      <td>1143923.7</td>\n",
              "      <td>0</td>\n",
              "      <td>656.0</td>\n",
              "      <td>10</td>\n",
              "      <td>1</td>\n",
              "      <td>1</td>\n",
              "      <td>0</td>\n",
              "      <td>1</td>\n",
              "      <td>1</td>\n",
              "    </tr>\n",
              "    <tr>\n",
              "      <th>2</th>\n",
              "      <td>2.0</td>\n",
              "      <td>110466.00</td>\n",
              "      <td>281651.29</td>\n",
              "      <td>382024.0</td>\n",
              "      <td>2</td>\n",
              "      <td>28</td>\n",
              "      <td>13.0</td>\n",
              "      <td>114000</td>\n",
              "      <td>NaN</td>\n",
              "      <td>86.0</td>\n",
              "      <td>55</td>\n",
              "      <td>33973.99</td>\n",
              "      <td>74</td>\n",
              "      <td>179.0</td>\n",
              "      <td>63077.98</td>\n",
              "      <td>7207.85</td>\n",
              "      <td>4.8</td>\n",
              "      <td>281087.6</td>\n",
              "      <td>1</td>\n",
              "      <td>314.0</td>\n",
              "      <td>10</td>\n",
              "      <td>1</td>\n",
              "      <td>0</td>\n",
              "      <td>0</td>\n",
              "      <td>1</td>\n",
              "      <td>1</td>\n",
              "    </tr>\n",
              "  </tbody>\n",
              "</table>\n",
              "</div>"
            ],
            "text/plain": [
              "   Total_closed_loan  Total_credit_amount  ...  income_medium  loan_enq\n",
              "0                2.0            475518.75  ...              1         1\n",
              "1                2.0            496597.52  ...              1         1\n",
              "2                2.0            110466.00  ...              1         1\n",
              "\n",
              "[3 rows x 26 columns]"
            ]
          },
          "metadata": {},
          "execution_count": 34
        }
      ]
    },
    {
      "cell_type": "markdown",
      "metadata": {
        "id": "hG9suppy_qdt"
      },
      "source": [
        "## Pandas profiling"
      ]
    },
    {
      "cell_type": "code",
      "metadata": {
        "id": "dFiFE3C2_14s"
      },
      "source": [
        "# import pandas_profiling\n",
        "\n",
        "# profile_report=pandas_profiling.ProfileReport(df)\n",
        "# profile_report.to_file(\"profile_report.html\")"
      ],
      "execution_count": 35,
      "outputs": []
    },
    {
      "cell_type": "markdown",
      "metadata": {
        "id": "7p4ZMKVYAP5M"
      },
      "source": [
        "## Splitting the data in df_train and df_predict"
      ]
    },
    {
      "cell_type": "code",
      "metadata": {
        "colab": {
          "base_uri": "https://localhost:8080/"
        },
        "id": "xyK-PiSIK4XR",
        "outputId": "0b1620ff-9635-475b-a180-ab579597114b"
      },
      "source": [
        "#now we will split the df in two parts. df_predict and df_train.\n",
        "#df_train will contain entries having numerial values in cc_cons_target\n",
        "#df_predict will have the rows/customers that we have to predict the output for\n",
        "\n",
        "#filtering all the rows from final that contain NaN values in cc_cons_target and storing those rows in df_predict.\n",
        "df_predict = df[df.cc_cons_target.isna()]\n",
        "#dropping the NaN values of cc_cons_target \n",
        "df_predict.drop(labels='cc_cons_target',axis=1,inplace=True)\n",
        "\n",
        "# droppping  all the rows that are in the df_predict dataframe and storing the result in df_train\n",
        "df_train = df.drop(df_predict.index)"
      ],
      "execution_count": 36,
      "outputs": [
        {
          "output_type": "stream",
          "name": "stderr",
          "text": [
            "/usr/local/lib/python3.7/dist-packages/pandas/core/frame.py:4174: SettingWithCopyWarning: \n",
            "A value is trying to be set on a copy of a slice from a DataFrame\n",
            "\n",
            "See the caveats in the documentation: https://pandas.pydata.org/pandas-docs/stable/user_guide/indexing.html#returning-a-view-versus-a-copy\n",
            "  errors=errors,\n"
          ]
        }
      ]
    },
    {
      "cell_type": "code",
      "metadata": {
        "colab": {
          "base_uri": "https://localhost:8080/"
        },
        "id": "abAfsXXhN3fS",
        "outputId": "f8fe7ea0-7761-495d-e17b-53bf9ea21606"
      },
      "source": [
        "df_train.shape"
      ],
      "execution_count": 37,
      "outputs": [
        {
          "output_type": "execute_result",
          "data": {
            "text/plain": [
              "(14995, 26)"
            ]
          },
          "metadata": {},
          "execution_count": 37
        }
      ]
    },
    {
      "cell_type": "code",
      "metadata": {
        "colab": {
          "base_uri": "https://localhost:8080/"
        },
        "id": "1pngdqiJN44q",
        "outputId": "f4277694-3e35-41b2-e627-e68b0da80c51"
      },
      "source": [
        "df_predict.shape"
      ],
      "execution_count": 38,
      "outputs": [
        {
          "output_type": "execute_result",
          "data": {
            "text/plain": [
              "(4993, 25)"
            ]
          },
          "metadata": {},
          "execution_count": 38
        }
      ]
    },
    {
      "cell_type": "markdown",
      "metadata": {
        "id": "nY3Bk_QdQJ96"
      },
      "source": [
        "## 8. Splitting df_train in train_x and train_y"
      ]
    },
    {
      "cell_type": "code",
      "metadata": {
        "id": "-ySgYbq9PptJ"
      },
      "source": [
        "train_x = df_train[['Total_closed_loan', 'Total_credit_amount', 'Total_debit_amount','Total_max_credit_acmout',\n",
        "                    'Totat_active_loan', 'age','avg_days_between_transaction', 'card_lim','cc_count', 'credit_count',\n",
        "                    'creditcard_exp', 'dc_count', 'debit_count','debitcard_exp', 'emi_active', 'emp_tenure_years', \n",
        "                    'investment','net_banking_flag', 'region_code', 'tenure_with_bank', 'account_type','gender',\n",
        "                    'income_low', 'income_medium', 'loan_enq']]\n",
        "\n",
        "train_y = df_train[['cc_cons_target']]\n",
        "train_y.columns=['target']\n"
      ],
      "execution_count": 209,
      "outputs": []
    },
    {
      "cell_type": "code",
      "metadata": {
        "id": "MonhAJyvFZoW"
      },
      "source": [
        ""
      ],
      "execution_count": 92,
      "outputs": []
    },
    {
      "cell_type": "markdown",
      "metadata": {
        "id": "ssmBulV4Bwqm"
      },
      "source": [
        "### Normalizing target variable\n",
        "our target variable should be normalized. Thus we will log transform  our train_y"
      ]
    },
    {
      "cell_type": "code",
      "metadata": {
        "colab": {
          "base_uri": "https://localhost:8080/",
          "height": 507
        },
        "id": "3tbQO14FCAeF",
        "outputId": "8e7cc231-c792-4c5e-a941-b1de646d5ca3"
      },
      "source": [
        "train_y.plot(kind='hist')"
      ],
      "execution_count": 93,
      "outputs": [
        {
          "output_type": "execute_result",
          "data": {
            "text/plain": [
              "<matplotlib.axes._subplots.AxesSubplot at 0x7f6e12c9f850>"
            ]
          },
          "metadata": {},
          "execution_count": 93
        },
        {
          "output_type": "display_data",
          "data": {
            "image/png": "[encoded data removed]",
            "text/plain": [
              "<Figure size 800x550 with 1 Axes>"
            ]
          },
          "metadata": {}
        }
      ]
    },
    {
      "cell_type": "code",
      "metadata": {
        "id": "e8P4EX3dRA4q",
        "colab": {
          "base_uri": "https://localhost:8080/",
          "height": 507
        },
        "outputId": "36f72d83-3f81-47e0-aff1-b8eebf7b9a70"
      },
      "source": [
        "train_y_log = np.log(train_y)\n",
        "train_y_log.plot(kind='hist',bins=20)"
      ],
      "execution_count": 97,
      "outputs": [
        {
          "output_type": "execute_result",
          "data": {
            "text/plain": [
              "<matplotlib.axes._subplots.AxesSubplot at 0x7f6e0e55d550>"
            ]
          },
          "metadata": {},
          "execution_count": 97
        },
        {
          "output_type": "display_data",
          "data": {
            "image/png": "[encoded data removed]",
            "text/plain": [
              "<Figure size 800x550 with 1 Axes>"
            ]
          },
          "metadata": {}
        }
      ]
    },
    {
      "cell_type": "code",
      "metadata": {
        "colab": {
          "base_uri": "https://localhost:8080/",
          "height": 564
        },
        "id": "jAXH4FFbFopU",
        "outputId": "34d1564c-9988-47a0-9f54-abe759fd5961"
      },
      "source": [
        "sns.distplot(train_y_log)"
      ],
      "execution_count": 96,
      "outputs": [
        {
          "output_type": "stream",
          "name": "stderr",
          "text": [
            "/usr/local/lib/python3.7/dist-packages/seaborn/distributions.py:2557: FutureWarning: `distplot` is a deprecated function and will be removed in a future version. Please adapt your code to use either `displot` (a figure-level function with similar flexibility) or `histplot` (an axes-level function for histograms).\n",
            "  warnings.warn(msg, FutureWarning)\n"
          ]
        },
        {
          "output_type": "execute_result",
          "data": {
            "text/plain": [
              "<matplotlib.axes._subplots.AxesSubplot at 0x7f6e0ee2b750>"
            ]
          },
          "metadata": {},
          "execution_count": 96
        },
        {
          "output_type": "display_data",
          "data": {
            "image/png": "[encoded data removed]",
            "text/plain": [
              "<Figure size 800x550 with 1 Axes>"
            ]
          },
          "metadata": {}
        }
      ]
    },
    {
      "cell_type": "markdown",
      "metadata": {
        "id": "zNcFPfbORCS9"
      },
      "source": [
        "## 9\\. Running OLS model on our dataset"
      ]
    },
    {
      "cell_type": "code",
      "metadata": {
        "colab": {
          "base_uri": "https://localhost:8080/"
        },
        "id": "C4TWxjDRRGtp",
        "outputId": "a52d9825-d611-44f5-b00f-167ee8ec003f"
      },
      "source": [
        "### OLS regression\n",
        "import statsmodels.api as sm\n",
        "\n",
        "model = sm.OLS(train_y_log,train_x)\n",
        "\n",
        "model_fit = model.fit()\n",
        "\n",
        "print(model_fit.summary())"
      ],
      "execution_count": 61,
      "outputs": [
        {
          "output_type": "stream",
          "name": "stdout",
          "text": [
            "                            OLS Regression Results                            \n",
            "==============================================================================\n",
            "Dep. Variable:         cc_cons_target   R-squared:                       0.001\n",
            "Model:                            OLS   Adj. R-squared:                 -0.000\n",
            "Method:                 Least Squares   F-statistic:                    0.8641\n",
            "Date:                Wed, 01 Sep 2021   Prob (F-statistic):              0.645\n",
            "Time:                        11:07:04   Log-Likelihood:                -27056.\n",
            "No. Observations:               14995   AIC:                         5.416e+04\n",
            "Df Residuals:                   14972   BIC:                         5.433e+04\n",
            "Df Model:                          22                                         \n",
            "Covariance Type:            nonrobust                                         \n",
            "================================================================================================\n",
            "                                   coef    std err          t      P>|t|      [0.025      0.975]\n",
            "------------------------------------------------------------------------------------------------\n",
            "Total_closed_loan                2.1646      0.025     87.846      0.000       2.116       2.213\n",
            "Total_credit_amount           6.831e-08   9.09e-08      0.752      0.452    -1.1e-07    2.46e-07\n",
            "Total_debit_amount           -4.636e-08   1.03e-07     -0.449      0.653   -2.49e-07    1.56e-07\n",
            "Total_max_credit_acmout       9.541e-08    1.4e-07      0.680      0.497    -1.8e-07    3.71e-07\n",
            "Totat_active_loan                2.1646      0.025     87.846      0.000       2.116       2.213\n",
            "age                              0.0001      0.001      0.108      0.914      -0.002       0.003\n",
            "avg_days_between_transaction    -0.0021      0.002     -0.966      0.334      -0.006       0.002\n",
            "card_lim                     -4.733e-08   7.11e-08     -0.666      0.505   -1.87e-07    9.19e-08\n",
            "cc_count                      1.341e-05      0.000      0.066      0.947      -0.000       0.000\n",
            "credit_count                     0.0003      0.000      0.872      0.383      -0.000       0.001\n",
            "creditcard_exp                9.966e-07   4.14e-07      2.410      0.016    1.86e-07    1.81e-06\n",
            "dc_count                         0.0001      0.000      0.412      0.680      -0.001       0.001\n",
            "debit_count                     -0.0001      0.000     -0.542      0.588      -0.001       0.000\n",
            "debitcard_exp                -5.096e-07   7.76e-07     -0.656      0.512   -2.03e-06    1.01e-06\n",
            "emi_active                    1.384e-06   1.29e-06      1.072      0.284   -1.15e-06    3.91e-06\n",
            "emp_tenure_years                -0.0020      0.002     -1.224      0.221      -0.005       0.001\n",
            "investment                     2.19e-08   1.84e-08      1.190      0.234   -1.42e-08     5.8e-08\n",
            "net_banking_flag                 0.0046      0.027      0.173      0.863      -0.048       0.057\n",
            "region_code                  -7.688e-05   5.56e-05     -1.382      0.167      -0.000    3.21e-05\n",
            "tenure_with_bank                 0.0033      0.004      0.777      0.437      -0.005       0.011\n",
            "account_type                    -0.0078      0.034     -0.234      0.815      -0.074       0.058\n",
            "gender                           0.0068      0.035      0.194      0.846      -0.062       0.075\n",
            "income_low                      -0.0201      0.048     -0.417      0.676      -0.115       0.074\n",
            "income_medium                   -0.0411      0.045     -0.911      0.362      -0.129       0.047\n",
            "loan_enq                         1.0823      0.012     87.846      0.000       1.058       1.106\n",
            "==============================================================================\n",
            "Omnibus:                     1014.661   Durbin-Watson:                   1.992\n",
            "Prob(Omnibus):                  0.000   Jarque-Bera (JB):             1185.362\n",
            "Skew:                           0.673   Prob(JB):                    4.00e-258\n",
            "Kurtosis:                       2.710   Cond. No.                     4.93e+35\n",
            "==============================================================================\n",
            "\n",
            "Warnings:\n",
            "[1] Standard Errors assume that the covariance matrix of the errors is correctly specified.\n",
            "[2] The smallest eigenvalue is 4.95e-56. This might indicate that there are\n",
            "strong multicollinearity problems or that the design matrix is singular.\n"
          ]
        }
      ]
    },
    {
      "cell_type": "markdown",
      "metadata": {
        "id": "Lm4nHzdVRdzs"
      },
      "source": [
        "#### Result of OLS regression model\n",
        "We can see from the above summary that many of the features have a p-value greter than that of 0.05. \n",
        "\n",
        "Thus we will remove those features from our model and rerun the OLS model"
      ]
    },
    {
      "cell_type": "code",
      "metadata": {
        "id": "4USkiZdGRW-z"
      },
      "source": [
        "#removing the top 5 features on the basis of p_value\n",
        "remove_cols = ['dc_count','Total_debit_amount','net_banking_flag','age','gender']\n",
        "new_cols = train_x.columns.difference(remove_cols)\n",
        "train_x = train_x[new_cols]\n"
      ],
      "execution_count": 224,
      "outputs": []
    },
    {
      "cell_type": "code",
      "metadata": {
        "id": "MOY80hMqTgzS"
      },
      "source": [
        "# ### OLS regression part 2\n",
        "# model = sm.OLS(train_y,train_x)\n",
        "\n",
        "# model_fit = model.fit()\n",
        "\n",
        "# print(model_fit.summary())"
      ],
      "execution_count": 225,
      "outputs": []
    },
    {
      "cell_type": "code",
      "metadata": {
        "id": "fL9iBermTvM6"
      },
      "source": [
        "#Total_closed_loan account_type card_lim cc_count debit_count income_low "
      ],
      "execution_count": 226,
      "outputs": []
    },
    {
      "cell_type": "markdown",
      "metadata": {
        "id": "IBCbB8e6Ufc0"
      },
      "source": [
        "## VIF\n",
        "- VIF is used to remove multicollinearity from the dataset. \n",
        "- VIF = 1/(1-R^2)\n",
        "\n",
        "- It computes the R-sq value for every feature against all other features. The more a feature is collinear with other features , more the VIF score is.\n",
        "- VIF starts at 1 and has no upper limit\n",
        "- VIF = 1, no correlation between the independent variable and the other variables\n",
        "- VIF exceeding 5 or 10 indicates high multicollinearity between this independent variable and the others"
      ]
    },
    {
      "cell_type": "code",
      "metadata": {
        "colab": {
          "base_uri": "https://localhost:8080/",
          "height": 733
        },
        "id": "47RNf4YuUhYy",
        "outputId": "e7c807f6-db1f-42e7-d82c-52e44479730e"
      },
      "source": [
        "#R^2 value is determined to find out how well an independent variable is described by the other independent variables. \n",
        "#A high value of R^2 means that the variable is highly correlated with the other variables.\n",
        "#So, the closer the R^2 value to 1, the higher the value of VIF and\n",
        "# the higher the multicollinearity with the particular independent variable.\n",
        "\n",
        "\n",
        "# vif = 1/(1-r^2)\n",
        "\n",
        "\n",
        "# VIF starts at 1 and has no upper limit\n",
        "# VIF = 1, no correlation between the independent variable and the other variables\n",
        "# VIF exceeding 5 or 10 indicates high multicollinearity between this independent variable and the others\n",
        "\n",
        "\n",
        "\n",
        "\n",
        "# Import library for VIF\n",
        "from statsmodels.stats.outliers_influence import variance_inflation_factor\n",
        "\n",
        "def calc_vif(X):\n",
        "\n",
        "    # Calculating VIF\n",
        "    vif = pd.DataFrame()\n",
        "    vif[\"variables\"] = X.columns\n",
        "    vif[\"VIF\"] = [variance_inflation_factor(X.values, i) for i in range(X.shape[1])]\n",
        "\n",
        "    return(vif)\n",
        "\n",
        "\n",
        "X = train_x\n",
        "calc_vif(X)\n",
        "\n",
        "\n",
        "\n",
        "#Fixing Multicollinearity\n",
        "\n",
        "# #Dropping one of the correlated features will help in bringing down the multicollinearity between correlated features:\n",
        "# X = df.drop(['Age','Salary'],axis=1)\n",
        "# calc_vif(X)"
      ],
      "execution_count": 227,
      "outputs": [
        {
          "output_type": "stream",
          "name": "stderr",
          "text": [
            "/usr/local/lib/python3.7/dist-packages/statsmodels/regression/linear_model.py:1636: RuntimeWarning: divide by zero encountered in double_scalars\n",
            "  return 1 - self.ssr/self.centered_tss\n"
          ]
        },
        {
          "output_type": "execute_result",
          "data": {
            "text/html": [
              "<div>\n",
              "<style scoped>\n",
              "    .dataframe tbody tr th:only-of-type {\n",
              "        vertical-align: middle;\n",
              "    }\n",
              "\n",
              "    .dataframe tbody tr th {\n",
              "        vertical-align: top;\n",
              "    }\n",
              "\n",
              "    .dataframe thead th {\n",
              "        text-align: right;\n",
              "    }\n",
              "</style>\n",
              "<table border=\"1\" class=\"dataframe\">\n",
              "  <thead>\n",
              "    <tr style=\"text-align: right;\">\n",
              "      <th></th>\n",
              "      <th>variables</th>\n",
              "      <th>VIF</th>\n",
              "    </tr>\n",
              "  </thead>\n",
              "  <tbody>\n",
              "    <tr>\n",
              "      <th>0</th>\n",
              "      <td>Total_closed_loan</td>\n",
              "      <td>0.000000</td>\n",
              "    </tr>\n",
              "    <tr>\n",
              "      <th>1</th>\n",
              "      <td>Total_credit_amount</td>\n",
              "      <td>1.000894</td>\n",
              "    </tr>\n",
              "    <tr>\n",
              "      <th>2</th>\n",
              "      <td>Total_max_credit_acmout</td>\n",
              "      <td>1.001745</td>\n",
              "    </tr>\n",
              "    <tr>\n",
              "      <th>3</th>\n",
              "      <td>Totat_active_loan</td>\n",
              "      <td>0.000000</td>\n",
              "    </tr>\n",
              "    <tr>\n",
              "      <th>4</th>\n",
              "      <td>account_type</td>\n",
              "      <td>1.001049</td>\n",
              "    </tr>\n",
              "    <tr>\n",
              "      <th>5</th>\n",
              "      <td>avg_days_between_transaction</td>\n",
              "      <td>1.001097</td>\n",
              "    </tr>\n",
              "    <tr>\n",
              "      <th>6</th>\n",
              "      <td>card_lim</td>\n",
              "      <td>1.000597</td>\n",
              "    </tr>\n",
              "    <tr>\n",
              "      <th>7</th>\n",
              "      <td>cc_count</td>\n",
              "      <td>1.000425</td>\n",
              "    </tr>\n",
              "    <tr>\n",
              "      <th>8</th>\n",
              "      <td>credit_count</td>\n",
              "      <td>1.001492</td>\n",
              "    </tr>\n",
              "    <tr>\n",
              "      <th>9</th>\n",
              "      <td>creditcard_exp</td>\n",
              "      <td>1.001631</td>\n",
              "    </tr>\n",
              "    <tr>\n",
              "      <th>10</th>\n",
              "      <td>debit_count</td>\n",
              "      <td>1.000761</td>\n",
              "    </tr>\n",
              "    <tr>\n",
              "      <th>11</th>\n",
              "      <td>debitcard_exp</td>\n",
              "      <td>1.000823</td>\n",
              "    </tr>\n",
              "    <tr>\n",
              "      <th>12</th>\n",
              "      <td>emi_active</td>\n",
              "      <td>1.001476</td>\n",
              "    </tr>\n",
              "    <tr>\n",
              "      <th>13</th>\n",
              "      <td>emp_tenure_years</td>\n",
              "      <td>1.001325</td>\n",
              "    </tr>\n",
              "    <tr>\n",
              "      <th>14</th>\n",
              "      <td>income_low</td>\n",
              "      <td>3.240765</td>\n",
              "    </tr>\n",
              "    <tr>\n",
              "      <th>15</th>\n",
              "      <td>income_medium</td>\n",
              "      <td>3.239876</td>\n",
              "    </tr>\n",
              "    <tr>\n",
              "      <th>16</th>\n",
              "      <td>investment</td>\n",
              "      <td>1.001091</td>\n",
              "    </tr>\n",
              "    <tr>\n",
              "      <th>17</th>\n",
              "      <td>loan_enq</td>\n",
              "      <td>0.000000</td>\n",
              "    </tr>\n",
              "    <tr>\n",
              "      <th>18</th>\n",
              "      <td>region_code</td>\n",
              "      <td>1.000992</td>\n",
              "    </tr>\n",
              "    <tr>\n",
              "      <th>19</th>\n",
              "      <td>tenure_with_bank</td>\n",
              "      <td>1.001018</td>\n",
              "    </tr>\n",
              "  </tbody>\n",
              "</table>\n",
              "</div>"
            ],
            "text/plain": [
              "                       variables       VIF\n",
              "0              Total_closed_loan  0.000000\n",
              "1            Total_credit_amount  1.000894\n",
              "2        Total_max_credit_acmout  1.001745\n",
              "3              Totat_active_loan  0.000000\n",
              "4                   account_type  1.001049\n",
              "5   avg_days_between_transaction  1.001097\n",
              "6                       card_lim  1.000597\n",
              "7                       cc_count  1.000425\n",
              "8                   credit_count  1.001492\n",
              "9                 creditcard_exp  1.001631\n",
              "10                   debit_count  1.000761\n",
              "11                 debitcard_exp  1.000823\n",
              "12                    emi_active  1.001476\n",
              "13              emp_tenure_years  1.001325\n",
              "14                    income_low  3.240765\n",
              "15                 income_medium  3.239876\n",
              "16                    investment  1.001091\n",
              "17                      loan_enq  0.000000\n",
              "18                   region_code  1.000992\n",
              "19              tenure_with_bank  1.001018"
            ]
          },
          "metadata": {},
          "execution_count": 227
        }
      ]
    },
    {
      "cell_type": "markdown",
      "metadata": {
        "id": "-wGlPkvQ7ACQ"
      },
      "source": [
        "### RFE"
      ]
    },
    {
      "cell_type": "code",
      "metadata": {
        "id": "r2J0igv2VWdc",
        "colab": {
          "base_uri": "https://localhost:8080/"
        },
        "outputId": "d039d921-883b-4c2e-f026-16a9fda8e6ba"
      },
      "source": [
        "from sklearn.tree import DecisionTreeRegressor\n",
        "from sklearn.feature_selection import RFE\n",
        "\n",
        "\n",
        "dt_reg = DecisionTreeRegressor(random_state=0)\n",
        "\n",
        "# lr = LinearRegression()\n",
        "rfe = RFE(estimator=dt_reg, n_features_to_select=16)\n",
        "rfe.fit(train_x, train_y)\n",
        "\n",
        "rfe.ranking_\n",
        "\n",
        "\n",
        "# selecting features given by RFE\n",
        "f = rfe.get_support(1) #the most important features\n",
        "selected_x = train_x[train_x.columns[f]] # final features`\n",
        "selected_x.columns"
      ],
      "execution_count": 264,
      "outputs": [
        {
          "output_type": "stream",
          "name": "stderr",
          "text": [
            "/usr/local/lib/python3.7/dist-packages/sklearn/utils/validation.py:760: DataConversionWarning: A column-vector y was passed when a 1d array was expected. Please change the shape of y to (n_samples, ), for example using ravel().\n",
            "  y = column_or_1d(y, warn=True)\n"
          ]
        },
        {
          "output_type": "execute_result",
          "data": {
            "text/plain": [
              "Index(['Total_credit_amount', 'Total_max_credit_acmout',\n",
              "       'avg_days_between_transaction', 'card_lim', 'cc_count', 'credit_count',\n",
              "       'creditcard_exp', 'debit_count', 'debitcard_exp', 'emi_active',\n",
              "       'emp_tenure_years', 'income_low', 'income_medium', 'investment',\n",
              "       'region_code', 'tenure_with_bank'],\n",
              "      dtype='object')"
            ]
          },
          "metadata": {},
          "execution_count": 264
        }
      ]
    },
    {
      "cell_type": "markdown",
      "metadata": {
        "id": "isK6k6auBm1n"
      },
      "source": [
        "### Fitting the selected_x in OLS"
      ]
    },
    {
      "cell_type": "code",
      "metadata": {
        "colab": {
          "base_uri": "https://localhost:8080/"
        },
        "id": "WluCBcHQBTNm",
        "outputId": "6d3cb756-e139-4738-f1ee-557a4f52bab6"
      },
      "source": [
        "model = sm.OLS(train_y_log,selected_x)\n",
        "\n",
        "model_fit = model.fit()\n",
        "\n",
        "print(model_fit.summary())"
      ],
      "execution_count": 265,
      "outputs": [
        {
          "output_type": "stream",
          "name": "stdout",
          "text": [
            "                                 OLS Regression Results                                \n",
            "=======================================================================================\n",
            "Dep. Variable:                 target   R-squared (uncentered):                   0.959\n",
            "Model:                            OLS   Adj. R-squared (uncentered):              0.959\n",
            "Method:                 Least Squares   F-statistic:                          2.199e+04\n",
            "Date:                Wed, 01 Sep 2021   Prob (F-statistic):                        0.00\n",
            "Time:                        12:17:46   Log-Likelihood:                         -31558.\n",
            "No. Observations:               14995   AIC:                                  6.315e+04\n",
            "Df Residuals:                   14979   BIC:                                  6.327e+04\n",
            "Df Model:                          16                                                  \n",
            "Covariance Type:            nonrobust                                                  \n",
            "================================================================================================\n",
            "                                   coef    std err          t      P>|t|      [0.025      0.975]\n",
            "------------------------------------------------------------------------------------------------\n",
            "Total_credit_amount           2.384e-06   1.19e-07     19.979      0.000    2.15e-06    2.62e-06\n",
            "Total_max_credit_acmout       3.953e-06   1.84e-07     21.543      0.000    3.59e-06    4.31e-06\n",
            "avg_days_between_transaction     0.0644      0.003     22.665      0.000       0.059       0.070\n",
            "card_lim                      1.723e-06   9.34e-08     18.440      0.000    1.54e-06    1.91e-06\n",
            "cc_count                         0.0053      0.000     20.098      0.000       0.005       0.006\n",
            "credit_count                     0.0091      0.001     17.835      0.000       0.008       0.010\n",
            "creditcard_exp                1.052e-05   5.46e-07     19.274      0.000    9.45e-06    1.16e-05\n",
            "debit_count                      0.0067      0.000     24.544      0.000       0.006       0.007\n",
            "debitcard_exp                 1.604e-05   1.03e-06     15.596      0.000     1.4e-05    1.81e-05\n",
            "emi_active                    1.797e-05   1.73e-06     10.382      0.000    1.46e-05    2.14e-05\n",
            "emp_tenure_years                 0.0188      0.002     12.549      0.000       0.016       0.022\n",
            "income_low                       2.3194      0.059     39.619      0.000       2.205       2.434\n",
            "income_medium                    2.3071      0.054     42.933      0.000       2.202       2.412\n",
            "investment                    2.797e-07   2.46e-08     11.355      0.000    2.31e-07    3.28e-07\n",
            "region_code                      0.0023   6.92e-05     33.324      0.000       0.002       0.002\n",
            "tenure_with_bank                 0.1258      0.005     23.030      0.000       0.115       0.137\n",
            "==============================================================================\n",
            "Omnibus:                      260.461   Durbin-Watson:                   1.984\n",
            "Prob(Omnibus):                  0.000   Jarque-Bera (JB):              274.003\n",
            "Skew:                           0.331   Prob(JB):                     3.17e-60\n",
            "Kurtosis:                       3.004   Cond. No.                     4.10e+06\n",
            "==============================================================================\n",
            "\n",
            "Warnings:\n",
            "[1] Standard Errors assume that the covariance matrix of the errors is correctly specified.\n",
            "[2] The condition number is large, 4.1e+06. This might indicate that there are\n",
            "strong multicollinearity or other numerical problems.\n"
          ]
        }
      ]
    },
    {
      "cell_type": "markdown",
      "metadata": {
        "id": "3BNvjx2LDVgy"
      },
      "source": [
        "### Predicting OLS regression values"
      ]
    },
    {
      "cell_type": "code",
      "metadata": {
        "id": "6X5KqDpYDaZx"
      },
      "source": [
        "train_y_log_hat = model_fit.predict(selected_x)\n",
        "train_y_log_hat.columns = ['target']\n",
        "\n",
        "\n",
        "train_y_hat = np.exp(train_y_log_hat)\n",
        "train_y_hat = pd.DataFrame(train_y_hat)\n",
        "# train_y_hat = train_y_hat.apply(lambda x: '%.5f' % x, axis=1)\n",
        "# train_y_hat = pd.DataFrame(train_y_hat)\n",
        "train_y_hat.columns = ['target']"
      ],
      "execution_count": 266,
      "outputs": []
    },
    {
      "cell_type": "markdown",
      "metadata": {
        "id": "lI8dR1MXDDBq"
      },
      "source": [
        "### calculating errors"
      ]
    },
    {
      "cell_type": "code",
      "metadata": {
        "id": "pXbpg1cOC_5Q"
      },
      "source": [
        "#UDF for calcualting MAPE,RMSE and RMSPE for the test values and forecasted values\n",
        "def calculate_error(y_true,y_pred):\n",
        "  map_error = np.mean((np.abs(y_true - y_pred))/y_true*100)\n",
        "  rms_error = np.sqrt(np.mean(np.square(y_true - y_pred)))\n",
        "  rmps_error = (np.sqrt(np.mean(np.square((y_true - y_pred) / y_true)))) * 100\n",
        "  result =  {'mape':map_error ,'rmse': rms_error ,'rmspe': rmps_error}\n",
        "  return result"
      ],
      "execution_count": 267,
      "outputs": []
    },
    {
      "cell_type": "code",
      "metadata": {
        "colab": {
          "base_uri": "https://localhost:8080/"
        },
        "id": "8XWfJz9TECK3",
        "outputId": "26987224-9df6-4cbe-f9b6-3331aa51997c"
      },
      "source": [
        "# calling the udf to calculate error between actual test values and arima forecasts\n",
        "error_coff = calculate_error(train_y.target,train_y_hat.target)\n",
        "print('------------OLS model error----------------------')\n",
        "# print('MAPE  :',error_coff['mape'][0])\n",
        "# print('RMSE  :',error_coff['rmse'][0])\n",
        "# print('RMSPE :',error_coff['rmspe'][0])\n",
        "print(error_coff)\n",
        "print('-------------------------------------------------')\n",
        "\n"
      ],
      "execution_count": 268,
      "outputs": [
        {
          "output_type": "stream",
          "name": "stdout",
          "text": [
            "------------OLS model error----------------------\n",
            "{'mape': 389.3668488890094, 'rmse': 117760.38706191342, 'rmspe': 1534.6068953333556}\n",
            "-------------------------------------------------\n"
          ]
        }
      ]
    },
    {
      "cell_type": "code",
      "metadata": {
        "colab": {
          "base_uri": "https://localhost:8080/"
        },
        "id": "cGXCsZNfKBKy",
        "outputId": "edd67930-9cf4-49f9-ac9c-3b6986a21cf4"
      },
      "source": [
        "np.mean(np.abs(train_y.target - train_y_hat.target))"
      ],
      "execution_count": 270,
      "outputs": [
        {
          "output_type": "execute_result",
          "data": {
            "text/plain": [
              "61933.28297991663"
            ]
          },
          "metadata": {},
          "execution_count": 270
        }
      ]
    },
    {
      "cell_type": "markdown",
      "metadata": {
        "id": "x5pXZKvZQ_sq"
      },
      "source": [
        "### polynomila reg"
      ]
    },
    {
      "cell_type": "code",
      "metadata": {
        "id": "I99mtupaLvS2"
      },
      "source": [
        "# from sklearn.preprocessing import PolynomialFeatures\n",
        "# polynomial_features= PolynomialFeatures(degree=3)\n",
        "# xp = polynomial_features.fit_transform(selected_x)\n",
        "# xp.shape\n"
      ],
      "execution_count": 271,
      "outputs": []
    },
    {
      "cell_type": "code",
      "metadata": {
        "id": "vX9ZZUkuRNi1"
      },
      "source": [
        "# model = sm.OLS(train_y_log, xp).fit()\n",
        "# ypred = np.exp(model.predict(xp))\n",
        "# model.summary()\n"
      ],
      "execution_count": 272,
      "outputs": []
    },
    {
      "cell_type": "code",
      "metadata": {
        "id": "0bJPPKBdSfcB"
      },
      "source": [
        ""
      ],
      "execution_count": null,
      "outputs": []
    },
    {
      "cell_type": "markdown",
      "metadata": {
        "id": "p_FXVnlDTucg"
      },
      "source": [
        "## Train test split"
      ]
    },
    {
      "cell_type": "code",
      "metadata": {
        "id": "p583jm-oTx9Q"
      },
      "source": [
        "from sklearn.model_selection import train_test_split\n",
        "\n",
        "\n",
        "x_train, x_test, y_train, y_test = train_test_split(selected_x, train_y, test_size=0.25, random_state=72)\n",
        "\n",
        "y_train_log = np.log(y_train)\n",
        "y_test_log = np.log(y_test)"
      ],
      "execution_count": 279,
      "outputs": []
    },
    {
      "cell_type": "markdown",
      "metadata": {
        "id": "B7e1i1iBTeIV"
      },
      "source": [
        "## Linear Regression"
      ]
    },
    {
      "cell_type": "code",
      "metadata": {
        "id": "P8Z90_86Tm61"
      },
      "source": [
        "from sklearn.linear_model import LinearRegression\n",
        "lr = LinearRegression()\n",
        "# training the linear regression model on x_train and y_train_log\n",
        "lr.fit(x_train ,y_train_log)\n",
        "\n",
        "# predicting the values of selected_x and storing them in y_train_predicted\n",
        "y_train_predicted = np.exp(lr.predict(x_train))\n"
      ],
      "execution_count": 284,
      "outputs": []
    },
    {
      "cell_type": "markdown",
      "metadata": {
        "id": "UbdwVMnDUwgV"
      },
      "source": [
        "## Error calculation of train values"
      ]
    },
    {
      "cell_type": "code",
      "metadata": {
        "colab": {
          "base_uri": "https://localhost:8080/"
        },
        "id": "JBPCA32ZUrl7",
        "outputId": "dbcacc31-8798-42b4-a256-08e9e82a1093"
      },
      "source": [
        "# calling the udf to calculate error between train_y_ln and predicted values\n",
        "error_coff = calculate_error(y_train_predicted,y_train)\n",
        "print('------------OLS model error----------------------')\n",
        "print('MAPE  :',error_coff['mape'][0])\n",
        "print('RMSE  :',error_coff['rmse'][0])\n",
        "print('RMSPE :',error_coff['rmspe'][0])\n",
        "# print(error_coff)\n",
        "print('-------------------------------------------------')"
      ],
      "execution_count": 286,
      "outputs": [
        {
          "output_type": "stream",
          "name": "stdout",
          "text": [
            "------------OLS model error----------------------\n",
            "MAPE  : 293.055988010995\n",
            "RMSE  : 104706.6434714322\n",
            "RMSPE : 634.2497966057269\n",
            "-------------------------------------------------\n"
          ]
        }
      ]
    },
    {
      "cell_type": "markdown",
      "metadata": {
        "id": "Fm6EqiQjVmNn"
      },
      "source": [
        "## Prediction test values"
      ]
    },
    {
      "cell_type": "code",
      "metadata": {
        "id": "RMqKrxWuVXyj"
      },
      "source": [
        "y_test_predicted = np.exp(lr.predict(x_test))"
      ],
      "execution_count": 287,
      "outputs": []
    },
    {
      "cell_type": "markdown",
      "metadata": {
        "id": "FuLjTrxYVvGT"
      },
      "source": [
        "## Error Calculation of test values"
      ]
    },
    {
      "cell_type": "code",
      "metadata": {
        "colab": {
          "base_uri": "https://localhost:8080/"
        },
        "id": "iEaShTtgVuen",
        "outputId": "c22283d0-4159-47c6-aa5f-f58b705f6fed"
      },
      "source": [
        "# calling the udf to calculate error between train_y_ln and predicted values\n",
        "error_coff = calculate_error(y_test_predicted,y_test)\n",
        "print('------------OLS model error----------------------')\n",
        "print('MAPE  :',error_coff['mape'][0])\n",
        "print('RMSE  :',error_coff['rmse'][0])\n",
        "print('RMSPE :',error_coff['rmspe'][0])\n",
        "# print(error_coff)\n",
        "print('-------------------------------------------------')"
      ],
      "execution_count": 288,
      "outputs": [
        {
          "output_type": "stream",
          "name": "stdout",
          "text": [
            "------------OLS model error----------------------\n",
            "MAPE  : 302.99339127312254\n",
            "RMSE  : 105915.31068053312\n",
            "RMSPE : 647.5363731243311\n",
            "-------------------------------------------------\n"
          ]
        }
      ]
    },
    {
      "cell_type": "markdown",
      "metadata": {
        "id": "VOKILABBV3S6"
      },
      "source": [
        "## Predicting the values for the df_predict cstomers"
      ]
    },
    {
      "cell_type": "code",
      "metadata": {
        "colab": {
          "base_uri": "https://localhost:8080/"
        },
        "id": "yjRbvupPV18r",
        "outputId": "06de054f-b27c-46e1-aec3-0935ebf7b91b"
      },
      "source": [
        "#selecting the best features\n",
        "df_predict_selected_x = df_predict[df_predict.columns[f]] # final features`\n",
        "df_predict_selected_x.columns\n",
        "\n",
        "\n",
        "#prediciting the consumption values\n",
        "customer_predict = np.exp(lr.predict(df_predict_selected_x))\n",
        "customer_predict"
      ],
      "execution_count": 292,
      "outputs": [
        {
          "output_type": "execute_result",
          "data": {
            "text/plain": [
              "array([[2.18779108e+02],\n",
              "       [6.72940936e-13],\n",
              "       [4.75985934e-59],\n",
              "       ...,\n",
              "       [1.53667722e-38],\n",
              "       [5.42519500e-56],\n",
              "       [8.34627270e-28]])"
            ]
          },
          "metadata": {},
          "execution_count": 292
        }
      ]
    }
  ]
}