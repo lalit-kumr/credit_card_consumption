{
  "nbformat": 4,
  "nbformat_minor": 0,
  "metadata": {
    "colab": {
      "name": "Credit card final-1.ipynb",
      "provenance": [],
      "collapsed_sections": [],
      "authorship_tag": "ABX9TyOaHaBWMHMsn0N2hP5ecP/m",
      "include_colab_link": true
    },
    "kernelspec": {
      "name": "python3",
      "display_name": "Python 3"
    },
    "language_info": {
      "name": "python"
    }
  },
  "cells": [
    {
      "cell_type": "markdown",
      "metadata": {
        "id": "view-in-github",
        "colab_type": "text"
      },
      "source": [
        "<a href=\"https://colab.research.google.com/github/lalit-kumr/credit_card_consumption/blob/main/Credit_card-03-Sep-21-12-48am.ipynb\" target=\"_parent\"><img src=\"https://colab.research.google.com/assets/colab-badge.svg\" alt=\"Open In Colab\"/></a>"
      ]
    },
    {
      "cell_type": "markdown",
      "metadata": {
        "id": "qcqTIfiM6d32"
      },
      "source": [
        "### Steps\n",
        "- Import libs\n",
        "- Import data\n",
        "- Clean both sets\n",
        "- Merge the data sets\n",
        "- Split data in numerical and categorical\n",
        "- Outlier removal in both sets\n",
        "- fill na\n",
        "- splitting in train and predict\n",
        "- Label encoding\n",
        "- Join dataset\n",
        "- Build model OLS\n",
        "- Remove features having high p value\n",
        "- Apply vif\n",
        "- Drop vif unwanted variables one by one\n",
        "- Log of y \n",
        "- OLS model again\n",
        "- RFE\n",
        "- Apply linear reg model\n",
        "\n",
        "\n",
        "\n"
      ]
    },
    {
      "cell_type": "markdown",
      "metadata": {
        "id": "p2u2qXry7OwV"
      },
      "source": [
        "## 0. Importing libs"
      ]
    },
    {
      "cell_type": "code",
      "metadata": {
        "id": "rjA9G84A7OdS"
      },
      "source": [
        "import pandas as pd\n",
        "import numpy as np\n",
        "import matplotlib.pyplot as plt\n",
        "import seaborn as sns"
      ],
      "execution_count": 1,
      "outputs": []
    },
    {
      "cell_type": "markdown",
      "metadata": {
        "id": "zlRkA-i-5zvX"
      },
      "source": [
        "## 1. Importing Data"
      ]
    },
    {
      "cell_type": "code",
      "metadata": {
        "id": "73KLaUjc5x4t"
      },
      "source": [
        "# behaviour = pd.read_csv('CustomerBehaviorData.csv')\n",
        "# consumption = pd.read_csv('CreditConsumptionData.csv')\n",
        "# customer = pd.read_csv('CustomerDemographics.csv')\n",
        "\n",
        "\n",
        "behaviour = pd.read_csv('https://github.com/lalit-kumr/credit_card_consumption/blob/main/CustomerBehaviorData.csv?raw=true')\n",
        "consumption = pd.read_csv('https://github.com/lalit-kumr/credit_card_consumption/raw/main/CreditConsumptionData.csv')\n",
        "customer = pd.read_csv('https://github.com/lalit-kumr/credit_card_consumption/raw/main/CustomerDemographics.csv')"
      ],
      "execution_count": 173,
      "outputs": []
    },
    {
      "cell_type": "markdown",
      "metadata": {
        "id": "a-C09-ta7gB3"
      },
      "source": [
        "## 2. Cleaning Data"
      ]
    },
    {
      "cell_type": "code",
      "metadata": {
        "colab": {
          "base_uri": "https://localhost:8080/"
        },
        "id": "zdGedsUy7YVY",
        "outputId": "30df2136-0689-4939-9789-6da61fb5bace"
      },
      "source": [
        "#finding NaN values in customer df\n",
        "# customer.isna().sum()\n",
        "#Droppping observations having NaN values\n",
        "customer.dropna(inplace=True)\n",
        "customer.isna().sum()"
      ],
      "execution_count": 174,
      "outputs": [
        {
          "output_type": "execute_result",
          "data": {
            "text/plain": [
              "customer_id                     0\n",
              "account_type                    0\n",
              "gender                          0\n",
              "age                             0\n",
              "income                          0\n",
              "emp_tenure_years                0\n",
              "tenure_with_bank                0\n",
              "region_code                     0\n",
              "net_banking_flag                0\n",
              "avg_days_between_transaction    0\n",
              "dtype: int64"
            ]
          },
          "metadata": {},
          "execution_count": 174
        }
      ]
    },
    {
      "cell_type": "code",
      "metadata": {
        "colab": {
          "base_uri": "https://localhost:8080/"
        },
        "id": "nX4JLtSv7sSx",
        "outputId": "9374115c-1103-4df5-e4e6-a68afbe0bf4d"
      },
      "source": [
        "#Droppping observations having NaN values\n",
        "behaviour.dropna(inplace=True)\n",
        "behaviour.isna().sum()"
      ],
      "execution_count": 175,
      "outputs": [
        {
          "output_type": "execute_result",
          "data": {
            "text/plain": [
              "customer_id              0\n",
              "cc_cons_apr              0\n",
              "dc_cons_apr              0\n",
              "cc_cons_may              0\n",
              "dc_cons_may              0\n",
              "cc_cons_jun              0\n",
              "dc_cons_jun              0\n",
              "cc_count_apr             0\n",
              "cc_count_may             0\n",
              "cc_count_jun             0\n",
              "dc_count_apr             0\n",
              "dc_count_may             0\n",
              "dc_count_jun             0\n",
              "card_lim                 0\n",
              "personal_loan_active     0\n",
              "vehicle_loan_active      0\n",
              "personal_loan_closed     0\n",
              "vehicle_loan_closed      0\n",
              "investment_1             0\n",
              "investment_2             0\n",
              "investment_3             0\n",
              "investment_4             0\n",
              "debit_amount_apr         0\n",
              "credit_amount_apr        0\n",
              "debit_count_apr          0\n",
              "credit_count_apr         0\n",
              "max_credit_amount_apr    0\n",
              "debit_amount_may         0\n",
              "credit_amount_may        0\n",
              "credit_count_may         0\n",
              "debit_count_may          0\n",
              "max_credit_amount_may    0\n",
              "debit_amount_jun         0\n",
              "credit_amount_jun        0\n",
              "credit_count_jun         0\n",
              "debit_count_jun          0\n",
              "max_credit_amount_jun    0\n",
              "loan_enq                 0\n",
              "emi_active               0\n",
              "dtype: int64"
            ]
          },
          "metadata": {},
          "execution_count": 175
        }
      ]
    },
    {
      "cell_type": "code",
      "metadata": {
        "colab": {
          "base_uri": "https://localhost:8080/"
        },
        "id": "n2vnqpUKBUii",
        "outputId": "cbb87f4e-923f-42d0-e7b6-e8a5c0c010f9"
      },
      "source": [
        "# checking nan cells in coonsumption\n",
        "consumption.isna().sum()"
      ],
      "execution_count": 176,
      "outputs": [
        {
          "output_type": "execute_result",
          "data": {
            "text/plain": [
              "customer_id          0\n",
              "cc_cons_target    5000\n",
              "dtype: int64"
            ]
          },
          "metadata": {},
          "execution_count": 176
        }
      ]
    },
    {
      "cell_type": "markdown",
      "metadata": {
        "id": "wepZWWi4CvK7"
      },
      "source": [
        "## 3.Merging the data Frames"
      ]
    },
    {
      "cell_type": "markdown",
      "metadata": {
        "id": "1LmSykiYC9fL"
      },
      "source": [
        "### 3.1 Merging the dataframes"
      ]
    },
    {
      "cell_type": "code",
      "metadata": {
        "id": "-Nr_Qwn1BXVh"
      },
      "source": [
        "# - now we will merge all three dataframes on the basis of customer_id.\n",
        "# - first we will merge customer and behaviour dataframes as customer_be\n",
        "# - next we will merge the cosumption dataframe with the custoemr_be df and store the resultant dataframe in **final**\n",
        "\n",
        "\n",
        "customer_behaviour = pd.merge(left=customer, right=behaviour, on='customer_id')\n",
        "final = pd.merge(left=customer_behaviour, right=consumption, on='customer_id')\n",
        "\n",
        "#dropping customer id\n",
        "final.drop(labels='customer_id',axis=1,inplace=True)"
      ],
      "execution_count": 179,
      "outputs": []
    },
    {
      "cell_type": "markdown",
      "metadata": {
        "id": "3GW-Hl0EFmWL"
      },
      "source": [
        "## 4\\. Splitting data into numerical and categorical"
      ]
    },
    {
      "cell_type": "code",
      "metadata": {
        "colab": {
          "base_uri": "https://localhost:8080/"
        },
        "id": "m50dMvr4F07B",
        "outputId": "5f3f5dd3-0d26-4682-c959-c5f9b527059c"
      },
      "source": [
        "#extracting numerical columns from the dataset\n",
        "num_cols = final.columns.difference(['account_type', 'gender', 'income', 'loan_enq'])\n",
        "num_cols = final[num_cols]\n",
        "num_cols.columns"
      ],
      "execution_count": 180,
      "outputs": [
        {
          "output_type": "execute_result",
          "data": {
            "text/plain": [
              "Index(['age', 'avg_days_between_transaction', 'card_lim', 'cc_cons_apr',\n",
              "       'cc_cons_jun', 'cc_cons_may', 'cc_cons_target', 'cc_count_apr',\n",
              "       'cc_count_jun', 'cc_count_may', 'credit_amount_apr',\n",
              "       'credit_amount_jun', 'credit_amount_may', 'credit_count_apr',\n",
              "       'credit_count_jun', 'credit_count_may', 'dc_cons_apr', 'dc_cons_jun',\n",
              "       'dc_cons_may', 'dc_count_apr', 'dc_count_jun', 'dc_count_may',\n",
              "       'debit_amount_apr', 'debit_amount_jun', 'debit_amount_may',\n",
              "       'debit_count_apr', 'debit_count_jun', 'debit_count_may', 'emi_active',\n",
              "       'emp_tenure_years', 'investment_1', 'investment_2', 'investment_3',\n",
              "       'investment_4', 'max_credit_amount_apr', 'max_credit_amount_jun',\n",
              "       'max_credit_amount_may', 'net_banking_flag', 'personal_loan_active',\n",
              "       'personal_loan_closed', 'region_code', 'tenure_with_bank',\n",
              "       'vehicle_loan_active', 'vehicle_loan_closed'],\n",
              "      dtype='object')"
            ]
          },
          "metadata": {},
          "execution_count": 180
        }
      ]
    },
    {
      "cell_type": "code",
      "metadata": {
        "colab": {
          "base_uri": "https://localhost:8080/"
        },
        "id": "a597ejCfDYMI",
        "outputId": "6092c1ef-d7b8-4905-dfd9-c3951b57777a"
      },
      "source": [
        "#extracting categorical columns from the data\n",
        "cat_cols = final.select_dtypes(include=['O'])\n",
        "cat_cols.columns"
      ],
      "execution_count": 181,
      "outputs": [
        {
          "output_type": "execute_result",
          "data": {
            "text/plain": [
              "Index(['account_type', 'gender', 'income', 'loan_enq'], dtype='object')"
            ]
          },
          "metadata": {},
          "execution_count": 181
        }
      ]
    },
    {
      "cell_type": "markdown",
      "metadata": {
        "id": "kmTFwqmgLUM7"
      },
      "source": [
        "## 6\\. label encoding of cat cols"
      ]
    },
    {
      "cell_type": "code",
      "metadata": {
        "colab": {
          "base_uri": "https://localhost:8080/",
          "height": 143
        },
        "id": "imUeTl4SLT5F",
        "outputId": "f0d9e52d-4035-404f-86fe-9debc53bfb42"
      },
      "source": [
        "cat_cols = pd.get_dummies(cat_cols)\n",
        "cat_cols.drop(labels=['account_type_saving','gender_F','income_HIGH'],axis=1,inplace=True)\n",
        "#renaming columns\n",
        "cat_cols.columns = ['account_type','gender','income_low','income_medium', 'loan_enq']\n",
        "cat_cols.head(3)"
      ],
      "execution_count": 182,
      "outputs": [
        {
          "output_type": "execute_result",
          "data": {
            "text/html": [
              "<div>\n",
              "<style scoped>\n",
              "    .dataframe tbody tr th:only-of-type {\n",
              "        vertical-align: middle;\n",
              "    }\n",
              "\n",
              "    .dataframe tbody tr th {\n",
              "        vertical-align: top;\n",
              "    }\n",
              "\n",
              "    .dataframe thead th {\n",
              "        text-align: right;\n",
              "    }\n",
              "</style>\n",
              "<table border=\"1\" class=\"dataframe\">\n",
              "  <thead>\n",
              "    <tr style=\"text-align: right;\">\n",
              "      <th></th>\n",
              "      <th>account_type</th>\n",
              "      <th>gender</th>\n",
              "      <th>income_low</th>\n",
              "      <th>income_medium</th>\n",
              "      <th>loan_enq</th>\n",
              "    </tr>\n",
              "  </thead>\n",
              "  <tbody>\n",
              "    <tr>\n",
              "      <th>0</th>\n",
              "      <td>1</td>\n",
              "      <td>1</td>\n",
              "      <td>0</td>\n",
              "      <td>1</td>\n",
              "      <td>1</td>\n",
              "    </tr>\n",
              "    <tr>\n",
              "      <th>1</th>\n",
              "      <td>1</td>\n",
              "      <td>1</td>\n",
              "      <td>0</td>\n",
              "      <td>1</td>\n",
              "      <td>1</td>\n",
              "    </tr>\n",
              "    <tr>\n",
              "      <th>2</th>\n",
              "      <td>1</td>\n",
              "      <td>0</td>\n",
              "      <td>0</td>\n",
              "      <td>1</td>\n",
              "      <td>1</td>\n",
              "    </tr>\n",
              "  </tbody>\n",
              "</table>\n",
              "</div>"
            ],
            "text/plain": [
              "   account_type  gender  income_low  income_medium  loan_enq\n",
              "0             1       1           0              1         1\n",
              "1             1       1           0              1         1\n",
              "2             1       0           0              1         1"
            ]
          },
          "metadata": {},
          "execution_count": 182
        }
      ]
    },
    {
      "cell_type": "markdown",
      "metadata": {
        "id": "0p8kLy6JKw8X"
      },
      "source": [
        "###  Joining cat_cols and num_cols"
      ]
    },
    {
      "cell_type": "code",
      "metadata": {
        "colab": {
          "base_uri": "https://localhost:8080/",
          "height": 163
        },
        "id": "Cidl_CKPKDR5",
        "outputId": "5b84deb1-60a9-48ed-f568-50fc5a8a62ef"
      },
      "source": [
        "# joining the num_cols and cat_cols df \n",
        "df = pd.concat([num_cols,cat_cols],axis=1)\n",
        "df.head(3)"
      ],
      "execution_count": 183,
      "outputs": [
        {
          "output_type": "execute_result",
          "data": {
            "text/html": [
              "<div>\n",
              "<style scoped>\n",
              "    .dataframe tbody tr th:only-of-type {\n",
              "        vertical-align: middle;\n",
              "    }\n",
              "\n",
              "    .dataframe tbody tr th {\n",
              "        vertical-align: top;\n",
              "    }\n",
              "\n",
              "    .dataframe thead th {\n",
              "        text-align: right;\n",
              "    }\n",
              "</style>\n",
              "<table border=\"1\" class=\"dataframe\">\n",
              "  <thead>\n",
              "    <tr style=\"text-align: right;\">\n",
              "      <th></th>\n",
              "      <th>age</th>\n",
              "      <th>avg_days_between_transaction</th>\n",
              "      <th>card_lim</th>\n",
              "      <th>cc_cons_apr</th>\n",
              "      <th>cc_cons_jun</th>\n",
              "      <th>cc_cons_may</th>\n",
              "      <th>cc_cons_target</th>\n",
              "      <th>cc_count_apr</th>\n",
              "      <th>cc_count_jun</th>\n",
              "      <th>cc_count_may</th>\n",
              "      <th>credit_amount_apr</th>\n",
              "      <th>credit_amount_jun</th>\n",
              "      <th>credit_amount_may</th>\n",
              "      <th>credit_count_apr</th>\n",
              "      <th>credit_count_jun</th>\n",
              "      <th>credit_count_may</th>\n",
              "      <th>dc_cons_apr</th>\n",
              "      <th>dc_cons_jun</th>\n",
              "      <th>dc_cons_may</th>\n",
              "      <th>dc_count_apr</th>\n",
              "      <th>dc_count_jun</th>\n",
              "      <th>dc_count_may</th>\n",
              "      <th>debit_amount_apr</th>\n",
              "      <th>debit_amount_jun</th>\n",
              "      <th>debit_amount_may</th>\n",
              "      <th>debit_count_apr</th>\n",
              "      <th>debit_count_jun</th>\n",
              "      <th>debit_count_may</th>\n",
              "      <th>emi_active</th>\n",
              "      <th>emp_tenure_years</th>\n",
              "      <th>investment_1</th>\n",
              "      <th>investment_2</th>\n",
              "      <th>investment_3</th>\n",
              "      <th>investment_4</th>\n",
              "      <th>max_credit_amount_apr</th>\n",
              "      <th>max_credit_amount_jun</th>\n",
              "      <th>max_credit_amount_may</th>\n",
              "      <th>net_banking_flag</th>\n",
              "      <th>personal_loan_active</th>\n",
              "      <th>personal_loan_closed</th>\n",
              "      <th>region_code</th>\n",
              "      <th>tenure_with_bank</th>\n",
              "      <th>vehicle_loan_active</th>\n",
              "      <th>vehicle_loan_closed</th>\n",
              "      <th>account_type</th>\n",
              "      <th>gender</th>\n",
              "      <th>income_low</th>\n",
              "      <th>income_medium</th>\n",
              "      <th>loan_enq</th>\n",
              "    </tr>\n",
              "  </thead>\n",
              "  <tbody>\n",
              "    <tr>\n",
              "      <th>0</th>\n",
              "      <td>63</td>\n",
              "      <td>5.0</td>\n",
              "      <td>519000</td>\n",
              "      <td>7998.48</td>\n",
              "      <td>6881.81</td>\n",
              "      <td>9553.00</td>\n",
              "      <td>NaN</td>\n",
              "      <td>8.0</td>\n",
              "      <td>13</td>\n",
              "      <td>23</td>\n",
              "      <td>44630.50</td>\n",
              "      <td>369000.75</td>\n",
              "      <td>61887.50</td>\n",
              "      <td>1</td>\n",
              "      <td>40</td>\n",
              "      <td>5</td>\n",
              "      <td>2289.0</td>\n",
              "      <td>3124.0</td>\n",
              "      <td>2879.58</td>\n",
              "      <td>47</td>\n",
              "      <td>30</td>\n",
              "      <td>3</td>\n",
              "      <td>79085.00</td>\n",
              "      <td>44884.90</td>\n",
              "      <td>107662.02</td>\n",
              "      <td>63.0</td>\n",
              "      <td>96</td>\n",
              "      <td>14</td>\n",
              "      <td>2646.72</td>\n",
              "      <td>30.1</td>\n",
              "      <td>13659.0</td>\n",
              "      <td>14000.0</td>\n",
              "      <td>80000.0</td>\n",
              "      <td>6885.0</td>\n",
              "      <td>48134.00</td>\n",
              "      <td>46088.0</td>\n",
              "      <td>20770.0</td>\n",
              "      <td>1</td>\n",
              "      <td>1</td>\n",
              "      <td>1.0</td>\n",
              "      <td>628.0</td>\n",
              "      <td>10</td>\n",
              "      <td>1</td>\n",
              "      <td>1</td>\n",
              "      <td>1</td>\n",
              "      <td>1</td>\n",
              "      <td>0</td>\n",
              "      <td>1</td>\n",
              "      <td>1</td>\n",
              "    </tr>\n",
              "    <tr>\n",
              "      <th>1</th>\n",
              "      <td>36</td>\n",
              "      <td>12.0</td>\n",
              "      <td>402000</td>\n",
              "      <td>16479.64</td>\n",
              "      <td>12032.60</td>\n",
              "      <td>7386.49</td>\n",
              "      <td>NaN</td>\n",
              "      <td>19.0</td>\n",
              "      <td>7</td>\n",
              "      <td>32</td>\n",
              "      <td>216770.95</td>\n",
              "      <td>243182.32</td>\n",
              "      <td>36644.25</td>\n",
              "      <td>1</td>\n",
              "      <td>7</td>\n",
              "      <td>4</td>\n",
              "      <td>415.0</td>\n",
              "      <td>6738.0</td>\n",
              "      <td>6763.00</td>\n",
              "      <td>1</td>\n",
              "      <td>16</td>\n",
              "      <td>37</td>\n",
              "      <td>85171.16</td>\n",
              "      <td>91073.84</td>\n",
              "      <td>34376.79</td>\n",
              "      <td>10.0</td>\n",
              "      <td>12</td>\n",
              "      <td>63</td>\n",
              "      <td>5469.79</td>\n",
              "      <td>14.4</td>\n",
              "      <td>942327.7</td>\n",
              "      <td>172131.0</td>\n",
              "      <td>28912.0</td>\n",
              "      <td>553.0</td>\n",
              "      <td>31820.00</td>\n",
              "      <td>17953.0</td>\n",
              "      <td>78627.0</td>\n",
              "      <td>0</td>\n",
              "      <td>1</td>\n",
              "      <td>1.0</td>\n",
              "      <td>656.0</td>\n",
              "      <td>10</td>\n",
              "      <td>1</td>\n",
              "      <td>1</td>\n",
              "      <td>1</td>\n",
              "      <td>1</td>\n",
              "      <td>0</td>\n",
              "      <td>1</td>\n",
              "      <td>1</td>\n",
              "    </tr>\n",
              "    <tr>\n",
              "      <th>2</th>\n",
              "      <td>28</td>\n",
              "      <td>13.0</td>\n",
              "      <td>114000</td>\n",
              "      <td>29272.03</td>\n",
              "      <td>531.43</td>\n",
              "      <td>4170.53</td>\n",
              "      <td>NaN</td>\n",
              "      <td>12.0</td>\n",
              "      <td>44</td>\n",
              "      <td>30</td>\n",
              "      <td>24878.00</td>\n",
              "      <td>35467.00</td>\n",
              "      <td>50121.00</td>\n",
              "      <td>33</td>\n",
              "      <td>16</td>\n",
              "      <td>6</td>\n",
              "      <td>40994.0</td>\n",
              "      <td>3778.0</td>\n",
              "      <td>26717.30</td>\n",
              "      <td>22</td>\n",
              "      <td>37</td>\n",
              "      <td>15</td>\n",
              "      <td>44916.42</td>\n",
              "      <td>96552.00</td>\n",
              "      <td>140182.87</td>\n",
              "      <td>55.0</td>\n",
              "      <td>42</td>\n",
              "      <td>82</td>\n",
              "      <td>7207.85</td>\n",
              "      <td>4.8</td>\n",
              "      <td>70310.6</td>\n",
              "      <td>208652.0</td>\n",
              "      <td>1036.0</td>\n",
              "      <td>1089.0</td>\n",
              "      <td>1035431.79</td>\n",
              "      <td>41121.0</td>\n",
              "      <td>1260.0</td>\n",
              "      <td>1</td>\n",
              "      <td>1</td>\n",
              "      <td>1.0</td>\n",
              "      <td>314.0</td>\n",
              "      <td>10</td>\n",
              "      <td>1</td>\n",
              "      <td>1</td>\n",
              "      <td>1</td>\n",
              "      <td>0</td>\n",
              "      <td>0</td>\n",
              "      <td>1</td>\n",
              "      <td>1</td>\n",
              "    </tr>\n",
              "  </tbody>\n",
              "</table>\n",
              "</div>"
            ],
            "text/plain": [
              "   age  avg_days_between_transaction  ...  income_medium  loan_enq\n",
              "0   63                           5.0  ...              1         1\n",
              "1   36                          12.0  ...              1         1\n",
              "2   28                          13.0  ...              1         1\n",
              "\n",
              "[3 rows x 49 columns]"
            ]
          },
          "metadata": {},
          "execution_count": 183
        }
      ]
    },
    {
      "cell_type": "markdown",
      "metadata": {
        "id": "hG9suppy_qdt"
      },
      "source": [
        "## Pandas profiling"
      ]
    },
    {
      "cell_type": "code",
      "metadata": {
        "id": "dFiFE3C2_14s"
      },
      "source": [
        "# import pandas_profiling\n",
        "\n",
        "# profile_report=pandas_profiling.ProfileReport(df)\n",
        "# profile_report.to_file(\"profile_report.html\")"
      ],
      "execution_count": 55,
      "outputs": []
    },
    {
      "cell_type": "markdown",
      "metadata": {
        "id": "7p4ZMKVYAP5M"
      },
      "source": [
        "## Splitting the data in df_train and df_predict"
      ]
    },
    {
      "cell_type": "code",
      "metadata": {
        "colab": {
          "base_uri": "https://localhost:8080/"
        },
        "id": "xyK-PiSIK4XR",
        "outputId": "faffb0d9-3dee-44fd-bbef-68c131c5f78c"
      },
      "source": [
        "#now we will split the df in two parts. df_predict and df_train.\n",
        "#df_train will contain entries having numerial values in cc_cons_target\n",
        "#df_predict will have the rows/customers that we have to predict the output for\n",
        "\n",
        "#filtering all the rows from final that contain NaN values in cc_cons_target and storing those rows in df_predict.\n",
        "df_predict = df[df.cc_cons_target.isna()]\n",
        "#dropping the NaN values of cc_cons_target \n",
        "df_predict.drop(labels='cc_cons_target',axis=1,inplace=True)\n",
        "\n",
        "# droppping  all the rows that are in the df_predict dataframe and storing the result in df_train\n",
        "df_train = df.drop(df_predict.index)"
      ],
      "execution_count": 194,
      "outputs": [
        {
          "output_type": "stream",
          "name": "stderr",
          "text": [
            "/usr/local/lib/python3.7/dist-packages/pandas/core/frame.py:4174: SettingWithCopyWarning: \n",
            "A value is trying to be set on a copy of a slice from a DataFrame\n",
            "\n",
            "See the caveats in the documentation: https://pandas.pydata.org/pandas-docs/stable/user_guide/indexing.html#returning-a-view-versus-a-copy\n",
            "  errors=errors,\n"
          ]
        }
      ]
    },
    {
      "cell_type": "code",
      "metadata": {
        "colab": {
          "base_uri": "https://localhost:8080/"
        },
        "id": "abAfsXXhN3fS",
        "outputId": "18e9f0f8-6d68-4619-976d-f478994be71e"
      },
      "source": [
        "df_train.shape"
      ],
      "execution_count": 195,
      "outputs": [
        {
          "output_type": "execute_result",
          "data": {
            "text/plain": [
              "(14995, 49)"
            ]
          },
          "metadata": {},
          "execution_count": 195
        }
      ]
    },
    {
      "cell_type": "code",
      "metadata": {
        "colab": {
          "base_uri": "https://localhost:8080/"
        },
        "id": "1pngdqiJN44q",
        "outputId": "a042847c-0e94-4f4e-de33-b7ff226f5f40"
      },
      "source": [
        "df_predict.shape"
      ],
      "execution_count": 196,
      "outputs": [
        {
          "output_type": "execute_result",
          "data": {
            "text/plain": [
              "(4993, 48)"
            ]
          },
          "metadata": {},
          "execution_count": 196
        }
      ]
    },
    {
      "cell_type": "markdown",
      "metadata": {
        "id": "D2ATQtieGbeN"
      },
      "source": [
        "## 5\\. Outlier removal from df_train and df_predict"
      ]
    },
    {
      "cell_type": "code",
      "metadata": {
        "colab": {
          "base_uri": "https://localhost:8080/",
          "height": 284
        },
        "id": "3tbQO14FCAeF",
        "outputId": "d98ba8fc-503e-45b1-8de2-3103e0e8f2fa"
      },
      "source": [
        "df_train.cc_cons_target.plot(kind='hist')"
      ],
      "execution_count": 197,
      "outputs": [
        {
          "output_type": "execute_result",
          "data": {
            "text/plain": [
              "<matplotlib.axes._subplots.AxesSubplot at 0x7f207c1d3f50>"
            ]
          },
          "metadata": {},
          "execution_count": 197
        },
        {
          "output_type": "display_data",
          "data": {
            "image/png": "[encoded data removed]",
            "text/plain": [
              "<Figure size 432x288 with 1 Axes>"
            ]
          },
          "metadata": {
            "needs_background": "light"
          }
        }
      ]
    },
    {
      "cell_type": "code",
      "metadata": {
        "colab": {
          "base_uri": "https://localhost:8080/",
          "height": 320
        },
        "id": "gXBt4F6KCyFF",
        "outputId": "652dd320-9ba6-4e21-a269-251afc0bd26a"
      },
      "source": [
        "#As our target variable(cc_cons_target) is non_normalized, we will first drop the observations that do not have \n",
        "#values of target variable within 90%ile and 10%ile.\n",
        "q_low = df_train['cc_cons_target'].quantile(0.10)\n",
        "q_hi  = df_train['cc_cons_target'].quantile(0.90)\n",
        "\n",
        "df_train = df_train[(df_train['cc_cons_target'] < q_hi) & (df_train['cc_cons_target'] > q_low)]\n",
        "\n",
        "\n",
        "#Now we will treat outliers in all other columns\n",
        "from scipy.stats import mstats\n",
        "\n",
        "for x in df_train:\n",
        "  df_train.loc[:,x] = mstats.winsorize(df_train[x], limits=[0.10, 0.10])\n",
        "df_train.describe()\n"
      ],
      "execution_count": 198,
      "outputs": [
        {
          "output_type": "execute_result",
          "data": {
            "text/html": [
              "<div>\n",
              "<style scoped>\n",
              "    .dataframe tbody tr th:only-of-type {\n",
              "        vertical-align: middle;\n",
              "    }\n",
              "\n",
              "    .dataframe tbody tr th {\n",
              "        vertical-align: top;\n",
              "    }\n",
              "\n",
              "    .dataframe thead th {\n",
              "        text-align: right;\n",
              "    }\n",
              "</style>\n",
              "<table border=\"1\" class=\"dataframe\">\n",
              "  <thead>\n",
              "    <tr style=\"text-align: right;\">\n",
              "      <th></th>\n",
              "      <th>age</th>\n",
              "      <th>avg_days_between_transaction</th>\n",
              "      <th>card_lim</th>\n",
              "      <th>cc_cons_apr</th>\n",
              "      <th>cc_cons_jun</th>\n",
              "      <th>cc_cons_may</th>\n",
              "      <th>cc_cons_target</th>\n",
              "      <th>cc_count_apr</th>\n",
              "      <th>cc_count_jun</th>\n",
              "      <th>cc_count_may</th>\n",
              "      <th>credit_amount_apr</th>\n",
              "      <th>credit_amount_jun</th>\n",
              "      <th>credit_amount_may</th>\n",
              "      <th>credit_count_apr</th>\n",
              "      <th>credit_count_jun</th>\n",
              "      <th>credit_count_may</th>\n",
              "      <th>dc_cons_apr</th>\n",
              "      <th>dc_cons_jun</th>\n",
              "      <th>dc_cons_may</th>\n",
              "      <th>dc_count_apr</th>\n",
              "      <th>dc_count_jun</th>\n",
              "      <th>dc_count_may</th>\n",
              "      <th>debit_amount_apr</th>\n",
              "      <th>debit_amount_jun</th>\n",
              "      <th>debit_amount_may</th>\n",
              "      <th>debit_count_apr</th>\n",
              "      <th>debit_count_jun</th>\n",
              "      <th>debit_count_may</th>\n",
              "      <th>emi_active</th>\n",
              "      <th>emp_tenure_years</th>\n",
              "      <th>investment_1</th>\n",
              "      <th>investment_2</th>\n",
              "      <th>investment_3</th>\n",
              "      <th>investment_4</th>\n",
              "      <th>max_credit_amount_apr</th>\n",
              "      <th>max_credit_amount_jun</th>\n",
              "      <th>max_credit_amount_may</th>\n",
              "      <th>net_banking_flag</th>\n",
              "      <th>personal_loan_active</th>\n",
              "      <th>personal_loan_closed</th>\n",
              "      <th>region_code</th>\n",
              "      <th>tenure_with_bank</th>\n",
              "      <th>vehicle_loan_active</th>\n",
              "      <th>vehicle_loan_closed</th>\n",
              "      <th>account_type</th>\n",
              "      <th>gender</th>\n",
              "      <th>income_low</th>\n",
              "      <th>income_medium</th>\n",
              "      <th>loan_enq</th>\n",
              "    </tr>\n",
              "  </thead>\n",
              "  <tbody>\n",
              "    <tr>\n",
              "      <th>count</th>\n",
              "      <td>11995.000000</td>\n",
              "      <td>11995.000000</td>\n",
              "      <td>11995.000000</td>\n",
              "      <td>11995.000000</td>\n",
              "      <td>11995.000000</td>\n",
              "      <td>11995.000000</td>\n",
              "      <td>11995.000000</td>\n",
              "      <td>11995.000000</td>\n",
              "      <td>11995.000000</td>\n",
              "      <td>11995.000000</td>\n",
              "      <td>11995.000000</td>\n",
              "      <td>11995.000000</td>\n",
              "      <td>11995.000000</td>\n",
              "      <td>11995.000000</td>\n",
              "      <td>11995.000000</td>\n",
              "      <td>11995.000000</td>\n",
              "      <td>11995.000000</td>\n",
              "      <td>11995.000000</td>\n",
              "      <td>11995.000000</td>\n",
              "      <td>11995.000000</td>\n",
              "      <td>11995.000000</td>\n",
              "      <td>11995.000000</td>\n",
              "      <td>11995.000000</td>\n",
              "      <td>11995.000000</td>\n",
              "      <td>11995.000000</td>\n",
              "      <td>11995.000000</td>\n",
              "      <td>11995.000000</td>\n",
              "      <td>11995.000000</td>\n",
              "      <td>11995.000000</td>\n",
              "      <td>11995.000000</td>\n",
              "      <td>11995.000000</td>\n",
              "      <td>11995.000000</td>\n",
              "      <td>11995.000000</td>\n",
              "      <td>11995.000000</td>\n",
              "      <td>11995.000000</td>\n",
              "      <td>11995.000000</td>\n",
              "      <td>11995.000000</td>\n",
              "      <td>11995.000000</td>\n",
              "      <td>11995.0</td>\n",
              "      <td>11995.0</td>\n",
              "      <td>11995.000000</td>\n",
              "      <td>11995.000000</td>\n",
              "      <td>11995.0</td>\n",
              "      <td>11995.0</td>\n",
              "      <td>11995.000000</td>\n",
              "      <td>11995.000000</td>\n",
              "      <td>11995.000000</td>\n",
              "      <td>11995.000000</td>\n",
              "      <td>11995.0</td>\n",
              "    </tr>\n",
              "    <tr>\n",
              "      <th>mean</th>\n",
              "      <td>43.430179</td>\n",
              "      <td>11.043852</td>\n",
              "      <td>271229.359483</td>\n",
              "      <td>14680.670917</td>\n",
              "      <td>9666.562517</td>\n",
              "      <td>12855.160407</td>\n",
              "      <td>23943.163068</td>\n",
              "      <td>22.656357</td>\n",
              "      <td>38.233431</td>\n",
              "      <td>29.677449</td>\n",
              "      <td>61332.566889</td>\n",
              "      <td>61606.382900</td>\n",
              "      <td>66076.697998</td>\n",
              "      <td>11.175990</td>\n",
              "      <td>16.843518</td>\n",
              "      <td>11.004752</td>\n",
              "      <td>6241.505391</td>\n",
              "      <td>5187.074512</td>\n",
              "      <td>5645.444514</td>\n",
              "      <td>16.589912</td>\n",
              "      <td>29.504377</td>\n",
              "      <td>12.804919</td>\n",
              "      <td>54824.186599</td>\n",
              "      <td>60100.559157</td>\n",
              "      <td>52207.424835</td>\n",
              "      <td>34.499041</td>\n",
              "      <td>44.553897</td>\n",
              "      <td>36.607837</td>\n",
              "      <td>6419.291932</td>\n",
              "      <td>12.649971</td>\n",
              "      <td>154159.767291</td>\n",
              "      <td>168509.344239</td>\n",
              "      <td>31463.448547</td>\n",
              "      <td>2898.046830</td>\n",
              "      <td>40670.082687</td>\n",
              "      <td>40086.456698</td>\n",
              "      <td>41480.461882</td>\n",
              "      <td>0.719133</td>\n",
              "      <td>1.0</td>\n",
              "      <td>1.0</td>\n",
              "      <td>598.214840</td>\n",
              "      <td>5.491622</td>\n",
              "      <td>1.0</td>\n",
              "      <td>1.0</td>\n",
              "      <td>0.847520</td>\n",
              "      <td>0.861692</td>\n",
              "      <td>0.279783</td>\n",
              "      <td>0.639850</td>\n",
              "      <td>1.0</td>\n",
              "    </tr>\n",
              "    <tr>\n",
              "      <th>std</th>\n",
              "      <td>12.183941</td>\n",
              "      <td>5.336914</td>\n",
              "      <td>161461.792688</td>\n",
              "      <td>12608.717691</td>\n",
              "      <td>8283.947977</td>\n",
              "      <td>11284.008606</td>\n",
              "      <td>29733.943071</td>\n",
              "      <td>23.243571</td>\n",
              "      <td>28.467137</td>\n",
              "      <td>26.775827</td>\n",
              "      <td>43925.749986</td>\n",
              "      <td>46920.330554</td>\n",
              "      <td>51447.352246</td>\n",
              "      <td>12.097064</td>\n",
              "      <td>18.721018</td>\n",
              "      <td>14.345195</td>\n",
              "      <td>5770.187496</td>\n",
              "      <td>4846.296392</td>\n",
              "      <td>4980.057601</td>\n",
              "      <td>17.880576</td>\n",
              "      <td>27.586900</td>\n",
              "      <td>14.284081</td>\n",
              "      <td>40690.090273</td>\n",
              "      <td>43642.834355</td>\n",
              "      <td>39775.319992</td>\n",
              "      <td>26.179905</td>\n",
              "      <td>33.157609</td>\n",
              "      <td>29.470336</td>\n",
              "      <td>6331.864281</td>\n",
              "      <td>9.092013</td>\n",
              "      <td>238290.771922</td>\n",
              "      <td>157494.691618</td>\n",
              "      <td>39870.800866</td>\n",
              "      <td>5608.183095</td>\n",
              "      <td>25917.483681</td>\n",
              "      <td>27670.237442</td>\n",
              "      <td>28396.709869</td>\n",
              "      <td>0.449441</td>\n",
              "      <td>0.0</td>\n",
              "      <td>0.0</td>\n",
              "      <td>208.171213</td>\n",
              "      <td>2.569363</td>\n",
              "      <td>0.0</td>\n",
              "      <td>0.0</td>\n",
              "      <td>0.359501</td>\n",
              "      <td>0.345237</td>\n",
              "      <td>0.448911</td>\n",
              "      <td>0.480064</td>\n",
              "      <td>0.0</td>\n",
              "    </tr>\n",
              "    <tr>\n",
              "      <th>min</th>\n",
              "      <td>29.000000</td>\n",
              "      <td>3.000000</td>\n",
              "      <td>47000.000000</td>\n",
              "      <td>1921.530000</td>\n",
              "      <td>1377.200000</td>\n",
              "      <td>1689.500000</td>\n",
              "      <td>4885.000000</td>\n",
              "      <td>2.000000</td>\n",
              "      <td>4.000000</td>\n",
              "      <td>3.000000</td>\n",
              "      <td>14078.030000</td>\n",
              "      <td>11574.000000</td>\n",
              "      <td>12513.000000</td>\n",
              "      <td>1.000000</td>\n",
              "      <td>2.000000</td>\n",
              "      <td>1.000000</td>\n",
              "      <td>650.240000</td>\n",
              "      <td>607.000000</td>\n",
              "      <td>748.000000</td>\n",
              "      <td>1.000000</td>\n",
              "      <td>1.000000</td>\n",
              "      <td>1.000000</td>\n",
              "      <td>10449.170000</td>\n",
              "      <td>12484.780000</td>\n",
              "      <td>10781.570000</td>\n",
              "      <td>4.000000</td>\n",
              "      <td>7.000000</td>\n",
              "      <td>6.000000</td>\n",
              "      <td>450.630000</td>\n",
              "      <td>2.700000</td>\n",
              "      <td>690.000000</td>\n",
              "      <td>11897.000000</td>\n",
              "      <td>768.000000</td>\n",
              "      <td>-5942.000000</td>\n",
              "      <td>14150.000000</td>\n",
              "      <td>11440.000000</td>\n",
              "      <td>11775.000000</td>\n",
              "      <td>0.000000</td>\n",
              "      <td>1.0</td>\n",
              "      <td>1.0</td>\n",
              "      <td>269.000000</td>\n",
              "      <td>2.000000</td>\n",
              "      <td>1.0</td>\n",
              "      <td>1.0</td>\n",
              "      <td>0.000000</td>\n",
              "      <td>0.000000</td>\n",
              "      <td>0.000000</td>\n",
              "      <td>0.000000</td>\n",
              "      <td>1.0</td>\n",
              "    </tr>\n",
              "    <tr>\n",
              "      <th>25%</th>\n",
              "      <td>33.000000</td>\n",
              "      <td>6.000000</td>\n",
              "      <td>120500.000000</td>\n",
              "      <td>4403.160000</td>\n",
              "      <td>3004.500000</td>\n",
              "      <td>3673.270000</td>\n",
              "      <td>8087.000000</td>\n",
              "      <td>5.000000</td>\n",
              "      <td>10.000000</td>\n",
              "      <td>8.000000</td>\n",
              "      <td>26882.000000</td>\n",
              "      <td>24705.000000</td>\n",
              "      <td>25217.250000</td>\n",
              "      <td>2.000000</td>\n",
              "      <td>4.000000</td>\n",
              "      <td>2.000000</td>\n",
              "      <td>1633.140000</td>\n",
              "      <td>1359.420000</td>\n",
              "      <td>1653.000000</td>\n",
              "      <td>2.000000</td>\n",
              "      <td>4.000000</td>\n",
              "      <td>2.000000</td>\n",
              "      <td>23085.000000</td>\n",
              "      <td>25740.130000</td>\n",
              "      <td>20853.260000</td>\n",
              "      <td>11.000000</td>\n",
              "      <td>12.000000</td>\n",
              "      <td>11.000000</td>\n",
              "      <td>1537.420000</td>\n",
              "      <td>5.200000</td>\n",
              "      <td>6100.000000</td>\n",
              "      <td>38928.000000</td>\n",
              "      <td>2214.000000</td>\n",
              "      <td>0.000000</td>\n",
              "      <td>20667.000000</td>\n",
              "      <td>19017.000000</td>\n",
              "      <td>20001.000000</td>\n",
              "      <td>0.000000</td>\n",
              "      <td>1.0</td>\n",
              "      <td>1.0</td>\n",
              "      <td>428.000000</td>\n",
              "      <td>3.000000</td>\n",
              "      <td>1.0</td>\n",
              "      <td>1.0</td>\n",
              "      <td>1.000000</td>\n",
              "      <td>1.000000</td>\n",
              "      <td>0.000000</td>\n",
              "      <td>0.000000</td>\n",
              "      <td>1.0</td>\n",
              "    </tr>\n",
              "    <tr>\n",
              "      <th>50%</th>\n",
              "      <td>40.000000</td>\n",
              "      <td>11.000000</td>\n",
              "      <td>272000.000000</td>\n",
              "      <td>10300.000000</td>\n",
              "      <td>6632.500000</td>\n",
              "      <td>8732.990000</td>\n",
              "      <td>13363.000000</td>\n",
              "      <td>10.000000</td>\n",
              "      <td>35.000000</td>\n",
              "      <td>23.000000</td>\n",
              "      <td>46970.130000</td>\n",
              "      <td>45680.000000</td>\n",
              "      <td>47770.000000</td>\n",
              "      <td>5.000000</td>\n",
              "      <td>7.000000</td>\n",
              "      <td>4.000000</td>\n",
              "      <td>4008.510000</td>\n",
              "      <td>3326.000000</td>\n",
              "      <td>3823.000000</td>\n",
              "      <td>7.000000</td>\n",
              "      <td>17.000000</td>\n",
              "      <td>5.000000</td>\n",
              "      <td>41982.090000</td>\n",
              "      <td>45733.940000</td>\n",
              "      <td>38019.150000</td>\n",
              "      <td>32.000000</td>\n",
              "      <td>38.000000</td>\n",
              "      <td>23.000000</td>\n",
              "      <td>3944.710000</td>\n",
              "      <td>9.900000</td>\n",
              "      <td>45036.000000</td>\n",
              "      <td>111000.000000</td>\n",
              "      <td>13873.000000</td>\n",
              "      <td>2351.000000</td>\n",
              "      <td>31908.000000</td>\n",
              "      <td>30400.000000</td>\n",
              "      <td>31205.000000</td>\n",
              "      <td>1.000000</td>\n",
              "      <td>1.0</td>\n",
              "      <td>1.0</td>\n",
              "      <td>623.000000</td>\n",
              "      <td>6.000000</td>\n",
              "      <td>1.0</td>\n",
              "      <td>1.0</td>\n",
              "      <td>1.000000</td>\n",
              "      <td>1.000000</td>\n",
              "      <td>0.000000</td>\n",
              "      <td>1.000000</td>\n",
              "      <td>1.0</td>\n",
              "    </tr>\n",
              "    <tr>\n",
              "      <th>75%</th>\n",
              "      <td>53.000000</td>\n",
              "      <td>16.000000</td>\n",
              "      <td>400000.000000</td>\n",
              "      <td>21509.385000</td>\n",
              "      <td>14182.800000</td>\n",
              "      <td>18900.190000</td>\n",
              "      <td>18698.000000</td>\n",
              "      <td>44.000000</td>\n",
              "      <td>61.000000</td>\n",
              "      <td>43.000000</td>\n",
              "      <td>85225.940000</td>\n",
              "      <td>85665.000000</td>\n",
              "      <td>94569.360000</td>\n",
              "      <td>19.000000</td>\n",
              "      <td>21.000000</td>\n",
              "      <td>11.000000</td>\n",
              "      <td>9399.230000</td>\n",
              "      <td>7597.000000</td>\n",
              "      <td>8203.000000</td>\n",
              "      <td>25.000000</td>\n",
              "      <td>54.000000</td>\n",
              "      <td>21.000000</td>\n",
              "      <td>75747.385000</td>\n",
              "      <td>84429.975000</td>\n",
              "      <td>74171.495000</td>\n",
              "      <td>52.000000</td>\n",
              "      <td>73.000000</td>\n",
              "      <td>69.000000</td>\n",
              "      <td>9348.460000</td>\n",
              "      <td>18.000000</td>\n",
              "      <td>158135.200000</td>\n",
              "      <td>245000.000000</td>\n",
              "      <td>48950.000000</td>\n",
              "      <td>6885.000000</td>\n",
              "      <td>52559.000000</td>\n",
              "      <td>53206.500000</td>\n",
              "      <td>55223.000000</td>\n",
              "      <td>1.000000</td>\n",
              "      <td>1.0</td>\n",
              "      <td>1.0</td>\n",
              "      <td>799.000000</td>\n",
              "      <td>8.000000</td>\n",
              "      <td>1.0</td>\n",
              "      <td>1.0</td>\n",
              "      <td>1.000000</td>\n",
              "      <td>1.000000</td>\n",
              "      <td>1.000000</td>\n",
              "      <td>1.000000</td>\n",
              "      <td>1.0</td>\n",
              "    </tr>\n",
              "    <tr>\n",
              "      <th>max</th>\n",
              "      <td>64.000000</td>\n",
              "      <td>19.000000</td>\n",
              "      <td>522000.000000</td>\n",
              "      <td>40839.090000</td>\n",
              "      <td>26932.540000</td>\n",
              "      <td>36031.350000</td>\n",
              "      <td>101078.000000</td>\n",
              "      <td>67.000000</td>\n",
              "      <td>85.000000</td>\n",
              "      <td>83.000000</td>\n",
              "      <td>152525.000000</td>\n",
              "      <td>159446.500000</td>\n",
              "      <td>172236.000000</td>\n",
              "      <td>35.000000</td>\n",
              "      <td>58.000000</td>\n",
              "      <td>43.000000</td>\n",
              "      <td>18442.000000</td>\n",
              "      <td>15631.000000</td>\n",
              "      <td>16174.000000</td>\n",
              "      <td>50.000000</td>\n",
              "      <td>79.000000</td>\n",
              "      <td>44.000000</td>\n",
              "      <td>139822.610000</td>\n",
              "      <td>149232.320000</td>\n",
              "      <td>135039.890000</td>\n",
              "      <td>82.000000</td>\n",
              "      <td>103.000000</td>\n",
              "      <td>84.000000</td>\n",
              "      <td>20118.700000</td>\n",
              "      <td>30.800000</td>\n",
              "      <td>747610.000000</td>\n",
              "      <td>482147.000000</td>\n",
              "      <td>126001.000000</td>\n",
              "      <td>12299.000000</td>\n",
              "      <td>96640.000000</td>\n",
              "      <td>100113.000000</td>\n",
              "      <td>100500.000000</td>\n",
              "      <td>1.000000</td>\n",
              "      <td>1.0</td>\n",
              "      <td>1.0</td>\n",
              "      <td>883.000000</td>\n",
              "      <td>9.000000</td>\n",
              "      <td>1.0</td>\n",
              "      <td>1.0</td>\n",
              "      <td>1.000000</td>\n",
              "      <td>1.000000</td>\n",
              "      <td>1.000000</td>\n",
              "      <td>1.000000</td>\n",
              "      <td>1.0</td>\n",
              "    </tr>\n",
              "  </tbody>\n",
              "</table>\n",
              "</div>"
            ],
            "text/plain": [
              "                age  avg_days_between_transaction  ...  income_medium  loan_enq\n",
              "count  11995.000000                  11995.000000  ...   11995.000000   11995.0\n",
              "mean      43.430179                     11.043852  ...       0.639850       1.0\n",
              "std       12.183941                      5.336914  ...       0.480064       0.0\n",
              "min       29.000000                      3.000000  ...       0.000000       1.0\n",
              "25%       33.000000                      6.000000  ...       0.000000       1.0\n",
              "50%       40.000000                     11.000000  ...       1.000000       1.0\n",
              "75%       53.000000                     16.000000  ...       1.000000       1.0\n",
              "max       64.000000                     19.000000  ...       1.000000       1.0\n",
              "\n",
              "[8 rows x 49 columns]"
            ]
          },
          "metadata": {},
          "execution_count": 198
        }
      ]
    },
    {
      "cell_type": "code",
      "metadata": {
        "colab": {
          "base_uri": "https://localhost:8080/",
          "height": 433
        },
        "id": "6PfUDafGJrgR",
        "outputId": "3ea26d5e-b012-43a6-e4a4-0a0c6eb27ae0"
      },
      "source": [
        "#taking the same steps for df_predict\n",
        "for x in df_predict:\n",
        "  df_predict.loc[:,x] = mstats.winsorize(df_predict[x], limits=[0.10, 0.10])\n",
        "df_predict.describe()\n"
      ],
      "execution_count": 199,
      "outputs": [
        {
          "output_type": "stream",
          "name": "stderr",
          "text": [
            "/usr/local/lib/python3.7/dist-packages/pandas/core/indexing.py:1743: SettingWithCopyWarning: \n",
            "A value is trying to be set on a copy of a slice from a DataFrame.\n",
            "Try using .loc[row_indexer,col_indexer] = value instead\n",
            "\n",
            "See the caveats in the documentation: https://pandas.pydata.org/pandas-docs/stable/user_guide/indexing.html#returning-a-view-versus-a-copy\n",
            "  isetter(ilocs[0], value)\n"
          ]
        },
        {
          "output_type": "execute_result",
          "data": {
            "text/html": [
              "<div>\n",
              "<style scoped>\n",
              "    .dataframe tbody tr th:only-of-type {\n",
              "        vertical-align: middle;\n",
              "    }\n",
              "\n",
              "    .dataframe tbody tr th {\n",
              "        vertical-align: top;\n",
              "    }\n",
              "\n",
              "    .dataframe thead th {\n",
              "        text-align: right;\n",
              "    }\n",
              "</style>\n",
              "<table border=\"1\" class=\"dataframe\">\n",
              "  <thead>\n",
              "    <tr style=\"text-align: right;\">\n",
              "      <th></th>\n",
              "      <th>age</th>\n",
              "      <th>avg_days_between_transaction</th>\n",
              "      <th>card_lim</th>\n",
              "      <th>cc_cons_apr</th>\n",
              "      <th>cc_cons_jun</th>\n",
              "      <th>cc_cons_may</th>\n",
              "      <th>cc_count_apr</th>\n",
              "      <th>cc_count_jun</th>\n",
              "      <th>cc_count_may</th>\n",
              "      <th>credit_amount_apr</th>\n",
              "      <th>credit_amount_jun</th>\n",
              "      <th>credit_amount_may</th>\n",
              "      <th>credit_count_apr</th>\n",
              "      <th>credit_count_jun</th>\n",
              "      <th>credit_count_may</th>\n",
              "      <th>dc_cons_apr</th>\n",
              "      <th>dc_cons_jun</th>\n",
              "      <th>dc_cons_may</th>\n",
              "      <th>dc_count_apr</th>\n",
              "      <th>dc_count_jun</th>\n",
              "      <th>dc_count_may</th>\n",
              "      <th>debit_amount_apr</th>\n",
              "      <th>debit_amount_jun</th>\n",
              "      <th>debit_amount_may</th>\n",
              "      <th>debit_count_apr</th>\n",
              "      <th>debit_count_jun</th>\n",
              "      <th>debit_count_may</th>\n",
              "      <th>emi_active</th>\n",
              "      <th>emp_tenure_years</th>\n",
              "      <th>investment_1</th>\n",
              "      <th>investment_2</th>\n",
              "      <th>investment_3</th>\n",
              "      <th>investment_4</th>\n",
              "      <th>max_credit_amount_apr</th>\n",
              "      <th>max_credit_amount_jun</th>\n",
              "      <th>max_credit_amount_may</th>\n",
              "      <th>net_banking_flag</th>\n",
              "      <th>personal_loan_active</th>\n",
              "      <th>personal_loan_closed</th>\n",
              "      <th>region_code</th>\n",
              "      <th>tenure_with_bank</th>\n",
              "      <th>vehicle_loan_active</th>\n",
              "      <th>vehicle_loan_closed</th>\n",
              "      <th>account_type</th>\n",
              "      <th>gender</th>\n",
              "      <th>income_low</th>\n",
              "      <th>income_medium</th>\n",
              "      <th>loan_enq</th>\n",
              "    </tr>\n",
              "  </thead>\n",
              "  <tbody>\n",
              "    <tr>\n",
              "      <th>count</th>\n",
              "      <td>4993.000000</td>\n",
              "      <td>4993.000000</td>\n",
              "      <td>4993.000000</td>\n",
              "      <td>4993.000000</td>\n",
              "      <td>4993.000000</td>\n",
              "      <td>4993.000000</td>\n",
              "      <td>4993.000000</td>\n",
              "      <td>4993.000000</td>\n",
              "      <td>4993.000000</td>\n",
              "      <td>4993.000000</td>\n",
              "      <td>4993.000000</td>\n",
              "      <td>4993.000000</td>\n",
              "      <td>4993.000000</td>\n",
              "      <td>4993.000000</td>\n",
              "      <td>4993.000000</td>\n",
              "      <td>4993.000000</td>\n",
              "      <td>4993.000000</td>\n",
              "      <td>4993.000000</td>\n",
              "      <td>4993.000000</td>\n",
              "      <td>4993.000000</td>\n",
              "      <td>4993.000000</td>\n",
              "      <td>4993.000000</td>\n",
              "      <td>4993.000000</td>\n",
              "      <td>4993.000000</td>\n",
              "      <td>4993.000000</td>\n",
              "      <td>4993.000000</td>\n",
              "      <td>4993.000000</td>\n",
              "      <td>4993.000000</td>\n",
              "      <td>4993.000000</td>\n",
              "      <td>4993.000000</td>\n",
              "      <td>4993.000000</td>\n",
              "      <td>4993.000000</td>\n",
              "      <td>4993.000000</td>\n",
              "      <td>4993.000000</td>\n",
              "      <td>4993.000000</td>\n",
              "      <td>4993.000000</td>\n",
              "      <td>4993.000000</td>\n",
              "      <td>4993.0</td>\n",
              "      <td>4993.0</td>\n",
              "      <td>4993.000000</td>\n",
              "      <td>4993.000000</td>\n",
              "      <td>4993.0</td>\n",
              "      <td>4993.0</td>\n",
              "      <td>4993.000000</td>\n",
              "      <td>4993.000000</td>\n",
              "      <td>4993.000000</td>\n",
              "      <td>4993.000000</td>\n",
              "      <td>4993.0</td>\n",
              "    </tr>\n",
              "    <tr>\n",
              "      <th>mean</th>\n",
              "      <td>43.266773</td>\n",
              "      <td>10.929501</td>\n",
              "      <td>275425.858402</td>\n",
              "      <td>14241.275637</td>\n",
              "      <td>9458.192182</td>\n",
              "      <td>12414.279435</td>\n",
              "      <td>22.705588</td>\n",
              "      <td>38.203485</td>\n",
              "      <td>29.694973</td>\n",
              "      <td>60724.977567</td>\n",
              "      <td>62346.329243</td>\n",
              "      <td>65653.230719</td>\n",
              "      <td>10.966753</td>\n",
              "      <td>16.072301</td>\n",
              "      <td>10.972161</td>\n",
              "      <td>6164.686481</td>\n",
              "      <td>5094.125358</td>\n",
              "      <td>5647.964616</td>\n",
              "      <td>16.144602</td>\n",
              "      <td>30.226918</td>\n",
              "      <td>13.152814</td>\n",
              "      <td>55451.020767</td>\n",
              "      <td>61302.034482</td>\n",
              "      <td>51442.084624</td>\n",
              "      <td>33.885840</td>\n",
              "      <td>43.937913</td>\n",
              "      <td>36.416183</td>\n",
              "      <td>6290.255514</td>\n",
              "      <td>12.828540</td>\n",
              "      <td>146538.413854</td>\n",
              "      <td>166787.490961</td>\n",
              "      <td>31786.521762</td>\n",
              "      <td>2869.513323</td>\n",
              "      <td>40075.977032</td>\n",
              "      <td>39982.723649</td>\n",
              "      <td>43381.783851</td>\n",
              "      <td>0.712998</td>\n",
              "      <td>1.0</td>\n",
              "      <td>1.0</td>\n",
              "      <td>597.823954</td>\n",
              "      <td>5.452634</td>\n",
              "      <td>1.0</td>\n",
              "      <td>1.0</td>\n",
              "      <td>0.839575</td>\n",
              "      <td>0.868416</td>\n",
              "      <td>0.284799</td>\n",
              "      <td>0.632686</td>\n",
              "      <td>1.0</td>\n",
              "    </tr>\n",
              "    <tr>\n",
              "      <th>std</th>\n",
              "      <td>12.265384</td>\n",
              "      <td>5.140595</td>\n",
              "      <td>163953.256598</td>\n",
              "      <td>12275.330259</td>\n",
              "      <td>7995.949754</td>\n",
              "      <td>10963.126200</td>\n",
              "      <td>23.314681</td>\n",
              "      <td>28.024955</td>\n",
              "      <td>26.912721</td>\n",
              "      <td>43108.102337</td>\n",
              "      <td>47352.263121</td>\n",
              "      <td>51111.505017</td>\n",
              "      <td>12.020253</td>\n",
              "      <td>16.943504</td>\n",
              "      <td>14.132466</td>\n",
              "      <td>5811.795900</td>\n",
              "      <td>4776.423856</td>\n",
              "      <td>5071.489847</td>\n",
              "      <td>17.596663</td>\n",
              "      <td>27.918939</td>\n",
              "      <td>14.561956</td>\n",
              "      <td>41569.339952</td>\n",
              "      <td>45592.163718</td>\n",
              "      <td>39391.773624</td>\n",
              "      <td>25.581604</td>\n",
              "      <td>33.098758</td>\n",
              "      <td>29.438479</td>\n",
              "      <td>6110.618615</td>\n",
              "      <td>9.520577</td>\n",
              "      <td>226956.186848</td>\n",
              "      <td>154383.980311</td>\n",
              "      <td>39896.877594</td>\n",
              "      <td>5671.900797</td>\n",
              "      <td>25542.689655</td>\n",
              "      <td>27906.013575</td>\n",
              "      <td>30567.552902</td>\n",
              "      <td>0.452408</td>\n",
              "      <td>0.0</td>\n",
              "      <td>0.0</td>\n",
              "      <td>207.971724</td>\n",
              "      <td>2.884358</td>\n",
              "      <td>0.0</td>\n",
              "      <td>0.0</td>\n",
              "      <td>0.367036</td>\n",
              "      <td>0.338072</td>\n",
              "      <td>0.451364</td>\n",
              "      <td>0.482121</td>\n",
              "      <td>0.0</td>\n",
              "    </tr>\n",
              "    <tr>\n",
              "      <th>min</th>\n",
              "      <td>29.000000</td>\n",
              "      <td>3.000000</td>\n",
              "      <td>47000.000000</td>\n",
              "      <td>1866.320000</td>\n",
              "      <td>1344.000000</td>\n",
              "      <td>1636.400000</td>\n",
              "      <td>2.000000</td>\n",
              "      <td>4.000000</td>\n",
              "      <td>3.000000</td>\n",
              "      <td>14201.000000</td>\n",
              "      <td>11305.000000</td>\n",
              "      <td>12664.000000</td>\n",
              "      <td>1.000000</td>\n",
              "      <td>2.000000</td>\n",
              "      <td>1.000000</td>\n",
              "      <td>614.000000</td>\n",
              "      <td>612.400000</td>\n",
              "      <td>690.480000</td>\n",
              "      <td>1.000000</td>\n",
              "      <td>1.000000</td>\n",
              "      <td>1.000000</td>\n",
              "      <td>10124.000000</td>\n",
              "      <td>12190.700000</td>\n",
              "      <td>10569.750000</td>\n",
              "      <td>4.000000</td>\n",
              "      <td>7.000000</td>\n",
              "      <td>6.000000</td>\n",
              "      <td>470.880000</td>\n",
              "      <td>2.600000</td>\n",
              "      <td>690.000000</td>\n",
              "      <td>11897.000000</td>\n",
              "      <td>768.000000</td>\n",
              "      <td>-5942.000000</td>\n",
              "      <td>13906.000000</td>\n",
              "      <td>10998.000000</td>\n",
              "      <td>12313.000000</td>\n",
              "      <td>0.000000</td>\n",
              "      <td>1.0</td>\n",
              "      <td>1.0</td>\n",
              "      <td>269.000000</td>\n",
              "      <td>1.000000</td>\n",
              "      <td>1.0</td>\n",
              "      <td>1.0</td>\n",
              "      <td>0.000000</td>\n",
              "      <td>0.000000</td>\n",
              "      <td>0.000000</td>\n",
              "      <td>0.000000</td>\n",
              "      <td>1.0</td>\n",
              "    </tr>\n",
              "    <tr>\n",
              "      <th>25%</th>\n",
              "      <td>33.000000</td>\n",
              "      <td>6.000000</td>\n",
              "      <td>124000.000000</td>\n",
              "      <td>4286.860000</td>\n",
              "      <td>2996.310000</td>\n",
              "      <td>3619.000000</td>\n",
              "      <td>5.000000</td>\n",
              "      <td>10.000000</td>\n",
              "      <td>8.000000</td>\n",
              "      <td>26380.000000</td>\n",
              "      <td>24973.000000</td>\n",
              "      <td>24593.000000</td>\n",
              "      <td>2.000000</td>\n",
              "      <td>4.000000</td>\n",
              "      <td>2.000000</td>\n",
              "      <td>1559.000000</td>\n",
              "      <td>1390.000000</td>\n",
              "      <td>1582.000000</td>\n",
              "      <td>2.000000</td>\n",
              "      <td>4.000000</td>\n",
              "      <td>2.000000</td>\n",
              "      <td>23097.500000</td>\n",
              "      <td>25876.800000</td>\n",
              "      <td>20526.000000</td>\n",
              "      <td>11.000000</td>\n",
              "      <td>12.000000</td>\n",
              "      <td>11.000000</td>\n",
              "      <td>1529.960000</td>\n",
              "      <td>5.100000</td>\n",
              "      <td>5468.000000</td>\n",
              "      <td>39833.190000</td>\n",
              "      <td>2214.000000</td>\n",
              "      <td>0.000000</td>\n",
              "      <td>20213.000000</td>\n",
              "      <td>18585.000000</td>\n",
              "      <td>20444.000000</td>\n",
              "      <td>0.000000</td>\n",
              "      <td>1.0</td>\n",
              "      <td>1.0</td>\n",
              "      <td>428.000000</td>\n",
              "      <td>3.000000</td>\n",
              "      <td>1.0</td>\n",
              "      <td>1.0</td>\n",
              "      <td>1.000000</td>\n",
              "      <td>1.000000</td>\n",
              "      <td>0.000000</td>\n",
              "      <td>0.000000</td>\n",
              "      <td>1.0</td>\n",
              "    </tr>\n",
              "    <tr>\n",
              "      <th>50%</th>\n",
              "      <td>39.000000</td>\n",
              "      <td>11.000000</td>\n",
              "      <td>282000.000000</td>\n",
              "      <td>10028.000000</td>\n",
              "      <td>6667.000000</td>\n",
              "      <td>8416.000000</td>\n",
              "      <td>10.000000</td>\n",
              "      <td>35.000000</td>\n",
              "      <td>23.000000</td>\n",
              "      <td>46505.000000</td>\n",
              "      <td>46782.000000</td>\n",
              "      <td>48058.000000</td>\n",
              "      <td>4.000000</td>\n",
              "      <td>7.000000</td>\n",
              "      <td>4.000000</td>\n",
              "      <td>3879.000000</td>\n",
              "      <td>3302.000000</td>\n",
              "      <td>3740.000000</td>\n",
              "      <td>7.000000</td>\n",
              "      <td>18.000000</td>\n",
              "      <td>6.000000</td>\n",
              "      <td>41320.720000</td>\n",
              "      <td>45471.430000</td>\n",
              "      <td>37761.470000</td>\n",
              "      <td>29.000000</td>\n",
              "      <td>36.000000</td>\n",
              "      <td>23.000000</td>\n",
              "      <td>3852.740000</td>\n",
              "      <td>9.900000</td>\n",
              "      <td>42460.609100</td>\n",
              "      <td>109000.000000</td>\n",
              "      <td>14754.000000</td>\n",
              "      <td>2351.000000</td>\n",
              "      <td>31698.000000</td>\n",
              "      <td>29867.000000</td>\n",
              "      <td>31898.000000</td>\n",
              "      <td>1.000000</td>\n",
              "      <td>1.0</td>\n",
              "      <td>1.0</td>\n",
              "      <td>623.000000</td>\n",
              "      <td>5.000000</td>\n",
              "      <td>1.0</td>\n",
              "      <td>1.0</td>\n",
              "      <td>1.000000</td>\n",
              "      <td>1.000000</td>\n",
              "      <td>0.000000</td>\n",
              "      <td>1.000000</td>\n",
              "      <td>1.0</td>\n",
              "    </tr>\n",
              "    <tr>\n",
              "      <th>75%</th>\n",
              "      <td>53.000000</td>\n",
              "      <td>16.000000</td>\n",
              "      <td>402000.000000</td>\n",
              "      <td>20660.260000</td>\n",
              "      <td>14078.975000</td>\n",
              "      <td>17844.860000</td>\n",
              "      <td>44.000000</td>\n",
              "      <td>61.000000</td>\n",
              "      <td>43.000000</td>\n",
              "      <td>85224.000000</td>\n",
              "      <td>87789.120000</td>\n",
              "      <td>94042.000000</td>\n",
              "      <td>19.000000</td>\n",
              "      <td>21.000000</td>\n",
              "      <td>10.000000</td>\n",
              "      <td>9354.650000</td>\n",
              "      <td>7153.000000</td>\n",
              "      <td>8398.000000</td>\n",
              "      <td>25.000000</td>\n",
              "      <td>54.000000</td>\n",
              "      <td>21.000000</td>\n",
              "      <td>79441.170000</td>\n",
              "      <td>87480.500000</td>\n",
              "      <td>72846.850000</td>\n",
              "      <td>52.000000</td>\n",
              "      <td>73.000000</td>\n",
              "      <td>69.000000</td>\n",
              "      <td>9372.410000</td>\n",
              "      <td>18.200000</td>\n",
              "      <td>158135.200000</td>\n",
              "      <td>248710.000000</td>\n",
              "      <td>48950.000000</td>\n",
              "      <td>6885.000000</td>\n",
              "      <td>52341.000000</td>\n",
              "      <td>53671.000000</td>\n",
              "      <td>57435.000000</td>\n",
              "      <td>1.000000</td>\n",
              "      <td>1.0</td>\n",
              "      <td>1.0</td>\n",
              "      <td>799.000000</td>\n",
              "      <td>8.000000</td>\n",
              "      <td>1.0</td>\n",
              "      <td>1.0</td>\n",
              "      <td>1.000000</td>\n",
              "      <td>1.000000</td>\n",
              "      <td>1.000000</td>\n",
              "      <td>1.000000</td>\n",
              "      <td>1.0</td>\n",
              "    </tr>\n",
              "    <tr>\n",
              "      <th>max</th>\n",
              "      <td>64.000000</td>\n",
              "      <td>18.000000</td>\n",
              "      <td>524000.000000</td>\n",
              "      <td>40026.430000</td>\n",
              "      <td>26166.960000</td>\n",
              "      <td>35512.330000</td>\n",
              "      <td>67.000000</td>\n",
              "      <td>84.000000</td>\n",
              "      <td>83.000000</td>\n",
              "      <td>148889.000000</td>\n",
              "      <td>161034.000000</td>\n",
              "      <td>172725.000000</td>\n",
              "      <td>35.000000</td>\n",
              "      <td>49.000000</td>\n",
              "      <td>43.000000</td>\n",
              "      <td>18478.750000</td>\n",
              "      <td>15620.690000</td>\n",
              "      <td>16242.000000</td>\n",
              "      <td>50.000000</td>\n",
              "      <td>79.000000</td>\n",
              "      <td>44.000000</td>\n",
              "      <td>141200.750000</td>\n",
              "      <td>154679.360000</td>\n",
              "      <td>134288.650000</td>\n",
              "      <td>79.000000</td>\n",
              "      <td>103.000000</td>\n",
              "      <td>84.000000</td>\n",
              "      <td>19364.960000</td>\n",
              "      <td>32.200000</td>\n",
              "      <td>720551.400000</td>\n",
              "      <td>470000.000000</td>\n",
              "      <td>126001.000000</td>\n",
              "      <td>12299.000000</td>\n",
              "      <td>94812.000000</td>\n",
              "      <td>100113.000000</td>\n",
              "      <td>107835.000000</td>\n",
              "      <td>1.000000</td>\n",
              "      <td>1.0</td>\n",
              "      <td>1.0</td>\n",
              "      <td>883.000000</td>\n",
              "      <td>10.000000</td>\n",
              "      <td>1.0</td>\n",
              "      <td>1.0</td>\n",
              "      <td>1.000000</td>\n",
              "      <td>1.000000</td>\n",
              "      <td>1.000000</td>\n",
              "      <td>1.000000</td>\n",
              "      <td>1.0</td>\n",
              "    </tr>\n",
              "  </tbody>\n",
              "</table>\n",
              "</div>"
            ],
            "text/plain": [
              "               age  avg_days_between_transaction  ...  income_medium  loan_enq\n",
              "count  4993.000000                   4993.000000  ...    4993.000000    4993.0\n",
              "mean     43.266773                     10.929501  ...       0.632686       1.0\n",
              "std      12.265384                      5.140595  ...       0.482121       0.0\n",
              "min      29.000000                      3.000000  ...       0.000000       1.0\n",
              "25%      33.000000                      6.000000  ...       0.000000       1.0\n",
              "50%      39.000000                     11.000000  ...       1.000000       1.0\n",
              "75%      53.000000                     16.000000  ...       1.000000       1.0\n",
              "max      64.000000                     18.000000  ...       1.000000       1.0\n",
              "\n",
              "[8 rows x 48 columns]"
            ]
          },
          "metadata": {},
          "execution_count": 199
        }
      ]
    },
    {
      "cell_type": "markdown",
      "metadata": {
        "id": "nY3Bk_QdQJ96"
      },
      "source": [
        "## 8. Splitting df_train in df_train_x and df_train_y"
      ]
    },
    {
      "cell_type": "code",
      "metadata": {
        "id": "niUD1F9N8xgJ"
      },
      "source": [
        "df_train_x = df_train[df_train.columns.difference(['cc_cons_target'])]\n",
        "\n",
        "\n",
        "df_train_y = df_train[['cc_cons_target']]\n",
        "df_train_y.columns=['target']"
      ],
      "execution_count": 200,
      "outputs": []
    },
    {
      "cell_type": "markdown",
      "metadata": {
        "id": "ssmBulV4Bwqm"
      },
      "source": [
        "### Normalizing target variable\n",
        "our target variable should be normalized. Thus we will log transform  our train_y"
      ]
    },
    {
      "cell_type": "code",
      "metadata": {
        "id": "e8P4EX3dRA4q",
        "colab": {
          "base_uri": "https://localhost:8080/",
          "height": 284
        },
        "outputId": "f38b3de5-a6d6-41ab-cd77-b161c82c2da7"
      },
      "source": [
        "df_train_y_log = np.log(df_train_y)\n",
        "df_train_y_log.plot(kind='hist',bins=20)"
      ],
      "execution_count": 220,
      "outputs": [
        {
          "output_type": "execute_result",
          "data": {
            "text/plain": [
              "<matplotlib.axes._subplots.AxesSubplot at 0x7f207c1d77d0>"
            ]
          },
          "metadata": {},
          "execution_count": 220
        },
        {
          "output_type": "display_data",
          "data": {
            "image/png": "[encoded data removed]",
            "text/plain": [
              "<Figure size 432x288 with 1 Axes>"
            ]
          },
          "metadata": {
            "needs_background": "light"
          }
        }
      ]
    },
    {
      "cell_type": "code",
      "metadata": {
        "colab": {
          "base_uri": "https://localhost:8080/",
          "height": 341
        },
        "id": "jAXH4FFbFopU",
        "outputId": "37b3e7e9-bb87-425f-ce61-615c5a7332eb"
      },
      "source": [
        "sns.distplot(df_train_y_log)"
      ],
      "execution_count": 221,
      "outputs": [
        {
          "output_type": "stream",
          "name": "stderr",
          "text": [
            "/usr/local/lib/python3.7/dist-packages/seaborn/distributions.py:2557: FutureWarning: `distplot` is a deprecated function and will be removed in a future version. Please adapt your code to use either `displot` (a figure-level function with similar flexibility) or `histplot` (an axes-level function for histograms).\n",
            "  warnings.warn(msg, FutureWarning)\n"
          ]
        },
        {
          "output_type": "execute_result",
          "data": {
            "text/plain": [
              "<matplotlib.axes._subplots.AxesSubplot at 0x7f207c4f9690>"
            ]
          },
          "metadata": {},
          "execution_count": 221
        },
        {
          "output_type": "display_data",
          "data": {
            "image/png": "[encoded data removed]",
            "text/plain": [
              "<Figure size 432x288 with 1 Axes>"
            ]
          },
          "metadata": {
            "needs_background": "light"
          }
        }
      ]
    },
    {
      "cell_type": "code",
      "metadata": {
        "colab": {
          "base_uri": "https://localhost:8080/",
          "height": 341
        },
        "id": "PvDZ7x8U-gxh",
        "outputId": "bbd84118-09d9-4a85-daf7-9cbae546ffcd"
      },
      "source": [
        "# from sklearn.preprocessing import StandardScaler\n",
        "\n",
        "# std_scaler = StandardScaler()\n",
        "# aa = std_scaler.fit_transform(df_train_y)\n",
        "\n",
        "# # sns.distplot(aa)\n",
        "# sns.distplot(aa)"
      ],
      "execution_count": 127,
      "outputs": [
        {
          "output_type": "stream",
          "name": "stderr",
          "text": [
            "/usr/local/lib/python3.7/dist-packages/seaborn/distributions.py:2557: FutureWarning: `distplot` is a deprecated function and will be removed in a future version. Please adapt your code to use either `displot` (a figure-level function with similar flexibility) or `histplot` (an axes-level function for histograms).\n",
            "  warnings.warn(msg, FutureWarning)\n"
          ]
        },
        {
          "output_type": "execute_result",
          "data": {
            "text/plain": [
              "<matplotlib.axes._subplots.AxesSubplot at 0x7f208ffd3110>"
            ]
          },
          "metadata": {},
          "execution_count": 127
        },
        {
          "output_type": "display_data",
          "data": {
            "image/png": "[encoded data removed]",
            "text/plain": [
              "<Figure size 432x288 with 1 Axes>"
            ]
          },
          "metadata": {
            "needs_background": "light"
          }
        }
      ]
    },
    {
      "cell_type": "markdown",
      "metadata": {
        "id": "zNcFPfbORCS9"
      },
      "source": [
        "## 9\\. Running OLS model on our dataset"
      ]
    },
    {
      "cell_type": "code",
      "metadata": {
        "colab": {
          "base_uri": "https://localhost:8080/"
        },
        "id": "C4TWxjDRRGtp",
        "outputId": "d1d0a62c-6fd0-4cb8-e696-1dbe03db930d"
      },
      "source": [
        "### OLS regression\n",
        "import statsmodels.api as sm\n",
        "\n",
        "model = sm.OLS(df_train_y,df_train_x)\n",
        "\n",
        "model_fit = model.fit()\n",
        "\n",
        "print(model_fit.summary())"
      ],
      "execution_count": 222,
      "outputs": [
        {
          "output_type": "stream",
          "name": "stdout",
          "text": [
            "                            OLS Regression Results                            \n",
            "==============================================================================\n",
            "Dep. Variable:                 target   R-squared:                       0.002\n",
            "Model:                            OLS   Adj. R-squared:                 -0.001\n",
            "Method:                 Least Squares   F-statistic:                    0.7166\n",
            "Date:                Fri, 03 Sep 2021   Prob (F-statistic):              0.909\n",
            "Time:                        19:16:20   Log-Likelihood:            -1.4055e+05\n",
            "No. Observations:               11995   AIC:                         2.812e+05\n",
            "Df Residuals:                   11954   BIC:                         2.815e+05\n",
            "Df Model:                          40                                         \n",
            "Covariance Type:            nonrobust                                         \n",
            "================================================================================================\n",
            "                                   coef    std err          t      P>|t|      [0.025      0.975]\n",
            "------------------------------------------------------------------------------------------------\n",
            "account_type                   907.0607    756.441      1.199      0.231    -575.686    2389.808\n",
            "avg_days_between_transaction   -10.1098     50.985     -0.198      0.843    -110.049      89.829\n",
            "card_lim                        -0.0002      0.002     -0.114      0.909      -0.003       0.003\n",
            "cc_cons_apr                      0.0248      0.022      1.150      0.250      -0.017       0.067\n",
            "cc_cons_jun                      0.0286      0.033      0.871      0.384      -0.036       0.093\n",
            "cc_cons_may                      0.0498      0.024      2.062      0.039       0.002       0.097\n",
            "cc_count_apr                    -8.3733     11.703     -0.715      0.474     -31.313      14.567\n",
            "cc_count_jun                     0.1633      9.560      0.017      0.986     -18.576      18.903\n",
            "cc_count_may                     0.4363     10.161      0.043      0.966     -19.481      20.353\n",
            "credit_amount_apr               -0.0023      0.006     -0.371      0.711      -0.014       0.010\n",
            "credit_amount_jun                0.0034      0.006      0.592      0.554      -0.008       0.015\n",
            "credit_amount_may               -0.0073      0.005     -1.389      0.165      -0.018       0.003\n",
            "credit_count_apr               -18.9182     22.488     -0.841      0.400     -62.998      25.162\n",
            "credit_count_jun                -7.9000     14.535     -0.544      0.587     -36.391      20.591\n",
            "credit_count_may                -1.3509     18.958     -0.071      0.943     -38.511      35.809\n",
            "dc_cons_apr                     -0.0136      0.047     -0.290      0.772      -0.106       0.079\n",
            "dc_cons_jun                     -0.0139      0.056     -0.247      0.805      -0.124       0.096\n",
            "dc_cons_may                     -0.0977      0.055     -1.787      0.074      -0.205       0.009\n",
            "dc_count_apr                    -2.2580     15.222     -0.148      0.882     -32.097      27.580\n",
            "dc_count_jun                     3.7696      9.864      0.382      0.702     -15.565      23.105\n",
            "dc_count_may                    -3.6546     19.049     -0.192      0.848     -40.994      33.685\n",
            "debit_amount_apr                 0.0044      0.007      0.655      0.512      -0.009       0.017\n",
            "debit_amount_jun                -0.0130      0.006     -2.091      0.037      -0.025      -0.001\n",
            "debit_amount_may                 0.0007      0.007      0.106      0.916      -0.013       0.014\n",
            "debit_count_apr                 -9.4326     10.391     -0.908      0.364     -29.800      10.935\n",
            "debit_count_jun                 -6.2868      8.207     -0.766      0.444     -22.374       9.800\n",
            "debit_count_may                  7.0159      9.232      0.760      0.447     -11.081      25.112\n",
            "emi_active                      -0.0190      0.043     -0.443      0.658      -0.103       0.065\n",
            "emp_tenure_years               -22.5846     29.915     -0.755      0.450     -81.222      36.053\n",
            "income_low                     793.0550   1088.470      0.729      0.466   -1340.522    2926.632\n",
            "income_medium                   50.8651   1017.623      0.050      0.960   -1943.842    2045.572\n",
            "investment_1                     0.0002      0.001      0.132      0.895      -0.002       0.002\n",
            "investment_2                    -0.0014      0.002     -0.836      0.403      -0.005       0.002\n",
            "investment_3                    -0.0088      0.007     -1.287      0.198      -0.022       0.005\n",
            "investment_4                    -0.0006      0.049     -0.011      0.991      -0.096       0.095\n",
            "loan_enq                      4861.5098    498.575      9.751      0.000    3884.222    5838.798\n",
            "max_credit_amount_apr           -0.0022      0.010     -0.210      0.834      -0.023       0.018\n",
            "max_credit_amount_jun            0.0097      0.010      0.985      0.325      -0.010       0.029\n",
            "max_credit_amount_may            0.0040      0.010      0.421      0.674      -0.015       0.023\n",
            "personal_loan_active          4861.5098    498.575      9.751      0.000    3884.222    5838.798\n",
            "personal_loan_closed          4861.5098    498.575      9.751      0.000    3884.222    5838.798\n",
            "region_code                     -0.0029      1.307     -0.002      0.998      -2.565       2.559\n",
            "tenure_with_bank                76.0243    105.958      0.717      0.473    -131.671     283.720\n",
            "vehicle_loan_active           4861.5098    498.575      9.751      0.000    3884.222    5838.798\n",
            "vehicle_loan_closed           4861.5098    498.575      9.751      0.000    3884.222    5838.798\n",
            "==============================================================================\n",
            "Omnibus:                     4253.574   Durbin-Watson:                   1.974\n",
            "Prob(Omnibus):                  0.000   Jarque-Bera (JB):            11004.279\n",
            "Skew:                           2.017   Prob(JB):                         0.00\n",
            "Kurtosis:                       5.396   Cond. No.                     1.18e+16\n",
            "==============================================================================\n",
            "\n",
            "Warnings:\n",
            "[1] Standard Errors assume that the covariance matrix of the errors is correctly specified.\n",
            "[2] The smallest eigenvalue is 1.56e-17. This might indicate that there are\n",
            "strong multicollinearity problems or that the design matrix is singular.\n"
          ]
        }
      ]
    },
    {
      "cell_type": "markdown",
      "metadata": {
        "id": "Lm4nHzdVRdzs"
      },
      "source": [
        "#### Result of OLS regression model\n",
        "We can see from the above summary that many of the features have a p-value greter than that of 0.05. \n",
        "\n",
        "Thus we will remove those features from our model and rerun the OLS model"
      ]
    },
    {
      "cell_type": "code",
      "metadata": {
        "id": "4USkiZdGRW-z"
      },
      "source": [
        "#removing the top 5 features on the basis of p_value\n",
        "remove_cols = ['dc_count','Total_debit_amount','net_banking_flag','age','gender']\n",
        "new_cols = df_train_x.columns.difference(remove_cols)\n",
        "df_train_x = df_train_x[new_cols]\n"
      ],
      "execution_count": 223,
      "outputs": []
    },
    {
      "cell_type": "markdown",
      "metadata": {
        "id": "IBCbB8e6Ufc0"
      },
      "source": [
        "## VIF\n",
        "- VIF is used to remove multicollinearity from the dataset. \n",
        "- VIF = 1/(1-R^2)\n",
        "\n",
        "- It computes the R-sq value for every feature against all other features. The more a feature is collinear with other features , more the VIF score is.\n",
        "- VIF starts at 1 and has no upper limit\n",
        "- VIF = 1, no correlation between the independent variable and the other variables\n",
        "- VIF exceeding 5 or 10 indicates high multicollinearity between this independent variable and the others"
      ]
    },
    {
      "cell_type": "code",
      "metadata": {
        "colab": {
          "base_uri": "https://localhost:8080/",
          "height": 1000
        },
        "id": "47RNf4YuUhYy",
        "outputId": "f89afef7-2dde-45e3-fd53-9a8793309df1"
      },
      "source": [
        "#R^2 value is determined to find out how well an independent variable is described by the other independent variables. \n",
        "#A high value of R^2 means that the variable is highly correlated with the other variables.\n",
        "#So, the closer the R^2 value to 1, the higher the value of VIF and\n",
        "# the higher the multicollinearity with the particular independent variable.\n",
        "\n",
        "\n",
        "# vif = 1/(1-r^2)\n",
        "\n",
        "\n",
        "# VIF starts at 1 and has no upper limit\n",
        "# VIF = 1, no correlation between the independent variable and the other variables\n",
        "# VIF exceeding 5 or 10 indicates high multicollinearity between this independent variable and the others\n",
        "\n",
        "\n",
        "\n",
        "\n",
        "# Import library for VIF\n",
        "from statsmodels.stats.outliers_influence import variance_inflation_factor\n",
        "\n",
        "def calc_vif(X):\n",
        "\n",
        "    # Calculating VIF\n",
        "    vif = pd.DataFrame()\n",
        "    vif[\"variables\"] = X.columns\n",
        "    vif[\"VIF\"] = [variance_inflation_factor(X.values, i) for i in range(X.shape[1])]\n",
        "\n",
        "    return(vif)\n",
        "\n",
        "\n",
        "X = df_train_x\n",
        "calc_vif(X)\n",
        "\n",
        "\n",
        "\n",
        "#Fixing Multicollinearity\n",
        "\n",
        "# #Dropping one of the correlated features will help in bringing down the multicollinearity between correlated features:\n",
        "# X = df.drop(['Age','Salary'],axis=1)\n",
        "# calc_vif(X)"
      ],
      "execution_count": 224,
      "outputs": [
        {
          "output_type": "stream",
          "name": "stderr",
          "text": [
            "/usr/local/lib/python3.7/dist-packages/statsmodels/regression/linear_model.py:1636: RuntimeWarning: divide by zero encountered in double_scalars\n",
            "  return 1 - self.ssr/self.centered_tss\n"
          ]
        },
        {
          "output_type": "execute_result",
          "data": {
            "text/html": [
              "<div>\n",
              "<style scoped>\n",
              "    .dataframe tbody tr th:only-of-type {\n",
              "        vertical-align: middle;\n",
              "    }\n",
              "\n",
              "    .dataframe tbody tr th {\n",
              "        vertical-align: top;\n",
              "    }\n",
              "\n",
              "    .dataframe thead th {\n",
              "        text-align: right;\n",
              "    }\n",
              "</style>\n",
              "<table border=\"1\" class=\"dataframe\">\n",
              "  <thead>\n",
              "    <tr style=\"text-align: right;\">\n",
              "      <th></th>\n",
              "      <th>variables</th>\n",
              "      <th>VIF</th>\n",
              "    </tr>\n",
              "  </thead>\n",
              "  <tbody>\n",
              "    <tr>\n",
              "      <th>0</th>\n",
              "      <td>account_type</td>\n",
              "      <td>1.002300</td>\n",
              "    </tr>\n",
              "    <tr>\n",
              "      <th>1</th>\n",
              "      <td>avg_days_between_transaction</td>\n",
              "      <td>1.003494</td>\n",
              "    </tr>\n",
              "    <tr>\n",
              "      <th>2</th>\n",
              "      <td>card_lim</td>\n",
              "      <td>1.002805</td>\n",
              "    </tr>\n",
              "    <tr>\n",
              "      <th>3</th>\n",
              "      <td>cc_cons_apr</td>\n",
              "      <td>1.004466</td>\n",
              "    </tr>\n",
              "    <tr>\n",
              "      <th>4</th>\n",
              "      <td>cc_cons_jun</td>\n",
              "      <td>1.004309</td>\n",
              "    </tr>\n",
              "    <tr>\n",
              "      <th>5</th>\n",
              "      <td>cc_cons_may</td>\n",
              "      <td>1.004446</td>\n",
              "    </tr>\n",
              "    <tr>\n",
              "      <th>6</th>\n",
              "      <td>cc_count_apr</td>\n",
              "      <td>1.002893</td>\n",
              "    </tr>\n",
              "    <tr>\n",
              "      <th>7</th>\n",
              "      <td>cc_count_jun</td>\n",
              "      <td>1.003859</td>\n",
              "    </tr>\n",
              "    <tr>\n",
              "      <th>8</th>\n",
              "      <td>cc_count_may</td>\n",
              "      <td>1.003221</td>\n",
              "    </tr>\n",
              "    <tr>\n",
              "      <th>9</th>\n",
              "      <td>credit_amount_apr</td>\n",
              "      <td>1.002050</td>\n",
              "    </tr>\n",
              "    <tr>\n",
              "      <th>10</th>\n",
              "      <td>credit_amount_jun</td>\n",
              "      <td>1.002792</td>\n",
              "    </tr>\n",
              "    <tr>\n",
              "      <th>11</th>\n",
              "      <td>credit_amount_may</td>\n",
              "      <td>1.002766</td>\n",
              "    </tr>\n",
              "    <tr>\n",
              "      <th>12</th>\n",
              "      <td>credit_count_apr</td>\n",
              "      <td>1.003006</td>\n",
              "    </tr>\n",
              "    <tr>\n",
              "      <th>13</th>\n",
              "      <td>credit_count_jun</td>\n",
              "      <td>1.003564</td>\n",
              "    </tr>\n",
              "    <tr>\n",
              "      <th>14</th>\n",
              "      <td>credit_count_may</td>\n",
              "      <td>1.002363</td>\n",
              "    </tr>\n",
              "    <tr>\n",
              "      <th>15</th>\n",
              "      <td>dc_cons_apr</td>\n",
              "      <td>1.002539</td>\n",
              "    </tr>\n",
              "    <tr>\n",
              "      <th>16</th>\n",
              "      <td>dc_cons_jun</td>\n",
              "      <td>1.002049</td>\n",
              "    </tr>\n",
              "    <tr>\n",
              "      <th>17</th>\n",
              "      <td>dc_cons_may</td>\n",
              "      <td>1.003351</td>\n",
              "    </tr>\n",
              "    <tr>\n",
              "      <th>18</th>\n",
              "      <td>dc_count_apr</td>\n",
              "      <td>1.004109</td>\n",
              "    </tr>\n",
              "    <tr>\n",
              "      <th>19</th>\n",
              "      <td>dc_count_jun</td>\n",
              "      <td>1.003592</td>\n",
              "    </tr>\n",
              "    <tr>\n",
              "      <th>20</th>\n",
              "      <td>dc_count_may</td>\n",
              "      <td>1.003470</td>\n",
              "    </tr>\n",
              "    <tr>\n",
              "      <th>21</th>\n",
              "      <td>debit_amount_apr</td>\n",
              "      <td>1.003045</td>\n",
              "    </tr>\n",
              "    <tr>\n",
              "      <th>22</th>\n",
              "      <td>debit_amount_jun</td>\n",
              "      <td>1.003772</td>\n",
              "    </tr>\n",
              "    <tr>\n",
              "      <th>23</th>\n",
              "      <td>debit_amount_may</td>\n",
              "      <td>1.003563</td>\n",
              "    </tr>\n",
              "    <tr>\n",
              "      <th>24</th>\n",
              "      <td>debit_count_apr</td>\n",
              "      <td>1.002961</td>\n",
              "    </tr>\n",
              "    <tr>\n",
              "      <th>25</th>\n",
              "      <td>debit_count_jun</td>\n",
              "      <td>1.003609</td>\n",
              "    </tr>\n",
              "    <tr>\n",
              "      <th>26</th>\n",
              "      <td>debit_count_may</td>\n",
              "      <td>1.003273</td>\n",
              "    </tr>\n",
              "    <tr>\n",
              "      <th>27</th>\n",
              "      <td>emi_active</td>\n",
              "      <td>1.003812</td>\n",
              "    </tr>\n",
              "    <tr>\n",
              "      <th>28</th>\n",
              "      <td>emp_tenure_years</td>\n",
              "      <td>1.002613</td>\n",
              "    </tr>\n",
              "    <tr>\n",
              "      <th>29</th>\n",
              "      <td>income_low</td>\n",
              "      <td>3.235953</td>\n",
              "    </tr>\n",
              "    <tr>\n",
              "      <th>30</th>\n",
              "      <td>income_medium</td>\n",
              "      <td>3.234599</td>\n",
              "    </tr>\n",
              "    <tr>\n",
              "      <th>31</th>\n",
              "      <td>investment_1</td>\n",
              "      <td>1.001857</td>\n",
              "    </tr>\n",
              "    <tr>\n",
              "      <th>32</th>\n",
              "      <td>investment_2</td>\n",
              "      <td>1.003412</td>\n",
              "    </tr>\n",
              "    <tr>\n",
              "      <th>33</th>\n",
              "      <td>investment_3</td>\n",
              "      <td>1.002772</td>\n",
              "    </tr>\n",
              "    <tr>\n",
              "      <th>34</th>\n",
              "      <td>investment_4</td>\n",
              "      <td>1.003845</td>\n",
              "    </tr>\n",
              "    <tr>\n",
              "      <th>35</th>\n",
              "      <td>loan_enq</td>\n",
              "      <td>0.000000</td>\n",
              "    </tr>\n",
              "    <tr>\n",
              "      <th>36</th>\n",
              "      <td>max_credit_amount_apr</td>\n",
              "      <td>1.002950</td>\n",
              "    </tr>\n",
              "    <tr>\n",
              "      <th>37</th>\n",
              "      <td>max_credit_amount_jun</td>\n",
              "      <td>1.002705</td>\n",
              "    </tr>\n",
              "    <tr>\n",
              "      <th>38</th>\n",
              "      <td>max_credit_amount_may</td>\n",
              "      <td>1.002325</td>\n",
              "    </tr>\n",
              "    <tr>\n",
              "      <th>39</th>\n",
              "      <td>personal_loan_active</td>\n",
              "      <td>0.000000</td>\n",
              "    </tr>\n",
              "    <tr>\n",
              "      <th>40</th>\n",
              "      <td>personal_loan_closed</td>\n",
              "      <td>0.000000</td>\n",
              "    </tr>\n",
              "    <tr>\n",
              "      <th>41</th>\n",
              "      <td>region_code</td>\n",
              "      <td>1.003252</td>\n",
              "    </tr>\n",
              "    <tr>\n",
              "      <th>42</th>\n",
              "      <td>tenure_with_bank</td>\n",
              "      <td>1.004546</td>\n",
              "    </tr>\n",
              "    <tr>\n",
              "      <th>43</th>\n",
              "      <td>vehicle_loan_active</td>\n",
              "      <td>0.000000</td>\n",
              "    </tr>\n",
              "    <tr>\n",
              "      <th>44</th>\n",
              "      <td>vehicle_loan_closed</td>\n",
              "      <td>0.000000</td>\n",
              "    </tr>\n",
              "  </tbody>\n",
              "</table>\n",
              "</div>"
            ],
            "text/plain": [
              "                       variables       VIF\n",
              "0                   account_type  1.002300\n",
              "1   avg_days_between_transaction  1.003494\n",
              "2                       card_lim  1.002805\n",
              "3                    cc_cons_apr  1.004466\n",
              "4                    cc_cons_jun  1.004309\n",
              "5                    cc_cons_may  1.004446\n",
              "6                   cc_count_apr  1.002893\n",
              "7                   cc_count_jun  1.003859\n",
              "8                   cc_count_may  1.003221\n",
              "9              credit_amount_apr  1.002050\n",
              "10             credit_amount_jun  1.002792\n",
              "11             credit_amount_may  1.002766\n",
              "12              credit_count_apr  1.003006\n",
              "13              credit_count_jun  1.003564\n",
              "14              credit_count_may  1.002363\n",
              "15                   dc_cons_apr  1.002539\n",
              "16                   dc_cons_jun  1.002049\n",
              "17                   dc_cons_may  1.003351\n",
              "18                  dc_count_apr  1.004109\n",
              "19                  dc_count_jun  1.003592\n",
              "20                  dc_count_may  1.003470\n",
              "21              debit_amount_apr  1.003045\n",
              "22              debit_amount_jun  1.003772\n",
              "23              debit_amount_may  1.003563\n",
              "24               debit_count_apr  1.002961\n",
              "25               debit_count_jun  1.003609\n",
              "26               debit_count_may  1.003273\n",
              "27                    emi_active  1.003812\n",
              "28              emp_tenure_years  1.002613\n",
              "29                    income_low  3.235953\n",
              "30                 income_medium  3.234599\n",
              "31                  investment_1  1.001857\n",
              "32                  investment_2  1.003412\n",
              "33                  investment_3  1.002772\n",
              "34                  investment_4  1.003845\n",
              "35                      loan_enq  0.000000\n",
              "36         max_credit_amount_apr  1.002950\n",
              "37         max_credit_amount_jun  1.002705\n",
              "38         max_credit_amount_may  1.002325\n",
              "39          personal_loan_active  0.000000\n",
              "40          personal_loan_closed  0.000000\n",
              "41                   region_code  1.003252\n",
              "42              tenure_with_bank  1.004546\n",
              "43           vehicle_loan_active  0.000000\n",
              "44           vehicle_loan_closed  0.000000"
            ]
          },
          "metadata": {},
          "execution_count": 224
        }
      ]
    },
    {
      "cell_type": "markdown",
      "metadata": {
        "id": "-wGlPkvQ7ACQ"
      },
      "source": [
        "### RFE"
      ]
    },
    {
      "cell_type": "code",
      "metadata": {
        "id": "r2J0igv2VWdc",
        "colab": {
          "base_uri": "https://localhost:8080/"
        },
        "outputId": "d47223ac-76eb-4fb4-c7dc-4e0a007b84fe"
      },
      "source": [
        "from sklearn.tree import DecisionTreeRegressor\n",
        "from sklearn.feature_selection import RFE\n",
        "\n",
        "\n",
        "dt_reg = DecisionTreeRegressor(random_state=0)\n",
        "\n",
        "# lr = LinearRegression()\n",
        "rfe = RFE(estimator=dt_reg, n_features_to_select=10)\n",
        "rfe.fit(df_train_x, df_train_y.target)\n",
        "\n",
        "rfe.ranking_\n",
        "\n",
        "\n",
        "# selecting features given by RFE\n",
        "f = rfe.get_support(1) #the most important features\n",
        "selected_x = df_train_x[df_train_x.columns[f]] # final features`\n",
        "selected_x.columns"
      ],
      "execution_count": 225,
      "outputs": [
        {
          "output_type": "execute_result",
          "data": {
            "text/plain": [
              "Index(['card_lim', 'cc_cons_apr', 'credit_amount_apr', 'credit_amount_jun',\n",
              "       'dc_cons_apr', 'dc_cons_may', 'debit_amount_apr', 'debit_amount_jun',\n",
              "       'max_credit_amount_apr', 'max_credit_amount_jun'],\n",
              "      dtype='object')"
            ]
          },
          "metadata": {},
          "execution_count": 225
        }
      ]
    },
    {
      "cell_type": "markdown",
      "metadata": {
        "id": "isK6k6auBm1n"
      },
      "source": [
        "### Fitting the selected_x in OLS"
      ]
    },
    {
      "cell_type": "code",
      "metadata": {
        "colab": {
          "base_uri": "https://localhost:8080/"
        },
        "id": "WluCBcHQBTNm",
        "outputId": "9e32b768-d3b9-4a78-c30d-35265b3ad18a"
      },
      "source": [
        "model = sm.OLS(df_train_y_log,selected_x)\n",
        "\n",
        "model_fit = model.fit()\n",
        "\n",
        "print(model_fit.summary())"
      ],
      "execution_count": 226,
      "outputs": [
        {
          "output_type": "stream",
          "name": "stdout",
          "text": [
            "                                 OLS Regression Results                                \n",
            "=======================================================================================\n",
            "Dep. Variable:                 target   R-squared (uncentered):                   0.941\n",
            "Model:                            OLS   Adj. R-squared (uncentered):              0.941\n",
            "Method:                 Least Squares   F-statistic:                          1.916e+04\n",
            "Date:                Fri, 03 Sep 2021   Prob (F-statistic):                        0.00\n",
            "Time:                        19:17:05   Log-Likelihood:                         -27217.\n",
            "No. Observations:               11995   AIC:                                  5.445e+04\n",
            "Df Residuals:                   11985   BIC:                                  5.453e+04\n",
            "Df Model:                          10                                                  \n",
            "Covariance Type:            nonrobust                                                  \n",
            "=========================================================================================\n",
            "                            coef    std err          t      P>|t|      [0.025      0.975]\n",
            "-----------------------------------------------------------------------------------------\n",
            "card_lim               5.208e-06   1.22e-07     42.676      0.000    4.97e-06    5.45e-06\n",
            "cc_cons_apr            4.757e-05   1.63e-06     29.150      0.000    4.44e-05    5.08e-05\n",
            "credit_amount_apr      1.568e-05   4.61e-07     33.985      0.000    1.48e-05    1.66e-05\n",
            "credit_amount_jun      1.366e-05   4.36e-07     31.371      0.000    1.28e-05    1.45e-05\n",
            "dc_cons_apr             9.25e-05   3.59e-06     25.753      0.000    8.55e-05    9.95e-05\n",
            "dc_cons_may               0.0001   4.16e-06     25.771      0.000    9.89e-05       0.000\n",
            "debit_amount_apr       1.578e-05   5.02e-07     31.428      0.000    1.48e-05    1.68e-05\n",
            "debit_amount_jun       1.531e-05   4.65e-07     32.933      0.000    1.44e-05    1.62e-05\n",
            "max_credit_amount_apr  2.923e-05   7.72e-07     37.855      0.000    2.77e-05    3.07e-05\n",
            "max_credit_amount_jun  2.603e-05    7.3e-07     35.662      0.000    2.46e-05    2.75e-05\n",
            "==============================================================================\n",
            "Omnibus:                       59.556   Durbin-Watson:                   1.924\n",
            "Prob(Omnibus):                  0.000   Jarque-Bera (JB):               60.371\n",
            "Skew:                          -0.173   Prob(JB):                     7.77e-14\n",
            "Kurtosis:                       2.959   Cond. No.                         66.0\n",
            "==============================================================================\n",
            "\n",
            "Warnings:\n",
            "[1] Standard Errors assume that the covariance matrix of the errors is correctly specified.\n"
          ]
        }
      ]
    },
    {
      "cell_type": "markdown",
      "metadata": {
        "id": "3BNvjx2LDVgy"
      },
      "source": [
        "### Predicting OLS regression values"
      ]
    },
    {
      "cell_type": "code",
      "metadata": {
        "id": "6X5KqDpYDaZx"
      },
      "source": [
        "train_y_log_hat = model_fit.predict(selected_x)\n",
        "train_y_log_hat.columns = ['target']\n",
        "\n",
        "\n",
        "train_y_hat = np.exp(train_y_log_hat)\n",
        "train_y_hat = pd.DataFrame(train_y_hat)\n",
        "# train_y_hat = train_y_hat.apply(lambda x: '%.5f' % x, axis=1)\n",
        "# train_y_hat = pd.DataFrame(train_y_hat)\n",
        "train_y_hat.columns = ['target']"
      ],
      "execution_count": 227,
      "outputs": []
    },
    {
      "cell_type": "markdown",
      "metadata": {
        "id": "lI8dR1MXDDBq"
      },
      "source": [
        "### calculating errors"
      ]
    },
    {
      "cell_type": "code",
      "metadata": {
        "id": "pXbpg1cOC_5Q"
      },
      "source": [
        "#UDF for calcualting MAPE,RMSE and RMSPE for the test values and forecasted values\n",
        "def calculate_error(y_true,y_pred):\n",
        "  map_error = np.mean((np.abs(y_true - y_pred))/y_true*100)\n",
        "  rms_error = np.sqrt(np.mean(np.square(y_true - y_pred)))\n",
        "  rmps_error = (np.sqrt(np.mean(np.square((y_true - y_pred) / y_true)))) * 100\n",
        "  result =  {'mape':map_error ,'rmse': rms_error ,'rmspe': rmps_error}\n",
        "  return result"
      ],
      "execution_count": 228,
      "outputs": []
    },
    {
      "cell_type": "code",
      "metadata": {
        "colab": {
          "base_uri": "https://localhost:8080/"
        },
        "id": "8XWfJz9TECK3",
        "outputId": "0f011596-b818-4ae0-f9a1-a1b94788ba57"
      },
      "source": [
        "# calling the udf to calculate error between actual test values and arima forecasts\n",
        "error_coff = calculate_error(df_train_y.target,train_y_hat.target)\n",
        "print('------------OLS model error----------------------')\n",
        "# print('MAPE  :',error_coff['mape'][0])\n",
        "# print('RMSE  :',error_coff['rmse'][0])\n",
        "# print('RMSPE :',error_coff['rmspe'][0])\n",
        "print(error_coff)\n",
        "print('-------------------------------------------------')\n",
        "\n"
      ],
      "execution_count": 229,
      "outputs": [
        {
          "output_type": "stream",
          "name": "stdout",
          "text": [
            "------------OLS model error----------------------\n",
            "{'mape': 1030.992110333207, 'rmse': 1055031.4749308452, 'rmspe': 9576.289184190819}\n",
            "-------------------------------------------------\n"
          ]
        }
      ]
    },
    {
      "cell_type": "code",
      "metadata": {
        "colab": {
          "base_uri": "https://localhost:8080/"
        },
        "id": "GO1ePGofFlCV",
        "outputId": "4a07d1b2-3808-4446-ed03-3ac4cbc71016"
      },
      "source": [
        "train_y_hat.target"
      ],
      "execution_count": 230,
      "outputs": [
        {
          "output_type": "execute_result",
          "data": {
            "text/plain": [
              "104      15741.794430\n",
              "105       2893.801345\n",
              "106       2010.737598\n",
              "107      39943.562959\n",
              "108        484.506051\n",
              "             ...     \n",
              "15092    10119.985564\n",
              "15094    37604.761692\n",
              "15095    34504.076076\n",
              "15097    49316.016221\n",
              "15098    57081.273585\n",
              "Name: target, Length: 11995, dtype: float64"
            ]
          },
          "metadata": {},
          "execution_count": 230
        }
      ]
    },
    {
      "cell_type": "code",
      "metadata": {
        "colab": {
          "base_uri": "https://localhost:8080/"
        },
        "id": "w072seMSFiAh",
        "outputId": "ec9aeb00-3b82-4bfd-8d29-55a4f721e160"
      },
      "source": [
        "df_train_y.target"
      ],
      "execution_count": 231,
      "outputs": [
        {
          "output_type": "execute_result",
          "data": {
            "text/plain": [
              "104       20014.0\n",
              "105       10173.0\n",
              "106       16095.0\n",
              "107        7707.0\n",
              "108      101078.0\n",
              "           ...   \n",
              "15092      6768.0\n",
              "15094      4885.0\n",
              "15095     11019.0\n",
              "15097     28813.0\n",
              "15098     16252.0\n",
              "Name: target, Length: 11995, dtype: float64"
            ]
          },
          "metadata": {},
          "execution_count": 231
        }
      ]
    },
    {
      "cell_type": "code",
      "metadata": {
        "colab": {
          "base_uri": "https://localhost:8080/"
        },
        "id": "cGXCsZNfKBKy",
        "outputId": "c2530a55-67aa-4463-f344-40f621d3508e"
      },
      "source": [
        "np.mean(np.abs(df_train_y.target - train_y_hat.target))"
      ],
      "execution_count": 232,
      "outputs": [
        {
          "output_type": "execute_result",
          "data": {
            "text/plain": [
              "119918.17199106814"
            ]
          },
          "metadata": {},
          "execution_count": 232
        }
      ]
    },
    {
      "cell_type": "markdown",
      "metadata": {
        "id": "p_FXVnlDTucg"
      },
      "source": [
        "## Train test split"
      ]
    },
    {
      "cell_type": "code",
      "metadata": {
        "id": "p583jm-oTx9Q"
      },
      "source": [
        "from sklearn.model_selection import train_test_split\n",
        "\n",
        "\n",
        "x_train, x_test, y_train, y_test = train_test_split(selected_x, df_train_y, test_size=0.25, random_state=72)\n",
        "\n",
        "y_train_log = np.log(y_train)\n",
        "y_test_log = np.log(y_test)"
      ],
      "execution_count": 233,
      "outputs": []
    },
    {
      "cell_type": "markdown",
      "metadata": {
        "id": "B7e1i1iBTeIV"
      },
      "source": [
        "## Linear Regression"
      ]
    },
    {
      "cell_type": "code",
      "metadata": {
        "id": "P8Z90_86Tm61"
      },
      "source": [
        "from sklearn.linear_model import LinearRegression\n",
        "lr = LinearRegression()\n",
        "# training the linear regression model on x_train and y_train_log\n",
        "lr.fit(x_train ,y_train_log)\n",
        "\n",
        "# predicting the values of selected_x and storing them in y_train_predicted\n",
        "y_train_predicted = np.exp(lr.predict(x_train))\n"
      ],
      "execution_count": 234,
      "outputs": []
    },
    {
      "cell_type": "markdown",
      "metadata": {
        "id": "UbdwVMnDUwgV"
      },
      "source": [
        "## Error calculation of train values"
      ]
    },
    {
      "cell_type": "code",
      "metadata": {
        "colab": {
          "base_uri": "https://localhost:8080/"
        },
        "id": "JBPCA32ZUrl7",
        "outputId": "9548aeb4-9339-44e0-9f2a-7e1ee9f1a23c"
      },
      "source": [
        "# calling the udf to calculate error between train_y_ln and predicted values\n",
        "error_coff = calculate_error(y_train_predicted,y_train)\n",
        "print('------------OLS model error----------------------')\n",
        "print('MAPE  :',error_coff['mape'][0])\n",
        "print('RMSE  :',error_coff['rmse'][0])\n",
        "print('RMSPE :',error_coff['rmspe'][0])\n",
        "# print(error_coff)\n",
        "print('-------------------------------------------------')"
      ],
      "execution_count": 235,
      "outputs": [
        {
          "output_type": "stream",
          "name": "stdout",
          "text": [
            "------------OLS model error----------------------\n",
            "MAPE  : 106.98614357908204\n",
            "RMSE  : 31259.08937202817\n",
            "RMSPE : 210.57933644106163\n",
            "-------------------------------------------------\n"
          ]
        }
      ]
    },
    {
      "cell_type": "markdown",
      "metadata": {
        "id": "Fm6EqiQjVmNn"
      },
      "source": [
        "## Prediction test values"
      ]
    },
    {
      "cell_type": "code",
      "metadata": {
        "id": "RMqKrxWuVXyj"
      },
      "source": [
        "y_test_predicted = np.exp(lr.predict(x_test))"
      ],
      "execution_count": 236,
      "outputs": []
    },
    {
      "cell_type": "markdown",
      "metadata": {
        "id": "FuLjTrxYVvGT"
      },
      "source": [
        "## Error Calculation of test values"
      ]
    },
    {
      "cell_type": "code",
      "metadata": {
        "colab": {
          "base_uri": "https://localhost:8080/"
        },
        "id": "iEaShTtgVuen",
        "outputId": "d183f490-179f-400d-c966-3a63f26d1c0e"
      },
      "source": [
        "# calling the udf to calculate error between train_y_ln and predicted values\n",
        "error_coff = calculate_error(y_test_predicted,y_test)\n",
        "print('------------OLS model error----------------------')\n",
        "print('MAPE  :',error_coff['mape'][0])\n",
        "print('RMSE  :',error_coff['rmse'][0])\n",
        "print('RMSPE :',error_coff['rmspe'][0])\n",
        "# print(error_coff)\n",
        "print('-------------------------------------------------')"
      ],
      "execution_count": 237,
      "outputs": [
        {
          "output_type": "stream",
          "name": "stdout",
          "text": [
            "------------OLS model error----------------------\n",
            "MAPE  : 103.64417593283396\n",
            "RMSE  : 30571.457264718458\n",
            "RMSPE : 206.40398420094522\n",
            "-------------------------------------------------\n"
          ]
        }
      ]
    },
    {
      "cell_type": "markdown",
      "metadata": {
        "id": "VOKILABBV3S6"
      },
      "source": [
        "## Predicting the values for the df_predict cstomers"
      ]
    },
    {
      "cell_type": "code",
      "metadata": {
        "colab": {
          "base_uri": "https://localhost:8080/"
        },
        "id": "yjRbvupPV18r",
        "outputId": "7c29a8f4-e7a5-4eb6-e4a9-1b01c3e9c280"
      },
      "source": [
        "#selecting the best features\n",
        "df_predict_selected_x = df_predict[df_predict.columns[f]] # final features`\n",
        "df_predict_selected_x.columns\n",
        "\n",
        "\n",
        "#prediciting the consumption values\n",
        "customer_predict = np.exp(lr.predict(df_predict_selected_x))\n",
        "customer_predict"
      ],
      "execution_count": 238,
      "outputs": [
        {
          "output_type": "execute_result",
          "data": {
            "text/plain": [
              "array([[14629.15544522],\n",
              "       [14492.2036901 ],\n",
              "       [14096.70246603],\n",
              "       ...,\n",
              "       [14699.64020244],\n",
              "       [14979.24327258],\n",
              "       [15317.0341707 ]])"
            ]
          },
          "metadata": {},
          "execution_count": 238
        }
      ]
    }
  ]
}