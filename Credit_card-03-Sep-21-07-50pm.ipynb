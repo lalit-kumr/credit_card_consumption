{
  "nbformat": 4,
  "nbformat_minor": 0,
  "metadata": {
    "colab": {
      "name": "Credit card final-1.ipynb",
      "provenance": [],
      "collapsed_sections": [],
      "authorship_tag": "ABX9TyMSKY9xlccsZQQKGLCEBQ1J",
      "include_colab_link": true
    },
    "kernelspec": {
      "name": "python3",
      "display_name": "Python 3"
    },
    "language_info": {
      "name": "python"
    }
  },
  "cells": [
    {
      "cell_type": "markdown",
      "metadata": {
        "id": "view-in-github",
        "colab_type": "text"
      },
      "source": [
        "<a href=\"https://colab.research.google.com/github/lalit-kumr/credit_card_consumption/blob/main/Credit_card-03-Sep-21-07-50pm.ipynb\" target=\"_parent\"><img src=\"https://colab.research.google.com/assets/colab-badge.svg\" alt=\"Open In Colab\"/></a>"
      ]
    },
    {
      "cell_type": "markdown",
      "metadata": {
        "id": "qcqTIfiM6d32"
      },
      "source": [
        "### Steps\n",
        "- Import libs\n",
        "- Import data\n",
        "- Clean both sets\n",
        "- Merge the data sets\n",
        "- Split data in numerical and categorical\n",
        "- Outlier removal in both sets\n",
        "- fill na\n",
        "- splitting in train and predict\n",
        "- Label encoding\n",
        "- Join dataset\n",
        "- Build model OLS\n",
        "- Remove features having high p value\n",
        "- Apply vif\n",
        "- Drop vif unwanted variables one by one\n",
        "- Log of y \n",
        "- OLS model again\n",
        "- RFE\n",
        "- Apply linear reg model\n",
        "\n",
        "\n",
        "\n"
      ]
    },
    {
      "cell_type": "markdown",
      "metadata": {
        "id": "p2u2qXry7OwV"
      },
      "source": [
        "## 0. Importing libs"
      ]
    },
    {
      "cell_type": "code",
      "metadata": {
        "id": "rjA9G84A7OdS"
      },
      "source": [
        "import pandas as pd\n",
        "import numpy as np\n",
        "import matplotlib.pyplot as plt\n",
        "import seaborn as sns"
      ],
      "execution_count": 1,
      "outputs": []
    },
    {
      "cell_type": "markdown",
      "metadata": {
        "id": "zlRkA-i-5zvX"
      },
      "source": [
        "## 1. Importing Data"
      ]
    },
    {
      "cell_type": "code",
      "metadata": {
        "id": "73KLaUjc5x4t"
      },
      "source": [
        "# behaviour = pd.read_csv('CustomerBehaviorData.csv')\n",
        "# consumption = pd.read_csv('CreditConsumptionData.csv')\n",
        "# customer = pd.read_csv('CustomerDemographics.csv')\n",
        "\n",
        "\n",
        "behaviour = pd.read_csv('https://github.com/lalit-kumr/credit_card_consumption/blob/main/CustomerBehaviorData.csv?raw=true')\n",
        "consumption = pd.read_csv('https://github.com/lalit-kumr/credit_card_consumption/raw/main/CreditConsumptionData.csv')\n",
        "customer = pd.read_csv('https://github.com/lalit-kumr/credit_card_consumption/raw/main/CustomerDemographics.csv')"
      ],
      "execution_count": 2,
      "outputs": []
    },
    {
      "cell_type": "markdown",
      "metadata": {
        "id": "a-C09-ta7gB3"
      },
      "source": [
        "## 2. Cleaning Data"
      ]
    },
    {
      "cell_type": "code",
      "metadata": {
        "colab": {
          "base_uri": "https://localhost:8080/"
        },
        "id": "zdGedsUy7YVY",
        "outputId": "b0b60e9e-cdeb-4018-c6d6-9056fbebdced"
      },
      "source": [
        "#finding NaN values in customer df\n",
        "# customer.isna().sum()\n",
        "#Droppping observations having NaN values\n",
        "customer.dropna(inplace=True)\n",
        "customer.isna().sum()"
      ],
      "execution_count": 3,
      "outputs": [
        {
          "output_type": "execute_result",
          "data": {
            "text/plain": [
              "customer_id                     0\n",
              "account_type                    0\n",
              "gender                          0\n",
              "age                             0\n",
              "income                          0\n",
              "emp_tenure_years                0\n",
              "tenure_with_bank                0\n",
              "region_code                     0\n",
              "net_banking_flag                0\n",
              "avg_days_between_transaction    0\n",
              "dtype: int64"
            ]
          },
          "metadata": {},
          "execution_count": 3
        }
      ]
    },
    {
      "cell_type": "code",
      "metadata": {
        "colab": {
          "base_uri": "https://localhost:8080/"
        },
        "id": "nX4JLtSv7sSx",
        "outputId": "b4a991ec-5ce2-44cd-b9ba-2bb443abbb88"
      },
      "source": [
        "#Droppping observations having NaN values\n",
        "behaviour.dropna(inplace=True)\n",
        "behaviour.isna().sum()"
      ],
      "execution_count": 4,
      "outputs": [
        {
          "output_type": "execute_result",
          "data": {
            "text/plain": [
              "customer_id              0\n",
              "cc_cons_apr              0\n",
              "dc_cons_apr              0\n",
              "cc_cons_may              0\n",
              "dc_cons_may              0\n",
              "cc_cons_jun              0\n",
              "dc_cons_jun              0\n",
              "cc_count_apr             0\n",
              "cc_count_may             0\n",
              "cc_count_jun             0\n",
              "dc_count_apr             0\n",
              "dc_count_may             0\n",
              "dc_count_jun             0\n",
              "card_lim                 0\n",
              "personal_loan_active     0\n",
              "vehicle_loan_active      0\n",
              "personal_loan_closed     0\n",
              "vehicle_loan_closed      0\n",
              "investment_1             0\n",
              "investment_2             0\n",
              "investment_3             0\n",
              "investment_4             0\n",
              "debit_amount_apr         0\n",
              "credit_amount_apr        0\n",
              "debit_count_apr          0\n",
              "credit_count_apr         0\n",
              "max_credit_amount_apr    0\n",
              "debit_amount_may         0\n",
              "credit_amount_may        0\n",
              "credit_count_may         0\n",
              "debit_count_may          0\n",
              "max_credit_amount_may    0\n",
              "debit_amount_jun         0\n",
              "credit_amount_jun        0\n",
              "credit_count_jun         0\n",
              "debit_count_jun          0\n",
              "max_credit_amount_jun    0\n",
              "loan_enq                 0\n",
              "emi_active               0\n",
              "dtype: int64"
            ]
          },
          "metadata": {},
          "execution_count": 4
        }
      ]
    },
    {
      "cell_type": "code",
      "metadata": {
        "colab": {
          "base_uri": "https://localhost:8080/"
        },
        "id": "n2vnqpUKBUii",
        "outputId": "69ba95ab-2aab-4ad3-e81c-2138cb80039b"
      },
      "source": [
        "# checking nan cells in coonsumption\n",
        "consumption.isna().sum()"
      ],
      "execution_count": 5,
      "outputs": [
        {
          "output_type": "execute_result",
          "data": {
            "text/plain": [
              "customer_id          0\n",
              "cc_cons_target    5000\n",
              "dtype: int64"
            ]
          },
          "metadata": {},
          "execution_count": 5
        }
      ]
    },
    {
      "cell_type": "markdown",
      "metadata": {
        "id": "wepZWWi4CvK7"
      },
      "source": [
        "## 3.Merging the data Frames"
      ]
    },
    {
      "cell_type": "markdown",
      "metadata": {
        "id": "1LmSykiYC9fL"
      },
      "source": [
        "### 3.1 Merging the dataframes"
      ]
    },
    {
      "cell_type": "code",
      "metadata": {
        "id": "-Nr_Qwn1BXVh"
      },
      "source": [
        "# - now we will merge all three dataframes on the basis of customer_id.\n",
        "# - first we will merge customer and behaviour dataframes as customer_be\n",
        "# - next we will merge the cosumption dataframe with the custoemr_be df and store the resultant dataframe in **final**\n",
        "\n",
        "\n",
        "customer_behaviour = pd.merge(left=customer, right=behaviour, on='customer_id')\n",
        "final = pd.merge(left=customer_behaviour, right=consumption, on='customer_id')"
      ],
      "execution_count": 40,
      "outputs": []
    },
    {
      "cell_type": "markdown",
      "metadata": {
        "id": "H7voBrMdC84Q"
      },
      "source": [
        "### 3.2 Merging different columns and creating new columns in their place"
      ]
    },
    {
      "cell_type": "code",
      "metadata": {
        "id": "UYcaBUbQO-rr"
      },
      "source": [
        "#dropping customer id\n",
        "final.drop(labels='customer_id',axis=1,inplace=True)"
      ],
      "execution_count": 41,
      "outputs": []
    },
    {
      "cell_type": "code",
      "metadata": {
        "id": "GCdcs-ySC2xA"
      },
      "source": [
        "# #Total investments\n",
        "# final['investment'] = final['investment_1']+final['investment_2']+final['investment_3']+final['investment_4']\n",
        "\n",
        "# #Total debit amount\n",
        "# final[\"Total_debit_amount\"]=final['debit_amount_apr']+final['debit_amount_may']+final['debit_amount_jun']\n",
        "\n",
        "# #Total Credit Amount\n",
        "# final[\"Total_credit_amount\"]=final['credit_amount_apr']+final['credit_amount_may']+final['credit_amount_jun']\n",
        "\n",
        "# #Total Max Credit amount\n",
        "# final[\"Total_max_credit_acmout\"]=final['max_credit_amount_apr']+final['max_credit_amount_may']+final['max_credit_amount_jun']\n",
        "\n",
        "# #Total Active Loan\n",
        "# final[\"Totat_active_loan\"]= final['personal_loan_active'] + final['vehicle_loan_active']\n",
        "\n",
        "# #Toatal Closed Loan\n",
        "# final[\"Total_closed_loan\"]= final['personal_loan_closed'] + final['vehicle_loan_closed']\n",
        "\n",
        "# #Credit Card expenditure total\n",
        "# final['creditcard_exp']= final['cc_cons_apr'] + final['cc_cons_may'] + final['cc_cons_jun'] \n",
        "\n",
        "# #Debit Card expenditure total\n",
        "# final['debitcard_exp']= final['dc_cons_apr'] + final['dc_cons_may'] + final['dc_cons_jun']\n",
        "\n",
        "# #credit card use count total\n",
        "# final['cc_count']=final['cc_count_apr']+final['cc_count_may']+final['cc_count_jun']\n",
        "\n",
        "# # debit card use count total\n",
        "# final['dc_count']=final['dc_count_apr']+final['dc_count_may']+final['dc_count_jun']\n",
        "\n",
        "# #debit payments count total\n",
        "# final['debit_count']=final['debit_count_apr']+ final['debit_count_may']+ final['debit_count_jun']\n",
        "\n",
        "# #credit payments count total\n",
        "# final['credit_count']=final['credit_count_apr']+ final['credit_count_may']+ final['credit_count_jun']"
      ],
      "execution_count": 42,
      "outputs": []
    },
    {
      "cell_type": "code",
      "metadata": {
        "id": "iylhElFrDTcY"
      },
      "source": [
        "# extra = ['investment_1','investment_2','investment_3','investment_4',\n",
        "#          'debit_amount_apr','debit_amount_may','debit_amount_jun',\n",
        "#          'credit_amount_apr','credit_amount_may','credit_amount_jun',\n",
        "#          'max_credit_amount_apr','max_credit_amount_may','max_credit_amount_jun',\n",
        "#          'personal_loan_active','vehicle_loan_active',\n",
        "#          'personal_loan_closed','vehicle_loan_closed',\n",
        "#          'cc_cons_apr','cc_cons_may','cc_cons_jun',\n",
        "#          'dc_cons_apr','dc_cons_may','dc_cons_jun',\n",
        "#          'cc_count_apr','cc_count_may','cc_count_jun',\n",
        "#          'dc_count_apr','dc_count_may','dc_count_jun',\n",
        "#          'debit_count_apr','debit_count_may','debit_count_jun',\n",
        "#          'credit_count_apr','credit_count_may','credit_count_jun'\n",
        "#          ]\n",
        "\n",
        "# final.drop(labels=extra,axis=1,inplace=True)\n",
        "# final.head(3)\n"
      ],
      "execution_count": 43,
      "outputs": []
    },
    {
      "cell_type": "markdown",
      "metadata": {
        "id": "3GW-Hl0EFmWL"
      },
      "source": [
        "## 4\\. Splitting data into numerical and categorical"
      ]
    },
    {
      "cell_type": "code",
      "metadata": {
        "colab": {
          "base_uri": "https://localhost:8080/"
        },
        "id": "a597ejCfDYMI",
        "outputId": "89eec6b6-a8ee-4b27-c1c7-f5b5d58b5399"
      },
      "source": [
        "#extracting categorical columns from the data\n",
        "cat_cols = final.select_dtypes(include=['O'])\n",
        "cat_cols.columns"
      ],
      "execution_count": 44,
      "outputs": [
        {
          "output_type": "execute_result",
          "data": {
            "text/plain": [
              "Index(['account_type', 'gender', 'income', 'loan_enq'], dtype='object')"
            ]
          },
          "metadata": {},
          "execution_count": 44
        }
      ]
    },
    {
      "cell_type": "code",
      "metadata": {
        "colab": {
          "base_uri": "https://localhost:8080/"
        },
        "id": "m50dMvr4F07B",
        "outputId": "4d114718-697c-416b-ad75-43bb0e26015e"
      },
      "source": [
        "#extracting numerical columns from the dataset\n",
        "num_cols = final.columns.difference(['account_type', 'gender', 'income', 'loan_enq'])\n",
        "num_cols = final[num_cols]\n",
        "num_cols.columns"
      ],
      "execution_count": 51,
      "outputs": [
        {
          "output_type": "execute_result",
          "data": {
            "text/plain": [
              "Index(['age', 'avg_days_between_transaction', 'card_lim', 'cc_cons_apr',\n",
              "       'cc_cons_jun', 'cc_cons_may', 'cc_cons_target', 'cc_count_apr',\n",
              "       'cc_count_jun', 'cc_count_may', 'credit_amount_apr',\n",
              "       'credit_amount_jun', 'credit_amount_may', 'credit_count_apr',\n",
              "       'credit_count_jun', 'credit_count_may', 'dc_cons_apr', 'dc_cons_jun',\n",
              "       'dc_cons_may', 'dc_count_apr', 'dc_count_jun', 'dc_count_may',\n",
              "       'debit_amount_apr', 'debit_amount_jun', 'debit_amount_may',\n",
              "       'debit_count_apr', 'debit_count_jun', 'debit_count_may', 'emi_active',\n",
              "       'emp_tenure_years', 'investment_1', 'investment_2', 'investment_3',\n",
              "       'investment_4', 'max_credit_amount_apr', 'max_credit_amount_jun',\n",
              "       'max_credit_amount_may', 'net_banking_flag', 'personal_loan_active',\n",
              "       'personal_loan_closed', 'region_code', 'tenure_with_bank',\n",
              "       'vehicle_loan_active', 'vehicle_loan_closed'],\n",
              "      dtype='object')"
            ]
          },
          "metadata": {},
          "execution_count": 51
        }
      ]
    },
    {
      "cell_type": "markdown",
      "metadata": {
        "id": "D2ATQtieGbeN"
      },
      "source": [
        "## 5\\. Outlier removal"
      ]
    },
    {
      "cell_type": "code",
      "metadata": {
        "colab": {
          "base_uri": "https://localhost:8080/"
        },
        "id": "ilhDYjDI_js2",
        "outputId": "4c3e004f-1ba8-40d4-dc69-af7bb62c7474"
      },
      "source": [
        "num_cols.cc_cons_target.describe()\n"
      ],
      "execution_count": 52,
      "outputs": [
        {
          "output_type": "execute_result",
          "data": {
            "text/plain": [
              "count     14995.000000\n",
              "mean      55156.748249\n",
              "std       97680.466478\n",
              "min           0.000000\n",
              "25%        6768.000000\n",
              "50%       13363.000000\n",
              "75%       20103.000000\n",
              "max      408382.000000\n",
              "Name: cc_cons_target, dtype: float64"
            ]
          },
          "metadata": {},
          "execution_count": 52
        }
      ]
    },
    {
      "cell_type": "code",
      "metadata": {
        "colab": {
          "base_uri": "https://localhost:8080/",
          "height": 320
        },
        "id": "6PfUDafGJrgR",
        "outputId": "6067805d-c4fa-4ffb-9c00-ef4ac44d413a"
      },
      "source": [
        "# from scipy.stats import mstats\n",
        "\n",
        "# for x in num_cols:\n",
        "#   num_cols.loc[:,x] = mstats.winsorize(num_cols[x], limits=[0.25, 0.25])\n",
        "# num_cols.describe()\n",
        "\n",
        "\n",
        "\n",
        "def outlier_capping(x):\n",
        "    x = x.clip(upper=x.quantile(0.90))\n",
        "    x = x.clip(lower=x.quantile(0.10))\n",
        "    return x\n",
        "\n",
        "num_cols = num_cols.apply(lambda x: outlier_capping(x))\n",
        "num_cols.describe()"
      ],
      "execution_count": 53,
      "outputs": [
        {
          "output_type": "execute_result",
          "data": {
            "text/html": [
              "<div>\n",
              "<style scoped>\n",
              "    .dataframe tbody tr th:only-of-type {\n",
              "        vertical-align: middle;\n",
              "    }\n",
              "\n",
              "    .dataframe tbody tr th {\n",
              "        vertical-align: top;\n",
              "    }\n",
              "\n",
              "    .dataframe thead th {\n",
              "        text-align: right;\n",
              "    }\n",
              "</style>\n",
              "<table border=\"1\" class=\"dataframe\">\n",
              "  <thead>\n",
              "    <tr style=\"text-align: right;\">\n",
              "      <th></th>\n",
              "      <th>age</th>\n",
              "      <th>avg_days_between_transaction</th>\n",
              "      <th>card_lim</th>\n",
              "      <th>cc_cons_apr</th>\n",
              "      <th>cc_cons_jun</th>\n",
              "      <th>cc_cons_may</th>\n",
              "      <th>cc_cons_target</th>\n",
              "      <th>cc_count_apr</th>\n",
              "      <th>cc_count_jun</th>\n",
              "      <th>cc_count_may</th>\n",
              "      <th>credit_amount_apr</th>\n",
              "      <th>credit_amount_jun</th>\n",
              "      <th>credit_amount_may</th>\n",
              "      <th>credit_count_apr</th>\n",
              "      <th>credit_count_jun</th>\n",
              "      <th>credit_count_may</th>\n",
              "      <th>dc_cons_apr</th>\n",
              "      <th>dc_cons_jun</th>\n",
              "      <th>dc_cons_may</th>\n",
              "      <th>dc_count_apr</th>\n",
              "      <th>dc_count_jun</th>\n",
              "      <th>dc_count_may</th>\n",
              "      <th>debit_amount_apr</th>\n",
              "      <th>debit_amount_jun</th>\n",
              "      <th>debit_amount_may</th>\n",
              "      <th>debit_count_apr</th>\n",
              "      <th>debit_count_jun</th>\n",
              "      <th>debit_count_may</th>\n",
              "      <th>emi_active</th>\n",
              "      <th>emp_tenure_years</th>\n",
              "      <th>investment_1</th>\n",
              "      <th>investment_2</th>\n",
              "      <th>investment_3</th>\n",
              "      <th>investment_4</th>\n",
              "      <th>max_credit_amount_apr</th>\n",
              "      <th>max_credit_amount_jun</th>\n",
              "      <th>max_credit_amount_may</th>\n",
              "      <th>net_banking_flag</th>\n",
              "      <th>personal_loan_active</th>\n",
              "      <th>personal_loan_closed</th>\n",
              "      <th>region_code</th>\n",
              "      <th>tenure_with_bank</th>\n",
              "      <th>vehicle_loan_active</th>\n",
              "      <th>vehicle_loan_closed</th>\n",
              "    </tr>\n",
              "  </thead>\n",
              "  <tbody>\n",
              "    <tr>\n",
              "      <th>count</th>\n",
              "      <td>19988.000000</td>\n",
              "      <td>19988.000000</td>\n",
              "      <td>19988.000000</td>\n",
              "      <td>19988.000000</td>\n",
              "      <td>19988.000000</td>\n",
              "      <td>19988.000000</td>\n",
              "      <td>14995.000000</td>\n",
              "      <td>19988.000000</td>\n",
              "      <td>19988.000000</td>\n",
              "      <td>19988.00000</td>\n",
              "      <td>19988.000000</td>\n",
              "      <td>19988.000000</td>\n",
              "      <td>19988.000000</td>\n",
              "      <td>19988.000000</td>\n",
              "      <td>19988.000000</td>\n",
              "      <td>19988.000000</td>\n",
              "      <td>19988.000000</td>\n",
              "      <td>19988.000000</td>\n",
              "      <td>19988.000000</td>\n",
              "      <td>19988.000000</td>\n",
              "      <td>19988.000000</td>\n",
              "      <td>19988.000000</td>\n",
              "      <td>19988.000000</td>\n",
              "      <td>19988.000000</td>\n",
              "      <td>19988.000000</td>\n",
              "      <td>19988.000000</td>\n",
              "      <td>19988.000000</td>\n",
              "      <td>19988.000000</td>\n",
              "      <td>19988.000000</td>\n",
              "      <td>19988.000000</td>\n",
              "      <td>19988.000000</td>\n",
              "      <td>19988.000000</td>\n",
              "      <td>19988.000000</td>\n",
              "      <td>19988.000000</td>\n",
              "      <td>19988.000000</td>\n",
              "      <td>19988.000000</td>\n",
              "      <td>19988.000000</td>\n",
              "      <td>19988.000000</td>\n",
              "      <td>19988.0</td>\n",
              "      <td>19988.0</td>\n",
              "      <td>19988.000000</td>\n",
              "      <td>19988.000000</td>\n",
              "      <td>19988.0</td>\n",
              "      <td>19988.0</td>\n",
              "    </tr>\n",
              "    <tr>\n",
              "      <th>mean</th>\n",
              "      <td>43.382880</td>\n",
              "      <td>11.042275</td>\n",
              "      <td>272319.748049</td>\n",
              "      <td>14549.996746</td>\n",
              "      <td>9635.457963</td>\n",
              "      <td>12761.885303</td>\n",
              "      <td>45664.071624</td>\n",
              "      <td>24.048079</td>\n",
              "      <td>38.120222</td>\n",
              "      <td>29.81714</td>\n",
              "      <td>61456.328255</td>\n",
              "      <td>61587.239064</td>\n",
              "      <td>66080.933714</td>\n",
              "      <td>11.076846</td>\n",
              "      <td>16.889334</td>\n",
              "      <td>11.057484</td>\n",
              "      <td>6204.472949</td>\n",
              "      <td>5178.056356</td>\n",
              "      <td>5634.602421</td>\n",
              "      <td>16.400790</td>\n",
              "      <td>29.664849</td>\n",
              "      <td>12.926406</td>\n",
              "      <td>54863.349003</td>\n",
              "      <td>60570.206160</td>\n",
              "      <td>52331.324263</td>\n",
              "      <td>34.523114</td>\n",
              "      <td>44.237142</td>\n",
              "      <td>36.518311</td>\n",
              "      <td>6368.802316</td>\n",
              "      <td>12.728392</td>\n",
              "      <td>153861.027848</td>\n",
              "      <td>168543.205955</td>\n",
              "      <td>31673.468484</td>\n",
              "      <td>2922.548765</td>\n",
              "      <td>40555.716554</td>\n",
              "      <td>40077.724187</td>\n",
              "      <td>42308.976324</td>\n",
              "      <td>0.717881</td>\n",
              "      <td>1.0</td>\n",
              "      <td>1.0</td>\n",
              "      <td>596.448819</td>\n",
              "      <td>5.595557</td>\n",
              "      <td>1.0</td>\n",
              "      <td>1.0</td>\n",
              "    </tr>\n",
              "    <tr>\n",
              "      <th>std</th>\n",
              "      <td>12.214656</td>\n",
              "      <td>5.316826</td>\n",
              "      <td>161960.787557</td>\n",
              "      <td>12527.503235</td>\n",
              "      <td>8229.091777</td>\n",
              "      <td>11266.950313</td>\n",
              "      <td>71633.214757</td>\n",
              "      <td>25.960688</td>\n",
              "      <td>28.246173</td>\n",
              "      <td>26.82077</td>\n",
              "      <td>44032.121174</td>\n",
              "      <td>46489.212480</td>\n",
              "      <td>51367.843277</td>\n",
              "      <td>12.047362</td>\n",
              "      <td>18.732834</td>\n",
              "      <td>14.337628</td>\n",
              "      <td>5776.000312</td>\n",
              "      <td>4853.636340</td>\n",
              "      <td>4993.431832</td>\n",
              "      <td>17.783095</td>\n",
              "      <td>27.691683</td>\n",
              "      <td>14.396644</td>\n",
              "      <td>40762.926141</td>\n",
              "      <td>44363.447196</td>\n",
              "      <td>40072.189102</td>\n",
              "      <td>26.161326</td>\n",
              "      <td>33.104085</td>\n",
              "      <td>29.456001</td>\n",
              "      <td>6215.724671</td>\n",
              "      <td>9.270478</td>\n",
              "      <td>238043.293743</td>\n",
              "      <td>157531.882322</td>\n",
              "      <td>39971.300914</td>\n",
              "      <td>5651.933429</td>\n",
              "      <td>25761.894787</td>\n",
              "      <td>27798.130504</td>\n",
              "      <td>29286.039519</td>\n",
              "      <td>0.450042</td>\n",
              "      <td>0.0</td>\n",
              "      <td>0.0</td>\n",
              "      <td>207.827224</td>\n",
              "      <td>2.726950</td>\n",
              "      <td>0.0</td>\n",
              "      <td>0.0</td>\n",
              "    </tr>\n",
              "    <tr>\n",
              "      <th>min</th>\n",
              "      <td>29.000000</td>\n",
              "      <td>3.000000</td>\n",
              "      <td>47000.000000</td>\n",
              "      <td>1908.000000</td>\n",
              "      <td>1368.944500</td>\n",
              "      <td>1666.292000</td>\n",
              "      <td>2631.600000</td>\n",
              "      <td>2.000000</td>\n",
              "      <td>4.000000</td>\n",
              "      <td>3.00000</td>\n",
              "      <td>14102.900000</td>\n",
              "      <td>11509.040000</td>\n",
              "      <td>12574.000000</td>\n",
              "      <td>1.000000</td>\n",
              "      <td>2.000000</td>\n",
              "      <td>1.000000</td>\n",
              "      <td>643.850000</td>\n",
              "      <td>607.000000</td>\n",
              "      <td>731.000000</td>\n",
              "      <td>1.000000</td>\n",
              "      <td>1.000000</td>\n",
              "      <td>1.000000</td>\n",
              "      <td>10394.026000</td>\n",
              "      <td>12563.074000</td>\n",
              "      <td>10742.480000</td>\n",
              "      <td>4.000000</td>\n",
              "      <td>7.000000</td>\n",
              "      <td>6.000000</td>\n",
              "      <td>461.060000</td>\n",
              "      <td>2.700000</td>\n",
              "      <td>690.000000</td>\n",
              "      <td>11772.760000</td>\n",
              "      <td>768.000000</td>\n",
              "      <td>-5942.000000</td>\n",
              "      <td>14236.000000</td>\n",
              "      <td>11200.000000</td>\n",
              "      <td>12023.300000</td>\n",
              "      <td>0.000000</td>\n",
              "      <td>1.0</td>\n",
              "      <td>1.0</td>\n",
              "      <td>269.000000</td>\n",
              "      <td>2.000000</td>\n",
              "      <td>1.0</td>\n",
              "      <td>1.0</td>\n",
              "    </tr>\n",
              "    <tr>\n",
              "      <th>25%</th>\n",
              "      <td>33.000000</td>\n",
              "      <td>6.000000</td>\n",
              "      <td>124000.000000</td>\n",
              "      <td>4376.532500</td>\n",
              "      <td>2999.075000</td>\n",
              "      <td>3635.910000</td>\n",
              "      <td>6768.000000</td>\n",
              "      <td>5.000000</td>\n",
              "      <td>10.000000</td>\n",
              "      <td>8.00000</td>\n",
              "      <td>26764.000000</td>\n",
              "      <td>24920.080000</td>\n",
              "      <td>25207.000000</td>\n",
              "      <td>2.000000</td>\n",
              "      <td>4.000000</td>\n",
              "      <td>2.000000</td>\n",
              "      <td>1624.650000</td>\n",
              "      <td>1361.100000</td>\n",
              "      <td>1634.260000</td>\n",
              "      <td>2.000000</td>\n",
              "      <td>4.000000</td>\n",
              "      <td>2.000000</td>\n",
              "      <td>23208.470000</td>\n",
              "      <td>25763.110000</td>\n",
              "      <td>20815.390000</td>\n",
              "      <td>11.000000</td>\n",
              "      <td>12.000000</td>\n",
              "      <td>11.000000</td>\n",
              "      <td>1545.627500</td>\n",
              "      <td>5.100000</td>\n",
              "      <td>6030.650000</td>\n",
              "      <td>38928.000000</td>\n",
              "      <td>2214.000000</td>\n",
              "      <td>0.000000</td>\n",
              "      <td>20613.000000</td>\n",
              "      <td>18959.750000</td>\n",
              "      <td>20203.000000</td>\n",
              "      <td>0.000000</td>\n",
              "      <td>1.0</td>\n",
              "      <td>1.0</td>\n",
              "      <td>424.000000</td>\n",
              "      <td>3.000000</td>\n",
              "      <td>1.0</td>\n",
              "      <td>1.0</td>\n",
              "    </tr>\n",
              "    <tr>\n",
              "      <th>50%</th>\n",
              "      <td>40.000000</td>\n",
              "      <td>11.000000</td>\n",
              "      <td>272000.000000</td>\n",
              "      <td>10218.985000</td>\n",
              "      <td>6656.800000</td>\n",
              "      <td>8635.230000</td>\n",
              "      <td>13363.000000</td>\n",
              "      <td>10.000000</td>\n",
              "      <td>35.000000</td>\n",
              "      <td>23.00000</td>\n",
              "      <td>46982.445000</td>\n",
              "      <td>46183.750000</td>\n",
              "      <td>48130.685000</td>\n",
              "      <td>4.000000</td>\n",
              "      <td>7.000000</td>\n",
              "      <td>4.000000</td>\n",
              "      <td>3964.750000</td>\n",
              "      <td>3325.500000</td>\n",
              "      <td>3791.720000</td>\n",
              "      <td>7.000000</td>\n",
              "      <td>17.000000</td>\n",
              "      <td>5.000000</td>\n",
              "      <td>41680.880000</td>\n",
              "      <td>45716.160000</td>\n",
              "      <td>38116.000000</td>\n",
              "      <td>32.000000</td>\n",
              "      <td>37.000000</td>\n",
              "      <td>23.000000</td>\n",
              "      <td>3934.660000</td>\n",
              "      <td>9.900000</td>\n",
              "      <td>44331.810000</td>\n",
              "      <td>110135.860000</td>\n",
              "      <td>13873.000000</td>\n",
              "      <td>2351.000000</td>\n",
              "      <td>31908.000000</td>\n",
              "      <td>30257.500000</td>\n",
              "      <td>31507.000000</td>\n",
              "      <td>1.000000</td>\n",
              "      <td>1.0</td>\n",
              "      <td>1.0</td>\n",
              "      <td>623.000000</td>\n",
              "      <td>6.000000</td>\n",
              "      <td>1.0</td>\n",
              "      <td>1.0</td>\n",
              "    </tr>\n",
              "    <tr>\n",
              "      <th>75%</th>\n",
              "      <td>53.000000</td>\n",
              "      <td>16.000000</td>\n",
              "      <td>401000.000000</td>\n",
              "      <td>21203.000000</td>\n",
              "      <td>14194.000000</td>\n",
              "      <td>18633.290000</td>\n",
              "      <td>20103.000000</td>\n",
              "      <td>44.000000</td>\n",
              "      <td>61.000000</td>\n",
              "      <td>43.00000</td>\n",
              "      <td>85740.000000</td>\n",
              "      <td>86055.000000</td>\n",
              "      <td>94434.852500</td>\n",
              "      <td>19.000000</td>\n",
              "      <td>21.000000</td>\n",
              "      <td>11.000000</td>\n",
              "      <td>9339.020000</td>\n",
              "      <td>7458.820000</td>\n",
              "      <td>8263.590000</td>\n",
              "      <td>25.000000</td>\n",
              "      <td>54.000000</td>\n",
              "      <td>21.000000</td>\n",
              "      <td>76551.807500</td>\n",
              "      <td>85209.977500</td>\n",
              "      <td>74062.385000</td>\n",
              "      <td>52.000000</td>\n",
              "      <td>73.000000</td>\n",
              "      <td>69.000000</td>\n",
              "      <td>9376.390000</td>\n",
              "      <td>18.000000</td>\n",
              "      <td>161704.000000</td>\n",
              "      <td>245000.000000</td>\n",
              "      <td>48950.000000</td>\n",
              "      <td>6885.000000</td>\n",
              "      <td>52512.000000</td>\n",
              "      <td>53449.000000</td>\n",
              "      <td>56421.000000</td>\n",
              "      <td>1.000000</td>\n",
              "      <td>1.0</td>\n",
              "      <td>1.0</td>\n",
              "      <td>799.000000</td>\n",
              "      <td>8.000000</td>\n",
              "      <td>1.0</td>\n",
              "      <td>1.0</td>\n",
              "    </tr>\n",
              "    <tr>\n",
              "      <th>max</th>\n",
              "      <td>64.000000</td>\n",
              "      <td>19.000000</td>\n",
              "      <td>523000.000000</td>\n",
              "      <td>40640.900000</td>\n",
              "      <td>26789.860000</td>\n",
              "      <td>36138.860000</td>\n",
              "      <td>219697.200000</td>\n",
              "      <td>80.000000</td>\n",
              "      <td>84.000000</td>\n",
              "      <td>83.00000</td>\n",
              "      <td>152525.000000</td>\n",
              "      <td>158148.580000</td>\n",
              "      <td>172725.000000</td>\n",
              "      <td>35.000000</td>\n",
              "      <td>58.000000</td>\n",
              "      <td>43.000000</td>\n",
              "      <td>18447.073000</td>\n",
              "      <td>15689.000000</td>\n",
              "      <td>16144.760000</td>\n",
              "      <td>50.000000</td>\n",
              "      <td>79.000000</td>\n",
              "      <td>44.000000</td>\n",
              "      <td>139831.439000</td>\n",
              "      <td>151816.700000</td>\n",
              "      <td>136112.049000</td>\n",
              "      <td>82.000000</td>\n",
              "      <td>103.000000</td>\n",
              "      <td>84.000000</td>\n",
              "      <td>19716.628000</td>\n",
              "      <td>31.500000</td>\n",
              "      <td>747610.000000</td>\n",
              "      <td>482147.000000</td>\n",
              "      <td>126001.000000</td>\n",
              "      <td>12415.000000</td>\n",
              "      <td>96111.000000</td>\n",
              "      <td>100183.000000</td>\n",
              "      <td>103500.000000</td>\n",
              "      <td>1.000000</td>\n",
              "      <td>1.0</td>\n",
              "      <td>1.0</td>\n",
              "      <td>883.000000</td>\n",
              "      <td>10.000000</td>\n",
              "      <td>1.0</td>\n",
              "      <td>1.0</td>\n",
              "    </tr>\n",
              "  </tbody>\n",
              "</table>\n",
              "</div>"
            ],
            "text/plain": [
              "                age  ...  vehicle_loan_closed\n",
              "count  19988.000000  ...              19988.0\n",
              "mean      43.382880  ...                  1.0\n",
              "std       12.214656  ...                  0.0\n",
              "min       29.000000  ...                  1.0\n",
              "25%       33.000000  ...                  1.0\n",
              "50%       40.000000  ...                  1.0\n",
              "75%       53.000000  ...                  1.0\n",
              "max       64.000000  ...                  1.0\n",
              "\n",
              "[8 rows x 44 columns]"
            ]
          },
          "metadata": {},
          "execution_count": 53
        }
      ]
    },
    {
      "cell_type": "markdown",
      "metadata": {
        "id": "kmTFwqmgLUM7"
      },
      "source": [
        "## 6\\. label encoding of cat cols"
      ]
    },
    {
      "cell_type": "code",
      "metadata": {
        "colab": {
          "base_uri": "https://localhost:8080/",
          "height": 143
        },
        "id": "imUeTl4SLT5F",
        "outputId": "1b6c06ef-99aa-4d89-97d4-4b187a8a24a9"
      },
      "source": [
        "cat_cols = pd.get_dummies(cat_cols)\n",
        "cat_cols.drop(labels=['account_type_saving','gender_F','income_HIGH'],axis=1,inplace=True)\n",
        "#renaming columns\n",
        "cat_cols.columns = ['account_type','gender','income_low','income_medium', 'loan_enq']\n",
        "cat_cols.head(3)"
      ],
      "execution_count": 54,
      "outputs": [
        {
          "output_type": "execute_result",
          "data": {
            "text/html": [
              "<div>\n",
              "<style scoped>\n",
              "    .dataframe tbody tr th:only-of-type {\n",
              "        vertical-align: middle;\n",
              "    }\n",
              "\n",
              "    .dataframe tbody tr th {\n",
              "        vertical-align: top;\n",
              "    }\n",
              "\n",
              "    .dataframe thead th {\n",
              "        text-align: right;\n",
              "    }\n",
              "</style>\n",
              "<table border=\"1\" class=\"dataframe\">\n",
              "  <thead>\n",
              "    <tr style=\"text-align: right;\">\n",
              "      <th></th>\n",
              "      <th>account_type</th>\n",
              "      <th>gender</th>\n",
              "      <th>income_low</th>\n",
              "      <th>income_medium</th>\n",
              "      <th>loan_enq</th>\n",
              "    </tr>\n",
              "  </thead>\n",
              "  <tbody>\n",
              "    <tr>\n",
              "      <th>0</th>\n",
              "      <td>1</td>\n",
              "      <td>1</td>\n",
              "      <td>0</td>\n",
              "      <td>1</td>\n",
              "      <td>1</td>\n",
              "    </tr>\n",
              "    <tr>\n",
              "      <th>1</th>\n",
              "      <td>1</td>\n",
              "      <td>1</td>\n",
              "      <td>0</td>\n",
              "      <td>1</td>\n",
              "      <td>1</td>\n",
              "    </tr>\n",
              "    <tr>\n",
              "      <th>2</th>\n",
              "      <td>1</td>\n",
              "      <td>0</td>\n",
              "      <td>0</td>\n",
              "      <td>1</td>\n",
              "      <td>1</td>\n",
              "    </tr>\n",
              "  </tbody>\n",
              "</table>\n",
              "</div>"
            ],
            "text/plain": [
              "   account_type  gender  income_low  income_medium  loan_enq\n",
              "0             1       1           0              1         1\n",
              "1             1       1           0              1         1\n",
              "2             1       0           0              1         1"
            ]
          },
          "metadata": {},
          "execution_count": 54
        }
      ]
    },
    {
      "cell_type": "markdown",
      "metadata": {
        "id": "0p8kLy6JKw8X"
      },
      "source": [
        "###  Joining cat_cols and num_cols"
      ]
    },
    {
      "cell_type": "code",
      "metadata": {
        "colab": {
          "base_uri": "https://localhost:8080/",
          "height": 163
        },
        "id": "Cidl_CKPKDR5",
        "outputId": "e0beb1fa-aa3b-44e9-b843-b38df3ed1887"
      },
      "source": [
        "# joining the num_cols and cat_cols df \n",
        "df = pd.concat([num_cols,cat_cols],axis=1)\n",
        "df.head(3)"
      ],
      "execution_count": 14,
      "outputs": [
        {
          "output_type": "execute_result",
          "data": {
            "text/html": [
              "<div>\n",
              "<style scoped>\n",
              "    .dataframe tbody tr th:only-of-type {\n",
              "        vertical-align: middle;\n",
              "    }\n",
              "\n",
              "    .dataframe tbody tr th {\n",
              "        vertical-align: top;\n",
              "    }\n",
              "\n",
              "    .dataframe thead th {\n",
              "        text-align: right;\n",
              "    }\n",
              "</style>\n",
              "<table border=\"1\" class=\"dataframe\">\n",
              "  <thead>\n",
              "    <tr style=\"text-align: right;\">\n",
              "      <th></th>\n",
              "      <th>age</th>\n",
              "      <th>avg_days_between_transaction</th>\n",
              "      <th>card_lim</th>\n",
              "      <th>cc_cons_apr</th>\n",
              "      <th>cc_cons_jun</th>\n",
              "      <th>cc_cons_may</th>\n",
              "      <th>cc_cons_target</th>\n",
              "      <th>cc_count_apr</th>\n",
              "      <th>cc_count_jun</th>\n",
              "      <th>cc_count_may</th>\n",
              "      <th>credit_amount_apr</th>\n",
              "      <th>credit_amount_jun</th>\n",
              "      <th>credit_amount_may</th>\n",
              "      <th>credit_count_apr</th>\n",
              "      <th>credit_count_jun</th>\n",
              "      <th>credit_count_may</th>\n",
              "      <th>dc_cons_apr</th>\n",
              "      <th>dc_cons_jun</th>\n",
              "      <th>dc_cons_may</th>\n",
              "      <th>dc_count_apr</th>\n",
              "      <th>dc_count_jun</th>\n",
              "      <th>dc_count_may</th>\n",
              "      <th>debit_amount_apr</th>\n",
              "      <th>debit_amount_jun</th>\n",
              "      <th>debit_amount_may</th>\n",
              "      <th>debit_count_apr</th>\n",
              "      <th>debit_count_jun</th>\n",
              "      <th>debit_count_may</th>\n",
              "      <th>emi_active</th>\n",
              "      <th>emp_tenure_years</th>\n",
              "      <th>investment_1</th>\n",
              "      <th>investment_2</th>\n",
              "      <th>investment_3</th>\n",
              "      <th>investment_4</th>\n",
              "      <th>max_credit_amount_apr</th>\n",
              "      <th>max_credit_amount_jun</th>\n",
              "      <th>max_credit_amount_may</th>\n",
              "      <th>net_banking_flag</th>\n",
              "      <th>personal_loan_active</th>\n",
              "      <th>personal_loan_closed</th>\n",
              "      <th>region_code</th>\n",
              "      <th>tenure_with_bank</th>\n",
              "      <th>vehicle_loan_active</th>\n",
              "      <th>vehicle_loan_closed</th>\n",
              "      <th>account_type</th>\n",
              "      <th>gender</th>\n",
              "      <th>income_low</th>\n",
              "      <th>income_medium</th>\n",
              "      <th>loan_enq</th>\n",
              "    </tr>\n",
              "  </thead>\n",
              "  <tbody>\n",
              "    <tr>\n",
              "      <th>0</th>\n",
              "      <td>63</td>\n",
              "      <td>5.0</td>\n",
              "      <td>519000</td>\n",
              "      <td>7998.48</td>\n",
              "      <td>6881.81</td>\n",
              "      <td>9553.00</td>\n",
              "      <td>NaN</td>\n",
              "      <td>8.0</td>\n",
              "      <td>13</td>\n",
              "      <td>23</td>\n",
              "      <td>44630.50</td>\n",
              "      <td>234843.0</td>\n",
              "      <td>61887.50</td>\n",
              "      <td>1</td>\n",
              "      <td>40</td>\n",
              "      <td>5</td>\n",
              "      <td>2289.0</td>\n",
              "      <td>3124.0</td>\n",
              "      <td>2879.58</td>\n",
              "      <td>47</td>\n",
              "      <td>30</td>\n",
              "      <td>3</td>\n",
              "      <td>79085.00</td>\n",
              "      <td>44884.90</td>\n",
              "      <td>107662.02</td>\n",
              "      <td>63.0</td>\n",
              "      <td>96</td>\n",
              "      <td>14</td>\n",
              "      <td>2646.72</td>\n",
              "      <td>30.1</td>\n",
              "      <td>13659.0</td>\n",
              "      <td>14000.0</td>\n",
              "      <td>80000.0</td>\n",
              "      <td>6885.0</td>\n",
              "      <td>48134.0</td>\n",
              "      <td>46088.0</td>\n",
              "      <td>20770.0</td>\n",
              "      <td>1</td>\n",
              "      <td>1</td>\n",
              "      <td>1.0</td>\n",
              "      <td>628.0</td>\n",
              "      <td>10</td>\n",
              "      <td>1</td>\n",
              "      <td>1</td>\n",
              "      <td>1</td>\n",
              "      <td>1</td>\n",
              "      <td>0</td>\n",
              "      <td>1</td>\n",
              "      <td>1</td>\n",
              "    </tr>\n",
              "    <tr>\n",
              "      <th>1</th>\n",
              "      <td>36</td>\n",
              "      <td>12.0</td>\n",
              "      <td>402000</td>\n",
              "      <td>16479.64</td>\n",
              "      <td>12032.60</td>\n",
              "      <td>7386.49</td>\n",
              "      <td>NaN</td>\n",
              "      <td>19.0</td>\n",
              "      <td>7</td>\n",
              "      <td>32</td>\n",
              "      <td>216770.95</td>\n",
              "      <td>234843.0</td>\n",
              "      <td>36644.25</td>\n",
              "      <td>1</td>\n",
              "      <td>7</td>\n",
              "      <td>4</td>\n",
              "      <td>415.0</td>\n",
              "      <td>6738.0</td>\n",
              "      <td>6763.00</td>\n",
              "      <td>1</td>\n",
              "      <td>16</td>\n",
              "      <td>37</td>\n",
              "      <td>85171.16</td>\n",
              "      <td>91073.84</td>\n",
              "      <td>34376.79</td>\n",
              "      <td>10.0</td>\n",
              "      <td>12</td>\n",
              "      <td>63</td>\n",
              "      <td>5469.79</td>\n",
              "      <td>14.4</td>\n",
              "      <td>942327.7</td>\n",
              "      <td>172131.0</td>\n",
              "      <td>28912.0</td>\n",
              "      <td>553.0</td>\n",
              "      <td>31820.0</td>\n",
              "      <td>17953.0</td>\n",
              "      <td>78627.0</td>\n",
              "      <td>0</td>\n",
              "      <td>1</td>\n",
              "      <td>1.0</td>\n",
              "      <td>656.0</td>\n",
              "      <td>10</td>\n",
              "      <td>1</td>\n",
              "      <td>1</td>\n",
              "      <td>1</td>\n",
              "      <td>1</td>\n",
              "      <td>0</td>\n",
              "      <td>1</td>\n",
              "      <td>1</td>\n",
              "    </tr>\n",
              "    <tr>\n",
              "      <th>2</th>\n",
              "      <td>28</td>\n",
              "      <td>13.0</td>\n",
              "      <td>114000</td>\n",
              "      <td>29272.03</td>\n",
              "      <td>824.74</td>\n",
              "      <td>4170.53</td>\n",
              "      <td>NaN</td>\n",
              "      <td>12.0</td>\n",
              "      <td>44</td>\n",
              "      <td>30</td>\n",
              "      <td>24878.00</td>\n",
              "      <td>35467.0</td>\n",
              "      <td>50121.00</td>\n",
              "      <td>33</td>\n",
              "      <td>16</td>\n",
              "      <td>6</td>\n",
              "      <td>27835.0</td>\n",
              "      <td>3778.0</td>\n",
              "      <td>25584.00</td>\n",
              "      <td>22</td>\n",
              "      <td>37</td>\n",
              "      <td>15</td>\n",
              "      <td>44916.42</td>\n",
              "      <td>96552.00</td>\n",
              "      <td>140182.87</td>\n",
              "      <td>55.0</td>\n",
              "      <td>42</td>\n",
              "      <td>82</td>\n",
              "      <td>7207.85</td>\n",
              "      <td>4.8</td>\n",
              "      <td>70310.6</td>\n",
              "      <td>208652.0</td>\n",
              "      <td>1036.0</td>\n",
              "      <td>1089.0</td>\n",
              "      <td>146071.0</td>\n",
              "      <td>41121.0</td>\n",
              "      <td>5675.0</td>\n",
              "      <td>1</td>\n",
              "      <td>1</td>\n",
              "      <td>1.0</td>\n",
              "      <td>314.0</td>\n",
              "      <td>10</td>\n",
              "      <td>1</td>\n",
              "      <td>1</td>\n",
              "      <td>1</td>\n",
              "      <td>0</td>\n",
              "      <td>0</td>\n",
              "      <td>1</td>\n",
              "      <td>1</td>\n",
              "    </tr>\n",
              "  </tbody>\n",
              "</table>\n",
              "</div>"
            ],
            "text/plain": [
              "   age  avg_days_between_transaction  ...  income_medium  loan_enq\n",
              "0   63                           5.0  ...              1         1\n",
              "1   36                          12.0  ...              1         1\n",
              "2   28                          13.0  ...              1         1\n",
              "\n",
              "[3 rows x 49 columns]"
            ]
          },
          "metadata": {},
          "execution_count": 14
        }
      ]
    },
    {
      "cell_type": "markdown",
      "metadata": {
        "id": "hG9suppy_qdt"
      },
      "source": [
        "## Pandas profiling"
      ]
    },
    {
      "cell_type": "code",
      "metadata": {
        "id": "dFiFE3C2_14s"
      },
      "source": [
        "# import pandas_profiling\n",
        "\n",
        "# profile_report=pandas_profiling.ProfileReport(df)\n",
        "# profile_report.to_file(\"profile_report.html\")"
      ],
      "execution_count": 15,
      "outputs": []
    },
    {
      "cell_type": "markdown",
      "metadata": {
        "id": "7p4ZMKVYAP5M"
      },
      "source": [
        "## Splitting the data in df_train and df_predict"
      ]
    },
    {
      "cell_type": "code",
      "metadata": {
        "colab": {
          "base_uri": "https://localhost:8080/"
        },
        "id": "xyK-PiSIK4XR",
        "outputId": "0fb1002f-7736-46a5-a74d-e17f05af22cd"
      },
      "source": [
        "#now we will split the df in two parts. df_predict and df_train.\n",
        "#df_train will contain entries having numerial values in cc_cons_target\n",
        "#df_predict will have the rows/customers that we have to predict the output for\n",
        "\n",
        "#filtering all the rows from final that contain NaN values in cc_cons_target and storing those rows in df_predict.\n",
        "df_predict = df[df.cc_cons_target.isna()]\n",
        "#dropping the NaN values of cc_cons_target \n",
        "df_predict.drop(labels='cc_cons_target',axis=1,inplace=True)\n",
        "\n",
        "# droppping  all the rows that are in the df_predict dataframe and storing the result in df_train\n",
        "df_train = df.drop(df_predict.index)"
      ],
      "execution_count": 16,
      "outputs": [
        {
          "output_type": "stream",
          "name": "stderr",
          "text": [
            "/usr/local/lib/python3.7/dist-packages/pandas/core/frame.py:4174: SettingWithCopyWarning: \n",
            "A value is trying to be set on a copy of a slice from a DataFrame\n",
            "\n",
            "See the caveats in the documentation: https://pandas.pydata.org/pandas-docs/stable/user_guide/indexing.html#returning-a-view-versus-a-copy\n",
            "  errors=errors,\n"
          ]
        }
      ]
    },
    {
      "cell_type": "code",
      "metadata": {
        "colab": {
          "base_uri": "https://localhost:8080/"
        },
        "id": "abAfsXXhN3fS",
        "outputId": "4a55202b-fdb4-4cd8-a368-39dfe277571b"
      },
      "source": [
        "df_train.shape"
      ],
      "execution_count": 17,
      "outputs": [
        {
          "output_type": "execute_result",
          "data": {
            "text/plain": [
              "(14995, 49)"
            ]
          },
          "metadata": {},
          "execution_count": 17
        }
      ]
    },
    {
      "cell_type": "code",
      "metadata": {
        "colab": {
          "base_uri": "https://localhost:8080/"
        },
        "id": "1pngdqiJN44q",
        "outputId": "9279fbaf-6393-4382-e73c-2c2d88feaf12"
      },
      "source": [
        "df_predict.shape"
      ],
      "execution_count": 18,
      "outputs": [
        {
          "output_type": "execute_result",
          "data": {
            "text/plain": [
              "(4993, 48)"
            ]
          },
          "metadata": {},
          "execution_count": 18
        }
      ]
    },
    {
      "cell_type": "markdown",
      "metadata": {
        "id": "nY3Bk_QdQJ96"
      },
      "source": [
        "## 8. Splitting df_train in train_x and train_y"
      ]
    },
    {
      "cell_type": "code",
      "metadata": {
        "id": "niUD1F9N8xgJ"
      },
      "source": [
        "train_x = df_train.columns.difference(df_train['cc_cons_target'])"
      ],
      "execution_count": 21,
      "outputs": []
    },
    {
      "cell_type": "code",
      "metadata": {
        "id": "-ySgYbq9PptJ"
      },
      "source": [
        "\n",
        "\n",
        "\n",
        "# train_x = df_train[['Total_closed_loan', 'Total_credit_amount', 'Total_debit_amount','Total_max_credit_acmout',\n",
        "#                     'Totat_active_loan', 'age','avg_days_between_transaction', 'card_lim','cc_count', 'credit_count',\n",
        "#                     'creditcard_exp', 'dc_count', 'debit_count','debitcard_exp', 'emi_active', 'emp_tenure_years', \n",
        "#                     'investment','net_banking_flag', 'region_code', 'tenure_with_bank', 'account_type','gender',\n",
        "#                     'income_low', 'income_medium', 'loan_enq']]\n",
        "\n",
        "train_y = df_train[['cc_cons_target']]\n",
        "train_y.columns=['target']\n"
      ],
      "execution_count": 22,
      "outputs": []
    },
    {
      "cell_type": "markdown",
      "metadata": {
        "id": "ssmBulV4Bwqm"
      },
      "source": [
        "### Normalizing target variable\n",
        "our target variable should be normalized. Thus we will log transform  our train_y"
      ]
    },
    {
      "cell_type": "code",
      "metadata": {
        "colab": {
          "base_uri": "https://localhost:8080/",
          "height": 284
        },
        "id": "3tbQO14FCAeF",
        "outputId": "99336f99-bf17-4405-bc90-52d34146c5d3"
      },
      "source": [
        "train_y.plot(kind='hist')"
      ],
      "execution_count": 23,
      "outputs": [
        {
          "output_type": "execute_result",
          "data": {
            "text/plain": [
              "<matplotlib.axes._subplots.AxesSubplot at 0x7f0c4f05da90>"
            ]
          },
          "metadata": {},
          "execution_count": 23
        },
        {
          "output_type": "display_data",
          "data": {
            "image/png": "[encoded data removed]",
            "text/plain": [
              "<Figure size 432x288 with 1 Axes>"
            ]
          },
          "metadata": {
            "needs_background": "light"
          }
        }
      ]
    },
    {
      "cell_type": "code",
      "metadata": {
        "id": "e8P4EX3dRA4q",
        "colab": {
          "base_uri": "https://localhost:8080/",
          "height": 284
        },
        "outputId": "fbe7a8de-44e7-4326-c4eb-85a449302c1f"
      },
      "source": [
        "train_y_log = np.log(train_y)\n",
        "train_y_log.plot(kind='hist',bins=20)"
      ],
      "execution_count": 24,
      "outputs": [
        {
          "output_type": "execute_result",
          "data": {
            "text/plain": [
              "<matplotlib.axes._subplots.AxesSubplot at 0x7f0c4ef66750>"
            ]
          },
          "metadata": {},
          "execution_count": 24
        },
        {
          "output_type": "display_data",
          "data": {
            "image/png": "[encoded data removed]",
            "text/plain": [
              "<Figure size 432x288 with 1 Axes>"
            ]
          },
          "metadata": {
            "needs_background": "light"
          }
        }
      ]
    },
    {
      "cell_type": "code",
      "metadata": {
        "colab": {
          "base_uri": "https://localhost:8080/",
          "height": 342
        },
        "id": "jAXH4FFbFopU",
        "outputId": "71018801-e8f7-4898-d9e6-9ac5db6c392d"
      },
      "source": [
        "sns.distplot(train_y_log)"
      ],
      "execution_count": 25,
      "outputs": [
        {
          "output_type": "stream",
          "name": "stderr",
          "text": [
            "/usr/local/lib/python3.7/dist-packages/seaborn/distributions.py:2557: FutureWarning: `distplot` is a deprecated function and will be removed in a future version. Please adapt your code to use either `displot` (a figure-level function with similar flexibility) or `histplot` (an axes-level function for histograms).\n",
            "  warnings.warn(msg, FutureWarning)\n"
          ]
        },
        {
          "output_type": "execute_result",
          "data": {
            "text/plain": [
              "<matplotlib.axes._subplots.AxesSubplot at 0x7f0c4ea201d0>"
            ]
          },
          "metadata": {},
          "execution_count": 25
        },
        {
          "output_type": "display_data",
          "data": {
            "image/png": "[encoded data removed]",
            "text/plain": [
              "<Figure size 432x288 with 1 Axes>"
            ]
          },
          "metadata": {
            "needs_background": "light"
          }
        }
      ]
    },
    {
      "cell_type": "code",
      "metadata": {
        "colab": {
          "base_uri": "https://localhost:8080/",
          "height": 341
        },
        "id": "PvDZ7x8U-gxh",
        "outputId": "d372ea42-b676-4012-b4b8-b9434db15ad9"
      },
      "source": [
        "from sklearn.preprocessing import StandardScaler\n",
        "\n",
        "std_scaler = StandardScaler()\n",
        "aa = std_scaler.fit_transform(train_y)\n",
        "\n",
        "sns.distplot(aa)"
      ],
      "execution_count": 32,
      "outputs": [
        {
          "output_type": "stream",
          "name": "stderr",
          "text": [
            "/usr/local/lib/python3.7/dist-packages/seaborn/distributions.py:2557: FutureWarning: `distplot` is a deprecated function and will be removed in a future version. Please adapt your code to use either `displot` (a figure-level function with similar flexibility) or `histplot` (an axes-level function for histograms).\n",
            "  warnings.warn(msg, FutureWarning)\n"
          ]
        },
        {
          "output_type": "execute_result",
          "data": {
            "text/plain": [
              "<matplotlib.axes._subplots.AxesSubplot at 0x7f0c42dabad0>"
            ]
          },
          "metadata": {},
          "execution_count": 32
        },
        {
          "output_type": "display_data",
          "data": {
            "image/png": "[encoded data removed]",
            "text/plain": [
              "<Figure size 432x288 with 1 Axes>"
            ]
          },
          "metadata": {
            "needs_background": "light"
          }
        }
      ]
    },
    {
      "cell_type": "markdown",
      "metadata": {
        "id": "zNcFPfbORCS9"
      },
      "source": [
        "## 9\\. Running OLS model on our dataset"
      ]
    },
    {
      "cell_type": "code",
      "metadata": {
        "colab": {
          "base_uri": "https://localhost:8080/"
        },
        "id": "C4TWxjDRRGtp",
        "outputId": "a52d9825-d611-44f5-b00f-167ee8ec003f"
      },
      "source": [
        "### OLS regression\n",
        "import statsmodels.api as sm\n",
        "\n",
        "model = sm.OLS(train_y_log,train_x)\n",
        "\n",
        "model_fit = model.fit()\n",
        "\n",
        "print(model_fit.summary())"
      ],
      "execution_count": null,
      "outputs": [
        {
          "output_type": "stream",
          "name": "stdout",
          "text": [
            "                            OLS Regression Results                            \n",
            "==============================================================================\n",
            "Dep. Variable:         cc_cons_target   R-squared:                       0.001\n",
            "Model:                            OLS   Adj. R-squared:                 -0.000\n",
            "Method:                 Least Squares   F-statistic:                    0.8641\n",
            "Date:                Wed, 01 Sep 2021   Prob (F-statistic):              0.645\n",
            "Time:                        11:07:04   Log-Likelihood:                -27056.\n",
            "No. Observations:               14995   AIC:                         5.416e+04\n",
            "Df Residuals:                   14972   BIC:                         5.433e+04\n",
            "Df Model:                          22                                         \n",
            "Covariance Type:            nonrobust                                         \n",
            "================================================================================================\n",
            "                                   coef    std err          t      P>|t|      [0.025      0.975]\n",
            "------------------------------------------------------------------------------------------------\n",
            "Total_closed_loan                2.1646      0.025     87.846      0.000       2.116       2.213\n",
            "Total_credit_amount           6.831e-08   9.09e-08      0.752      0.452    -1.1e-07    2.46e-07\n",
            "Total_debit_amount           -4.636e-08   1.03e-07     -0.449      0.653   -2.49e-07    1.56e-07\n",
            "Total_max_credit_acmout       9.541e-08    1.4e-07      0.680      0.497    -1.8e-07    3.71e-07\n",
            "Totat_active_loan                2.1646      0.025     87.846      0.000       2.116       2.213\n",
            "age                              0.0001      0.001      0.108      0.914      -0.002       0.003\n",
            "avg_days_between_transaction    -0.0021      0.002     -0.966      0.334      -0.006       0.002\n",
            "card_lim                     -4.733e-08   7.11e-08     -0.666      0.505   -1.87e-07    9.19e-08\n",
            "cc_count                      1.341e-05      0.000      0.066      0.947      -0.000       0.000\n",
            "credit_count                     0.0003      0.000      0.872      0.383      -0.000       0.001\n",
            "creditcard_exp                9.966e-07   4.14e-07      2.410      0.016    1.86e-07    1.81e-06\n",
            "dc_count                         0.0001      0.000      0.412      0.680      -0.001       0.001\n",
            "debit_count                     -0.0001      0.000     -0.542      0.588      -0.001       0.000\n",
            "debitcard_exp                -5.096e-07   7.76e-07     -0.656      0.512   -2.03e-06    1.01e-06\n",
            "emi_active                    1.384e-06   1.29e-06      1.072      0.284   -1.15e-06    3.91e-06\n",
            "emp_tenure_years                -0.0020      0.002     -1.224      0.221      -0.005       0.001\n",
            "investment                     2.19e-08   1.84e-08      1.190      0.234   -1.42e-08     5.8e-08\n",
            "net_banking_flag                 0.0046      0.027      0.173      0.863      -0.048       0.057\n",
            "region_code                  -7.688e-05   5.56e-05     -1.382      0.167      -0.000    3.21e-05\n",
            "tenure_with_bank                 0.0033      0.004      0.777      0.437      -0.005       0.011\n",
            "account_type                    -0.0078      0.034     -0.234      0.815      -0.074       0.058\n",
            "gender                           0.0068      0.035      0.194      0.846      -0.062       0.075\n",
            "income_low                      -0.0201      0.048     -0.417      0.676      -0.115       0.074\n",
            "income_medium                   -0.0411      0.045     -0.911      0.362      -0.129       0.047\n",
            "loan_enq                         1.0823      0.012     87.846      0.000       1.058       1.106\n",
            "==============================================================================\n",
            "Omnibus:                     1014.661   Durbin-Watson:                   1.992\n",
            "Prob(Omnibus):                  0.000   Jarque-Bera (JB):             1185.362\n",
            "Skew:                           0.673   Prob(JB):                    4.00e-258\n",
            "Kurtosis:                       2.710   Cond. No.                     4.93e+35\n",
            "==============================================================================\n",
            "\n",
            "Warnings:\n",
            "[1] Standard Errors assume that the covariance matrix of the errors is correctly specified.\n",
            "[2] The smallest eigenvalue is 4.95e-56. This might indicate that there are\n",
            "strong multicollinearity problems or that the design matrix is singular.\n"
          ]
        }
      ]
    },
    {
      "cell_type": "markdown",
      "metadata": {
        "id": "Lm4nHzdVRdzs"
      },
      "source": [
        "#### Result of OLS regression model\n",
        "We can see from the above summary that many of the features have a p-value greter than that of 0.05. \n",
        "\n",
        "Thus we will remove those features from our model and rerun the OLS model"
      ]
    },
    {
      "cell_type": "code",
      "metadata": {
        "id": "4USkiZdGRW-z"
      },
      "source": [
        "#removing the top 5 features on the basis of p_value\n",
        "remove_cols = ['dc_count','Total_debit_amount','net_banking_flag','age','gender']\n",
        "new_cols = train_x.columns.difference(remove_cols)\n",
        "train_x = train_x[new_cols]\n"
      ],
      "execution_count": null,
      "outputs": []
    },
    {
      "cell_type": "code",
      "metadata": {
        "id": "MOY80hMqTgzS"
      },
      "source": [
        "# ### OLS regression part 2\n",
        "# model = sm.OLS(train_y,train_x)\n",
        "\n",
        "# model_fit = model.fit()\n",
        "\n",
        "# print(model_fit.summary())"
      ],
      "execution_count": null,
      "outputs": []
    },
    {
      "cell_type": "code",
      "metadata": {
        "id": "fL9iBermTvM6"
      },
      "source": [
        "#Total_closed_loan account_type card_lim cc_count debit_count income_low "
      ],
      "execution_count": null,
      "outputs": []
    },
    {
      "cell_type": "markdown",
      "metadata": {
        "id": "IBCbB8e6Ufc0"
      },
      "source": [
        "## VIF\n",
        "- VIF is used to remove multicollinearity from the dataset. \n",
        "- VIF = 1/(1-R^2)\n",
        "\n",
        "- It computes the R-sq value for every feature against all other features. The more a feature is collinear with other features , more the VIF score is.\n",
        "- VIF starts at 1 and has no upper limit\n",
        "- VIF = 1, no correlation between the independent variable and the other variables\n",
        "- VIF exceeding 5 or 10 indicates high multicollinearity between this independent variable and the others"
      ]
    },
    {
      "cell_type": "code",
      "metadata": {
        "colab": {
          "base_uri": "https://localhost:8080/",
          "height": 733
        },
        "id": "47RNf4YuUhYy",
        "outputId": "e7c807f6-db1f-42e7-d82c-52e44479730e"
      },
      "source": [
        "#R^2 value is determined to find out how well an independent variable is described by the other independent variables. \n",
        "#A high value of R^2 means that the variable is highly correlated with the other variables.\n",
        "#So, the closer the R^2 value to 1, the higher the value of VIF and\n",
        "# the higher the multicollinearity with the particular independent variable.\n",
        "\n",
        "\n",
        "# vif = 1/(1-r^2)\n",
        "\n",
        "\n",
        "# VIF starts at 1 and has no upper limit\n",
        "# VIF = 1, no correlation between the independent variable and the other variables\n",
        "# VIF exceeding 5 or 10 indicates high multicollinearity between this independent variable and the others\n",
        "\n",
        "\n",
        "\n",
        "\n",
        "# Import library for VIF\n",
        "from statsmodels.stats.outliers_influence import variance_inflation_factor\n",
        "\n",
        "def calc_vif(X):\n",
        "\n",
        "    # Calculating VIF\n",
        "    vif = pd.DataFrame()\n",
        "    vif[\"variables\"] = X.columns\n",
        "    vif[\"VIF\"] = [variance_inflation_factor(X.values, i) for i in range(X.shape[1])]\n",
        "\n",
        "    return(vif)\n",
        "\n",
        "\n",
        "X = train_x\n",
        "calc_vif(X)\n",
        "\n",
        "\n",
        "\n",
        "#Fixing Multicollinearity\n",
        "\n",
        "# #Dropping one of the correlated features will help in bringing down the multicollinearity between correlated features:\n",
        "# X = df.drop(['Age','Salary'],axis=1)\n",
        "# calc_vif(X)"
      ],
      "execution_count": null,
      "outputs": [
        {
          "output_type": "stream",
          "name": "stderr",
          "text": [
            "/usr/local/lib/python3.7/dist-packages/statsmodels/regression/linear_model.py:1636: RuntimeWarning: divide by zero encountered in double_scalars\n",
            "  return 1 - self.ssr/self.centered_tss\n"
          ]
        },
        {
          "output_type": "execute_result",
          "data": {
            "text/html": [
              "<div>\n",
              "<style scoped>\n",
              "    .dataframe tbody tr th:only-of-type {\n",
              "        vertical-align: middle;\n",
              "    }\n",
              "\n",
              "    .dataframe tbody tr th {\n",
              "        vertical-align: top;\n",
              "    }\n",
              "\n",
              "    .dataframe thead th {\n",
              "        text-align: right;\n",
              "    }\n",
              "</style>\n",
              "<table border=\"1\" class=\"dataframe\">\n",
              "  <thead>\n",
              "    <tr style=\"text-align: right;\">\n",
              "      <th></th>\n",
              "      <th>variables</th>\n",
              "      <th>VIF</th>\n",
              "    </tr>\n",
              "  </thead>\n",
              "  <tbody>\n",
              "    <tr>\n",
              "      <th>0</th>\n",
              "      <td>Total_closed_loan</td>\n",
              "      <td>0.000000</td>\n",
              "    </tr>\n",
              "    <tr>\n",
              "      <th>1</th>\n",
              "      <td>Total_credit_amount</td>\n",
              "      <td>1.000894</td>\n",
              "    </tr>\n",
              "    <tr>\n",
              "      <th>2</th>\n",
              "      <td>Total_max_credit_acmout</td>\n",
              "      <td>1.001745</td>\n",
              "    </tr>\n",
              "    <tr>\n",
              "      <th>3</th>\n",
              "      <td>Totat_active_loan</td>\n",
              "      <td>0.000000</td>\n",
              "    </tr>\n",
              "    <tr>\n",
              "      <th>4</th>\n",
              "      <td>account_type</td>\n",
              "      <td>1.001049</td>\n",
              "    </tr>\n",
              "    <tr>\n",
              "      <th>5</th>\n",
              "      <td>avg_days_between_transaction</td>\n",
              "      <td>1.001097</td>\n",
              "    </tr>\n",
              "    <tr>\n",
              "      <th>6</th>\n",
              "      <td>card_lim</td>\n",
              "      <td>1.000597</td>\n",
              "    </tr>\n",
              "    <tr>\n",
              "      <th>7</th>\n",
              "      <td>cc_count</td>\n",
              "      <td>1.000425</td>\n",
              "    </tr>\n",
              "    <tr>\n",
              "      <th>8</th>\n",
              "      <td>credit_count</td>\n",
              "      <td>1.001492</td>\n",
              "    </tr>\n",
              "    <tr>\n",
              "      <th>9</th>\n",
              "      <td>creditcard_exp</td>\n",
              "      <td>1.001631</td>\n",
              "    </tr>\n",
              "    <tr>\n",
              "      <th>10</th>\n",
              "      <td>debit_count</td>\n",
              "      <td>1.000761</td>\n",
              "    </tr>\n",
              "    <tr>\n",
              "      <th>11</th>\n",
              "      <td>debitcard_exp</td>\n",
              "      <td>1.000823</td>\n",
              "    </tr>\n",
              "    <tr>\n",
              "      <th>12</th>\n",
              "      <td>emi_active</td>\n",
              "      <td>1.001476</td>\n",
              "    </tr>\n",
              "    <tr>\n",
              "      <th>13</th>\n",
              "      <td>emp_tenure_years</td>\n",
              "      <td>1.001325</td>\n",
              "    </tr>\n",
              "    <tr>\n",
              "      <th>14</th>\n",
              "      <td>income_low</td>\n",
              "      <td>3.240765</td>\n",
              "    </tr>\n",
              "    <tr>\n",
              "      <th>15</th>\n",
              "      <td>income_medium</td>\n",
              "      <td>3.239876</td>\n",
              "    </tr>\n",
              "    <tr>\n",
              "      <th>16</th>\n",
              "      <td>investment</td>\n",
              "      <td>1.001091</td>\n",
              "    </tr>\n",
              "    <tr>\n",
              "      <th>17</th>\n",
              "      <td>loan_enq</td>\n",
              "      <td>0.000000</td>\n",
              "    </tr>\n",
              "    <tr>\n",
              "      <th>18</th>\n",
              "      <td>region_code</td>\n",
              "      <td>1.000992</td>\n",
              "    </tr>\n",
              "    <tr>\n",
              "      <th>19</th>\n",
              "      <td>tenure_with_bank</td>\n",
              "      <td>1.001018</td>\n",
              "    </tr>\n",
              "  </tbody>\n",
              "</table>\n",
              "</div>"
            ],
            "text/plain": [
              "                       variables       VIF\n",
              "0              Total_closed_loan  0.000000\n",
              "1            Total_credit_amount  1.000894\n",
              "2        Total_max_credit_acmout  1.001745\n",
              "3              Totat_active_loan  0.000000\n",
              "4                   account_type  1.001049\n",
              "5   avg_days_between_transaction  1.001097\n",
              "6                       card_lim  1.000597\n",
              "7                       cc_count  1.000425\n",
              "8                   credit_count  1.001492\n",
              "9                 creditcard_exp  1.001631\n",
              "10                   debit_count  1.000761\n",
              "11                 debitcard_exp  1.000823\n",
              "12                    emi_active  1.001476\n",
              "13              emp_tenure_years  1.001325\n",
              "14                    income_low  3.240765\n",
              "15                 income_medium  3.239876\n",
              "16                    investment  1.001091\n",
              "17                      loan_enq  0.000000\n",
              "18                   region_code  1.000992\n",
              "19              tenure_with_bank  1.001018"
            ]
          },
          "metadata": {},
          "execution_count": 227
        }
      ]
    },
    {
      "cell_type": "markdown",
      "metadata": {
        "id": "-wGlPkvQ7ACQ"
      },
      "source": [
        "### RFE"
      ]
    },
    {
      "cell_type": "code",
      "metadata": {
        "id": "r2J0igv2VWdc",
        "colab": {
          "base_uri": "https://localhost:8080/"
        },
        "outputId": "d039d921-883b-4c2e-f026-16a9fda8e6ba"
      },
      "source": [
        "from sklearn.tree import DecisionTreeRegressor\n",
        "from sklearn.feature_selection import RFE\n",
        "\n",
        "\n",
        "dt_reg = DecisionTreeRegressor(random_state=0)\n",
        "\n",
        "# lr = LinearRegression()\n",
        "rfe = RFE(estimator=dt_reg, n_features_to_select=16)\n",
        "rfe.fit(train_x, train_y)\n",
        "\n",
        "rfe.ranking_\n",
        "\n",
        "\n",
        "# selecting features given by RFE\n",
        "f = rfe.get_support(1) #the most important features\n",
        "selected_x = train_x[train_x.columns[f]] # final features`\n",
        "selected_x.columns"
      ],
      "execution_count": null,
      "outputs": [
        {
          "output_type": "stream",
          "name": "stderr",
          "text": [
            "/usr/local/lib/python3.7/dist-packages/sklearn/utils/validation.py:760: DataConversionWarning: A column-vector y was passed when a 1d array was expected. Please change the shape of y to (n_samples, ), for example using ravel().\n",
            "  y = column_or_1d(y, warn=True)\n"
          ]
        },
        {
          "output_type": "execute_result",
          "data": {
            "text/plain": [
              "Index(['Total_credit_amount', 'Total_max_credit_acmout',\n",
              "       'avg_days_between_transaction', 'card_lim', 'cc_count', 'credit_count',\n",
              "       'creditcard_exp', 'debit_count', 'debitcard_exp', 'emi_active',\n",
              "       'emp_tenure_years', 'income_low', 'income_medium', 'investment',\n",
              "       'region_code', 'tenure_with_bank'],\n",
              "      dtype='object')"
            ]
          },
          "metadata": {},
          "execution_count": 264
        }
      ]
    },
    {
      "cell_type": "markdown",
      "metadata": {
        "id": "isK6k6auBm1n"
      },
      "source": [
        "### Fitting the selected_x in OLS"
      ]
    },
    {
      "cell_type": "code",
      "metadata": {
        "colab": {
          "base_uri": "https://localhost:8080/"
        },
        "id": "WluCBcHQBTNm",
        "outputId": "6d3cb756-e139-4738-f1ee-557a4f52bab6"
      },
      "source": [
        "model = sm.OLS(train_y_log,selected_x)\n",
        "\n",
        "model_fit = model.fit()\n",
        "\n",
        "print(model_fit.summary())"
      ],
      "execution_count": null,
      "outputs": [
        {
          "output_type": "stream",
          "name": "stdout",
          "text": [
            "                                 OLS Regression Results                                \n",
            "=======================================================================================\n",
            "Dep. Variable:                 target   R-squared (uncentered):                   0.959\n",
            "Model:                            OLS   Adj. R-squared (uncentered):              0.959\n",
            "Method:                 Least Squares   F-statistic:                          2.199e+04\n",
            "Date:                Wed, 01 Sep 2021   Prob (F-statistic):                        0.00\n",
            "Time:                        12:17:46   Log-Likelihood:                         -31558.\n",
            "No. Observations:               14995   AIC:                                  6.315e+04\n",
            "Df Residuals:                   14979   BIC:                                  6.327e+04\n",
            "Df Model:                          16                                                  \n",
            "Covariance Type:            nonrobust                                                  \n",
            "================================================================================================\n",
            "                                   coef    std err          t      P>|t|      [0.025      0.975]\n",
            "------------------------------------------------------------------------------------------------\n",
            "Total_credit_amount           2.384e-06   1.19e-07     19.979      0.000    2.15e-06    2.62e-06\n",
            "Total_max_credit_acmout       3.953e-06   1.84e-07     21.543      0.000    3.59e-06    4.31e-06\n",
            "avg_days_between_transaction     0.0644      0.003     22.665      0.000       0.059       0.070\n",
            "card_lim                      1.723e-06   9.34e-08     18.440      0.000    1.54e-06    1.91e-06\n",
            "cc_count                         0.0053      0.000     20.098      0.000       0.005       0.006\n",
            "credit_count                     0.0091      0.001     17.835      0.000       0.008       0.010\n",
            "creditcard_exp                1.052e-05   5.46e-07     19.274      0.000    9.45e-06    1.16e-05\n",
            "debit_count                      0.0067      0.000     24.544      0.000       0.006       0.007\n",
            "debitcard_exp                 1.604e-05   1.03e-06     15.596      0.000     1.4e-05    1.81e-05\n",
            "emi_active                    1.797e-05   1.73e-06     10.382      0.000    1.46e-05    2.14e-05\n",
            "emp_tenure_years                 0.0188      0.002     12.549      0.000       0.016       0.022\n",
            "income_low                       2.3194      0.059     39.619      0.000       2.205       2.434\n",
            "income_medium                    2.3071      0.054     42.933      0.000       2.202       2.412\n",
            "investment                    2.797e-07   2.46e-08     11.355      0.000    2.31e-07    3.28e-07\n",
            "region_code                      0.0023   6.92e-05     33.324      0.000       0.002       0.002\n",
            "tenure_with_bank                 0.1258      0.005     23.030      0.000       0.115       0.137\n",
            "==============================================================================\n",
            "Omnibus:                      260.461   Durbin-Watson:                   1.984\n",
            "Prob(Omnibus):                  0.000   Jarque-Bera (JB):              274.003\n",
            "Skew:                           0.331   Prob(JB):                     3.17e-60\n",
            "Kurtosis:                       3.004   Cond. No.                     4.10e+06\n",
            "==============================================================================\n",
            "\n",
            "Warnings:\n",
            "[1] Standard Errors assume that the covariance matrix of the errors is correctly specified.\n",
            "[2] The condition number is large, 4.1e+06. This might indicate that there are\n",
            "strong multicollinearity or other numerical problems.\n"
          ]
        }
      ]
    },
    {
      "cell_type": "markdown",
      "metadata": {
        "id": "3BNvjx2LDVgy"
      },
      "source": [
        "### Predicting OLS regression values"
      ]
    },
    {
      "cell_type": "code",
      "metadata": {
        "id": "6X5KqDpYDaZx"
      },
      "source": [
        "train_y_log_hat = model_fit.predict(selected_x)\n",
        "train_y_log_hat.columns = ['target']\n",
        "\n",
        "\n",
        "train_y_hat = np.exp(train_y_log_hat)\n",
        "train_y_hat = pd.DataFrame(train_y_hat)\n",
        "# train_y_hat = train_y_hat.apply(lambda x: '%.5f' % x, axis=1)\n",
        "# train_y_hat = pd.DataFrame(train_y_hat)\n",
        "train_y_hat.columns = ['target']"
      ],
      "execution_count": null,
      "outputs": []
    },
    {
      "cell_type": "markdown",
      "metadata": {
        "id": "lI8dR1MXDDBq"
      },
      "source": [
        "### calculating errors"
      ]
    },
    {
      "cell_type": "code",
      "metadata": {
        "id": "pXbpg1cOC_5Q"
      },
      "source": [
        "#UDF for calcualting MAPE,RMSE and RMSPE for the test values and forecasted values\n",
        "def calculate_error(y_true,y_pred):\n",
        "  map_error = np.mean((np.abs(y_true - y_pred))/y_true*100)\n",
        "  rms_error = np.sqrt(np.mean(np.square(y_true - y_pred)))\n",
        "  rmps_error = (np.sqrt(np.mean(np.square((y_true - y_pred) / y_true)))) * 100\n",
        "  result =  {'mape':map_error ,'rmse': rms_error ,'rmspe': rmps_error}\n",
        "  return result"
      ],
      "execution_count": null,
      "outputs": []
    },
    {
      "cell_type": "code",
      "metadata": {
        "colab": {
          "base_uri": "https://localhost:8080/"
        },
        "id": "8XWfJz9TECK3",
        "outputId": "26987224-9df6-4cbe-f9b6-3331aa51997c"
      },
      "source": [
        "# calling the udf to calculate error between actual test values and arima forecasts\n",
        "error_coff = calculate_error(train_y.target,train_y_hat.target)\n",
        "print('------------OLS model error----------------------')\n",
        "# print('MAPE  :',error_coff['mape'][0])\n",
        "# print('RMSE  :',error_coff['rmse'][0])\n",
        "# print('RMSPE :',error_coff['rmspe'][0])\n",
        "print(error_coff)\n",
        "print('-------------------------------------------------')\n",
        "\n"
      ],
      "execution_count": null,
      "outputs": [
        {
          "output_type": "stream",
          "name": "stdout",
          "text": [
            "------------OLS model error----------------------\n",
            "{'mape': 389.3668488890094, 'rmse': 117760.38706191342, 'rmspe': 1534.6068953333556}\n",
            "-------------------------------------------------\n"
          ]
        }
      ]
    },
    {
      "cell_type": "code",
      "metadata": {
        "colab": {
          "base_uri": "https://localhost:8080/"
        },
        "id": "cGXCsZNfKBKy",
        "outputId": "edd67930-9cf4-49f9-ac9c-3b6986a21cf4"
      },
      "source": [
        "np.mean(np.abs(train_y.target - train_y_hat.target))"
      ],
      "execution_count": null,
      "outputs": [
        {
          "output_type": "execute_result",
          "data": {
            "text/plain": [
              "61933.28297991663"
            ]
          },
          "metadata": {},
          "execution_count": 270
        }
      ]
    },
    {
      "cell_type": "markdown",
      "metadata": {
        "id": "x5pXZKvZQ_sq"
      },
      "source": [
        "### polynomila reg"
      ]
    },
    {
      "cell_type": "code",
      "metadata": {
        "id": "I99mtupaLvS2"
      },
      "source": [
        "# from sklearn.preprocessing import PolynomialFeatures\n",
        "# polynomial_features= PolynomialFeatures(degree=3)\n",
        "# xp = polynomial_features.fit_transform(selected_x)\n",
        "# xp.shape\n"
      ],
      "execution_count": null,
      "outputs": []
    },
    {
      "cell_type": "code",
      "metadata": {
        "id": "vX9ZZUkuRNi1"
      },
      "source": [
        "# model = sm.OLS(train_y_log, xp).fit()\n",
        "# ypred = np.exp(model.predict(xp))\n",
        "# model.summary()\n"
      ],
      "execution_count": null,
      "outputs": []
    },
    {
      "cell_type": "code",
      "metadata": {
        "id": "0bJPPKBdSfcB"
      },
      "source": [
        ""
      ],
      "execution_count": null,
      "outputs": []
    },
    {
      "cell_type": "markdown",
      "metadata": {
        "id": "p_FXVnlDTucg"
      },
      "source": [
        "## Train test split"
      ]
    },
    {
      "cell_type": "code",
      "metadata": {
        "id": "p583jm-oTx9Q"
      },
      "source": [
        "from sklearn.model_selection import train_test_split\n",
        "\n",
        "\n",
        "x_train, x_test, y_train, y_test = train_test_split(selected_x, train_y, test_size=0.25, random_state=72)\n",
        "\n",
        "y_train_log = np.log(y_train)\n",
        "y_test_log = np.log(y_test)"
      ],
      "execution_count": null,
      "outputs": []
    },
    {
      "cell_type": "markdown",
      "metadata": {
        "id": "B7e1i1iBTeIV"
      },
      "source": [
        "## Linear Regression"
      ]
    },
    {
      "cell_type": "code",
      "metadata": {
        "id": "P8Z90_86Tm61"
      },
      "source": [
        "from sklearn.linear_model import LinearRegression\n",
        "lr = LinearRegression()\n",
        "# training the linear regression model on x_train and y_train_log\n",
        "lr.fit(x_train ,y_train_log)\n",
        "\n",
        "# predicting the values of selected_x and storing them in y_train_predicted\n",
        "y_train_predicted = np.exp(lr.predict(x_train))\n"
      ],
      "execution_count": null,
      "outputs": []
    },
    {
      "cell_type": "markdown",
      "metadata": {
        "id": "UbdwVMnDUwgV"
      },
      "source": [
        "## Error calculation of train values"
      ]
    },
    {
      "cell_type": "code",
      "metadata": {
        "colab": {
          "base_uri": "https://localhost:8080/"
        },
        "id": "JBPCA32ZUrl7",
        "outputId": "dbcacc31-8798-42b4-a256-08e9e82a1093"
      },
      "source": [
        "# calling the udf to calculate error between train_y_ln and predicted values\n",
        "error_coff = calculate_error(y_train_predicted,y_train)\n",
        "print('------------OLS model error----------------------')\n",
        "print('MAPE  :',error_coff['mape'][0])\n",
        "print('RMSE  :',error_coff['rmse'][0])\n",
        "print('RMSPE :',error_coff['rmspe'][0])\n",
        "# print(error_coff)\n",
        "print('-------------------------------------------------')"
      ],
      "execution_count": null,
      "outputs": [
        {
          "output_type": "stream",
          "name": "stdout",
          "text": [
            "------------OLS model error----------------------\n",
            "MAPE  : 293.055988010995\n",
            "RMSE  : 104706.6434714322\n",
            "RMSPE : 634.2497966057269\n",
            "-------------------------------------------------\n"
          ]
        }
      ]
    },
    {
      "cell_type": "markdown",
      "metadata": {
        "id": "Fm6EqiQjVmNn"
      },
      "source": [
        "## Prediction test values"
      ]
    },
    {
      "cell_type": "code",
      "metadata": {
        "id": "RMqKrxWuVXyj"
      },
      "source": [
        "y_test_predicted = np.exp(lr.predict(x_test))"
      ],
      "execution_count": null,
      "outputs": []
    },
    {
      "cell_type": "markdown",
      "metadata": {
        "id": "FuLjTrxYVvGT"
      },
      "source": [
        "## Error Calculation of test values"
      ]
    },
    {
      "cell_type": "code",
      "metadata": {
        "colab": {
          "base_uri": "https://localhost:8080/"
        },
        "id": "iEaShTtgVuen",
        "outputId": "c22283d0-4159-47c6-aa5f-f58b705f6fed"
      },
      "source": [
        "# calling the udf to calculate error between train_y_ln and predicted values\n",
        "error_coff = calculate_error(y_test_predicted,y_test)\n",
        "print('------------OLS model error----------------------')\n",
        "print('MAPE  :',error_coff['mape'][0])\n",
        "print('RMSE  :',error_coff['rmse'][0])\n",
        "print('RMSPE :',error_coff['rmspe'][0])\n",
        "# print(error_coff)\n",
        "print('-------------------------------------------------')"
      ],
      "execution_count": null,
      "outputs": [
        {
          "output_type": "stream",
          "name": "stdout",
          "text": [
            "------------OLS model error----------------------\n",
            "MAPE  : 302.99339127312254\n",
            "RMSE  : 105915.31068053312\n",
            "RMSPE : 647.5363731243311\n",
            "-------------------------------------------------\n"
          ]
        }
      ]
    },
    {
      "cell_type": "markdown",
      "metadata": {
        "id": "VOKILABBV3S6"
      },
      "source": [
        "## Predicting the values for the df_predict cstomers"
      ]
    },
    {
      "cell_type": "code",
      "metadata": {
        "colab": {
          "base_uri": "https://localhost:8080/"
        },
        "id": "yjRbvupPV18r",
        "outputId": "06de054f-b27c-46e1-aec3-0935ebf7b91b"
      },
      "source": [
        "#selecting the best features\n",
        "df_predict_selected_x = df_predict[df_predict.columns[f]] # final features`\n",
        "df_predict_selected_x.columns\n",
        "\n",
        "\n",
        "#prediciting the consumption values\n",
        "customer_predict = np.exp(lr.predict(df_predict_selected_x))\n",
        "customer_predict"
      ],
      "execution_count": null,
      "outputs": [
        {
          "output_type": "execute_result",
          "data": {
            "text/plain": [
              "array([[2.18779108e+02],\n",
              "       [6.72940936e-13],\n",
              "       [4.75985934e-59],\n",
              "       ...,\n",
              "       [1.53667722e-38],\n",
              "       [5.42519500e-56],\n",
              "       [8.34627270e-28]])"
            ]
          },
          "metadata": {},
          "execution_count": 292
        }
      ]
    }
  ]
}