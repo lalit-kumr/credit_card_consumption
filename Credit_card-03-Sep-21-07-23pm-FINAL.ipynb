{
  "nbformat": 4,
  "nbformat_minor": 0,
  "metadata": {
    "colab": {
      "name": "Credit card final-1.ipynb",
      "provenance": [],
      "collapsed_sections": [],
      "authorship_tag": "ABX9TyOUtRt/aS/+gNO58+Tp4m/R",
      "include_colab_link": true
    },
    "kernelspec": {
      "name": "python3",
      "display_name": "Python 3"
    },
    "language_info": {
      "name": "python"
    }
  },
  "cells": [
    {
      "cell_type": "markdown",
      "metadata": {
        "id": "view-in-github",
        "colab_type": "text"
      },
      "source": [
        "<a href=\"https://colab.research.google.com/github/lalit-kumr/credit_card_consumption/blob/main/Credit_card-03-Sep-21-07-23pm-FINAL.ipynb\" target=\"_parent\"><img src=\"https://colab.research.google.com/assets/colab-badge.svg\" alt=\"Open In Colab\"/></a>"
      ]
    },
    {
      "cell_type": "markdown",
      "metadata": {
        "id": "qcqTIfiM6d32"
      },
      "source": [
        "### Steps\n",
        "- Import libs\n",
        "- Import data\n",
        "- Clean both sets\n",
        "- Merge the data sets\n",
        "- Split data in numerical and categorical\n",
        "- Outlier removal in both sets\n",
        "- fill na\n",
        "- splitting in train and predict\n",
        "- Label encoding\n",
        "- Join dataset\n",
        "- Build model OLS\n",
        "- Remove features having high p value\n",
        "- Apply vif\n",
        "- Drop vif unwanted variables one by one\n",
        "- Log of y \n",
        "- OLS model again\n",
        "- RFE\n",
        "- Apply linear reg model\n",
        "\n",
        "\n",
        "\n"
      ]
    },
    {
      "cell_type": "markdown",
      "metadata": {
        "id": "p2u2qXry7OwV"
      },
      "source": [
        "## 0. Importing libs"
      ]
    },
    {
      "cell_type": "code",
      "metadata": {
        "id": "rjA9G84A7OdS"
      },
      "source": [
        "import pandas as pd\n",
        "import numpy as np\n",
        "import matplotlib.pyplot as plt\n",
        "import seaborn as sns"
      ],
      "execution_count": 155,
      "outputs": []
    },
    {
      "cell_type": "markdown",
      "metadata": {
        "id": "zlRkA-i-5zvX"
      },
      "source": [
        "## 1. Importing Data"
      ]
    },
    {
      "cell_type": "code",
      "metadata": {
        "id": "73KLaUjc5x4t"
      },
      "source": [
        "# behaviour = pd.read_csv('CustomerBehaviorData.csv')\n",
        "# consumption = pd.read_csv('CreditConsumptionData.csv')\n",
        "# customer = pd.read_csv('CustomerDemographics.csv')\n",
        "\n",
        "\n",
        "behaviour = pd.read_csv('https://github.com/lalit-kumr/credit_card_consumption/blob/main/CustomerBehaviorData.csv?raw=true')\n",
        "consumption = pd.read_csv('https://github.com/lalit-kumr/credit_card_consumption/raw/main/CreditConsumptionData.csv')\n",
        "customer = pd.read_csv('https://github.com/lalit-kumr/credit_card_consumption/raw/main/CustomerDemographics.csv')"
      ],
      "execution_count": 156,
      "outputs": []
    },
    {
      "cell_type": "markdown",
      "metadata": {
        "id": "a-C09-ta7gB3"
      },
      "source": [
        "## 2. Cleaning Data"
      ]
    },
    {
      "cell_type": "code",
      "metadata": {
        "colab": {
          "base_uri": "https://localhost:8080/"
        },
        "id": "zdGedsUy7YVY",
        "outputId": "f1cc9273-0121-4453-f37b-c30502ae8c4f"
      },
      "source": [
        "#finding NaN values in customer df\n",
        "# customer.isna().sum()\n",
        "#Droppping observations having NaN values\n",
        "customer.dropna(inplace=True)\n",
        "customer.isna().sum()"
      ],
      "execution_count": 157,
      "outputs": [
        {
          "output_type": "execute_result",
          "data": {
            "text/plain": [
              "customer_id                     0\n",
              "account_type                    0\n",
              "gender                          0\n",
              "age                             0\n",
              "income                          0\n",
              "emp_tenure_years                0\n",
              "tenure_with_bank                0\n",
              "region_code                     0\n",
              "net_banking_flag                0\n",
              "avg_days_between_transaction    0\n",
              "dtype: int64"
            ]
          },
          "metadata": {},
          "execution_count": 157
        }
      ]
    },
    {
      "cell_type": "code",
      "metadata": {
        "colab": {
          "base_uri": "https://localhost:8080/"
        },
        "id": "nX4JLtSv7sSx",
        "outputId": "8a6d7b12-d7d7-4e32-eb18-0a7219d9627c"
      },
      "source": [
        "#Droppping observations having NaN values\n",
        "behaviour.dropna(inplace=True)\n",
        "behaviour.isna().sum()"
      ],
      "execution_count": 158,
      "outputs": [
        {
          "output_type": "execute_result",
          "data": {
            "text/plain": [
              "customer_id              0\n",
              "cc_cons_apr              0\n",
              "dc_cons_apr              0\n",
              "cc_cons_may              0\n",
              "dc_cons_may              0\n",
              "cc_cons_jun              0\n",
              "dc_cons_jun              0\n",
              "cc_count_apr             0\n",
              "cc_count_may             0\n",
              "cc_count_jun             0\n",
              "dc_count_apr             0\n",
              "dc_count_may             0\n",
              "dc_count_jun             0\n",
              "card_lim                 0\n",
              "personal_loan_active     0\n",
              "vehicle_loan_active      0\n",
              "personal_loan_closed     0\n",
              "vehicle_loan_closed      0\n",
              "investment_1             0\n",
              "investment_2             0\n",
              "investment_3             0\n",
              "investment_4             0\n",
              "debit_amount_apr         0\n",
              "credit_amount_apr        0\n",
              "debit_count_apr          0\n",
              "credit_count_apr         0\n",
              "max_credit_amount_apr    0\n",
              "debit_amount_may         0\n",
              "credit_amount_may        0\n",
              "credit_count_may         0\n",
              "debit_count_may          0\n",
              "max_credit_amount_may    0\n",
              "debit_amount_jun         0\n",
              "credit_amount_jun        0\n",
              "credit_count_jun         0\n",
              "debit_count_jun          0\n",
              "max_credit_amount_jun    0\n",
              "loan_enq                 0\n",
              "emi_active               0\n",
              "dtype: int64"
            ]
          },
          "metadata": {},
          "execution_count": 158
        }
      ]
    },
    {
      "cell_type": "code",
      "metadata": {
        "colab": {
          "base_uri": "https://localhost:8080/"
        },
        "id": "n2vnqpUKBUii",
        "outputId": "4be46f14-8d0f-4ca1-a15d-9a0fca524f0b"
      },
      "source": [
        "# checking nan cells in coonsumption\n",
        "consumption.isna().sum()"
      ],
      "execution_count": 159,
      "outputs": [
        {
          "output_type": "execute_result",
          "data": {
            "text/plain": [
              "customer_id          0\n",
              "cc_cons_target    5000\n",
              "dtype: int64"
            ]
          },
          "metadata": {},
          "execution_count": 159
        }
      ]
    },
    {
      "cell_type": "markdown",
      "metadata": {
        "id": "wepZWWi4CvK7"
      },
      "source": [
        "## 3.Merging the data Frames"
      ]
    },
    {
      "cell_type": "markdown",
      "metadata": {
        "id": "1LmSykiYC9fL"
      },
      "source": [
        "### 3.1 Merging the dataframes"
      ]
    },
    {
      "cell_type": "code",
      "metadata": {
        "id": "-Nr_Qwn1BXVh"
      },
      "source": [
        "# - now we will merge all three dataframes on the basis of customer_id.\n",
        "# - first we will merge customer and behaviour dataframes as customer_be\n",
        "# - next we will merge the cosumption dataframe with the custoemr_be df and store the resultant dataframe in **final**\n",
        "\n",
        "\n",
        "customer_behaviour = pd.merge(left=customer, right=behaviour, on='customer_id')\n",
        "final = pd.merge(left=customer_behaviour, right=consumption, on='customer_id')\n",
        "\n",
        "#dropping customer id\n",
        "final.drop(labels='customer_id',axis=1,inplace=True)"
      ],
      "execution_count": 160,
      "outputs": []
    },
    {
      "cell_type": "markdown",
      "metadata": {
        "id": "3GW-Hl0EFmWL"
      },
      "source": [
        "## 4\\. Splitting data into numerical and categorical"
      ]
    },
    {
      "cell_type": "code",
      "metadata": {
        "colab": {
          "base_uri": "https://localhost:8080/"
        },
        "id": "m50dMvr4F07B",
        "outputId": "53049f6c-d03e-4ee0-e6cd-b7454f4694fd"
      },
      "source": [
        "#extracting numerical columns from the dataset\n",
        "num_cols = final.columns.difference(['account_type', 'gender', 'income', 'loan_enq'])\n",
        "num_cols = final[num_cols]\n",
        "num_cols.columns"
      ],
      "execution_count": 161,
      "outputs": [
        {
          "output_type": "execute_result",
          "data": {
            "text/plain": [
              "Index(['age', 'avg_days_between_transaction', 'card_lim', 'cc_cons_apr',\n",
              "       'cc_cons_jun', 'cc_cons_may', 'cc_cons_target', 'cc_count_apr',\n",
              "       'cc_count_jun', 'cc_count_may', 'credit_amount_apr',\n",
              "       'credit_amount_jun', 'credit_amount_may', 'credit_count_apr',\n",
              "       'credit_count_jun', 'credit_count_may', 'dc_cons_apr', 'dc_cons_jun',\n",
              "       'dc_cons_may', 'dc_count_apr', 'dc_count_jun', 'dc_count_may',\n",
              "       'debit_amount_apr', 'debit_amount_jun', 'debit_amount_may',\n",
              "       'debit_count_apr', 'debit_count_jun', 'debit_count_may', 'emi_active',\n",
              "       'emp_tenure_years', 'investment_1', 'investment_2', 'investment_3',\n",
              "       'investment_4', 'max_credit_amount_apr', 'max_credit_amount_jun',\n",
              "       'max_credit_amount_may', 'net_banking_flag', 'personal_loan_active',\n",
              "       'personal_loan_closed', 'region_code', 'tenure_with_bank',\n",
              "       'vehicle_loan_active', 'vehicle_loan_closed'],\n",
              "      dtype='object')"
            ]
          },
          "metadata": {},
          "execution_count": 161
        }
      ]
    },
    {
      "cell_type": "code",
      "metadata": {
        "colab": {
          "base_uri": "https://localhost:8080/"
        },
        "id": "a597ejCfDYMI",
        "outputId": "f7285857-9604-46ac-9e7d-b0beb732c384"
      },
      "source": [
        "#extracting categorical columns from the data\n",
        "cat_cols = final.select_dtypes(include=['O'])\n",
        "cat_cols.columns"
      ],
      "execution_count": 162,
      "outputs": [
        {
          "output_type": "execute_result",
          "data": {
            "text/plain": [
              "Index(['account_type', 'gender', 'income', 'loan_enq'], dtype='object')"
            ]
          },
          "metadata": {},
          "execution_count": 162
        }
      ]
    },
    {
      "cell_type": "markdown",
      "metadata": {
        "id": "kmTFwqmgLUM7"
      },
      "source": [
        "## 6\\. label encoding of cat cols"
      ]
    },
    {
      "cell_type": "code",
      "metadata": {
        "colab": {
          "base_uri": "https://localhost:8080/",
          "height": 143
        },
        "id": "imUeTl4SLT5F",
        "outputId": "1d60149b-5b3f-4fac-eb56-0aa214fa7968"
      },
      "source": [
        "cat_cols = pd.get_dummies(cat_cols)\n",
        "cat_cols.drop(labels=['account_type_saving','gender_F','income_HIGH'],axis=1,inplace=True)\n",
        "#renaming columns\n",
        "cat_cols.columns = ['account_type','gender','income_low','income_medium', 'loan_enq']\n",
        "cat_cols.head(3)"
      ],
      "execution_count": 163,
      "outputs": [
        {
          "output_type": "execute_result",
          "data": {
            "text/html": [
              "<div>\n",
              "<style scoped>\n",
              "    .dataframe tbody tr th:only-of-type {\n",
              "        vertical-align: middle;\n",
              "    }\n",
              "\n",
              "    .dataframe tbody tr th {\n",
              "        vertical-align: top;\n",
              "    }\n",
              "\n",
              "    .dataframe thead th {\n",
              "        text-align: right;\n",
              "    }\n",
              "</style>\n",
              "<table border=\"1\" class=\"dataframe\">\n",
              "  <thead>\n",
              "    <tr style=\"text-align: right;\">\n",
              "      <th></th>\n",
              "      <th>account_type</th>\n",
              "      <th>gender</th>\n",
              "      <th>income_low</th>\n",
              "      <th>income_medium</th>\n",
              "      <th>loan_enq</th>\n",
              "    </tr>\n",
              "  </thead>\n",
              "  <tbody>\n",
              "    <tr>\n",
              "      <th>0</th>\n",
              "      <td>1</td>\n",
              "      <td>1</td>\n",
              "      <td>0</td>\n",
              "      <td>1</td>\n",
              "      <td>1</td>\n",
              "    </tr>\n",
              "    <tr>\n",
              "      <th>1</th>\n",
              "      <td>1</td>\n",
              "      <td>1</td>\n",
              "      <td>0</td>\n",
              "      <td>1</td>\n",
              "      <td>1</td>\n",
              "    </tr>\n",
              "    <tr>\n",
              "      <th>2</th>\n",
              "      <td>1</td>\n",
              "      <td>0</td>\n",
              "      <td>0</td>\n",
              "      <td>1</td>\n",
              "      <td>1</td>\n",
              "    </tr>\n",
              "  </tbody>\n",
              "</table>\n",
              "</div>"
            ],
            "text/plain": [
              "   account_type  gender  income_low  income_medium  loan_enq\n",
              "0             1       1           0              1         1\n",
              "1             1       1           0              1         1\n",
              "2             1       0           0              1         1"
            ]
          },
          "metadata": {},
          "execution_count": 163
        }
      ]
    },
    {
      "cell_type": "markdown",
      "metadata": {
        "id": "0p8kLy6JKw8X"
      },
      "source": [
        "###  Joining cat_cols and num_cols"
      ]
    },
    {
      "cell_type": "code",
      "metadata": {
        "colab": {
          "base_uri": "https://localhost:8080/",
          "height": 163
        },
        "id": "Cidl_CKPKDR5",
        "outputId": "5a08fb57-7579-4839-8d8c-e5a5d83001ac"
      },
      "source": [
        "# joining the num_cols and cat_cols df \n",
        "df = pd.concat([num_cols,cat_cols],axis=1)\n",
        "df.head(3)"
      ],
      "execution_count": 164,
      "outputs": [
        {
          "output_type": "execute_result",
          "data": {
            "text/html": [
              "<div>\n",
              "<style scoped>\n",
              "    .dataframe tbody tr th:only-of-type {\n",
              "        vertical-align: middle;\n",
              "    }\n",
              "\n",
              "    .dataframe tbody tr th {\n",
              "        vertical-align: top;\n",
              "    }\n",
              "\n",
              "    .dataframe thead th {\n",
              "        text-align: right;\n",
              "    }\n",
              "</style>\n",
              "<table border=\"1\" class=\"dataframe\">\n",
              "  <thead>\n",
              "    <tr style=\"text-align: right;\">\n",
              "      <th></th>\n",
              "      <th>age</th>\n",
              "      <th>avg_days_between_transaction</th>\n",
              "      <th>card_lim</th>\n",
              "      <th>cc_cons_apr</th>\n",
              "      <th>cc_cons_jun</th>\n",
              "      <th>cc_cons_may</th>\n",
              "      <th>cc_cons_target</th>\n",
              "      <th>cc_count_apr</th>\n",
              "      <th>cc_count_jun</th>\n",
              "      <th>cc_count_may</th>\n",
              "      <th>credit_amount_apr</th>\n",
              "      <th>credit_amount_jun</th>\n",
              "      <th>credit_amount_may</th>\n",
              "      <th>credit_count_apr</th>\n",
              "      <th>credit_count_jun</th>\n",
              "      <th>credit_count_may</th>\n",
              "      <th>dc_cons_apr</th>\n",
              "      <th>dc_cons_jun</th>\n",
              "      <th>dc_cons_may</th>\n",
              "      <th>dc_count_apr</th>\n",
              "      <th>dc_count_jun</th>\n",
              "      <th>dc_count_may</th>\n",
              "      <th>debit_amount_apr</th>\n",
              "      <th>debit_amount_jun</th>\n",
              "      <th>debit_amount_may</th>\n",
              "      <th>debit_count_apr</th>\n",
              "      <th>debit_count_jun</th>\n",
              "      <th>debit_count_may</th>\n",
              "      <th>emi_active</th>\n",
              "      <th>emp_tenure_years</th>\n",
              "      <th>investment_1</th>\n",
              "      <th>investment_2</th>\n",
              "      <th>investment_3</th>\n",
              "      <th>investment_4</th>\n",
              "      <th>max_credit_amount_apr</th>\n",
              "      <th>max_credit_amount_jun</th>\n",
              "      <th>max_credit_amount_may</th>\n",
              "      <th>net_banking_flag</th>\n",
              "      <th>personal_loan_active</th>\n",
              "      <th>personal_loan_closed</th>\n",
              "      <th>region_code</th>\n",
              "      <th>tenure_with_bank</th>\n",
              "      <th>vehicle_loan_active</th>\n",
              "      <th>vehicle_loan_closed</th>\n",
              "      <th>account_type</th>\n",
              "      <th>gender</th>\n",
              "      <th>income_low</th>\n",
              "      <th>income_medium</th>\n",
              "      <th>loan_enq</th>\n",
              "    </tr>\n",
              "  </thead>\n",
              "  <tbody>\n",
              "    <tr>\n",
              "      <th>0</th>\n",
              "      <td>63</td>\n",
              "      <td>5.0</td>\n",
              "      <td>519000</td>\n",
              "      <td>7998.48</td>\n",
              "      <td>6881.81</td>\n",
              "      <td>9553.00</td>\n",
              "      <td>NaN</td>\n",
              "      <td>8.0</td>\n",
              "      <td>13</td>\n",
              "      <td>23</td>\n",
              "      <td>44630.50</td>\n",
              "      <td>369000.75</td>\n",
              "      <td>61887.50</td>\n",
              "      <td>1</td>\n",
              "      <td>40</td>\n",
              "      <td>5</td>\n",
              "      <td>2289.0</td>\n",
              "      <td>3124.0</td>\n",
              "      <td>2879.58</td>\n",
              "      <td>47</td>\n",
              "      <td>30</td>\n",
              "      <td>3</td>\n",
              "      <td>79085.00</td>\n",
              "      <td>44884.90</td>\n",
              "      <td>107662.02</td>\n",
              "      <td>63.0</td>\n",
              "      <td>96</td>\n",
              "      <td>14</td>\n",
              "      <td>2646.72</td>\n",
              "      <td>30.1</td>\n",
              "      <td>13659.0</td>\n",
              "      <td>14000.0</td>\n",
              "      <td>80000.0</td>\n",
              "      <td>6885.0</td>\n",
              "      <td>48134.00</td>\n",
              "      <td>46088.0</td>\n",
              "      <td>20770.0</td>\n",
              "      <td>1</td>\n",
              "      <td>1</td>\n",
              "      <td>1.0</td>\n",
              "      <td>628.0</td>\n",
              "      <td>10</td>\n",
              "      <td>1</td>\n",
              "      <td>1</td>\n",
              "      <td>1</td>\n",
              "      <td>1</td>\n",
              "      <td>0</td>\n",
              "      <td>1</td>\n",
              "      <td>1</td>\n",
              "    </tr>\n",
              "    <tr>\n",
              "      <th>1</th>\n",
              "      <td>36</td>\n",
              "      <td>12.0</td>\n",
              "      <td>402000</td>\n",
              "      <td>16479.64</td>\n",
              "      <td>12032.60</td>\n",
              "      <td>7386.49</td>\n",
              "      <td>NaN</td>\n",
              "      <td>19.0</td>\n",
              "      <td>7</td>\n",
              "      <td>32</td>\n",
              "      <td>216770.95</td>\n",
              "      <td>243182.32</td>\n",
              "      <td>36644.25</td>\n",
              "      <td>1</td>\n",
              "      <td>7</td>\n",
              "      <td>4</td>\n",
              "      <td>415.0</td>\n",
              "      <td>6738.0</td>\n",
              "      <td>6763.00</td>\n",
              "      <td>1</td>\n",
              "      <td>16</td>\n",
              "      <td>37</td>\n",
              "      <td>85171.16</td>\n",
              "      <td>91073.84</td>\n",
              "      <td>34376.79</td>\n",
              "      <td>10.0</td>\n",
              "      <td>12</td>\n",
              "      <td>63</td>\n",
              "      <td>5469.79</td>\n",
              "      <td>14.4</td>\n",
              "      <td>942327.7</td>\n",
              "      <td>172131.0</td>\n",
              "      <td>28912.0</td>\n",
              "      <td>553.0</td>\n",
              "      <td>31820.00</td>\n",
              "      <td>17953.0</td>\n",
              "      <td>78627.0</td>\n",
              "      <td>0</td>\n",
              "      <td>1</td>\n",
              "      <td>1.0</td>\n",
              "      <td>656.0</td>\n",
              "      <td>10</td>\n",
              "      <td>1</td>\n",
              "      <td>1</td>\n",
              "      <td>1</td>\n",
              "      <td>1</td>\n",
              "      <td>0</td>\n",
              "      <td>1</td>\n",
              "      <td>1</td>\n",
              "    </tr>\n",
              "    <tr>\n",
              "      <th>2</th>\n",
              "      <td>28</td>\n",
              "      <td>13.0</td>\n",
              "      <td>114000</td>\n",
              "      <td>29272.03</td>\n",
              "      <td>531.43</td>\n",
              "      <td>4170.53</td>\n",
              "      <td>NaN</td>\n",
              "      <td>12.0</td>\n",
              "      <td>44</td>\n",
              "      <td>30</td>\n",
              "      <td>24878.00</td>\n",
              "      <td>35467.00</td>\n",
              "      <td>50121.00</td>\n",
              "      <td>33</td>\n",
              "      <td>16</td>\n",
              "      <td>6</td>\n",
              "      <td>40994.0</td>\n",
              "      <td>3778.0</td>\n",
              "      <td>26717.30</td>\n",
              "      <td>22</td>\n",
              "      <td>37</td>\n",
              "      <td>15</td>\n",
              "      <td>44916.42</td>\n",
              "      <td>96552.00</td>\n",
              "      <td>140182.87</td>\n",
              "      <td>55.0</td>\n",
              "      <td>42</td>\n",
              "      <td>82</td>\n",
              "      <td>7207.85</td>\n",
              "      <td>4.8</td>\n",
              "      <td>70310.6</td>\n",
              "      <td>208652.0</td>\n",
              "      <td>1036.0</td>\n",
              "      <td>1089.0</td>\n",
              "      <td>1035431.79</td>\n",
              "      <td>41121.0</td>\n",
              "      <td>1260.0</td>\n",
              "      <td>1</td>\n",
              "      <td>1</td>\n",
              "      <td>1.0</td>\n",
              "      <td>314.0</td>\n",
              "      <td>10</td>\n",
              "      <td>1</td>\n",
              "      <td>1</td>\n",
              "      <td>1</td>\n",
              "      <td>0</td>\n",
              "      <td>0</td>\n",
              "      <td>1</td>\n",
              "      <td>1</td>\n",
              "    </tr>\n",
              "  </tbody>\n",
              "</table>\n",
              "</div>"
            ],
            "text/plain": [
              "   age  avg_days_between_transaction  ...  income_medium  loan_enq\n",
              "0   63                           5.0  ...              1         1\n",
              "1   36                          12.0  ...              1         1\n",
              "2   28                          13.0  ...              1         1\n",
              "\n",
              "[3 rows x 49 columns]"
            ]
          },
          "metadata": {},
          "execution_count": 164
        }
      ]
    },
    {
      "cell_type": "markdown",
      "metadata": {
        "id": "hG9suppy_qdt"
      },
      "source": [
        "## Pandas profiling"
      ]
    },
    {
      "cell_type": "code",
      "metadata": {
        "id": "dFiFE3C2_14s"
      },
      "source": [
        "# import pandas_profiling\n",
        "\n",
        "# profile_report=pandas_profiling.ProfileReport(df)\n",
        "# profile_report.to_file(\"profile_report.html\")"
      ],
      "execution_count": 165,
      "outputs": []
    },
    {
      "cell_type": "markdown",
      "metadata": {
        "id": "7p4ZMKVYAP5M"
      },
      "source": [
        "## Splitting the data in df_train and df_predict"
      ]
    },
    {
      "cell_type": "code",
      "metadata": {
        "colab": {
          "base_uri": "https://localhost:8080/"
        },
        "id": "xyK-PiSIK4XR",
        "outputId": "116f46c7-e494-410f-daff-95df7815c21b"
      },
      "source": [
        "#now we will split the df in two parts. df_predict and df_train.\n",
        "#df_train will contain entries having numerial values in cc_cons_target\n",
        "#df_predict will have the rows/customers that we have to predict the output for\n",
        "\n",
        "#filtering all the rows from final that contain NaN values in cc_cons_target and storing those rows in df_predict.\n",
        "df_predict = df[df.cc_cons_target.isna()]\n",
        "#dropping the NaN values of cc_cons_target \n",
        "df_predict.drop(labels='cc_cons_target',axis=1,inplace=True)\n",
        "\n",
        "# droppping  all the rows that are in the df_predict dataframe and storing the result in df_train\n",
        "df_train = df.drop(df_predict.index)"
      ],
      "execution_count": 166,
      "outputs": [
        {
          "output_type": "stream",
          "name": "stderr",
          "text": [
            "/usr/local/lib/python3.7/dist-packages/pandas/core/frame.py:4174: SettingWithCopyWarning: \n",
            "A value is trying to be set on a copy of a slice from a DataFrame\n",
            "\n",
            "See the caveats in the documentation: https://pandas.pydata.org/pandas-docs/stable/user_guide/indexing.html#returning-a-view-versus-a-copy\n",
            "  errors=errors,\n"
          ]
        }
      ]
    },
    {
      "cell_type": "code",
      "metadata": {
        "colab": {
          "base_uri": "https://localhost:8080/"
        },
        "id": "abAfsXXhN3fS",
        "outputId": "12a081d9-f858-452a-aac1-b1aca6bd2d30"
      },
      "source": [
        "df_train.shape"
      ],
      "execution_count": 167,
      "outputs": [
        {
          "output_type": "execute_result",
          "data": {
            "text/plain": [
              "(14995, 49)"
            ]
          },
          "metadata": {},
          "execution_count": 167
        }
      ]
    },
    {
      "cell_type": "code",
      "metadata": {
        "colab": {
          "base_uri": "https://localhost:8080/"
        },
        "id": "1pngdqiJN44q",
        "outputId": "e76a08bb-0a6c-4529-8e8e-2dfc655e7772"
      },
      "source": [
        "df_predict.shape"
      ],
      "execution_count": 168,
      "outputs": [
        {
          "output_type": "execute_result",
          "data": {
            "text/plain": [
              "(4993, 48)"
            ]
          },
          "metadata": {},
          "execution_count": 168
        }
      ]
    },
    {
      "cell_type": "markdown",
      "metadata": {
        "id": "D2ATQtieGbeN"
      },
      "source": [
        "## 5\\. Outlier removal from df_train and df_predict"
      ]
    },
    {
      "cell_type": "code",
      "metadata": {
        "colab": {
          "base_uri": "https://localhost:8080/",
          "height": 284
        },
        "id": "3tbQO14FCAeF",
        "outputId": "9c5b7d34-7b29-4db5-878b-d0332b4004d7"
      },
      "source": [
        "df_train.cc_cons_target.plot(kind='hist')"
      ],
      "execution_count": 169,
      "outputs": [
        {
          "output_type": "execute_result",
          "data": {
            "text/plain": [
              "<matplotlib.axes._subplots.AxesSubplot at 0x7fa66364f750>"
            ]
          },
          "metadata": {},
          "execution_count": 169
        },
        {
          "output_type": "display_data",
          "data": {
            "image/png": "[encoded data removed]",
            "text/plain": [
              "<Figure size 432x288 with 1 Axes>"
            ]
          },
          "metadata": {
            "needs_background": "light"
          }
        }
      ]
    },
    {
      "cell_type": "code",
      "metadata": {
        "colab": {
          "base_uri": "https://localhost:8080/",
          "height": 320
        },
        "id": "gXBt4F6KCyFF",
        "outputId": "9f3e454a-a28b-4bc3-a457-502597650db4"
      },
      "source": [
        "#As our target variable(cc_cons_target) is non_normalized, we will first drop the observations that do not have \n",
        "#values of target variable within 90%ile and 10%ile.\n",
        "q_low = df_train['cc_cons_target'].quantile(0.10)\n",
        "q_hi  = df_train['cc_cons_target'].quantile(0.90)\n",
        "\n",
        "df_train = df_train[(df_train['cc_cons_target'] < q_hi) & (df_train['cc_cons_target'] > q_low)]\n",
        "\n",
        "\n",
        "#Now we will treat outliers in all other columns\n",
        "from scipy.stats import mstats\n",
        "\n",
        "for x in df_train:\n",
        "  df_train.loc[:,x] = mstats.winsorize(df_train[x], limits=[0.10, 0.10])\n",
        "df_train.describe()\n"
      ],
      "execution_count": 170,
      "outputs": [
        {
          "output_type": "execute_result",
          "data": {
            "text/html": [
              "<div>\n",
              "<style scoped>\n",
              "    .dataframe tbody tr th:only-of-type {\n",
              "        vertical-align: middle;\n",
              "    }\n",
              "\n",
              "    .dataframe tbody tr th {\n",
              "        vertical-align: top;\n",
              "    }\n",
              "\n",
              "    .dataframe thead th {\n",
              "        text-align: right;\n",
              "    }\n",
              "</style>\n",
              "<table border=\"1\" class=\"dataframe\">\n",
              "  <thead>\n",
              "    <tr style=\"text-align: right;\">\n",
              "      <th></th>\n",
              "      <th>age</th>\n",
              "      <th>avg_days_between_transaction</th>\n",
              "      <th>card_lim</th>\n",
              "      <th>cc_cons_apr</th>\n",
              "      <th>cc_cons_jun</th>\n",
              "      <th>cc_cons_may</th>\n",
              "      <th>cc_cons_target</th>\n",
              "      <th>cc_count_apr</th>\n",
              "      <th>cc_count_jun</th>\n",
              "      <th>cc_count_may</th>\n",
              "      <th>credit_amount_apr</th>\n",
              "      <th>credit_amount_jun</th>\n",
              "      <th>credit_amount_may</th>\n",
              "      <th>credit_count_apr</th>\n",
              "      <th>credit_count_jun</th>\n",
              "      <th>credit_count_may</th>\n",
              "      <th>dc_cons_apr</th>\n",
              "      <th>dc_cons_jun</th>\n",
              "      <th>dc_cons_may</th>\n",
              "      <th>dc_count_apr</th>\n",
              "      <th>dc_count_jun</th>\n",
              "      <th>dc_count_may</th>\n",
              "      <th>debit_amount_apr</th>\n",
              "      <th>debit_amount_jun</th>\n",
              "      <th>debit_amount_may</th>\n",
              "      <th>debit_count_apr</th>\n",
              "      <th>debit_count_jun</th>\n",
              "      <th>debit_count_may</th>\n",
              "      <th>emi_active</th>\n",
              "      <th>emp_tenure_years</th>\n",
              "      <th>investment_1</th>\n",
              "      <th>investment_2</th>\n",
              "      <th>investment_3</th>\n",
              "      <th>investment_4</th>\n",
              "      <th>max_credit_amount_apr</th>\n",
              "      <th>max_credit_amount_jun</th>\n",
              "      <th>max_credit_amount_may</th>\n",
              "      <th>net_banking_flag</th>\n",
              "      <th>personal_loan_active</th>\n",
              "      <th>personal_loan_closed</th>\n",
              "      <th>region_code</th>\n",
              "      <th>tenure_with_bank</th>\n",
              "      <th>vehicle_loan_active</th>\n",
              "      <th>vehicle_loan_closed</th>\n",
              "      <th>account_type</th>\n",
              "      <th>gender</th>\n",
              "      <th>income_low</th>\n",
              "      <th>income_medium</th>\n",
              "      <th>loan_enq</th>\n",
              "    </tr>\n",
              "  </thead>\n",
              "  <tbody>\n",
              "    <tr>\n",
              "      <th>count</th>\n",
              "      <td>11995.000000</td>\n",
              "      <td>11995.000000</td>\n",
              "      <td>11995.000000</td>\n",
              "      <td>11995.000000</td>\n",
              "      <td>11995.000000</td>\n",
              "      <td>11995.000000</td>\n",
              "      <td>11995.000000</td>\n",
              "      <td>11995.000000</td>\n",
              "      <td>11995.000000</td>\n",
              "      <td>11995.000000</td>\n",
              "      <td>11995.000000</td>\n",
              "      <td>11995.000000</td>\n",
              "      <td>11995.000000</td>\n",
              "      <td>11995.000000</td>\n",
              "      <td>11995.000000</td>\n",
              "      <td>11995.000000</td>\n",
              "      <td>11995.000000</td>\n",
              "      <td>11995.000000</td>\n",
              "      <td>11995.000000</td>\n",
              "      <td>11995.000000</td>\n",
              "      <td>11995.000000</td>\n",
              "      <td>11995.000000</td>\n",
              "      <td>11995.000000</td>\n",
              "      <td>11995.000000</td>\n",
              "      <td>11995.000000</td>\n",
              "      <td>11995.000000</td>\n",
              "      <td>11995.000000</td>\n",
              "      <td>11995.000000</td>\n",
              "      <td>11995.000000</td>\n",
              "      <td>11995.000000</td>\n",
              "      <td>11995.000000</td>\n",
              "      <td>11995.000000</td>\n",
              "      <td>11995.000000</td>\n",
              "      <td>11995.000000</td>\n",
              "      <td>11995.000000</td>\n",
              "      <td>11995.000000</td>\n",
              "      <td>11995.000000</td>\n",
              "      <td>11995.000000</td>\n",
              "      <td>11995.0</td>\n",
              "      <td>11995.0</td>\n",
              "      <td>11995.000000</td>\n",
              "      <td>11995.000000</td>\n",
              "      <td>11995.0</td>\n",
              "      <td>11995.0</td>\n",
              "      <td>11995.000000</td>\n",
              "      <td>11995.000000</td>\n",
              "      <td>11995.000000</td>\n",
              "      <td>11995.000000</td>\n",
              "      <td>11995.0</td>\n",
              "    </tr>\n",
              "    <tr>\n",
              "      <th>mean</th>\n",
              "      <td>43.430179</td>\n",
              "      <td>11.043852</td>\n",
              "      <td>271229.359483</td>\n",
              "      <td>14680.670917</td>\n",
              "      <td>9666.562517</td>\n",
              "      <td>12855.160407</td>\n",
              "      <td>23943.163068</td>\n",
              "      <td>22.656357</td>\n",
              "      <td>38.233431</td>\n",
              "      <td>29.677449</td>\n",
              "      <td>61332.566889</td>\n",
              "      <td>61606.382900</td>\n",
              "      <td>66076.697998</td>\n",
              "      <td>11.175990</td>\n",
              "      <td>16.843518</td>\n",
              "      <td>11.004752</td>\n",
              "      <td>6241.505391</td>\n",
              "      <td>5187.074512</td>\n",
              "      <td>5645.444514</td>\n",
              "      <td>16.589912</td>\n",
              "      <td>29.504377</td>\n",
              "      <td>12.804919</td>\n",
              "      <td>54824.186599</td>\n",
              "      <td>60100.559157</td>\n",
              "      <td>52207.424835</td>\n",
              "      <td>34.499041</td>\n",
              "      <td>44.553897</td>\n",
              "      <td>36.607837</td>\n",
              "      <td>6419.291932</td>\n",
              "      <td>12.649971</td>\n",
              "      <td>154159.767291</td>\n",
              "      <td>168509.344239</td>\n",
              "      <td>31463.448547</td>\n",
              "      <td>2898.046830</td>\n",
              "      <td>40670.082687</td>\n",
              "      <td>40086.456698</td>\n",
              "      <td>41480.461882</td>\n",
              "      <td>0.719133</td>\n",
              "      <td>1.0</td>\n",
              "      <td>1.0</td>\n",
              "      <td>598.214840</td>\n",
              "      <td>5.491622</td>\n",
              "      <td>1.0</td>\n",
              "      <td>1.0</td>\n",
              "      <td>0.847520</td>\n",
              "      <td>0.861692</td>\n",
              "      <td>0.279783</td>\n",
              "      <td>0.639850</td>\n",
              "      <td>1.0</td>\n",
              "    </tr>\n",
              "    <tr>\n",
              "      <th>std</th>\n",
              "      <td>12.183941</td>\n",
              "      <td>5.336914</td>\n",
              "      <td>161461.792688</td>\n",
              "      <td>12608.717691</td>\n",
              "      <td>8283.947977</td>\n",
              "      <td>11284.008606</td>\n",
              "      <td>29733.943071</td>\n",
              "      <td>23.243571</td>\n",
              "      <td>28.467137</td>\n",
              "      <td>26.775827</td>\n",
              "      <td>43925.749986</td>\n",
              "      <td>46920.330554</td>\n",
              "      <td>51447.352246</td>\n",
              "      <td>12.097064</td>\n",
              "      <td>18.721018</td>\n",
              "      <td>14.345195</td>\n",
              "      <td>5770.187496</td>\n",
              "      <td>4846.296392</td>\n",
              "      <td>4980.057601</td>\n",
              "      <td>17.880576</td>\n",
              "      <td>27.586900</td>\n",
              "      <td>14.284081</td>\n",
              "      <td>40690.090273</td>\n",
              "      <td>43642.834355</td>\n",
              "      <td>39775.319992</td>\n",
              "      <td>26.179905</td>\n",
              "      <td>33.157609</td>\n",
              "      <td>29.470336</td>\n",
              "      <td>6331.864281</td>\n",
              "      <td>9.092013</td>\n",
              "      <td>238290.771922</td>\n",
              "      <td>157494.691618</td>\n",
              "      <td>39870.800866</td>\n",
              "      <td>5608.183095</td>\n",
              "      <td>25917.483681</td>\n",
              "      <td>27670.237442</td>\n",
              "      <td>28396.709869</td>\n",
              "      <td>0.449441</td>\n",
              "      <td>0.0</td>\n",
              "      <td>0.0</td>\n",
              "      <td>208.171213</td>\n",
              "      <td>2.569363</td>\n",
              "      <td>0.0</td>\n",
              "      <td>0.0</td>\n",
              "      <td>0.359501</td>\n",
              "      <td>0.345237</td>\n",
              "      <td>0.448911</td>\n",
              "      <td>0.480064</td>\n",
              "      <td>0.0</td>\n",
              "    </tr>\n",
              "    <tr>\n",
              "      <th>min</th>\n",
              "      <td>29.000000</td>\n",
              "      <td>3.000000</td>\n",
              "      <td>47000.000000</td>\n",
              "      <td>1921.530000</td>\n",
              "      <td>1377.200000</td>\n",
              "      <td>1689.500000</td>\n",
              "      <td>4885.000000</td>\n",
              "      <td>2.000000</td>\n",
              "      <td>4.000000</td>\n",
              "      <td>3.000000</td>\n",
              "      <td>14078.030000</td>\n",
              "      <td>11574.000000</td>\n",
              "      <td>12513.000000</td>\n",
              "      <td>1.000000</td>\n",
              "      <td>2.000000</td>\n",
              "      <td>1.000000</td>\n",
              "      <td>650.240000</td>\n",
              "      <td>607.000000</td>\n",
              "      <td>748.000000</td>\n",
              "      <td>1.000000</td>\n",
              "      <td>1.000000</td>\n",
              "      <td>1.000000</td>\n",
              "      <td>10449.170000</td>\n",
              "      <td>12484.780000</td>\n",
              "      <td>10781.570000</td>\n",
              "      <td>4.000000</td>\n",
              "      <td>7.000000</td>\n",
              "      <td>6.000000</td>\n",
              "      <td>450.630000</td>\n",
              "      <td>2.700000</td>\n",
              "      <td>690.000000</td>\n",
              "      <td>11897.000000</td>\n",
              "      <td>768.000000</td>\n",
              "      <td>-5942.000000</td>\n",
              "      <td>14150.000000</td>\n",
              "      <td>11440.000000</td>\n",
              "      <td>11775.000000</td>\n",
              "      <td>0.000000</td>\n",
              "      <td>1.0</td>\n",
              "      <td>1.0</td>\n",
              "      <td>269.000000</td>\n",
              "      <td>2.000000</td>\n",
              "      <td>1.0</td>\n",
              "      <td>1.0</td>\n",
              "      <td>0.000000</td>\n",
              "      <td>0.000000</td>\n",
              "      <td>0.000000</td>\n",
              "      <td>0.000000</td>\n",
              "      <td>1.0</td>\n",
              "    </tr>\n",
              "    <tr>\n",
              "      <th>25%</th>\n",
              "      <td>33.000000</td>\n",
              "      <td>6.000000</td>\n",
              "      <td>120500.000000</td>\n",
              "      <td>4403.160000</td>\n",
              "      <td>3004.500000</td>\n",
              "      <td>3673.270000</td>\n",
              "      <td>8087.000000</td>\n",
              "      <td>5.000000</td>\n",
              "      <td>10.000000</td>\n",
              "      <td>8.000000</td>\n",
              "      <td>26882.000000</td>\n",
              "      <td>24705.000000</td>\n",
              "      <td>25217.250000</td>\n",
              "      <td>2.000000</td>\n",
              "      <td>4.000000</td>\n",
              "      <td>2.000000</td>\n",
              "      <td>1633.140000</td>\n",
              "      <td>1359.420000</td>\n",
              "      <td>1653.000000</td>\n",
              "      <td>2.000000</td>\n",
              "      <td>4.000000</td>\n",
              "      <td>2.000000</td>\n",
              "      <td>23085.000000</td>\n",
              "      <td>25740.130000</td>\n",
              "      <td>20853.260000</td>\n",
              "      <td>11.000000</td>\n",
              "      <td>12.000000</td>\n",
              "      <td>11.000000</td>\n",
              "      <td>1537.420000</td>\n",
              "      <td>5.200000</td>\n",
              "      <td>6100.000000</td>\n",
              "      <td>38928.000000</td>\n",
              "      <td>2214.000000</td>\n",
              "      <td>0.000000</td>\n",
              "      <td>20667.000000</td>\n",
              "      <td>19017.000000</td>\n",
              "      <td>20001.000000</td>\n",
              "      <td>0.000000</td>\n",
              "      <td>1.0</td>\n",
              "      <td>1.0</td>\n",
              "      <td>428.000000</td>\n",
              "      <td>3.000000</td>\n",
              "      <td>1.0</td>\n",
              "      <td>1.0</td>\n",
              "      <td>1.000000</td>\n",
              "      <td>1.000000</td>\n",
              "      <td>0.000000</td>\n",
              "      <td>0.000000</td>\n",
              "      <td>1.0</td>\n",
              "    </tr>\n",
              "    <tr>\n",
              "      <th>50%</th>\n",
              "      <td>40.000000</td>\n",
              "      <td>11.000000</td>\n",
              "      <td>272000.000000</td>\n",
              "      <td>10300.000000</td>\n",
              "      <td>6632.500000</td>\n",
              "      <td>8732.990000</td>\n",
              "      <td>13363.000000</td>\n",
              "      <td>10.000000</td>\n",
              "      <td>35.000000</td>\n",
              "      <td>23.000000</td>\n",
              "      <td>46970.130000</td>\n",
              "      <td>45680.000000</td>\n",
              "      <td>47770.000000</td>\n",
              "      <td>5.000000</td>\n",
              "      <td>7.000000</td>\n",
              "      <td>4.000000</td>\n",
              "      <td>4008.510000</td>\n",
              "      <td>3326.000000</td>\n",
              "      <td>3823.000000</td>\n",
              "      <td>7.000000</td>\n",
              "      <td>17.000000</td>\n",
              "      <td>5.000000</td>\n",
              "      <td>41982.090000</td>\n",
              "      <td>45733.940000</td>\n",
              "      <td>38019.150000</td>\n",
              "      <td>32.000000</td>\n",
              "      <td>38.000000</td>\n",
              "      <td>23.000000</td>\n",
              "      <td>3944.710000</td>\n",
              "      <td>9.900000</td>\n",
              "      <td>45036.000000</td>\n",
              "      <td>111000.000000</td>\n",
              "      <td>13873.000000</td>\n",
              "      <td>2351.000000</td>\n",
              "      <td>31908.000000</td>\n",
              "      <td>30400.000000</td>\n",
              "      <td>31205.000000</td>\n",
              "      <td>1.000000</td>\n",
              "      <td>1.0</td>\n",
              "      <td>1.0</td>\n",
              "      <td>623.000000</td>\n",
              "      <td>6.000000</td>\n",
              "      <td>1.0</td>\n",
              "      <td>1.0</td>\n",
              "      <td>1.000000</td>\n",
              "      <td>1.000000</td>\n",
              "      <td>0.000000</td>\n",
              "      <td>1.000000</td>\n",
              "      <td>1.0</td>\n",
              "    </tr>\n",
              "    <tr>\n",
              "      <th>75%</th>\n",
              "      <td>53.000000</td>\n",
              "      <td>16.000000</td>\n",
              "      <td>400000.000000</td>\n",
              "      <td>21509.385000</td>\n",
              "      <td>14182.800000</td>\n",
              "      <td>18900.190000</td>\n",
              "      <td>18698.000000</td>\n",
              "      <td>44.000000</td>\n",
              "      <td>61.000000</td>\n",
              "      <td>43.000000</td>\n",
              "      <td>85225.940000</td>\n",
              "      <td>85665.000000</td>\n",
              "      <td>94569.360000</td>\n",
              "      <td>19.000000</td>\n",
              "      <td>21.000000</td>\n",
              "      <td>11.000000</td>\n",
              "      <td>9399.230000</td>\n",
              "      <td>7597.000000</td>\n",
              "      <td>8203.000000</td>\n",
              "      <td>25.000000</td>\n",
              "      <td>54.000000</td>\n",
              "      <td>21.000000</td>\n",
              "      <td>75747.385000</td>\n",
              "      <td>84429.975000</td>\n",
              "      <td>74171.495000</td>\n",
              "      <td>52.000000</td>\n",
              "      <td>73.000000</td>\n",
              "      <td>69.000000</td>\n",
              "      <td>9348.460000</td>\n",
              "      <td>18.000000</td>\n",
              "      <td>158135.200000</td>\n",
              "      <td>245000.000000</td>\n",
              "      <td>48950.000000</td>\n",
              "      <td>6885.000000</td>\n",
              "      <td>52559.000000</td>\n",
              "      <td>53206.500000</td>\n",
              "      <td>55223.000000</td>\n",
              "      <td>1.000000</td>\n",
              "      <td>1.0</td>\n",
              "      <td>1.0</td>\n",
              "      <td>799.000000</td>\n",
              "      <td>8.000000</td>\n",
              "      <td>1.0</td>\n",
              "      <td>1.0</td>\n",
              "      <td>1.000000</td>\n",
              "      <td>1.000000</td>\n",
              "      <td>1.000000</td>\n",
              "      <td>1.000000</td>\n",
              "      <td>1.0</td>\n",
              "    </tr>\n",
              "    <tr>\n",
              "      <th>max</th>\n",
              "      <td>64.000000</td>\n",
              "      <td>19.000000</td>\n",
              "      <td>522000.000000</td>\n",
              "      <td>40839.090000</td>\n",
              "      <td>26932.540000</td>\n",
              "      <td>36031.350000</td>\n",
              "      <td>101078.000000</td>\n",
              "      <td>67.000000</td>\n",
              "      <td>85.000000</td>\n",
              "      <td>83.000000</td>\n",
              "      <td>152525.000000</td>\n",
              "      <td>159446.500000</td>\n",
              "      <td>172236.000000</td>\n",
              "      <td>35.000000</td>\n",
              "      <td>58.000000</td>\n",
              "      <td>43.000000</td>\n",
              "      <td>18442.000000</td>\n",
              "      <td>15631.000000</td>\n",
              "      <td>16174.000000</td>\n",
              "      <td>50.000000</td>\n",
              "      <td>79.000000</td>\n",
              "      <td>44.000000</td>\n",
              "      <td>139822.610000</td>\n",
              "      <td>149232.320000</td>\n",
              "      <td>135039.890000</td>\n",
              "      <td>82.000000</td>\n",
              "      <td>103.000000</td>\n",
              "      <td>84.000000</td>\n",
              "      <td>20118.700000</td>\n",
              "      <td>30.800000</td>\n",
              "      <td>747610.000000</td>\n",
              "      <td>482147.000000</td>\n",
              "      <td>126001.000000</td>\n",
              "      <td>12299.000000</td>\n",
              "      <td>96640.000000</td>\n",
              "      <td>100113.000000</td>\n",
              "      <td>100500.000000</td>\n",
              "      <td>1.000000</td>\n",
              "      <td>1.0</td>\n",
              "      <td>1.0</td>\n",
              "      <td>883.000000</td>\n",
              "      <td>9.000000</td>\n",
              "      <td>1.0</td>\n",
              "      <td>1.0</td>\n",
              "      <td>1.000000</td>\n",
              "      <td>1.000000</td>\n",
              "      <td>1.000000</td>\n",
              "      <td>1.000000</td>\n",
              "      <td>1.0</td>\n",
              "    </tr>\n",
              "  </tbody>\n",
              "</table>\n",
              "</div>"
            ],
            "text/plain": [
              "                age  avg_days_between_transaction  ...  income_medium  loan_enq\n",
              "count  11995.000000                  11995.000000  ...   11995.000000   11995.0\n",
              "mean      43.430179                     11.043852  ...       0.639850       1.0\n",
              "std       12.183941                      5.336914  ...       0.480064       0.0\n",
              "min       29.000000                      3.000000  ...       0.000000       1.0\n",
              "25%       33.000000                      6.000000  ...       0.000000       1.0\n",
              "50%       40.000000                     11.000000  ...       1.000000       1.0\n",
              "75%       53.000000                     16.000000  ...       1.000000       1.0\n",
              "max       64.000000                     19.000000  ...       1.000000       1.0\n",
              "\n",
              "[8 rows x 49 columns]"
            ]
          },
          "metadata": {},
          "execution_count": 170
        }
      ]
    },
    {
      "cell_type": "code",
      "metadata": {
        "colab": {
          "base_uri": "https://localhost:8080/",
          "height": 433
        },
        "id": "6PfUDafGJrgR",
        "outputId": "49fd8d2d-ac5d-46df-f3e3-61c676eb9052"
      },
      "source": [
        "#taking the same steps for df_predict\n",
        "for x in df_predict:\n",
        "  df_predict.loc[:,x] = mstats.winsorize(df_predict[x], limits=[0.10, 0.10])\n",
        "df_predict.describe()\n"
      ],
      "execution_count": 171,
      "outputs": [
        {
          "output_type": "stream",
          "name": "stderr",
          "text": [
            "/usr/local/lib/python3.7/dist-packages/pandas/core/indexing.py:1743: SettingWithCopyWarning: \n",
            "A value is trying to be set on a copy of a slice from a DataFrame.\n",
            "Try using .loc[row_indexer,col_indexer] = value instead\n",
            "\n",
            "See the caveats in the documentation: https://pandas.pydata.org/pandas-docs/stable/user_guide/indexing.html#returning-a-view-versus-a-copy\n",
            "  isetter(ilocs[0], value)\n"
          ]
        },
        {
          "output_type": "execute_result",
          "data": {
            "text/html": [
              "<div>\n",
              "<style scoped>\n",
              "    .dataframe tbody tr th:only-of-type {\n",
              "        vertical-align: middle;\n",
              "    }\n",
              "\n",
              "    .dataframe tbody tr th {\n",
              "        vertical-align: top;\n",
              "    }\n",
              "\n",
              "    .dataframe thead th {\n",
              "        text-align: right;\n",
              "    }\n",
              "</style>\n",
              "<table border=\"1\" class=\"dataframe\">\n",
              "  <thead>\n",
              "    <tr style=\"text-align: right;\">\n",
              "      <th></th>\n",
              "      <th>age</th>\n",
              "      <th>avg_days_between_transaction</th>\n",
              "      <th>card_lim</th>\n",
              "      <th>cc_cons_apr</th>\n",
              "      <th>cc_cons_jun</th>\n",
              "      <th>cc_cons_may</th>\n",
              "      <th>cc_count_apr</th>\n",
              "      <th>cc_count_jun</th>\n",
              "      <th>cc_count_may</th>\n",
              "      <th>credit_amount_apr</th>\n",
              "      <th>credit_amount_jun</th>\n",
              "      <th>credit_amount_may</th>\n",
              "      <th>credit_count_apr</th>\n",
              "      <th>credit_count_jun</th>\n",
              "      <th>credit_count_may</th>\n",
              "      <th>dc_cons_apr</th>\n",
              "      <th>dc_cons_jun</th>\n",
              "      <th>dc_cons_may</th>\n",
              "      <th>dc_count_apr</th>\n",
              "      <th>dc_count_jun</th>\n",
              "      <th>dc_count_may</th>\n",
              "      <th>debit_amount_apr</th>\n",
              "      <th>debit_amount_jun</th>\n",
              "      <th>debit_amount_may</th>\n",
              "      <th>debit_count_apr</th>\n",
              "      <th>debit_count_jun</th>\n",
              "      <th>debit_count_may</th>\n",
              "      <th>emi_active</th>\n",
              "      <th>emp_tenure_years</th>\n",
              "      <th>investment_1</th>\n",
              "      <th>investment_2</th>\n",
              "      <th>investment_3</th>\n",
              "      <th>investment_4</th>\n",
              "      <th>max_credit_amount_apr</th>\n",
              "      <th>max_credit_amount_jun</th>\n",
              "      <th>max_credit_amount_may</th>\n",
              "      <th>net_banking_flag</th>\n",
              "      <th>personal_loan_active</th>\n",
              "      <th>personal_loan_closed</th>\n",
              "      <th>region_code</th>\n",
              "      <th>tenure_with_bank</th>\n",
              "      <th>vehicle_loan_active</th>\n",
              "      <th>vehicle_loan_closed</th>\n",
              "      <th>account_type</th>\n",
              "      <th>gender</th>\n",
              "      <th>income_low</th>\n",
              "      <th>income_medium</th>\n",
              "      <th>loan_enq</th>\n",
              "    </tr>\n",
              "  </thead>\n",
              "  <tbody>\n",
              "    <tr>\n",
              "      <th>count</th>\n",
              "      <td>4993.000000</td>\n",
              "      <td>4993.000000</td>\n",
              "      <td>4993.000000</td>\n",
              "      <td>4993.000000</td>\n",
              "      <td>4993.000000</td>\n",
              "      <td>4993.000000</td>\n",
              "      <td>4993.000000</td>\n",
              "      <td>4993.000000</td>\n",
              "      <td>4993.000000</td>\n",
              "      <td>4993.000000</td>\n",
              "      <td>4993.000000</td>\n",
              "      <td>4993.000000</td>\n",
              "      <td>4993.000000</td>\n",
              "      <td>4993.000000</td>\n",
              "      <td>4993.000000</td>\n",
              "      <td>4993.000000</td>\n",
              "      <td>4993.000000</td>\n",
              "      <td>4993.000000</td>\n",
              "      <td>4993.000000</td>\n",
              "      <td>4993.000000</td>\n",
              "      <td>4993.000000</td>\n",
              "      <td>4993.000000</td>\n",
              "      <td>4993.000000</td>\n",
              "      <td>4993.000000</td>\n",
              "      <td>4993.000000</td>\n",
              "      <td>4993.000000</td>\n",
              "      <td>4993.000000</td>\n",
              "      <td>4993.000000</td>\n",
              "      <td>4993.000000</td>\n",
              "      <td>4993.000000</td>\n",
              "      <td>4993.000000</td>\n",
              "      <td>4993.000000</td>\n",
              "      <td>4993.000000</td>\n",
              "      <td>4993.000000</td>\n",
              "      <td>4993.000000</td>\n",
              "      <td>4993.000000</td>\n",
              "      <td>4993.000000</td>\n",
              "      <td>4993.0</td>\n",
              "      <td>4993.0</td>\n",
              "      <td>4993.000000</td>\n",
              "      <td>4993.000000</td>\n",
              "      <td>4993.0</td>\n",
              "      <td>4993.0</td>\n",
              "      <td>4993.000000</td>\n",
              "      <td>4993.000000</td>\n",
              "      <td>4993.000000</td>\n",
              "      <td>4993.000000</td>\n",
              "      <td>4993.0</td>\n",
              "    </tr>\n",
              "    <tr>\n",
              "      <th>mean</th>\n",
              "      <td>43.266773</td>\n",
              "      <td>10.929501</td>\n",
              "      <td>275425.858402</td>\n",
              "      <td>14241.275637</td>\n",
              "      <td>9458.192182</td>\n",
              "      <td>12414.279435</td>\n",
              "      <td>22.705588</td>\n",
              "      <td>38.203485</td>\n",
              "      <td>29.694973</td>\n",
              "      <td>60724.977567</td>\n",
              "      <td>62346.329243</td>\n",
              "      <td>65653.230719</td>\n",
              "      <td>10.966753</td>\n",
              "      <td>16.072301</td>\n",
              "      <td>10.972161</td>\n",
              "      <td>6164.686481</td>\n",
              "      <td>5094.125358</td>\n",
              "      <td>5647.964616</td>\n",
              "      <td>16.144602</td>\n",
              "      <td>30.226918</td>\n",
              "      <td>13.152814</td>\n",
              "      <td>55451.020767</td>\n",
              "      <td>61302.034482</td>\n",
              "      <td>51442.084624</td>\n",
              "      <td>33.885840</td>\n",
              "      <td>43.937913</td>\n",
              "      <td>36.416183</td>\n",
              "      <td>6290.255514</td>\n",
              "      <td>12.828540</td>\n",
              "      <td>146538.413854</td>\n",
              "      <td>166787.490961</td>\n",
              "      <td>31786.521762</td>\n",
              "      <td>2869.513323</td>\n",
              "      <td>40075.977032</td>\n",
              "      <td>39982.723649</td>\n",
              "      <td>43381.783851</td>\n",
              "      <td>0.712998</td>\n",
              "      <td>1.0</td>\n",
              "      <td>1.0</td>\n",
              "      <td>597.823954</td>\n",
              "      <td>5.452634</td>\n",
              "      <td>1.0</td>\n",
              "      <td>1.0</td>\n",
              "      <td>0.839575</td>\n",
              "      <td>0.868416</td>\n",
              "      <td>0.284799</td>\n",
              "      <td>0.632686</td>\n",
              "      <td>1.0</td>\n",
              "    </tr>\n",
              "    <tr>\n",
              "      <th>std</th>\n",
              "      <td>12.265384</td>\n",
              "      <td>5.140595</td>\n",
              "      <td>163953.256598</td>\n",
              "      <td>12275.330259</td>\n",
              "      <td>7995.949754</td>\n",
              "      <td>10963.126200</td>\n",
              "      <td>23.314681</td>\n",
              "      <td>28.024955</td>\n",
              "      <td>26.912721</td>\n",
              "      <td>43108.102337</td>\n",
              "      <td>47352.263121</td>\n",
              "      <td>51111.505017</td>\n",
              "      <td>12.020253</td>\n",
              "      <td>16.943504</td>\n",
              "      <td>14.132466</td>\n",
              "      <td>5811.795900</td>\n",
              "      <td>4776.423856</td>\n",
              "      <td>5071.489847</td>\n",
              "      <td>17.596663</td>\n",
              "      <td>27.918939</td>\n",
              "      <td>14.561956</td>\n",
              "      <td>41569.339952</td>\n",
              "      <td>45592.163718</td>\n",
              "      <td>39391.773624</td>\n",
              "      <td>25.581604</td>\n",
              "      <td>33.098758</td>\n",
              "      <td>29.438479</td>\n",
              "      <td>6110.618615</td>\n",
              "      <td>9.520577</td>\n",
              "      <td>226956.186848</td>\n",
              "      <td>154383.980311</td>\n",
              "      <td>39896.877594</td>\n",
              "      <td>5671.900797</td>\n",
              "      <td>25542.689655</td>\n",
              "      <td>27906.013575</td>\n",
              "      <td>30567.552902</td>\n",
              "      <td>0.452408</td>\n",
              "      <td>0.0</td>\n",
              "      <td>0.0</td>\n",
              "      <td>207.971724</td>\n",
              "      <td>2.884358</td>\n",
              "      <td>0.0</td>\n",
              "      <td>0.0</td>\n",
              "      <td>0.367036</td>\n",
              "      <td>0.338072</td>\n",
              "      <td>0.451364</td>\n",
              "      <td>0.482121</td>\n",
              "      <td>0.0</td>\n",
              "    </tr>\n",
              "    <tr>\n",
              "      <th>min</th>\n",
              "      <td>29.000000</td>\n",
              "      <td>3.000000</td>\n",
              "      <td>47000.000000</td>\n",
              "      <td>1866.320000</td>\n",
              "      <td>1344.000000</td>\n",
              "      <td>1636.400000</td>\n",
              "      <td>2.000000</td>\n",
              "      <td>4.000000</td>\n",
              "      <td>3.000000</td>\n",
              "      <td>14201.000000</td>\n",
              "      <td>11305.000000</td>\n",
              "      <td>12664.000000</td>\n",
              "      <td>1.000000</td>\n",
              "      <td>2.000000</td>\n",
              "      <td>1.000000</td>\n",
              "      <td>614.000000</td>\n",
              "      <td>612.400000</td>\n",
              "      <td>690.480000</td>\n",
              "      <td>1.000000</td>\n",
              "      <td>1.000000</td>\n",
              "      <td>1.000000</td>\n",
              "      <td>10124.000000</td>\n",
              "      <td>12190.700000</td>\n",
              "      <td>10569.750000</td>\n",
              "      <td>4.000000</td>\n",
              "      <td>7.000000</td>\n",
              "      <td>6.000000</td>\n",
              "      <td>470.880000</td>\n",
              "      <td>2.600000</td>\n",
              "      <td>690.000000</td>\n",
              "      <td>11897.000000</td>\n",
              "      <td>768.000000</td>\n",
              "      <td>-5942.000000</td>\n",
              "      <td>13906.000000</td>\n",
              "      <td>10998.000000</td>\n",
              "      <td>12313.000000</td>\n",
              "      <td>0.000000</td>\n",
              "      <td>1.0</td>\n",
              "      <td>1.0</td>\n",
              "      <td>269.000000</td>\n",
              "      <td>1.000000</td>\n",
              "      <td>1.0</td>\n",
              "      <td>1.0</td>\n",
              "      <td>0.000000</td>\n",
              "      <td>0.000000</td>\n",
              "      <td>0.000000</td>\n",
              "      <td>0.000000</td>\n",
              "      <td>1.0</td>\n",
              "    </tr>\n",
              "    <tr>\n",
              "      <th>25%</th>\n",
              "      <td>33.000000</td>\n",
              "      <td>6.000000</td>\n",
              "      <td>124000.000000</td>\n",
              "      <td>4286.860000</td>\n",
              "      <td>2996.310000</td>\n",
              "      <td>3619.000000</td>\n",
              "      <td>5.000000</td>\n",
              "      <td>10.000000</td>\n",
              "      <td>8.000000</td>\n",
              "      <td>26380.000000</td>\n",
              "      <td>24973.000000</td>\n",
              "      <td>24593.000000</td>\n",
              "      <td>2.000000</td>\n",
              "      <td>4.000000</td>\n",
              "      <td>2.000000</td>\n",
              "      <td>1559.000000</td>\n",
              "      <td>1390.000000</td>\n",
              "      <td>1582.000000</td>\n",
              "      <td>2.000000</td>\n",
              "      <td>4.000000</td>\n",
              "      <td>2.000000</td>\n",
              "      <td>23097.500000</td>\n",
              "      <td>25876.800000</td>\n",
              "      <td>20526.000000</td>\n",
              "      <td>11.000000</td>\n",
              "      <td>12.000000</td>\n",
              "      <td>11.000000</td>\n",
              "      <td>1529.960000</td>\n",
              "      <td>5.100000</td>\n",
              "      <td>5468.000000</td>\n",
              "      <td>39833.190000</td>\n",
              "      <td>2214.000000</td>\n",
              "      <td>0.000000</td>\n",
              "      <td>20213.000000</td>\n",
              "      <td>18585.000000</td>\n",
              "      <td>20444.000000</td>\n",
              "      <td>0.000000</td>\n",
              "      <td>1.0</td>\n",
              "      <td>1.0</td>\n",
              "      <td>428.000000</td>\n",
              "      <td>3.000000</td>\n",
              "      <td>1.0</td>\n",
              "      <td>1.0</td>\n",
              "      <td>1.000000</td>\n",
              "      <td>1.000000</td>\n",
              "      <td>0.000000</td>\n",
              "      <td>0.000000</td>\n",
              "      <td>1.0</td>\n",
              "    </tr>\n",
              "    <tr>\n",
              "      <th>50%</th>\n",
              "      <td>39.000000</td>\n",
              "      <td>11.000000</td>\n",
              "      <td>282000.000000</td>\n",
              "      <td>10028.000000</td>\n",
              "      <td>6667.000000</td>\n",
              "      <td>8416.000000</td>\n",
              "      <td>10.000000</td>\n",
              "      <td>35.000000</td>\n",
              "      <td>23.000000</td>\n",
              "      <td>46505.000000</td>\n",
              "      <td>46782.000000</td>\n",
              "      <td>48058.000000</td>\n",
              "      <td>4.000000</td>\n",
              "      <td>7.000000</td>\n",
              "      <td>4.000000</td>\n",
              "      <td>3879.000000</td>\n",
              "      <td>3302.000000</td>\n",
              "      <td>3740.000000</td>\n",
              "      <td>7.000000</td>\n",
              "      <td>18.000000</td>\n",
              "      <td>6.000000</td>\n",
              "      <td>41320.720000</td>\n",
              "      <td>45471.430000</td>\n",
              "      <td>37761.470000</td>\n",
              "      <td>29.000000</td>\n",
              "      <td>36.000000</td>\n",
              "      <td>23.000000</td>\n",
              "      <td>3852.740000</td>\n",
              "      <td>9.900000</td>\n",
              "      <td>42460.609100</td>\n",
              "      <td>109000.000000</td>\n",
              "      <td>14754.000000</td>\n",
              "      <td>2351.000000</td>\n",
              "      <td>31698.000000</td>\n",
              "      <td>29867.000000</td>\n",
              "      <td>31898.000000</td>\n",
              "      <td>1.000000</td>\n",
              "      <td>1.0</td>\n",
              "      <td>1.0</td>\n",
              "      <td>623.000000</td>\n",
              "      <td>5.000000</td>\n",
              "      <td>1.0</td>\n",
              "      <td>1.0</td>\n",
              "      <td>1.000000</td>\n",
              "      <td>1.000000</td>\n",
              "      <td>0.000000</td>\n",
              "      <td>1.000000</td>\n",
              "      <td>1.0</td>\n",
              "    </tr>\n",
              "    <tr>\n",
              "      <th>75%</th>\n",
              "      <td>53.000000</td>\n",
              "      <td>16.000000</td>\n",
              "      <td>402000.000000</td>\n",
              "      <td>20660.260000</td>\n",
              "      <td>14078.975000</td>\n",
              "      <td>17844.860000</td>\n",
              "      <td>44.000000</td>\n",
              "      <td>61.000000</td>\n",
              "      <td>43.000000</td>\n",
              "      <td>85224.000000</td>\n",
              "      <td>87789.120000</td>\n",
              "      <td>94042.000000</td>\n",
              "      <td>19.000000</td>\n",
              "      <td>21.000000</td>\n",
              "      <td>10.000000</td>\n",
              "      <td>9354.650000</td>\n",
              "      <td>7153.000000</td>\n",
              "      <td>8398.000000</td>\n",
              "      <td>25.000000</td>\n",
              "      <td>54.000000</td>\n",
              "      <td>21.000000</td>\n",
              "      <td>79441.170000</td>\n",
              "      <td>87480.500000</td>\n",
              "      <td>72846.850000</td>\n",
              "      <td>52.000000</td>\n",
              "      <td>73.000000</td>\n",
              "      <td>69.000000</td>\n",
              "      <td>9372.410000</td>\n",
              "      <td>18.200000</td>\n",
              "      <td>158135.200000</td>\n",
              "      <td>248710.000000</td>\n",
              "      <td>48950.000000</td>\n",
              "      <td>6885.000000</td>\n",
              "      <td>52341.000000</td>\n",
              "      <td>53671.000000</td>\n",
              "      <td>57435.000000</td>\n",
              "      <td>1.000000</td>\n",
              "      <td>1.0</td>\n",
              "      <td>1.0</td>\n",
              "      <td>799.000000</td>\n",
              "      <td>8.000000</td>\n",
              "      <td>1.0</td>\n",
              "      <td>1.0</td>\n",
              "      <td>1.000000</td>\n",
              "      <td>1.000000</td>\n",
              "      <td>1.000000</td>\n",
              "      <td>1.000000</td>\n",
              "      <td>1.0</td>\n",
              "    </tr>\n",
              "    <tr>\n",
              "      <th>max</th>\n",
              "      <td>64.000000</td>\n",
              "      <td>18.000000</td>\n",
              "      <td>524000.000000</td>\n",
              "      <td>40026.430000</td>\n",
              "      <td>26166.960000</td>\n",
              "      <td>35512.330000</td>\n",
              "      <td>67.000000</td>\n",
              "      <td>84.000000</td>\n",
              "      <td>83.000000</td>\n",
              "      <td>148889.000000</td>\n",
              "      <td>161034.000000</td>\n",
              "      <td>172725.000000</td>\n",
              "      <td>35.000000</td>\n",
              "      <td>49.000000</td>\n",
              "      <td>43.000000</td>\n",
              "      <td>18478.750000</td>\n",
              "      <td>15620.690000</td>\n",
              "      <td>16242.000000</td>\n",
              "      <td>50.000000</td>\n",
              "      <td>79.000000</td>\n",
              "      <td>44.000000</td>\n",
              "      <td>141200.750000</td>\n",
              "      <td>154679.360000</td>\n",
              "      <td>134288.650000</td>\n",
              "      <td>79.000000</td>\n",
              "      <td>103.000000</td>\n",
              "      <td>84.000000</td>\n",
              "      <td>19364.960000</td>\n",
              "      <td>32.200000</td>\n",
              "      <td>720551.400000</td>\n",
              "      <td>470000.000000</td>\n",
              "      <td>126001.000000</td>\n",
              "      <td>12299.000000</td>\n",
              "      <td>94812.000000</td>\n",
              "      <td>100113.000000</td>\n",
              "      <td>107835.000000</td>\n",
              "      <td>1.000000</td>\n",
              "      <td>1.0</td>\n",
              "      <td>1.0</td>\n",
              "      <td>883.000000</td>\n",
              "      <td>10.000000</td>\n",
              "      <td>1.0</td>\n",
              "      <td>1.0</td>\n",
              "      <td>1.000000</td>\n",
              "      <td>1.000000</td>\n",
              "      <td>1.000000</td>\n",
              "      <td>1.000000</td>\n",
              "      <td>1.0</td>\n",
              "    </tr>\n",
              "  </tbody>\n",
              "</table>\n",
              "</div>"
            ],
            "text/plain": [
              "               age  avg_days_between_transaction  ...  income_medium  loan_enq\n",
              "count  4993.000000                   4993.000000  ...    4993.000000    4993.0\n",
              "mean     43.266773                     10.929501  ...       0.632686       1.0\n",
              "std      12.265384                      5.140595  ...       0.482121       0.0\n",
              "min      29.000000                      3.000000  ...       0.000000       1.0\n",
              "25%      33.000000                      6.000000  ...       0.000000       1.0\n",
              "50%      39.000000                     11.000000  ...       1.000000       1.0\n",
              "75%      53.000000                     16.000000  ...       1.000000       1.0\n",
              "max      64.000000                     18.000000  ...       1.000000       1.0\n",
              "\n",
              "[8 rows x 48 columns]"
            ]
          },
          "metadata": {},
          "execution_count": 171
        }
      ]
    },
    {
      "cell_type": "markdown",
      "metadata": {
        "id": "nY3Bk_QdQJ96"
      },
      "source": [
        "## 8. Splitting df_train in df_train_x and df_train_y"
      ]
    },
    {
      "cell_type": "code",
      "metadata": {
        "id": "niUD1F9N8xgJ"
      },
      "source": [
        "#As df_train is the data that our model will train on, we will split it into featuers (df_train_x) and target(df_train_y)\n",
        "df_train_x = df_train[df_train.columns.difference(['cc_cons_target'])]\n",
        "\n",
        "#df_train_y\n",
        "df_train_y = df_train[['cc_cons_target']]\n",
        "df_train_y.columns=['target']"
      ],
      "execution_count": 172,
      "outputs": []
    },
    {
      "cell_type": "markdown",
      "metadata": {
        "id": "ssmBulV4Bwqm"
      },
      "source": [
        "### Normalizing target variable\n",
        "our target variable should be normalized. Thus we will log transform  our train_y"
      ]
    },
    {
      "cell_type": "code",
      "metadata": {
        "id": "e8P4EX3dRA4q",
        "colab": {
          "base_uri": "https://localhost:8080/",
          "height": 341
        },
        "outputId": "0dede35c-f228-4d23-91a8-ed6162b194ba"
      },
      "source": [
        "# taking log of df_train_y and plotting histogram\n",
        "df_train_y_log = np.log(df_train_y)\n",
        "sns.distplot(df_train_y_log)"
      ],
      "execution_count": 173,
      "outputs": [
        {
          "output_type": "stream",
          "name": "stderr",
          "text": [
            "/usr/local/lib/python3.7/dist-packages/seaborn/distributions.py:2557: FutureWarning: `distplot` is a deprecated function and will be removed in a future version. Please adapt your code to use either `displot` (a figure-level function with similar flexibility) or `histplot` (an axes-level function for histograms).\n",
            "  warnings.warn(msg, FutureWarning)\n"
          ]
        },
        {
          "output_type": "execute_result",
          "data": {
            "text/plain": [
              "<matplotlib.axes._subplots.AxesSubplot at 0x7fa6636b96d0>"
            ]
          },
          "metadata": {},
          "execution_count": 173
        },
        {
          "output_type": "display_data",
          "data": {
            "image/png": "[encoded data removed]",
            "text/plain": [
              "<Figure size 432x288 with 1 Axes>"
            ]
          },
          "metadata": {
            "needs_background": "light"
          }
        }
      ]
    },
    {
      "cell_type": "code",
      "metadata": {
        "id": "PvDZ7x8U-gxh"
      },
      "source": [
        "# from sklearn.preprocessing import StandardScaler\n",
        "\n",
        "# std_scaler = StandardScaler()\n",
        "# aa = std_scaler.fit_transform(df_train_y)\n",
        "\n",
        "# # sns.distplot(aa)\n",
        "# sns.distplot(aa)"
      ],
      "execution_count": 174,
      "outputs": []
    },
    {
      "cell_type": "markdown",
      "metadata": {
        "id": "zNcFPfbORCS9"
      },
      "source": [
        "## 9\\. Running OLS model on our dataset with all features"
      ]
    },
    {
      "cell_type": "code",
      "metadata": {
        "colab": {
          "base_uri": "https://localhost:8080/"
        },
        "id": "C4TWxjDRRGtp",
        "outputId": "93f20c46-38c6-4d83-db85-9a338ab7d9e2"
      },
      "source": [
        "### OLS regression\n",
        "import statsmodels.api as sm\n",
        "\n",
        "model = sm.OLS(df_train_y,df_train_x)\n",
        "\n",
        "model_fit = model.fit()\n",
        "\n",
        "print(model_fit.summary())"
      ],
      "execution_count": 175,
      "outputs": [
        {
          "output_type": "stream",
          "name": "stdout",
          "text": [
            "                            OLS Regression Results                            \n",
            "==============================================================================\n",
            "Dep. Variable:                 target   R-squared:                       0.003\n",
            "Model:                            OLS   Adj. R-squared:                 -0.001\n",
            "Method:                 Least Squares   F-statistic:                    0.7702\n",
            "Date:                Sun, 05 Sep 2021   Prob (F-statistic):              0.861\n",
            "Time:                        18:28:28   Log-Likelihood:            -1.4055e+05\n",
            "No. Observations:               11995   AIC:                         2.812e+05\n",
            "Df Residuals:                   11951   BIC:                         2.815e+05\n",
            "Df Model:                          43                                         \n",
            "Covariance Type:            nonrobust                                         \n",
            "================================================================================================\n",
            "                                   coef    std err          t      P>|t|      [0.025      0.975]\n",
            "------------------------------------------------------------------------------------------------\n",
            "account_type                   905.2470    756.401      1.197      0.231    -577.422    2387.916\n",
            "age                            -64.6947     31.273     -2.069      0.039    -125.996      -3.394\n",
            "avg_days_between_transaction    -9.8386     50.984     -0.193      0.847    -109.775      90.098\n",
            "card_lim                        -0.0002      0.002     -0.102      0.919      -0.003       0.003\n",
            "cc_cons_apr                      0.0245      0.022      1.137      0.256      -0.018       0.067\n",
            "cc_cons_jun                      0.0289      0.033      0.880      0.379      -0.035       0.093\n",
            "cc_cons_may                      0.0496      0.024      2.058      0.040       0.002       0.097\n",
            "cc_count_apr                    -8.7023     11.704     -0.744      0.457     -31.643      14.239\n",
            "cc_count_jun                     0.2033      9.560      0.021      0.983     -18.536      18.942\n",
            "cc_count_may                     0.4529     10.161      0.045      0.964     -19.465      20.371\n",
            "credit_amount_apr               -0.0023      0.006     -0.373      0.709      -0.014       0.010\n",
            "credit_amount_jun                0.0033      0.006      0.574      0.566      -0.008       0.015\n",
            "credit_amount_may               -0.0074      0.005     -1.396      0.163      -0.018       0.003\n",
            "credit_count_apr               -18.8901     22.488     -0.840      0.401     -62.971      25.191\n",
            "credit_count_jun                -7.7251     14.535     -0.531      0.595     -36.217      20.767\n",
            "credit_count_may                -1.0030     18.958     -0.053      0.958     -38.164      36.158\n",
            "dc_cons_apr                     -0.0135      0.047     -0.286      0.775      -0.106       0.079\n",
            "dc_cons_jun                     -0.0151      0.056     -0.269      0.788      -0.125       0.095\n",
            "dc_cons_may                     -0.0973      0.055     -1.782      0.075      -0.204       0.010\n",
            "dc_count_apr                    -2.3797     15.222     -0.156      0.876     -32.217      27.458\n",
            "dc_count_jun                     3.7373      9.864      0.379      0.705     -15.597      23.072\n",
            "dc_count_may                    -3.6999     19.049     -0.194      0.846     -41.040      33.640\n",
            "debit_amount_apr                 0.0043      0.007      0.637      0.524      -0.009       0.017\n",
            "debit_amount_jun                -0.0131      0.006     -2.104      0.035      -0.025      -0.001\n",
            "debit_amount_may                 0.0005      0.007      0.080      0.936      -0.013       0.014\n",
            "debit_count_apr                 -9.7447     10.391     -0.938      0.348     -30.114      10.624\n",
            "debit_count_jun                 -6.3283      8.207     -0.771      0.441     -22.414       9.758\n",
            "debit_count_may                  7.1323      9.235      0.772      0.440     -10.969      25.233\n",
            "emi_active                      -0.0182      0.043     -0.423      0.672      -0.102       0.066\n",
            "emp_tenure_years                38.2702     41.925      0.913      0.361     -43.909     120.449\n",
            "gender                         242.7201    788.054      0.308      0.758   -1301.994    1787.434\n",
            "income_low                     813.6703   1088.497      0.748      0.455   -1319.961    2947.301\n",
            "income_medium                   61.9049   1017.849      0.061      0.952   -1933.244    2057.054\n",
            "investment_1                     0.0001      0.001      0.114      0.909      -0.002       0.002\n",
            "investment_2                    -0.0014      0.002     -0.836      0.403      -0.005       0.002\n",
            "investment_3                    -0.0088      0.007     -1.284      0.199      -0.022       0.005\n",
            "investment_4                     0.0005      0.049      0.009      0.992      -0.095       0.096\n",
            "loan_enq                      5251.8725    556.923      9.430      0.000    4160.213    6343.532\n",
            "max_credit_amount_apr           -0.0022      0.010     -0.212      0.832      -0.023       0.018\n",
            "max_credit_amount_jun            0.0095      0.010      0.968      0.333      -0.010       0.029\n",
            "max_credit_amount_may            0.0040      0.010      0.422      0.673      -0.015       0.023\n",
            "net_banking_flag              -156.7151    605.472     -0.259      0.796   -1343.539    1030.108\n",
            "personal_loan_active          5251.8725    556.923      9.430      0.000    4160.213    6343.532\n",
            "personal_loan_closed          5251.8725    556.923      9.430      0.000    4160.213    6343.532\n",
            "region_code                      0.0135      1.307      0.010      0.992      -2.549       2.576\n",
            "tenure_with_bank                77.8572    105.965      0.735      0.463    -129.850     285.565\n",
            "vehicle_loan_active           5251.8725    556.923      9.430      0.000    4160.213    6343.532\n",
            "vehicle_loan_closed           5251.8725    556.923      9.430      0.000    4160.213    6343.532\n",
            "==============================================================================\n",
            "Omnibus:                     4250.651   Durbin-Watson:                   1.974\n",
            "Prob(Omnibus):                  0.000   Jarque-Bera (JB):            10990.190\n",
            "Skew:                           2.016   Prob(JB):                         0.00\n",
            "Kurtosis:                       5.394   Cond. No.                     1.18e+16\n",
            "==============================================================================\n",
            "\n",
            "Warnings:\n",
            "[1] Standard Errors assume that the covariance matrix of the errors is correctly specified.\n",
            "[2] The smallest eigenvalue is 1.56e-17. This might indicate that there are\n",
            "strong multicollinearity problems or that the design matrix is singular.\n"
          ]
        }
      ]
    },
    {
      "cell_type": "markdown",
      "metadata": {
        "id": "Lm4nHzdVRdzs"
      },
      "source": [
        "#### Result of OLS regression model\n",
        "We can see from the above summary that many of the features have a p-value greter than that of 0.05. \n",
        "\n",
        "Thus we will remove those features from our model and rerun the OLS model"
      ]
    },
    {
      "cell_type": "code",
      "metadata": {
        "id": "4USkiZdGRW-z"
      },
      "source": [
        "#removing the top 5 features on the basis of p_value\n",
        "remove_cols = ['dc_count','Total_debit_amount','net_banking_flag','age','gender']\n",
        "new_cols = df_train_x.columns.difference(remove_cols)\n",
        "df_train_x = df_train_x[new_cols]\n"
      ],
      "execution_count": 176,
      "outputs": []
    },
    {
      "cell_type": "markdown",
      "metadata": {
        "id": "IBCbB8e6Ufc0"
      },
      "source": [
        "## VIF\n",
        "- VIF is used to remove multicollinearity from the dataset. \n",
        "- VIF = 1/(1-R^2)\n",
        "\n",
        "- It computes the R-sq value for every feature against all other features. The more a feature is collinear with other features , more the VIF score is.\n",
        "- VIF starts at 1 and has no upper limit\n",
        "- VIF = 1, no correlation between the independent variable and the other variables\n",
        "- VIF exceeding 5 or 10 indicates high multicollinearity between this independent variable and the others"
      ]
    },
    {
      "cell_type": "code",
      "metadata": {
        "colab": {
          "base_uri": "https://localhost:8080/",
          "height": 1000
        },
        "id": "47RNf4YuUhYy",
        "outputId": "cd0846d6-6f67-418f-8e4e-77a935cc9c8a"
      },
      "source": [
        "#R^2 value is determined to find out how well an independent variable is described by the other independent variables. \n",
        "#A high value of R^2 means that the variable is highly correlated with the other variables.\n",
        "#So, the closer the R^2 value to 1, the higher the value of VIF and\n",
        "# the higher the multicollinearity with the particular independent variable.\n",
        "\n",
        "\n",
        "# vif = 1/(1-r^2)\n",
        "\n",
        "\n",
        "# VIF starts at 1 and has no upper limit\n",
        "# VIF = 1, no correlation between the independent variable and the other variables\n",
        "# VIF exceeding 5 or 10 indicates high multicollinearity between this independent variable and the others\n",
        "\n",
        "\n",
        "\n",
        "\n",
        "# Import library for VIF\n",
        "from statsmodels.stats.outliers_influence import variance_inflation_factor\n",
        "\n",
        "def calc_vif(X):\n",
        "\n",
        "    # Calculating VIF\n",
        "    vif = pd.DataFrame()\n",
        "    vif[\"variables\"] = X.columns\n",
        "    vif[\"VIF\"] = [variance_inflation_factor(X.values, i) for i in range(X.shape[1])]\n",
        "\n",
        "    return(vif)\n",
        "\n",
        "\n",
        "X = df_train_x\n",
        "calc_vif(X)\n",
        "\n",
        "\n",
        "\n",
        "#Fixing Multicollinearity\n",
        "\n",
        "# #Dropping one of the correlated features will help in bringing down the multicollinearity between correlated features:\n",
        "# X = df.drop(['Age','Salary'],axis=1)\n",
        "# calc_vif(X)"
      ],
      "execution_count": 177,
      "outputs": [
        {
          "output_type": "stream",
          "name": "stderr",
          "text": [
            "/usr/local/lib/python3.7/dist-packages/statsmodels/regression/linear_model.py:1636: RuntimeWarning: divide by zero encountered in double_scalars\n",
            "  return 1 - self.ssr/self.centered_tss\n"
          ]
        },
        {
          "output_type": "execute_result",
          "data": {
            "text/html": [
              "<div>\n",
              "<style scoped>\n",
              "    .dataframe tbody tr th:only-of-type {\n",
              "        vertical-align: middle;\n",
              "    }\n",
              "\n",
              "    .dataframe tbody tr th {\n",
              "        vertical-align: top;\n",
              "    }\n",
              "\n",
              "    .dataframe thead th {\n",
              "        text-align: right;\n",
              "    }\n",
              "</style>\n",
              "<table border=\"1\" class=\"dataframe\">\n",
              "  <thead>\n",
              "    <tr style=\"text-align: right;\">\n",
              "      <th></th>\n",
              "      <th>variables</th>\n",
              "      <th>VIF</th>\n",
              "    </tr>\n",
              "  </thead>\n",
              "  <tbody>\n",
              "    <tr>\n",
              "      <th>0</th>\n",
              "      <td>account_type</td>\n",
              "      <td>1.002300</td>\n",
              "    </tr>\n",
              "    <tr>\n",
              "      <th>1</th>\n",
              "      <td>avg_days_between_transaction</td>\n",
              "      <td>1.003494</td>\n",
              "    </tr>\n",
              "    <tr>\n",
              "      <th>2</th>\n",
              "      <td>card_lim</td>\n",
              "      <td>1.002805</td>\n",
              "    </tr>\n",
              "    <tr>\n",
              "      <th>3</th>\n",
              "      <td>cc_cons_apr</td>\n",
              "      <td>1.004466</td>\n",
              "    </tr>\n",
              "    <tr>\n",
              "      <th>4</th>\n",
              "      <td>cc_cons_jun</td>\n",
              "      <td>1.004309</td>\n",
              "    </tr>\n",
              "    <tr>\n",
              "      <th>5</th>\n",
              "      <td>cc_cons_may</td>\n",
              "      <td>1.004446</td>\n",
              "    </tr>\n",
              "    <tr>\n",
              "      <th>6</th>\n",
              "      <td>cc_count_apr</td>\n",
              "      <td>1.002893</td>\n",
              "    </tr>\n",
              "    <tr>\n",
              "      <th>7</th>\n",
              "      <td>cc_count_jun</td>\n",
              "      <td>1.003859</td>\n",
              "    </tr>\n",
              "    <tr>\n",
              "      <th>8</th>\n",
              "      <td>cc_count_may</td>\n",
              "      <td>1.003221</td>\n",
              "    </tr>\n",
              "    <tr>\n",
              "      <th>9</th>\n",
              "      <td>credit_amount_apr</td>\n",
              "      <td>1.002050</td>\n",
              "    </tr>\n",
              "    <tr>\n",
              "      <th>10</th>\n",
              "      <td>credit_amount_jun</td>\n",
              "      <td>1.002792</td>\n",
              "    </tr>\n",
              "    <tr>\n",
              "      <th>11</th>\n",
              "      <td>credit_amount_may</td>\n",
              "      <td>1.002766</td>\n",
              "    </tr>\n",
              "    <tr>\n",
              "      <th>12</th>\n",
              "      <td>credit_count_apr</td>\n",
              "      <td>1.003006</td>\n",
              "    </tr>\n",
              "    <tr>\n",
              "      <th>13</th>\n",
              "      <td>credit_count_jun</td>\n",
              "      <td>1.003564</td>\n",
              "    </tr>\n",
              "    <tr>\n",
              "      <th>14</th>\n",
              "      <td>credit_count_may</td>\n",
              "      <td>1.002363</td>\n",
              "    </tr>\n",
              "    <tr>\n",
              "      <th>15</th>\n",
              "      <td>dc_cons_apr</td>\n",
              "      <td>1.002539</td>\n",
              "    </tr>\n",
              "    <tr>\n",
              "      <th>16</th>\n",
              "      <td>dc_cons_jun</td>\n",
              "      <td>1.002049</td>\n",
              "    </tr>\n",
              "    <tr>\n",
              "      <th>17</th>\n",
              "      <td>dc_cons_may</td>\n",
              "      <td>1.003351</td>\n",
              "    </tr>\n",
              "    <tr>\n",
              "      <th>18</th>\n",
              "      <td>dc_count_apr</td>\n",
              "      <td>1.004109</td>\n",
              "    </tr>\n",
              "    <tr>\n",
              "      <th>19</th>\n",
              "      <td>dc_count_jun</td>\n",
              "      <td>1.003592</td>\n",
              "    </tr>\n",
              "    <tr>\n",
              "      <th>20</th>\n",
              "      <td>dc_count_may</td>\n",
              "      <td>1.003470</td>\n",
              "    </tr>\n",
              "    <tr>\n",
              "      <th>21</th>\n",
              "      <td>debit_amount_apr</td>\n",
              "      <td>1.003045</td>\n",
              "    </tr>\n",
              "    <tr>\n",
              "      <th>22</th>\n",
              "      <td>debit_amount_jun</td>\n",
              "      <td>1.003772</td>\n",
              "    </tr>\n",
              "    <tr>\n",
              "      <th>23</th>\n",
              "      <td>debit_amount_may</td>\n",
              "      <td>1.003563</td>\n",
              "    </tr>\n",
              "    <tr>\n",
              "      <th>24</th>\n",
              "      <td>debit_count_apr</td>\n",
              "      <td>1.002961</td>\n",
              "    </tr>\n",
              "    <tr>\n",
              "      <th>25</th>\n",
              "      <td>debit_count_jun</td>\n",
              "      <td>1.003609</td>\n",
              "    </tr>\n",
              "    <tr>\n",
              "      <th>26</th>\n",
              "      <td>debit_count_may</td>\n",
              "      <td>1.003273</td>\n",
              "    </tr>\n",
              "    <tr>\n",
              "      <th>27</th>\n",
              "      <td>emi_active</td>\n",
              "      <td>1.003812</td>\n",
              "    </tr>\n",
              "    <tr>\n",
              "      <th>28</th>\n",
              "      <td>emp_tenure_years</td>\n",
              "      <td>1.002613</td>\n",
              "    </tr>\n",
              "    <tr>\n",
              "      <th>29</th>\n",
              "      <td>income_low</td>\n",
              "      <td>3.235953</td>\n",
              "    </tr>\n",
              "    <tr>\n",
              "      <th>30</th>\n",
              "      <td>income_medium</td>\n",
              "      <td>3.234599</td>\n",
              "    </tr>\n",
              "    <tr>\n",
              "      <th>31</th>\n",
              "      <td>investment_1</td>\n",
              "      <td>1.001857</td>\n",
              "    </tr>\n",
              "    <tr>\n",
              "      <th>32</th>\n",
              "      <td>investment_2</td>\n",
              "      <td>1.003412</td>\n",
              "    </tr>\n",
              "    <tr>\n",
              "      <th>33</th>\n",
              "      <td>investment_3</td>\n",
              "      <td>1.002772</td>\n",
              "    </tr>\n",
              "    <tr>\n",
              "      <th>34</th>\n",
              "      <td>investment_4</td>\n",
              "      <td>1.003845</td>\n",
              "    </tr>\n",
              "    <tr>\n",
              "      <th>35</th>\n",
              "      <td>loan_enq</td>\n",
              "      <td>0.000000</td>\n",
              "    </tr>\n",
              "    <tr>\n",
              "      <th>36</th>\n",
              "      <td>max_credit_amount_apr</td>\n",
              "      <td>1.002950</td>\n",
              "    </tr>\n",
              "    <tr>\n",
              "      <th>37</th>\n",
              "      <td>max_credit_amount_jun</td>\n",
              "      <td>1.002705</td>\n",
              "    </tr>\n",
              "    <tr>\n",
              "      <th>38</th>\n",
              "      <td>max_credit_amount_may</td>\n",
              "      <td>1.002325</td>\n",
              "    </tr>\n",
              "    <tr>\n",
              "      <th>39</th>\n",
              "      <td>personal_loan_active</td>\n",
              "      <td>0.000000</td>\n",
              "    </tr>\n",
              "    <tr>\n",
              "      <th>40</th>\n",
              "      <td>personal_loan_closed</td>\n",
              "      <td>0.000000</td>\n",
              "    </tr>\n",
              "    <tr>\n",
              "      <th>41</th>\n",
              "      <td>region_code</td>\n",
              "      <td>1.003252</td>\n",
              "    </tr>\n",
              "    <tr>\n",
              "      <th>42</th>\n",
              "      <td>tenure_with_bank</td>\n",
              "      <td>1.004546</td>\n",
              "    </tr>\n",
              "    <tr>\n",
              "      <th>43</th>\n",
              "      <td>vehicle_loan_active</td>\n",
              "      <td>0.000000</td>\n",
              "    </tr>\n",
              "    <tr>\n",
              "      <th>44</th>\n",
              "      <td>vehicle_loan_closed</td>\n",
              "      <td>0.000000</td>\n",
              "    </tr>\n",
              "  </tbody>\n",
              "</table>\n",
              "</div>"
            ],
            "text/plain": [
              "                       variables       VIF\n",
              "0                   account_type  1.002300\n",
              "1   avg_days_between_transaction  1.003494\n",
              "2                       card_lim  1.002805\n",
              "3                    cc_cons_apr  1.004466\n",
              "4                    cc_cons_jun  1.004309\n",
              "5                    cc_cons_may  1.004446\n",
              "6                   cc_count_apr  1.002893\n",
              "7                   cc_count_jun  1.003859\n",
              "8                   cc_count_may  1.003221\n",
              "9              credit_amount_apr  1.002050\n",
              "10             credit_amount_jun  1.002792\n",
              "11             credit_amount_may  1.002766\n",
              "12              credit_count_apr  1.003006\n",
              "13              credit_count_jun  1.003564\n",
              "14              credit_count_may  1.002363\n",
              "15                   dc_cons_apr  1.002539\n",
              "16                   dc_cons_jun  1.002049\n",
              "17                   dc_cons_may  1.003351\n",
              "18                  dc_count_apr  1.004109\n",
              "19                  dc_count_jun  1.003592\n",
              "20                  dc_count_may  1.003470\n",
              "21              debit_amount_apr  1.003045\n",
              "22              debit_amount_jun  1.003772\n",
              "23              debit_amount_may  1.003563\n",
              "24               debit_count_apr  1.002961\n",
              "25               debit_count_jun  1.003609\n",
              "26               debit_count_may  1.003273\n",
              "27                    emi_active  1.003812\n",
              "28              emp_tenure_years  1.002613\n",
              "29                    income_low  3.235953\n",
              "30                 income_medium  3.234599\n",
              "31                  investment_1  1.001857\n",
              "32                  investment_2  1.003412\n",
              "33                  investment_3  1.002772\n",
              "34                  investment_4  1.003845\n",
              "35                      loan_enq  0.000000\n",
              "36         max_credit_amount_apr  1.002950\n",
              "37         max_credit_amount_jun  1.002705\n",
              "38         max_credit_amount_may  1.002325\n",
              "39          personal_loan_active  0.000000\n",
              "40          personal_loan_closed  0.000000\n",
              "41                   region_code  1.003252\n",
              "42              tenure_with_bank  1.004546\n",
              "43           vehicle_loan_active  0.000000\n",
              "44           vehicle_loan_closed  0.000000"
            ]
          },
          "metadata": {},
          "execution_count": 177
        }
      ]
    },
    {
      "cell_type": "markdown",
      "metadata": {
        "id": "-wGlPkvQ7ACQ"
      },
      "source": [
        "### RFE"
      ]
    },
    {
      "cell_type": "code",
      "metadata": {
        "id": "r2J0igv2VWdc",
        "colab": {
          "base_uri": "https://localhost:8080/"
        },
        "outputId": "1eac873f-fdaa-455a-ecbd-900b14e9353e"
      },
      "source": [
        "from sklearn.tree import DecisionTreeRegressor\n",
        "from sklearn.feature_selection import RFE\n",
        "\n",
        "\n",
        "dt_reg = DecisionTreeRegressor(random_state=0)\n",
        "\n",
        "# lr = LinearRegression()\n",
        "rfe = RFE(estimator=dt_reg, n_features_to_select=30)\n",
        "rfe.fit(df_train_x, df_train_y.target)\n",
        "\n",
        "rfe.ranking_\n",
        "\n",
        "\n",
        "# selecting features given by RFE\n",
        "f = rfe.get_support(1) #the most important features\n",
        "selected_x = df_train_x[df_train_x.columns[f]] # final features`\n",
        "selected_x.columns"
      ],
      "execution_count": 178,
      "outputs": [
        {
          "output_type": "execute_result",
          "data": {
            "text/plain": [
              "Index(['avg_days_between_transaction', 'card_lim', 'cc_cons_apr',\n",
              "       'cc_cons_jun', 'cc_cons_may', 'cc_count_may', 'credit_amount_apr',\n",
              "       'credit_amount_jun', 'credit_amount_may', 'credit_count_jun',\n",
              "       'dc_cons_apr', 'dc_cons_jun', 'dc_cons_may', 'dc_count_apr',\n",
              "       'dc_count_jun', 'debit_amount_apr', 'debit_amount_jun',\n",
              "       'debit_amount_may', 'debit_count_apr', 'debit_count_jun', 'emi_active',\n",
              "       'emp_tenure_years', 'investment_1', 'investment_2', 'investment_3',\n",
              "       'investment_4', 'max_credit_amount_apr', 'max_credit_amount_jun',\n",
              "       'max_credit_amount_may', 'region_code'],\n",
              "      dtype='object')"
            ]
          },
          "metadata": {},
          "execution_count": 178
        }
      ]
    },
    {
      "cell_type": "markdown",
      "metadata": {
        "id": "isK6k6auBm1n"
      },
      "source": [
        "### Fitting the selected_x from RFE and df_train_y_log in OLS and creating a model"
      ]
    },
    {
      "cell_type": "code",
      "metadata": {
        "colab": {
          "base_uri": "https://localhost:8080/"
        },
        "id": "WluCBcHQBTNm",
        "outputId": "94abcc0e-2819-4280-f42b-746a9e06b923"
      },
      "source": [
        "model = sm.OLS(df_train_y_log,selected_x)\n",
        "\n",
        "model_fit = model.fit()\n",
        "\n",
        "print(model_fit.summary())"
      ],
      "execution_count": 179,
      "outputs": [
        {
          "output_type": "stream",
          "name": "stdout",
          "text": [
            "                                 OLS Regression Results                                \n",
            "=======================================================================================\n",
            "Dep. Variable:                 target   R-squared (uncentered):                   0.974\n",
            "Model:                            OLS   Adj. R-squared (uncentered):              0.973\n",
            "Method:                 Least Squares   F-statistic:                          1.466e+04\n",
            "Date:                Sun, 05 Sep 2021   Prob (F-statistic):                        0.00\n",
            "Time:                        18:28:39   Log-Likelihood:                         -22426.\n",
            "No. Observations:               11995   AIC:                                  4.491e+04\n",
            "Df Residuals:                   11965   BIC:                                  4.513e+04\n",
            "Df Model:                          30                                                  \n",
            "Covariance Type:            nonrobust                                                  \n",
            "================================================================================================\n",
            "                                   coef    std err          t      P>|t|      [0.025      0.975]\n",
            "------------------------------------------------------------------------------------------------\n",
            "avg_days_between_transaction     0.0669      0.003     25.885      0.000       0.062       0.072\n",
            "card_lim                      1.895e-06   8.64e-08     21.920      0.000    1.73e-06    2.06e-06\n",
            "cc_cons_apr                   1.755e-05   1.12e-06     15.601      0.000    1.53e-05    1.98e-05\n",
            "cc_cons_jun                   2.738e-05   1.71e-06     16.012      0.000     2.4e-05    3.07e-05\n",
            "cc_cons_may                   1.637e-05   1.26e-06     12.971      0.000    1.39e-05    1.88e-05\n",
            "cc_count_may                     0.0077      0.001     14.484      0.000       0.007       0.009\n",
            "credit_amount_apr             5.709e-06   3.21e-07     17.801      0.000    5.08e-06    6.34e-06\n",
            "credit_amount_jun             4.849e-06   3.02e-07     16.079      0.000    4.26e-06    5.44e-06\n",
            "credit_amount_may             4.158e-06   2.75e-07     15.120      0.000    3.62e-06     4.7e-06\n",
            "credit_count_jun                 0.0086      0.001     11.241      0.000       0.007       0.010\n",
            "dc_cons_apr                   3.437e-05   2.46e-06     13.973      0.000    2.96e-05    3.92e-05\n",
            "dc_cons_jun                   3.856e-05   2.93e-06     13.158      0.000    3.28e-05    4.43e-05\n",
            "dc_cons_may                     3.8e-05   2.85e-06     13.329      0.000    3.24e-05    4.36e-05\n",
            "dc_count_apr                     0.0103      0.001     12.935      0.000       0.009       0.012\n",
            "dc_count_jun                     0.0078      0.001     15.138      0.000       0.007       0.009\n",
            "debit_amount_apr              5.691e-06   3.48e-07     16.372      0.000    5.01e-06    6.37e-06\n",
            "debit_amount_jun              5.314e-06   3.23e-07     16.442      0.000    4.68e-06    5.95e-06\n",
            "debit_amount_may              6.077e-06   3.55e-07     17.125      0.000    5.38e-06    6.77e-06\n",
            "debit_count_apr                  0.0088      0.001     16.267      0.000       0.008       0.010\n",
            "debit_count_jun                  0.0065      0.000     15.144      0.000       0.006       0.007\n",
            "emi_active                    2.965e-05   2.24e-06     13.219      0.000    2.53e-05     3.4e-05\n",
            "emp_tenure_years                 0.0254      0.002     16.336      0.000       0.022       0.028\n",
            "investment_1                  5.041e-07      6e-08      8.401      0.000    3.86e-07    6.22e-07\n",
            "investment_2                   1.23e-06   9.01e-08     13.655      0.000    1.05e-06    1.41e-06\n",
            "investment_3                  3.581e-06   3.58e-07     10.012      0.000    2.88e-06    4.28e-06\n",
            "investment_4                  1.625e-05   2.56e-06      6.358      0.000    1.12e-05    2.13e-05\n",
            "max_credit_amount_apr         1.005e-05   5.43e-07     18.528      0.000    8.99e-06    1.11e-05\n",
            "max_credit_amount_jun         9.579e-06   5.09e-07     18.823      0.000    8.58e-06    1.06e-05\n",
            "max_credit_amount_may         9.072e-06   4.96e-07     18.284      0.000     8.1e-06       1e-05\n",
            "region_code                      0.0024   6.36e-05     38.202      0.000       0.002       0.003\n",
            "==============================================================================\n",
            "Omnibus:                       31.086   Durbin-Watson:                   1.975\n",
            "Prob(Omnibus):                  0.000   Jarque-Bera (JB):               31.256\n",
            "Skew:                           0.125   Prob(JB):                     1.63e-07\n",
            "Kurtosis:                       3.022   Cond. No.                     7.68e+04\n",
            "==============================================================================\n",
            "\n",
            "Warnings:\n",
            "[1] Standard Errors assume that the covariance matrix of the errors is correctly specified.\n",
            "[2] The condition number is large, 7.68e+04. This might indicate that there are\n",
            "strong multicollinearity or other numerical problems.\n"
          ]
        }
      ]
    },
    {
      "cell_type": "markdown",
      "metadata": {
        "id": "3BNvjx2LDVgy"
      },
      "source": [
        "### Predicting OLS regression values"
      ]
    },
    {
      "cell_type": "code",
      "metadata": {
        "id": "6X5KqDpYDaZx"
      },
      "source": [
        "#predicting values for df_train_x \n",
        "train_y_log_hat = model_fit.predict(selected_x)\n",
        "\n",
        "# renmaing columns\n",
        "train_y_log_hat.columns = ['target']\n",
        "\n",
        "# taking exp of the values because we transformed the variable in log\n",
        "train_y_hat = np.exp(train_y_log_hat)\n",
        "train_y_hat = pd.DataFrame(train_y_hat)\n",
        "# train_y_hat = train_y_hat.apply(lambda x: '%.5f' % x, axis=1)\n",
        "# train_y_hat = pd.DataFrame(train_y_hat)\n",
        "train_y_hat.columns = ['target']"
      ],
      "execution_count": 180,
      "outputs": []
    },
    {
      "cell_type": "markdown",
      "metadata": {
        "id": "lI8dR1MXDDBq"
      },
      "source": [
        "### calculating errors for our OLS model"
      ]
    },
    {
      "cell_type": "code",
      "metadata": {
        "id": "pXbpg1cOC_5Q"
      },
      "source": [
        "#UDF for calcualting MAPE,RMSE and RMSPE for the test values and forecasted values\n",
        "def calculate_error(y_true,y_pred):\n",
        "  map_error = np.mean((np.abs(y_true - y_pred))/y_true*100)\n",
        "  rms_error = np.sqrt(np.mean(np.square(y_true - y_pred)))\n",
        "  rmps_error = (np.sqrt(np.mean(np.square((y_true - y_pred) / y_true)))) * 100\n",
        "  result =  {'mape':map_error ,'rmse': rms_error ,'rmspe': rmps_error}\n",
        "  return result"
      ],
      "execution_count": 181,
      "outputs": []
    },
    {
      "cell_type": "code",
      "metadata": {
        "colab": {
          "base_uri": "https://localhost:8080/"
        },
        "id": "8XWfJz9TECK3",
        "outputId": "920cb6cb-dda0-47af-a0ad-7efb90d6339f"
      },
      "source": [
        "# calling the udf to calculate error between actual test values and arima forecasts\n",
        "error_coff = calculate_error(df_train_y.target,train_y_hat.target)\n",
        "print('------------OLS model error----------------------')\n",
        "# print('MAPE  :',error_coff['mape'][0])\n",
        "# print('RMSE  :',error_coff['rmse'][0])\n",
        "# print('RMSPE :',error_coff['rmspe'][0])\n",
        "print(error_coff)\n",
        "print('-------------------------------------------------')\n",
        "\n"
      ],
      "execution_count": 182,
      "outputs": [
        {
          "output_type": "stream",
          "name": "stdout",
          "text": [
            "------------OLS model error----------------------\n",
            "{'mape': 231.82534742466748, 'rmse': 69139.36849363838, 'rmspe': 739.8124374586414}\n",
            "-------------------------------------------------\n"
          ]
        }
      ]
    },
    {
      "cell_type": "markdown",
      "metadata": {
        "id": "p_FXVnlDTucg"
      },
      "source": [
        "## Train test split for sklearn"
      ]
    },
    {
      "cell_type": "code",
      "metadata": {
        "id": "p583jm-oTx9Q"
      },
      "source": [
        "from sklearn.model_selection import train_test_split\n",
        "\n",
        "\n",
        "x_train, x_test, y_train, y_test = train_test_split(selected_x, df_train_y, test_size=0.25, random_state=72)\n",
        "\n",
        "y_train_log = np.log(y_train)\n",
        "y_test_log = np.log(y_test)"
      ],
      "execution_count": 183,
      "outputs": []
    },
    {
      "cell_type": "markdown",
      "metadata": {
        "id": "B7e1i1iBTeIV"
      },
      "source": [
        "## sklearn Linear Regression"
      ]
    },
    {
      "cell_type": "code",
      "metadata": {
        "id": "P8Z90_86Tm61"
      },
      "source": [
        "# from sklearn.linear_model import LinearRegression\n",
        "# lr = LinearRegression()\n",
        "# # training the linear regression model on x_train and y_train_log\n",
        "# lr.fit(x_train ,y_train_log)\n",
        "\n",
        "# # predicting the values of selected_x and storing them in y_train_predicted\n",
        "# y_train_predicted = np.exp(lr.predict(x_train))\n"
      ],
      "execution_count": 184,
      "outputs": []
    },
    {
      "cell_type": "code",
      "metadata": {
        "colab": {
          "base_uri": "https://localhost:8080/"
        },
        "id": "vpjg8DOaG0Ad",
        "outputId": "1eb0b394-98ec-4ae6-ad45-c7799525af0d"
      },
      "source": [
        "#random forest regressor\n",
        "from sklearn.ensemble import RandomForestRegressor\n",
        "\n",
        "rfe_reg = RandomForestRegressor(random_state=0)\n",
        "rfe_reg.fit(x_train,y_train_log)\n",
        "\n",
        "y_train_predicted  = np.exp(rfe_reg.predict(x_train))"
      ],
      "execution_count": 185,
      "outputs": [
        {
          "output_type": "stream",
          "name": "stderr",
          "text": [
            "/usr/local/lib/python3.7/dist-packages/ipykernel_launcher.py:5: DataConversionWarning: A column-vector y was passed when a 1d array was expected. Please change the shape of y to (n_samples,), for example using ravel().\n",
            "  \"\"\"\n"
          ]
        }
      ]
    },
    {
      "cell_type": "markdown",
      "metadata": {
        "id": "UbdwVMnDUwgV"
      },
      "source": [
        "## Error calculation of train values"
      ]
    },
    {
      "cell_type": "code",
      "metadata": {
        "id": "TE-YkT3gHtaY"
      },
      "source": [
        "y_train_predicted = pd.DataFrame(y_train_predicted,columns=['target'],index=y_train.index)"
      ],
      "execution_count": 186,
      "outputs": []
    },
    {
      "cell_type": "code",
      "metadata": {
        "colab": {
          "base_uri": "https://localhost:8080/"
        },
        "id": "JBPCA32ZUrl7",
        "outputId": "83345cd5-ae1b-4896-807f-71a59d7fea2f"
      },
      "source": [
        "# calling the udf to calculate error between train_y_ln and predicted values\n",
        "error_coff = calculate_error(y_train_predicted,y_train)\n",
        "print('------------OLS model error----------------------')\n",
        "print('MAPE  :',error_coff['mape'][0])\n",
        "print('RMSE  :',error_coff['rmse'][0])\n",
        "print('RMSPE :',error_coff['rmspe'][0])\n",
        "# print(error_coff)\n",
        "print('-------------------------------------------------')"
      ],
      "execution_count": 187,
      "outputs": [
        {
          "output_type": "stream",
          "name": "stdout",
          "text": [
            "------------OLS model error----------------------\n",
            "MAPE  : 27.394545434304458\n",
            "RMSE  : 17868.65330791467\n",
            "RMSPE : 41.24286410784074\n",
            "-------------------------------------------------\n"
          ]
        }
      ]
    },
    {
      "cell_type": "markdown",
      "metadata": {
        "id": "Fm6EqiQjVmNn"
      },
      "source": [
        "## Prediction test values"
      ]
    },
    {
      "cell_type": "code",
      "metadata": {
        "id": "RMqKrxWuVXyj"
      },
      "source": [
        "#linear reg predict\n",
        "# y_test_predicted = np.exp(lr.predict(x_test))\n",
        "\n",
        "# RFE predict\n",
        "y_test_predicted  = np.exp(rfe_reg.predict(x_test))\n",
        "y_test_predicted = pd.DataFrame(y_test_predicted,columns=['target'],index=y_test.index)"
      ],
      "execution_count": 188,
      "outputs": []
    },
    {
      "cell_type": "markdown",
      "metadata": {
        "id": "FuLjTrxYVvGT"
      },
      "source": [
        "## Error Calculation of test values"
      ]
    },
    {
      "cell_type": "code",
      "metadata": {
        "colab": {
          "base_uri": "https://localhost:8080/"
        },
        "id": "iEaShTtgVuen",
        "outputId": "e789baa5-02ff-44f9-8127-4ee4e71d7461"
      },
      "source": [
        "# calling the udf to calculate error between train_y_ln and predicted values\n",
        "error_coff = calculate_error(y_test_predicted,y_test)\n",
        "print('------------OLS model error----------------------')\n",
        "print('MAPE  :',error_coff['mape'][0])\n",
        "print('RMSE  :',error_coff['rmse'][0])\n",
        "print('RMSPE :',error_coff['rmspe'][0])\n",
        "# print(error_coff)\n",
        "print('-------------------------------------------------')"
      ],
      "execution_count": 189,
      "outputs": [
        {
          "output_type": "stream",
          "name": "stdout",
          "text": [
            "------------OLS model error----------------------\n",
            "MAPE  : 101.99680721126157\n",
            "RMSE  : 30450.60039622014\n",
            "RMSPE : 200.59869109094782\n",
            "-------------------------------------------------\n"
          ]
        }
      ]
    },
    {
      "cell_type": "markdown",
      "metadata": {
        "id": "VOKILABBV3S6"
      },
      "source": [
        "## Predicting the values for the df_predict cstomers"
      ]
    },
    {
      "cell_type": "code",
      "metadata": {
        "colab": {
          "base_uri": "https://localhost:8080/"
        },
        "id": "yjRbvupPV18r",
        "outputId": "70d1d33c-6bd9-4db3-b0ce-3e28851fc129"
      },
      "source": [
        "#selecting the best features\n",
        "df_predict_selected_x = df_predict[df_predict.columns[f]] # final features`\n",
        "df_predict_selected_x.columns\n",
        "\n",
        "\n",
        "#prediciting the consumption values\n",
        "customer_predict = np.exp(lr.predict(df_predict_selected_x))\n",
        "customer_predict"
      ],
      "execution_count": 190,
      "outputs": [
        {
          "output_type": "execute_result",
          "data": {
            "text/plain": [
              "array([[8.46472329e-16],\n",
              "       [1.28839367e+41],\n",
              "       [2.24483547e-30],\n",
              "       ...,\n",
              "       [5.41673737e+05],\n",
              "       [2.52827262e+01],\n",
              "       [8.79153165e+04]])"
            ]
          },
          "metadata": {},
          "execution_count": 190
        }
      ]
    }
  ]
}