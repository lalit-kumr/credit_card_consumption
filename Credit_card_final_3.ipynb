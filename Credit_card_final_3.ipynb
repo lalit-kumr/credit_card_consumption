{
  "nbformat": 4,
  "nbformat_minor": 0,
  "metadata": {
    "colab": {
      "name": "Credit card final-1.ipynb",
      "provenance": [],
      "collapsed_sections": [],
      "authorship_tag": "ABX9TyOVhGAAOVUIM6Z1r90Wqqk9",
      "include_colab_link": true
    },
    "kernelspec": {
      "name": "python3",
      "display_name": "Python 3"
    },
    "language_info": {
      "name": "python"
    }
  },
  "cells": [
    {
      "cell_type": "markdown",
      "metadata": {
        "id": "view-in-github",
        "colab_type": "text"
      },
      "source": [
        "<a href=\"https://colab.research.google.com/github/lalit-kumr/credit_card_consumption/blob/main/Credit_card_final_3.ipynb\" target=\"_parent\"><img src=\"https://colab.research.google.com/assets/colab-badge.svg\" alt=\"Open In Colab\"/></a>"
      ]
    },
    {
      "cell_type": "markdown",
      "metadata": {
        "id": "qcqTIfiM6d32"
      },
      "source": [
        "### Steps\n",
        "- Import libs\n",
        "- Import data\n",
        "- Clean both sets\n",
        "- Merge the data sets\n",
        "- Split data in numerical and categorical\n",
        "- Outlier removal in both sets\n",
        "- fill na\n",
        "- splitting in train and predict\n",
        "- Label encoding\n",
        "- Join dataset\n",
        "- Build model OLS\n",
        "- Remove features having high p value\n",
        "- Apply vif\n",
        "- Drop vif unwanted variables one by one\n",
        "- Log of y \n",
        "- OLS model again\n",
        "- RFE\n",
        "- Apply linear reg model\n",
        "\n",
        "\n",
        "\n"
      ]
    },
    {
      "cell_type": "markdown",
      "metadata": {
        "id": "p2u2qXry7OwV"
      },
      "source": [
        "## 0. Importing libs"
      ]
    },
    {
      "cell_type": "code",
      "metadata": {
        "id": "rjA9G84A7OdS"
      },
      "source": [
        "import pandas as pd\n",
        "import numpy as np\n",
        "import matplotlib.pyplot as plt\n",
        "import seaborn as sns"
      ],
      "execution_count": 2,
      "outputs": []
    },
    {
      "cell_type": "markdown",
      "metadata": {
        "id": "zlRkA-i-5zvX"
      },
      "source": [
        "## 1. Importing Data"
      ]
    },
    {
      "cell_type": "code",
      "metadata": {
        "id": "73KLaUjc5x4t"
      },
      "source": [
        "# behaviour = pd.read_csv('CustomerBehaviorData.csv')\n",
        "# consumption = pd.read_csv('CreditConsumptionData.csv')\n",
        "# customer = pd.read_csv('CustomerDemographics.csv')\n",
        "\n",
        "\n",
        "behaviour = pd.read_csv('https://github.com/lalit-kumr/credit_card_consumption/blob/main/CustomerBehaviorData.csv?raw=true')\n",
        "consumption = pd.read_csv('https://github.com/lalit-kumr/credit_card_consumption/raw/main/CreditConsumptionData.csv')\n",
        "customer = pd.read_csv('https://github.com/lalit-kumr/credit_card_consumption/raw/main/CustomerDemographics.csv')"
      ],
      "execution_count": 3,
      "outputs": []
    },
    {
      "cell_type": "markdown",
      "metadata": {
        "id": "a-C09-ta7gB3"
      },
      "source": [
        "## 2. Cleaning Data"
      ]
    },
    {
      "cell_type": "code",
      "metadata": {
        "colab": {
          "base_uri": "https://localhost:8080/"
        },
        "id": "zdGedsUy7YVY",
        "outputId": "c5a6eb95-9a2e-44cd-9f07-764527b4b246"
      },
      "source": [
        "#finding NaN values in customer df\n",
        "# customer.isna().sum()\n",
        "#Droppping observations having NaN values\n",
        "customer.dropna(inplace=True)\n",
        "customer.isna().sum()"
      ],
      "execution_count": 4,
      "outputs": [
        {
          "output_type": "execute_result",
          "data": {
            "text/plain": [
              "customer_id                     0\n",
              "account_type                    0\n",
              "gender                          0\n",
              "age                             0\n",
              "income                          0\n",
              "emp_tenure_years                0\n",
              "tenure_with_bank                0\n",
              "region_code                     0\n",
              "net_banking_flag                0\n",
              "avg_days_between_transaction    0\n",
              "dtype: int64"
            ]
          },
          "metadata": {},
          "execution_count": 4
        }
      ]
    },
    {
      "cell_type": "code",
      "metadata": {
        "colab": {
          "base_uri": "https://localhost:8080/"
        },
        "id": "nX4JLtSv7sSx",
        "outputId": "c0e85023-1315-4c47-dbd3-293e050dd2b5"
      },
      "source": [
        "#Droppping observations having NaN values\n",
        "behaviour.dropna(inplace=True)\n",
        "behaviour.isna().sum()"
      ],
      "execution_count": 5,
      "outputs": [
        {
          "output_type": "execute_result",
          "data": {
            "text/plain": [
              "customer_id              0\n",
              "cc_cons_apr              0\n",
              "dc_cons_apr              0\n",
              "cc_cons_may              0\n",
              "dc_cons_may              0\n",
              "cc_cons_jun              0\n",
              "dc_cons_jun              0\n",
              "cc_count_apr             0\n",
              "cc_count_may             0\n",
              "cc_count_jun             0\n",
              "dc_count_apr             0\n",
              "dc_count_may             0\n",
              "dc_count_jun             0\n",
              "card_lim                 0\n",
              "personal_loan_active     0\n",
              "vehicle_loan_active      0\n",
              "personal_loan_closed     0\n",
              "vehicle_loan_closed      0\n",
              "investment_1             0\n",
              "investment_2             0\n",
              "investment_3             0\n",
              "investment_4             0\n",
              "debit_amount_apr         0\n",
              "credit_amount_apr        0\n",
              "debit_count_apr          0\n",
              "credit_count_apr         0\n",
              "max_credit_amount_apr    0\n",
              "debit_amount_may         0\n",
              "credit_amount_may        0\n",
              "credit_count_may         0\n",
              "debit_count_may          0\n",
              "max_credit_amount_may    0\n",
              "debit_amount_jun         0\n",
              "credit_amount_jun        0\n",
              "credit_count_jun         0\n",
              "debit_count_jun          0\n",
              "max_credit_amount_jun    0\n",
              "loan_enq                 0\n",
              "emi_active               0\n",
              "dtype: int64"
            ]
          },
          "metadata": {},
          "execution_count": 5
        }
      ]
    },
    {
      "cell_type": "code",
      "metadata": {
        "colab": {
          "base_uri": "https://localhost:8080/"
        },
        "id": "n2vnqpUKBUii",
        "outputId": "2bb41dbf-1076-43ac-d3f8-ea5eb98f8ca9"
      },
      "source": [
        "# checking nan cells in coonsumption\n",
        "consumption.isna().sum()"
      ],
      "execution_count": 6,
      "outputs": [
        {
          "output_type": "execute_result",
          "data": {
            "text/plain": [
              "customer_id          0\n",
              "cc_cons_target    5000\n",
              "dtype: int64"
            ]
          },
          "metadata": {},
          "execution_count": 6
        }
      ]
    },
    {
      "cell_type": "markdown",
      "metadata": {
        "id": "wepZWWi4CvK7"
      },
      "source": [
        "## 3.Merging the data Frames"
      ]
    },
    {
      "cell_type": "markdown",
      "metadata": {
        "id": "1LmSykiYC9fL"
      },
      "source": [
        "### 3.1 Merging the dataframes"
      ]
    },
    {
      "cell_type": "code",
      "metadata": {
        "id": "-Nr_Qwn1BXVh"
      },
      "source": [
        "# - now we will merge all three dataframes on the basis of customer_id.\n",
        "# - first we will merge customer and behaviour dataframes as customer_be\n",
        "# - next we will merge the cosumption dataframe with the custoemr_be df and store the resultant dataframe in **final**\n",
        "\n",
        "\n",
        "customer_behaviour = pd.merge(left=customer, right=behaviour, on='customer_id')\n",
        "final = pd.merge(left=customer_behaviour, right=consumption, on='customer_id')"
      ],
      "execution_count": 80,
      "outputs": []
    },
    {
      "cell_type": "markdown",
      "metadata": {
        "id": "H7voBrMdC84Q"
      },
      "source": [
        "### 3.2 Merging different columns and creating new columns in their place"
      ]
    },
    {
      "cell_type": "code",
      "metadata": {
        "id": "UYcaBUbQO-rr"
      },
      "source": [
        "#dropping customer id\n",
        "final.drop(labels='customer_id',axis=1,inplace=True)"
      ],
      "execution_count": 81,
      "outputs": []
    },
    {
      "cell_type": "code",
      "metadata": {
        "id": "GCdcs-ySC2xA"
      },
      "source": [
        "#Total investments\n",
        "final['investment'] = final['investment_1']+final['investment_2']+final['investment_3']+final['investment_4']\n",
        "\n",
        "#Total debit amount\n",
        "final[\"Total_debit_amount\"]=final['debit_amount_apr']+final['debit_amount_may']+final['debit_amount_jun']\n",
        "\n",
        "#Total Credit Amount\n",
        "final[\"Total_credit_amount\"]=final['credit_amount_apr']+final['credit_amount_may']+final['credit_amount_jun']\n",
        "\n",
        "#Total Max Credit amount\n",
        "final[\"Total_max_credit_acmout\"]=final['max_credit_amount_apr']+final['max_credit_amount_may']+final['max_credit_amount_jun']\n",
        "\n",
        "#Total Active Loan\n",
        "final[\"Totat_active_loan\"]= final['personal_loan_active'] + final['vehicle_loan_active']\n",
        "\n",
        "#Toatal Closed Loan\n",
        "final[\"Total_closed_loan\"]= final['personal_loan_closed'] + final['vehicle_loan_closed']\n",
        "\n",
        "#Credit Card expenditure total\n",
        "final['creditcard_exp']= final['cc_cons_apr'] + final['cc_cons_may'] + final['cc_cons_jun'] \n",
        "\n",
        "#Debit Card expenditure total\n",
        "final['debitcard_exp']= final['dc_cons_apr'] + final['dc_cons_may'] + final['dc_cons_jun']\n",
        "\n",
        "#credit card use count total\n",
        "final['cc_count']=final['cc_count_apr']+final['cc_count_may']+final['cc_count_jun']\n",
        "\n",
        "# debit card use count total\n",
        "final['dc_count']=final['dc_count_apr']+final['dc_count_may']+final['dc_count_jun']\n",
        "\n",
        "#debit payments count total\n",
        "final['debit_count']=final['debit_count_apr']+ final['debit_count_may']+ final['debit_count_jun']\n",
        "\n",
        "#credit payments count total\n",
        "final['credit_count']=final['credit_count_apr']+ final['credit_count_may']+ final['credit_count_jun']"
      ],
      "execution_count": 82,
      "outputs": []
    },
    {
      "cell_type": "code",
      "metadata": {
        "colab": {
          "base_uri": "https://localhost:8080/",
          "height": 163
        },
        "id": "iylhElFrDTcY",
        "outputId": "0d206ee0-dbc7-413e-94bc-983c17de8502"
      },
      "source": [
        "extra = ['investment_1','investment_2','investment_3','investment_4',\n",
        "         'debit_amount_apr','debit_amount_may','debit_amount_jun',\n",
        "         'credit_amount_apr','credit_amount_may','credit_amount_jun',\n",
        "         'max_credit_amount_apr','max_credit_amount_may','max_credit_amount_jun',\n",
        "         'personal_loan_active','vehicle_loan_active',\n",
        "         'personal_loan_closed','vehicle_loan_closed',\n",
        "         'cc_cons_apr','cc_cons_may','cc_cons_jun',\n",
        "         'dc_cons_apr','dc_cons_may','dc_cons_jun',\n",
        "         'cc_count_apr','cc_count_may','cc_count_jun',\n",
        "         'dc_count_apr','dc_count_may','dc_count_jun',\n",
        "         'debit_count_apr','debit_count_may','debit_count_jun',\n",
        "         'credit_count_apr','credit_count_may','credit_count_jun'\n",
        "         ]\n",
        "\n",
        "final.drop(labels=extra,axis=1,inplace=True)\n",
        "final.head(3)\n"
      ],
      "execution_count": 83,
      "outputs": [
        {
          "output_type": "execute_result",
          "data": {
            "text/html": [
              "<div>\n",
              "<style scoped>\n",
              "    .dataframe tbody tr th:only-of-type {\n",
              "        vertical-align: middle;\n",
              "    }\n",
              "\n",
              "    .dataframe tbody tr th {\n",
              "        vertical-align: top;\n",
              "    }\n",
              "\n",
              "    .dataframe thead th {\n",
              "        text-align: right;\n",
              "    }\n",
              "</style>\n",
              "<table border=\"1\" class=\"dataframe\">\n",
              "  <thead>\n",
              "    <tr style=\"text-align: right;\">\n",
              "      <th></th>\n",
              "      <th>account_type</th>\n",
              "      <th>gender</th>\n",
              "      <th>age</th>\n",
              "      <th>income</th>\n",
              "      <th>emp_tenure_years</th>\n",
              "      <th>tenure_with_bank</th>\n",
              "      <th>region_code</th>\n",
              "      <th>net_banking_flag</th>\n",
              "      <th>avg_days_between_transaction</th>\n",
              "      <th>card_lim</th>\n",
              "      <th>loan_enq</th>\n",
              "      <th>emi_active</th>\n",
              "      <th>cc_cons_target</th>\n",
              "      <th>investment</th>\n",
              "      <th>Total_debit_amount</th>\n",
              "      <th>Total_credit_amount</th>\n",
              "      <th>Total_max_credit_acmout</th>\n",
              "      <th>Totat_active_loan</th>\n",
              "      <th>Total_closed_loan</th>\n",
              "      <th>creditcard_exp</th>\n",
              "      <th>debitcard_exp</th>\n",
              "      <th>cc_count</th>\n",
              "      <th>dc_count</th>\n",
              "      <th>debit_count</th>\n",
              "      <th>credit_count</th>\n",
              "    </tr>\n",
              "  </thead>\n",
              "  <tbody>\n",
              "    <tr>\n",
              "      <th>0</th>\n",
              "      <td>current</td>\n",
              "      <td>M</td>\n",
              "      <td>63</td>\n",
              "      <td>MEDIUM</td>\n",
              "      <td>30.1</td>\n",
              "      <td>10</td>\n",
              "      <td>628.0</td>\n",
              "      <td>1</td>\n",
              "      <td>5.0</td>\n",
              "      <td>519000</td>\n",
              "      <td>Y</td>\n",
              "      <td>2646.72</td>\n",
              "      <td>NaN</td>\n",
              "      <td>114544.0</td>\n",
              "      <td>231631.92</td>\n",
              "      <td>475518.75</td>\n",
              "      <td>114992.00</td>\n",
              "      <td>2</td>\n",
              "      <td>2.0</td>\n",
              "      <td>24433.29</td>\n",
              "      <td>8292.58</td>\n",
              "      <td>44.0</td>\n",
              "      <td>80</td>\n",
              "      <td>173.0</td>\n",
              "      <td>46</td>\n",
              "    </tr>\n",
              "    <tr>\n",
              "      <th>1</th>\n",
              "      <td>current</td>\n",
              "      <td>M</td>\n",
              "      <td>36</td>\n",
              "      <td>MEDIUM</td>\n",
              "      <td>14.4</td>\n",
              "      <td>10</td>\n",
              "      <td>656.0</td>\n",
              "      <td>0</td>\n",
              "      <td>12.0</td>\n",
              "      <td>402000</td>\n",
              "      <td>Y</td>\n",
              "      <td>5469.79</td>\n",
              "      <td>NaN</td>\n",
              "      <td>1143923.7</td>\n",
              "      <td>210621.79</td>\n",
              "      <td>496597.52</td>\n",
              "      <td>128400.00</td>\n",
              "      <td>2</td>\n",
              "      <td>2.0</td>\n",
              "      <td>35898.73</td>\n",
              "      <td>13916.00</td>\n",
              "      <td>58.0</td>\n",
              "      <td>54</td>\n",
              "      <td>85.0</td>\n",
              "      <td>12</td>\n",
              "    </tr>\n",
              "    <tr>\n",
              "      <th>2</th>\n",
              "      <td>current</td>\n",
              "      <td>F</td>\n",
              "      <td>28</td>\n",
              "      <td>MEDIUM</td>\n",
              "      <td>4.8</td>\n",
              "      <td>10</td>\n",
              "      <td>314.0</td>\n",
              "      <td>1</td>\n",
              "      <td>13.0</td>\n",
              "      <td>114000</td>\n",
              "      <td>Y</td>\n",
              "      <td>7207.85</td>\n",
              "      <td>NaN</td>\n",
              "      <td>281087.6</td>\n",
              "      <td>281651.29</td>\n",
              "      <td>110466.00</td>\n",
              "      <td>1077812.79</td>\n",
              "      <td>2</td>\n",
              "      <td>2.0</td>\n",
              "      <td>33973.99</td>\n",
              "      <td>71489.30</td>\n",
              "      <td>86.0</td>\n",
              "      <td>74</td>\n",
              "      <td>179.0</td>\n",
              "      <td>55</td>\n",
              "    </tr>\n",
              "  </tbody>\n",
              "</table>\n",
              "</div>"
            ],
            "text/plain": [
              "  account_type gender  age  ... dc_count  debit_count  credit_count\n",
              "0      current      M   63  ...       80        173.0            46\n",
              "1      current      M   36  ...       54         85.0            12\n",
              "2      current      F   28  ...       74        179.0            55\n",
              "\n",
              "[3 rows x 25 columns]"
            ]
          },
          "metadata": {},
          "execution_count": 83
        }
      ]
    },
    {
      "cell_type": "markdown",
      "metadata": {
        "id": "3GW-Hl0EFmWL"
      },
      "source": [
        "## 4\\. Splitting data into numerical and categorical"
      ]
    },
    {
      "cell_type": "code",
      "metadata": {
        "colab": {
          "base_uri": "https://localhost:8080/"
        },
        "id": "a597ejCfDYMI",
        "outputId": "e121601c-ba00-49b4-c327-2423720c56ea"
      },
      "source": [
        "#extracting categorical columns from the data\n",
        "cat_cols = final.select_dtypes(include=['O'])\n",
        "cat_cols.columns"
      ],
      "execution_count": 117,
      "outputs": [
        {
          "output_type": "execute_result",
          "data": {
            "text/plain": [
              "Index(['account_type', 'gender', 'income', 'loan_enq'], dtype='object')"
            ]
          },
          "metadata": {},
          "execution_count": 117
        }
      ]
    },
    {
      "cell_type": "code",
      "metadata": {
        "colab": {
          "base_uri": "https://localhost:8080/"
        },
        "id": "m50dMvr4F07B",
        "outputId": "4ad6fc34-7699-4158-880a-c775ee2ad741"
      },
      "source": [
        "#extracting numerical columns from the dataset\n",
        "num_cols = final.columns.difference(['account_type', 'gender', 'income', 'loan_enq'])\n",
        "num_cols = final[num_cols]\n",
        "num_cols.columns"
      ],
      "execution_count": 118,
      "outputs": [
        {
          "output_type": "execute_result",
          "data": {
            "text/plain": [
              "Index(['Total_closed_loan', 'Total_credit_amount', 'Total_debit_amount',\n",
              "       'Total_max_credit_acmout', 'Totat_active_loan', 'age',\n",
              "       'avg_days_between_transaction', 'card_lim', 'cc_cons_target',\n",
              "       'cc_count', 'credit_count', 'creditcard_exp', 'dc_count', 'debit_count',\n",
              "       'debitcard_exp', 'emi_active', 'emp_tenure_years', 'investment',\n",
              "       'net_banking_flag', 'region_code', 'tenure_with_bank'],\n",
              "      dtype='object')"
            ]
          },
          "metadata": {},
          "execution_count": 118
        }
      ]
    },
    {
      "cell_type": "markdown",
      "metadata": {
        "id": "D2ATQtieGbeN"
      },
      "source": [
        "## 5\\. Outlier removal"
      ]
    },
    {
      "cell_type": "code",
      "metadata": {
        "colab": {
          "base_uri": "https://localhost:8080/",
          "height": 431
        },
        "id": "6PfUDafGJrgR",
        "outputId": "b767b087-2539-4660-cce9-c2568ee536d8"
      },
      "source": [
        "from scipy.stats import mstats\n",
        "\n",
        "for x in num_cols:\n",
        "  num_cols.loc[:,x] = mstats.winsorize(num_cols[x], limits=[0.05, 0.05])\n",
        "num_cols.describe()"
      ],
      "execution_count": 119,
      "outputs": [
        {
          "output_type": "stream",
          "name": "stderr",
          "text": [
            "/usr/local/lib/python3.7/dist-packages/pandas/core/indexing.py:1743: SettingWithCopyWarning: \n",
            "A value is trying to be set on a copy of a slice from a DataFrame.\n",
            "Try using .loc[row_indexer,col_indexer] = value instead\n",
            "\n",
            "See the caveats in the documentation: https://pandas.pydata.org/pandas-docs/stable/user_guide/indexing.html#returning-a-view-versus-a-copy\n",
            "  isetter(ilocs[0], value)\n"
          ]
        },
        {
          "output_type": "execute_result",
          "data": {
            "text/html": [
              "<div>\n",
              "<style scoped>\n",
              "    .dataframe tbody tr th:only-of-type {\n",
              "        vertical-align: middle;\n",
              "    }\n",
              "\n",
              "    .dataframe tbody tr th {\n",
              "        vertical-align: top;\n",
              "    }\n",
              "\n",
              "    .dataframe thead th {\n",
              "        text-align: right;\n",
              "    }\n",
              "</style>\n",
              "<table border=\"1\" class=\"dataframe\">\n",
              "  <thead>\n",
              "    <tr style=\"text-align: right;\">\n",
              "      <th></th>\n",
              "      <th>Total_closed_loan</th>\n",
              "      <th>Total_credit_amount</th>\n",
              "      <th>Total_debit_amount</th>\n",
              "      <th>Total_max_credit_acmout</th>\n",
              "      <th>Totat_active_loan</th>\n",
              "      <th>age</th>\n",
              "      <th>avg_days_between_transaction</th>\n",
              "      <th>card_lim</th>\n",
              "      <th>cc_cons_target</th>\n",
              "      <th>cc_count</th>\n",
              "      <th>credit_count</th>\n",
              "      <th>creditcard_exp</th>\n",
              "      <th>dc_count</th>\n",
              "      <th>debit_count</th>\n",
              "      <th>debitcard_exp</th>\n",
              "      <th>emi_active</th>\n",
              "      <th>emp_tenure_years</th>\n",
              "      <th>investment</th>\n",
              "      <th>net_banking_flag</th>\n",
              "      <th>region_code</th>\n",
              "      <th>tenure_with_bank</th>\n",
              "    </tr>\n",
              "  </thead>\n",
              "  <tbody>\n",
              "    <tr>\n",
              "      <th>count</th>\n",
              "      <td>19988.0</td>\n",
              "      <td>19988.000000</td>\n",
              "      <td>19988.000000</td>\n",
              "      <td>19988.000000</td>\n",
              "      <td>19988.0</td>\n",
              "      <td>19988.000000</td>\n",
              "      <td>19988.000000</td>\n",
              "      <td>19988.000000</td>\n",
              "      <td>14995.000000</td>\n",
              "      <td>19988.000000</td>\n",
              "      <td>19988.000000</td>\n",
              "      <td>19988.000000</td>\n",
              "      <td>19988.000000</td>\n",
              "      <td>19988.000000</td>\n",
              "      <td>19988.000000</td>\n",
              "      <td>19988.000000</td>\n",
              "      <td>19988.000000</td>\n",
              "      <td>1.998800e+04</td>\n",
              "      <td>19988.000000</td>\n",
              "      <td>19988.000000</td>\n",
              "      <td>19988.000000</td>\n",
              "    </tr>\n",
              "    <tr>\n",
              "      <th>mean</th>\n",
              "      <td>2.0</td>\n",
              "      <td>218895.226873</td>\n",
              "      <td>194446.598967</td>\n",
              "      <td>143335.601900</td>\n",
              "      <td>2.0</td>\n",
              "      <td>43.497699</td>\n",
              "      <td>11.043776</td>\n",
              "      <td>274474.480889</td>\n",
              "      <td>55216.352984</td>\n",
              "      <td>100.574195</td>\n",
              "      <td>42.071643</td>\n",
              "      <td>43427.682636</td>\n",
              "      <td>60.753202</td>\n",
              "      <td>120.269312</td>\n",
              "      <td>20894.623887</td>\n",
              "      <td>7528.409789</td>\n",
              "      <td>13.261537</td>\n",
              "      <td>5.320343e+05</td>\n",
              "      <td>0.717881</td>\n",
              "      <td>598.841755</td>\n",
              "      <td>5.496248</td>\n",
              "    </tr>\n",
              "    <tr>\n",
              "      <th>std</th>\n",
              "      <td>0.0</td>\n",
              "      <td>131940.029777</td>\n",
              "      <td>116776.734081</td>\n",
              "      <td>86023.471152</td>\n",
              "      <td>0.0</td>\n",
              "      <td>12.641148</td>\n",
              "      <td>5.480507</td>\n",
              "      <td>169969.409868</td>\n",
              "      <td>97647.492383</td>\n",
              "      <td>59.345132</td>\n",
              "      <td>31.022960</td>\n",
              "      <td>29029.445793</td>\n",
              "      <td>36.560903</td>\n",
              "      <td>57.054289</td>\n",
              "      <td>15557.983145</td>\n",
              "      <td>9295.532764</td>\n",
              "      <td>10.705061</td>\n",
              "      <td>6.496300e+05</td>\n",
              "      <td>0.450042</td>\n",
              "      <td>216.308646</td>\n",
              "      <td>2.870521</td>\n",
              "    </tr>\n",
              "    <tr>\n",
              "      <th>min</th>\n",
              "      <td>2.0</td>\n",
              "      <td>67488.640000</td>\n",
              "      <td>62317.840000</td>\n",
              "      <td>51940.000000</td>\n",
              "      <td>2.0</td>\n",
              "      <td>28.000000</td>\n",
              "      <td>2.000000</td>\n",
              "      <td>27000.000000</td>\n",
              "      <td>1747.000000</td>\n",
              "      <td>20.000000</td>\n",
              "      <td>7.000000</td>\n",
              "      <td>10398.700000</td>\n",
              "      <td>8.000000</td>\n",
              "      <td>33.000000</td>\n",
              "      <td>4433.410000</td>\n",
              "      <td>196.960000</td>\n",
              "      <td>1.700000</td>\n",
              "      <td>4.216660e+04</td>\n",
              "      <td>0.000000</td>\n",
              "      <td>249.000000</td>\n",
              "      <td>1.000000</td>\n",
              "    </tr>\n",
              "    <tr>\n",
              "      <th>25%</th>\n",
              "      <td>2.0</td>\n",
              "      <td>121165.895000</td>\n",
              "      <td>108591.570000</td>\n",
              "      <td>82257.647500</td>\n",
              "      <td>2.0</td>\n",
              "      <td>33.000000</td>\n",
              "      <td>6.000000</td>\n",
              "      <td>124000.000000</td>\n",
              "      <td>6768.000000</td>\n",
              "      <td>55.000000</td>\n",
              "      <td>15.000000</td>\n",
              "      <td>21768.867500</td>\n",
              "      <td>29.000000</td>\n",
              "      <td>76.000000</td>\n",
              "      <td>9635.750000</td>\n",
              "      <td>1545.627500</td>\n",
              "      <td>5.100000</td>\n",
              "      <td>1.389297e+05</td>\n",
              "      <td>0.000000</td>\n",
              "      <td>424.000000</td>\n",
              "      <td>3.000000</td>\n",
              "    </tr>\n",
              "    <tr>\n",
              "      <th>50%</th>\n",
              "      <td>2.0</td>\n",
              "      <td>181415.685000</td>\n",
              "      <td>161178.650000</td>\n",
              "      <td>116607.745000</td>\n",
              "      <td>2.0</td>\n",
              "      <td>40.000000</td>\n",
              "      <td>11.000000</td>\n",
              "      <td>272000.000000</td>\n",
              "      <td>13363.000000</td>\n",
              "      <td>90.000000</td>\n",
              "      <td>36.000000</td>\n",
              "      <td>35155.390000</td>\n",
              "      <td>58.000000</td>\n",
              "      <td>114.000000</td>\n",
              "      <td>15955.500000</td>\n",
              "      <td>3934.660000</td>\n",
              "      <td>9.900000</td>\n",
              "      <td>2.734267e+05</td>\n",
              "      <td>1.000000</td>\n",
              "      <td>623.000000</td>\n",
              "      <td>6.000000</td>\n",
              "    </tr>\n",
              "    <tr>\n",
              "      <th>75%</th>\n",
              "      <td>2.0</td>\n",
              "      <td>276712.802500</td>\n",
              "      <td>244002.875000</td>\n",
              "      <td>175301.500000</td>\n",
              "      <td>2.0</td>\n",
              "      <td>53.000000</td>\n",
              "      <td>16.000000</td>\n",
              "      <td>401000.000000</td>\n",
              "      <td>20103.000000</td>\n",
              "      <td>134.000000</td>\n",
              "      <td>58.000000</td>\n",
              "      <td>56672.707500</td>\n",
              "      <td>87.000000</td>\n",
              "      <td>159.000000</td>\n",
              "      <td>26897.592500</td>\n",
              "      <td>9376.390000</td>\n",
              "      <td>18.000000</td>\n",
              "      <td>5.848291e+05</td>\n",
              "      <td>1.000000</td>\n",
              "      <td>799.000000</td>\n",
              "      <td>8.000000</td>\n",
              "    </tr>\n",
              "    <tr>\n",
              "      <th>max</th>\n",
              "      <td>2.0</td>\n",
              "      <td>566279.520000</td>\n",
              "      <td>505316.640000</td>\n",
              "      <td>382024.000000</td>\n",
              "      <td>2.0</td>\n",
              "      <td>66.000000</td>\n",
              "      <td>20.000000</td>\n",
              "      <td>576000.000000</td>\n",
              "      <td>408382.000000</td>\n",
              "      <td>247.000000</td>\n",
              "      <td>115.000000</td>\n",
              "      <td>118722.030000</td>\n",
              "      <td>132.000000</td>\n",
              "      <td>236.000000</td>\n",
              "      <td>63077.980000</td>\n",
              "      <td>36204.770000</td>\n",
              "      <td>40.000000</td>\n",
              "      <td>2.564966e+06</td>\n",
              "      <td>1.000000</td>\n",
              "      <td>937.000000</td>\n",
              "      <td>10.000000</td>\n",
              "    </tr>\n",
              "  </tbody>\n",
              "</table>\n",
              "</div>"
            ],
            "text/plain": [
              "       Total_closed_loan  Total_credit_amount  ...   region_code  tenure_with_bank\n",
              "count            19988.0         19988.000000  ...  19988.000000      19988.000000\n",
              "mean                 2.0        218895.226873  ...    598.841755          5.496248\n",
              "std                  0.0        131940.029777  ...    216.308646          2.870521\n",
              "min                  2.0         67488.640000  ...    249.000000          1.000000\n",
              "25%                  2.0        121165.895000  ...    424.000000          3.000000\n",
              "50%                  2.0        181415.685000  ...    623.000000          6.000000\n",
              "75%                  2.0        276712.802500  ...    799.000000          8.000000\n",
              "max                  2.0        566279.520000  ...    937.000000         10.000000\n",
              "\n",
              "[8 rows x 21 columns]"
            ]
          },
          "metadata": {},
          "execution_count": 119
        }
      ]
    },
    {
      "cell_type": "markdown",
      "metadata": {
        "id": "kmTFwqmgLUM7"
      },
      "source": [
        "## 6\\. label encoding of cat cols"
      ]
    },
    {
      "cell_type": "code",
      "metadata": {
        "colab": {
          "base_uri": "https://localhost:8080/",
          "height": 143
        },
        "id": "imUeTl4SLT5F",
        "outputId": "1ed1c626-4012-48c7-ac9e-892507bccc0a"
      },
      "source": [
        "cat_cols = pd.get_dummies(cat_cols)\n",
        "cat_cols.drop(labels=['account_type_saving','gender_F','income_HIGH'],axis=1,inplace=True)\n",
        "#renaming columns\n",
        "cat_cols.columns = ['account_type','gender','income_low','income_medium', 'loan_enq']\n",
        "cat_cols.head(3)"
      ],
      "execution_count": 120,
      "outputs": [
        {
          "output_type": "execute_result",
          "data": {
            "text/html": [
              "<div>\n",
              "<style scoped>\n",
              "    .dataframe tbody tr th:only-of-type {\n",
              "        vertical-align: middle;\n",
              "    }\n",
              "\n",
              "    .dataframe tbody tr th {\n",
              "        vertical-align: top;\n",
              "    }\n",
              "\n",
              "    .dataframe thead th {\n",
              "        text-align: right;\n",
              "    }\n",
              "</style>\n",
              "<table border=\"1\" class=\"dataframe\">\n",
              "  <thead>\n",
              "    <tr style=\"text-align: right;\">\n",
              "      <th></th>\n",
              "      <th>account_type</th>\n",
              "      <th>gender</th>\n",
              "      <th>income_low</th>\n",
              "      <th>income_medium</th>\n",
              "      <th>loan_enq</th>\n",
              "    </tr>\n",
              "  </thead>\n",
              "  <tbody>\n",
              "    <tr>\n",
              "      <th>0</th>\n",
              "      <td>1</td>\n",
              "      <td>1</td>\n",
              "      <td>0</td>\n",
              "      <td>1</td>\n",
              "      <td>1</td>\n",
              "    </tr>\n",
              "    <tr>\n",
              "      <th>1</th>\n",
              "      <td>1</td>\n",
              "      <td>1</td>\n",
              "      <td>0</td>\n",
              "      <td>1</td>\n",
              "      <td>1</td>\n",
              "    </tr>\n",
              "    <tr>\n",
              "      <th>2</th>\n",
              "      <td>1</td>\n",
              "      <td>0</td>\n",
              "      <td>0</td>\n",
              "      <td>1</td>\n",
              "      <td>1</td>\n",
              "    </tr>\n",
              "  </tbody>\n",
              "</table>\n",
              "</div>"
            ],
            "text/plain": [
              "   account_type  gender  income_low  income_medium  loan_enq\n",
              "0             1       1           0              1         1\n",
              "1             1       1           0              1         1\n",
              "2             1       0           0              1         1"
            ]
          },
          "metadata": {},
          "execution_count": 120
        }
      ]
    },
    {
      "cell_type": "markdown",
      "metadata": {
        "id": "0p8kLy6JKw8X"
      },
      "source": [
        "## 7\\. Joining cat_cols and num_cols"
      ]
    },
    {
      "cell_type": "code",
      "metadata": {
        "colab": {
          "base_uri": "https://localhost:8080/",
          "height": 163
        },
        "id": "Cidl_CKPKDR5",
        "outputId": "3ee09934-4e4a-4448-e760-83d9fdebc871"
      },
      "source": [
        "# joining the num_cols and cat_cols df \n",
        "df = pd.concat([num_cols,cat_cols],axis=1)\n",
        "df.head(3)"
      ],
      "execution_count": 121,
      "outputs": [
        {
          "output_type": "execute_result",
          "data": {
            "text/html": [
              "<div>\n",
              "<style scoped>\n",
              "    .dataframe tbody tr th:only-of-type {\n",
              "        vertical-align: middle;\n",
              "    }\n",
              "\n",
              "    .dataframe tbody tr th {\n",
              "        vertical-align: top;\n",
              "    }\n",
              "\n",
              "    .dataframe thead th {\n",
              "        text-align: right;\n",
              "    }\n",
              "</style>\n",
              "<table border=\"1\" class=\"dataframe\">\n",
              "  <thead>\n",
              "    <tr style=\"text-align: right;\">\n",
              "      <th></th>\n",
              "      <th>Total_closed_loan</th>\n",
              "      <th>Total_credit_amount</th>\n",
              "      <th>Total_debit_amount</th>\n",
              "      <th>Total_max_credit_acmout</th>\n",
              "      <th>Totat_active_loan</th>\n",
              "      <th>age</th>\n",
              "      <th>avg_days_between_transaction</th>\n",
              "      <th>card_lim</th>\n",
              "      <th>cc_cons_target</th>\n",
              "      <th>cc_count</th>\n",
              "      <th>credit_count</th>\n",
              "      <th>creditcard_exp</th>\n",
              "      <th>dc_count</th>\n",
              "      <th>debit_count</th>\n",
              "      <th>debitcard_exp</th>\n",
              "      <th>emi_active</th>\n",
              "      <th>emp_tenure_years</th>\n",
              "      <th>investment</th>\n",
              "      <th>net_banking_flag</th>\n",
              "      <th>region_code</th>\n",
              "      <th>tenure_with_bank</th>\n",
              "      <th>account_type</th>\n",
              "      <th>gender</th>\n",
              "      <th>income_low</th>\n",
              "      <th>income_medium</th>\n",
              "      <th>loan_enq</th>\n",
              "    </tr>\n",
              "  </thead>\n",
              "  <tbody>\n",
              "    <tr>\n",
              "      <th>0</th>\n",
              "      <td>2.0</td>\n",
              "      <td>475518.75</td>\n",
              "      <td>231631.92</td>\n",
              "      <td>114992.0</td>\n",
              "      <td>2</td>\n",
              "      <td>63</td>\n",
              "      <td>5.0</td>\n",
              "      <td>519000</td>\n",
              "      <td>NaN</td>\n",
              "      <td>44.0</td>\n",
              "      <td>46</td>\n",
              "      <td>24433.29</td>\n",
              "      <td>80</td>\n",
              "      <td>173.0</td>\n",
              "      <td>8292.58</td>\n",
              "      <td>2646.72</td>\n",
              "      <td>30.1</td>\n",
              "      <td>114544.0</td>\n",
              "      <td>1</td>\n",
              "      <td>628.0</td>\n",
              "      <td>10</td>\n",
              "      <td>1</td>\n",
              "      <td>1</td>\n",
              "      <td>0</td>\n",
              "      <td>1</td>\n",
              "      <td>1</td>\n",
              "    </tr>\n",
              "    <tr>\n",
              "      <th>1</th>\n",
              "      <td>2.0</td>\n",
              "      <td>496597.52</td>\n",
              "      <td>210621.79</td>\n",
              "      <td>128400.0</td>\n",
              "      <td>2</td>\n",
              "      <td>36</td>\n",
              "      <td>12.0</td>\n",
              "      <td>402000</td>\n",
              "      <td>NaN</td>\n",
              "      <td>58.0</td>\n",
              "      <td>12</td>\n",
              "      <td>35898.73</td>\n",
              "      <td>54</td>\n",
              "      <td>85.0</td>\n",
              "      <td>13916.00</td>\n",
              "      <td>5469.79</td>\n",
              "      <td>14.4</td>\n",
              "      <td>1143923.7</td>\n",
              "      <td>0</td>\n",
              "      <td>656.0</td>\n",
              "      <td>10</td>\n",
              "      <td>1</td>\n",
              "      <td>1</td>\n",
              "      <td>0</td>\n",
              "      <td>1</td>\n",
              "      <td>1</td>\n",
              "    </tr>\n",
              "    <tr>\n",
              "      <th>2</th>\n",
              "      <td>2.0</td>\n",
              "      <td>110466.00</td>\n",
              "      <td>281651.29</td>\n",
              "      <td>382024.0</td>\n",
              "      <td>2</td>\n",
              "      <td>28</td>\n",
              "      <td>13.0</td>\n",
              "      <td>114000</td>\n",
              "      <td>NaN</td>\n",
              "      <td>86.0</td>\n",
              "      <td>55</td>\n",
              "      <td>33973.99</td>\n",
              "      <td>74</td>\n",
              "      <td>179.0</td>\n",
              "      <td>63077.98</td>\n",
              "      <td>7207.85</td>\n",
              "      <td>4.8</td>\n",
              "      <td>281087.6</td>\n",
              "      <td>1</td>\n",
              "      <td>314.0</td>\n",
              "      <td>10</td>\n",
              "      <td>1</td>\n",
              "      <td>0</td>\n",
              "      <td>0</td>\n",
              "      <td>1</td>\n",
              "      <td>1</td>\n",
              "    </tr>\n",
              "  </tbody>\n",
              "</table>\n",
              "</div>"
            ],
            "text/plain": [
              "   Total_closed_loan  Total_credit_amount  ...  income_medium  loan_enq\n",
              "0                2.0            475518.75  ...              1         1\n",
              "1                2.0            496597.52  ...              1         1\n",
              "2                2.0            110466.00  ...              1         1\n",
              "\n",
              "[3 rows x 26 columns]"
            ]
          },
          "metadata": {},
          "execution_count": 121
        }
      ]
    },
    {
      "cell_type": "code",
      "metadata": {
        "colab": {
          "base_uri": "https://localhost:8080/"
        },
        "id": "xyK-PiSIK4XR",
        "outputId": "303271af-2bc0-4870-a55e-628591f7970d"
      },
      "source": [
        "#now we will split the df in two parts. df_predict and df_train.\n",
        "#df_train will contain entries having numerial values in cc_cons_target\n",
        "#df_predict will have the rows/customers that we have to predict the output for\n",
        "\n",
        "#filtering all the rows from final that contain NaN values in cc_cons_target and storing those rows in df_predict.\n",
        "df_predict = df[df.cc_cons_target.isna()]\n",
        "#dropping the NaN values of cc_cons_target \n",
        "df_predict.drop(labels='cc_cons_target',axis=1,inplace=True)\n",
        "\n",
        "# droppping  all the rows that are in the df_predict dataframe and storing the result in df_train\n",
        "df_train = df.drop(df_predict.index)"
      ],
      "execution_count": 122,
      "outputs": [
        {
          "output_type": "stream",
          "name": "stderr",
          "text": [
            "/usr/local/lib/python3.7/dist-packages/pandas/core/frame.py:4174: SettingWithCopyWarning: \n",
            "A value is trying to be set on a copy of a slice from a DataFrame\n",
            "\n",
            "See the caveats in the documentation: https://pandas.pydata.org/pandas-docs/stable/user_guide/indexing.html#returning-a-view-versus-a-copy\n",
            "  errors=errors,\n"
          ]
        }
      ]
    },
    {
      "cell_type": "code",
      "metadata": {
        "colab": {
          "base_uri": "https://localhost:8080/"
        },
        "id": "abAfsXXhN3fS",
        "outputId": "2356c69a-c429-460e-87d4-b2d8516013ff"
      },
      "source": [
        "df_train.shape"
      ],
      "execution_count": 123,
      "outputs": [
        {
          "output_type": "execute_result",
          "data": {
            "text/plain": [
              "(14995, 26)"
            ]
          },
          "metadata": {},
          "execution_count": 123
        }
      ]
    },
    {
      "cell_type": "code",
      "metadata": {
        "colab": {
          "base_uri": "https://localhost:8080/"
        },
        "id": "1pngdqiJN44q",
        "outputId": "90e12b31-41ef-496d-b284-c14e53b93ef3"
      },
      "source": [
        "df_predict.shape"
      ],
      "execution_count": 124,
      "outputs": [
        {
          "output_type": "execute_result",
          "data": {
            "text/plain": [
              "(4993, 25)"
            ]
          },
          "metadata": {},
          "execution_count": 124
        }
      ]
    },
    {
      "cell_type": "markdown",
      "metadata": {
        "id": "nY3Bk_QdQJ96"
      },
      "source": [
        "## 8. Splitting df_train in train_x and train_y"
      ]
    },
    {
      "cell_type": "code",
      "metadata": {
        "id": "-ySgYbq9PptJ"
      },
      "source": [
        "train_x = df_train[['Total_closed_loan', 'Total_credit_amount', 'Total_debit_amount','Total_max_credit_acmout',\n",
        "                    'Totat_active_loan', 'age','avg_days_between_transaction', 'card_lim','cc_count', 'credit_count',\n",
        "                    'creditcard_exp', 'dc_count', 'debit_count','debitcard_exp', 'emi_active', 'emp_tenure_years', \n",
        "                    'investment','net_banking_flag', 'region_code', 'tenure_with_bank', 'account_type','gender',\n",
        "                    'income_low', 'income_medium', 'loan_enq']]\n",
        "\n",
        "train_y = df_train[['cc_cons_target']]"
      ],
      "execution_count": 125,
      "outputs": []
    },
    {
      "cell_type": "code",
      "metadata": {
        "id": "e8P4EX3dRA4q"
      },
      "source": [
        ""
      ],
      "execution_count": 125,
      "outputs": []
    },
    {
      "cell_type": "markdown",
      "metadata": {
        "id": "zNcFPfbORCS9"
      },
      "source": [
        "## 9\\. Running OLS model on our dataset"
      ]
    },
    {
      "cell_type": "code",
      "metadata": {
        "colab": {
          "base_uri": "https://localhost:8080/"
        },
        "id": "C4TWxjDRRGtp",
        "outputId": "aa561381-7403-4a90-954b-26b73a51cc09"
      },
      "source": [
        "### OLS regression\n",
        "import statsmodels.api as sm\n",
        "\n",
        "model = sm.OLS(train_y,train_x)\n",
        "\n",
        "model_fit = model.fit()\n",
        "\n",
        "print(model_fit.summary())"
      ],
      "execution_count": 126,
      "outputs": [
        {
          "output_type": "stream",
          "name": "stdout",
          "text": [
            "                            OLS Regression Results                            \n",
            "==============================================================================\n",
            "Dep. Variable:         cc_cons_target   R-squared:                       0.001\n",
            "Model:                            OLS   Adj. R-squared:                 -0.000\n",
            "Method:                 Least Squares   F-statistic:                    0.9897\n",
            "Date:                Tue, 31 Aug 2021   Prob (F-statistic):              0.474\n",
            "Time:                        13:12:41   Log-Likelihood:            -1.9354e+05\n",
            "No. Observations:               14995   AIC:                         3.871e+05\n",
            "Df Residuals:                   14972   BIC:                         3.873e+05\n",
            "Df Model:                          22                                         \n",
            "Covariance Type:            nonrobust                                         \n",
            "================================================================================================\n",
            "                                   coef    std err          t      P>|t|      [0.025      0.975]\n",
            "------------------------------------------------------------------------------------------------\n",
            "Total_closed_loan             1.229e+04   1635.389      7.517      0.000    9088.432    1.55e+04\n",
            "Total_credit_amount              0.0051      0.006      0.853      0.394      -0.007       0.017\n",
            "Total_debit_amount               0.0012      0.007      0.174      0.862      -0.012       0.015\n",
            "Total_max_credit_acmout          0.0109      0.009      1.175      0.240      -0.007       0.029\n",
            "Totat_active_loan             1.229e+04   1635.389      7.517      0.000    9088.432    1.55e+04\n",
            "age                             19.4594     89.386      0.218      0.828    -155.748     194.667\n",
            "avg_days_between_transaction  -103.8381    145.289     -0.715      0.475    -388.623     180.947\n",
            "card_lim                        -0.0016      0.005     -0.346      0.730      -0.011       0.008\n",
            "cc_count                         6.2008     13.470      0.460      0.645     -20.202      32.603\n",
            "credit_count                    34.1520     25.730      1.327      0.184     -16.281      84.585\n",
            "creditcard_exp                   0.0394      0.027      1.436      0.151      -0.014       0.093\n",
            "dc_count                        -0.2649     21.853     -0.012      0.990     -43.099      42.569\n",
            "debit_count                     -7.0997     13.987     -0.508      0.612     -34.516      20.317\n",
            "debitcard_exp                   -0.0412      0.052     -0.799      0.424      -0.142       0.060\n",
            "emi_active                       0.1321      0.086      1.542      0.123      -0.036       0.300\n",
            "emp_tenure_years              -100.7352    105.894     -0.951      0.341    -308.300     106.829\n",
            "investment                       0.0016      0.001      1.348      0.178      -0.001       0.004\n",
            "net_banking_flag               362.3483   1776.376      0.204      0.838   -3119.566    3844.263\n",
            "region_code                     -8.8222      3.691     -2.390      0.017     -16.057      -1.587\n",
            "tenure_with_bank               405.2550    278.498      1.455      0.146    -140.634     951.144\n",
            "account_type                  -657.0057   2224.844     -0.295      0.768   -5017.972    3703.960\n",
            "gender                         554.0615   2321.406      0.239      0.811   -3996.178    5104.301\n",
            "income_low                   -2588.2652   3200.667     -0.809      0.419   -8861.965    3685.434\n",
            "income_medium                -2028.7173   2992.816     -0.678      0.498   -7895.003    3837.569\n",
            "loan_enq                      6146.9971    817.694      7.517      0.000    4544.216    7749.778\n",
            "==============================================================================\n",
            "Omnibus:                     5872.261   Durbin-Watson:                   2.011\n",
            "Prob(Omnibus):                  0.000   Jarque-Bera (JB):            17851.537\n",
            "Skew:                           2.122   Prob(JB):                         0.00\n",
            "Kurtosis:                       6.250   Cond. No.                     4.93e+35\n",
            "==============================================================================\n",
            "\n",
            "Warnings:\n",
            "[1] Standard Errors assume that the covariance matrix of the errors is correctly specified.\n",
            "[2] The smallest eigenvalue is 4.95e-56. This might indicate that there are\n",
            "strong multicollinearity problems or that the design matrix is singular.\n"
          ]
        }
      ]
    },
    {
      "cell_type": "markdown",
      "metadata": {
        "id": "Lm4nHzdVRdzs"
      },
      "source": [
        "#### Result of OLS regression model\n",
        "We can see from the above summary that many of the features have a p-value greter than that of 0.05. \n",
        "\n",
        "Thus we will remove those features from our model and rerun the OLS model"
      ]
    },
    {
      "cell_type": "code",
      "metadata": {
        "id": "4USkiZdGRW-z"
      },
      "source": [
        "#removing the top 5 features on the basis of p_value\n",
        "remove_cols = ['dc_count','Total_debit_amount','net_banking_flag','age','gender']\n",
        "new_cols = train_x.columns.difference(remove_cols)\n",
        "train_x = train_x[new_cols]\n"
      ],
      "execution_count": 127,
      "outputs": []
    },
    {
      "cell_type": "code",
      "metadata": {
        "colab": {
          "base_uri": "https://localhost:8080/"
        },
        "id": "MOY80hMqTgzS",
        "outputId": "a509922c-f148-425e-edc9-ecbe271f0768"
      },
      "source": [
        "### OLS regression part 2\n",
        "model = sm.OLS(train_y,train_x)\n",
        "\n",
        "model_fit = model.fit()\n",
        "\n",
        "print(model_fit.summary())"
      ],
      "execution_count": 128,
      "outputs": [
        {
          "output_type": "stream",
          "name": "stdout",
          "text": [
            "                            OLS Regression Results                            \n",
            "==============================================================================\n",
            "Dep. Variable:         cc_cons_target   R-squared:                       0.001\n",
            "Model:                            OLS   Adj. R-squared:                  0.000\n",
            "Method:                 Least Squares   F-statistic:                     1.271\n",
            "Date:                Tue, 31 Aug 2021   Prob (F-statistic):              0.201\n",
            "Time:                        13:12:57   Log-Likelihood:            -1.9355e+05\n",
            "No. Observations:               14995   AIC:                         3.871e+05\n",
            "Df Residuals:                   14977   BIC:                         3.873e+05\n",
            "Df Model:                          17                                         \n",
            "Covariance Type:            nonrobust                                         \n",
            "================================================================================================\n",
            "                                   coef    std err          t      P>|t|      [0.025      0.975]\n",
            "------------------------------------------------------------------------------------------------\n",
            "Total_closed_loan             1.263e+04   1360.245      9.288      0.000    9968.257    1.53e+04\n",
            "Total_credit_amount              0.0051      0.006      0.851      0.395      -0.007       0.017\n",
            "Total_max_credit_acmout          0.0110      0.009      1.181      0.238      -0.007       0.029\n",
            "Totat_active_loan             1.263e+04   1360.245      9.288      0.000    9968.257    1.53e+04\n",
            "account_type                  -655.9659   2224.426     -0.295      0.768   -5016.113    3704.182\n",
            "avg_days_between_transaction  -103.6692    145.253     -0.714      0.475    -388.384     181.045\n",
            "card_lim                        -0.0016      0.005     -0.347      0.728      -0.011       0.008\n",
            "cc_count                         6.2545     13.466      0.464      0.642     -20.140      32.649\n",
            "credit_count                    34.1975     25.722      1.329      0.184     -16.221      84.616\n",
            "creditcard_exp                   0.0396      0.027      1.444      0.149      -0.014       0.093\n",
            "debit_count                     -7.1197     13.984     -0.509      0.611     -34.529      20.290\n",
            "debitcard_exp                   -0.0412      0.052     -0.799      0.424      -0.142       0.060\n",
            "emi_active                       0.1318      0.086      1.539      0.124      -0.036       0.300\n",
            "emp_tenure_years               -84.3910     74.858     -1.127      0.260    -231.121      62.339\n",
            "income_low                   -2571.2771   3199.625     -0.804      0.422   -8842.934    3700.380\n",
            "income_medium                -2008.7142   2991.419     -0.671      0.502   -7872.262    3854.834\n",
            "investment                       0.0017      0.001      1.354      0.176      -0.001       0.004\n",
            "loan_enq                      6317.2524    680.123      9.288      0.000    4984.129    7650.376\n",
            "region_code                     -8.8010      3.689     -2.386      0.017     -16.032      -1.570\n",
            "tenure_with_bank               405.4583    278.358      1.457      0.145    -140.157     951.074\n",
            "==============================================================================\n",
            "Omnibus:                     5872.585   Durbin-Watson:                   2.011\n",
            "Prob(Omnibus):                  0.000   Jarque-Bera (JB):            17853.601\n",
            "Skew:                           2.122   Prob(JB):                         0.00\n",
            "Kurtosis:                       6.251   Cond. No.                     7.62e+22\n",
            "==============================================================================\n",
            "\n",
            "Warnings:\n",
            "[1] Standard Errors assume that the covariance matrix of the errors is correctly specified.\n",
            "[2] The smallest eigenvalue is 2.02e-30. This might indicate that there are\n",
            "strong multicollinearity problems or that the design matrix is singular.\n"
          ]
        }
      ]
    },
    {
      "cell_type": "code",
      "metadata": {
        "id": "fL9iBermTvM6"
      },
      "source": [
        "#Total_closed_loan account_type card_lim cc_count debit_count income_low "
      ],
      "execution_count": null,
      "outputs": []
    },
    {
      "cell_type": "markdown",
      "metadata": {
        "id": "IBCbB8e6Ufc0"
      },
      "source": [
        "## VIF\n",
        "- VIF is used to remove multicollinearity from the dataset. \n",
        "- VIF = 1/(1-R^2)\n",
        "\n",
        "- It computes the R-sq value for every feature against all other features. The more a feature is collinear with other features , more the VIF score is.\n",
        "- VIF starts at 1 and has no upper limit\n",
        "- VIF = 1, no correlation between the independent variable and the other variables\n",
        "- VIF exceeding 5 or 10 indicates high multicollinearity between this independent variable and the others"
      ]
    },
    {
      "cell_type": "code",
      "metadata": {
        "colab": {
          "base_uri": "https://localhost:8080/",
          "height": 714
        },
        "id": "47RNf4YuUhYy",
        "outputId": "f362b040-8f5a-4208-81a5-26253d269518"
      },
      "source": [
        "#R^2 value is determined to find out how well an independent variable is described by the other independent variables. \n",
        "#A high value of R^2 means that the variable is highly correlated with the other variables.\n",
        "#So, the closer the R^2 value to 1, the higher the value of VIF and\n",
        "# the higher the multicollinearity with the particular independent variable.\n",
        "\n",
        "\n",
        "# vif = 1/(1-r^2)\n",
        "\n",
        "\n",
        "# VIF starts at 1 and has no upper limit\n",
        "# VIF = 1, no correlation between the independent variable and the other variables\n",
        "# VIF exceeding 5 or 10 indicates high multicollinearity between this independent variable and the others\n",
        "\n",
        "\n",
        "\n",
        "\n",
        "# Import library for VIF\n",
        "from statsmodels.stats.outliers_influence import variance_inflation_factor\n",
        "\n",
        "def calc_vif(X):\n",
        "\n",
        "    # Calculating VIF\n",
        "    vif = pd.DataFrame()\n",
        "    vif[\"variables\"] = X.columns\n",
        "    vif[\"VIF\"] = [variance_inflation_factor(X.values, i) for i in range(X.shape[1])]\n",
        "\n",
        "    return(vif)\n",
        "\n",
        "\n",
        "X = train_x\n",
        "calc_vif(X)\n",
        "\n",
        "\n",
        "\n",
        "#Fixing Multicollinearity\n",
        "\n",
        "# #Dropping one of the correlated features will help in bringing down the multicollinearity between correlated features:\n",
        "# X = df.drop(['Age','Salary'],axis=1)\n",
        "# calc_vif(X)"
      ],
      "execution_count": 129,
      "outputs": [
        {
          "output_type": "stream",
          "name": "stderr",
          "text": [
            "/usr/local/lib/python3.7/dist-packages/statsmodels/regression/linear_model.py:1636: RuntimeWarning: divide by zero encountered in double_scalars\n",
            "  return 1 - self.ssr/self.centered_tss\n"
          ]
        },
        {
          "output_type": "execute_result",
          "data": {
            "text/html": [
              "<div>\n",
              "<style scoped>\n",
              "    .dataframe tbody tr th:only-of-type {\n",
              "        vertical-align: middle;\n",
              "    }\n",
              "\n",
              "    .dataframe tbody tr th {\n",
              "        vertical-align: top;\n",
              "    }\n",
              "\n",
              "    .dataframe thead th {\n",
              "        text-align: right;\n",
              "    }\n",
              "</style>\n",
              "<table border=\"1\" class=\"dataframe\">\n",
              "  <thead>\n",
              "    <tr style=\"text-align: right;\">\n",
              "      <th></th>\n",
              "      <th>variables</th>\n",
              "      <th>VIF</th>\n",
              "    </tr>\n",
              "  </thead>\n",
              "  <tbody>\n",
              "    <tr>\n",
              "      <th>0</th>\n",
              "      <td>Total_closed_loan</td>\n",
              "      <td>0.000000</td>\n",
              "    </tr>\n",
              "    <tr>\n",
              "      <th>1</th>\n",
              "      <td>Total_credit_amount</td>\n",
              "      <td>1.000894</td>\n",
              "    </tr>\n",
              "    <tr>\n",
              "      <th>2</th>\n",
              "      <td>Total_max_credit_acmout</td>\n",
              "      <td>1.001745</td>\n",
              "    </tr>\n",
              "    <tr>\n",
              "      <th>3</th>\n",
              "      <td>Totat_active_loan</td>\n",
              "      <td>0.000000</td>\n",
              "    </tr>\n",
              "    <tr>\n",
              "      <th>4</th>\n",
              "      <td>account_type</td>\n",
              "      <td>1.001049</td>\n",
              "    </tr>\n",
              "    <tr>\n",
              "      <th>5</th>\n",
              "      <td>avg_days_between_transaction</td>\n",
              "      <td>1.001097</td>\n",
              "    </tr>\n",
              "    <tr>\n",
              "      <th>6</th>\n",
              "      <td>card_lim</td>\n",
              "      <td>1.000597</td>\n",
              "    </tr>\n",
              "    <tr>\n",
              "      <th>7</th>\n",
              "      <td>cc_count</td>\n",
              "      <td>1.000425</td>\n",
              "    </tr>\n",
              "    <tr>\n",
              "      <th>8</th>\n",
              "      <td>credit_count</td>\n",
              "      <td>1.001492</td>\n",
              "    </tr>\n",
              "    <tr>\n",
              "      <th>9</th>\n",
              "      <td>creditcard_exp</td>\n",
              "      <td>1.001631</td>\n",
              "    </tr>\n",
              "    <tr>\n",
              "      <th>10</th>\n",
              "      <td>debit_count</td>\n",
              "      <td>1.000761</td>\n",
              "    </tr>\n",
              "    <tr>\n",
              "      <th>11</th>\n",
              "      <td>debitcard_exp</td>\n",
              "      <td>1.000823</td>\n",
              "    </tr>\n",
              "    <tr>\n",
              "      <th>12</th>\n",
              "      <td>emi_active</td>\n",
              "      <td>1.001476</td>\n",
              "    </tr>\n",
              "    <tr>\n",
              "      <th>13</th>\n",
              "      <td>emp_tenure_years</td>\n",
              "      <td>1.001325</td>\n",
              "    </tr>\n",
              "    <tr>\n",
              "      <th>14</th>\n",
              "      <td>income_low</td>\n",
              "      <td>3.240765</td>\n",
              "    </tr>\n",
              "    <tr>\n",
              "      <th>15</th>\n",
              "      <td>income_medium</td>\n",
              "      <td>3.239876</td>\n",
              "    </tr>\n",
              "    <tr>\n",
              "      <th>16</th>\n",
              "      <td>investment</td>\n",
              "      <td>1.001091</td>\n",
              "    </tr>\n",
              "    <tr>\n",
              "      <th>17</th>\n",
              "      <td>loan_enq</td>\n",
              "      <td>0.000000</td>\n",
              "    </tr>\n",
              "    <tr>\n",
              "      <th>18</th>\n",
              "      <td>region_code</td>\n",
              "      <td>1.000992</td>\n",
              "    </tr>\n",
              "    <tr>\n",
              "      <th>19</th>\n",
              "      <td>tenure_with_bank</td>\n",
              "      <td>1.001018</td>\n",
              "    </tr>\n",
              "  </tbody>\n",
              "</table>\n",
              "</div>"
            ],
            "text/plain": [
              "                       variables       VIF\n",
              "0              Total_closed_loan  0.000000\n",
              "1            Total_credit_amount  1.000894\n",
              "2        Total_max_credit_acmout  1.001745\n",
              "3              Totat_active_loan  0.000000\n",
              "4                   account_type  1.001049\n",
              "5   avg_days_between_transaction  1.001097\n",
              "6                       card_lim  1.000597\n",
              "7                       cc_count  1.000425\n",
              "8                   credit_count  1.001492\n",
              "9                 creditcard_exp  1.001631\n",
              "10                   debit_count  1.000761\n",
              "11                 debitcard_exp  1.000823\n",
              "12                    emi_active  1.001476\n",
              "13              emp_tenure_years  1.001325\n",
              "14                    income_low  3.240765\n",
              "15                 income_medium  3.239876\n",
              "16                    investment  1.001091\n",
              "17                      loan_enq  0.000000\n",
              "18                   region_code  1.000992\n",
              "19              tenure_with_bank  1.001018"
            ]
          },
          "metadata": {},
          "execution_count": 129
        }
      ]
    },
    {
      "cell_type": "code",
      "metadata": {
        "id": "r2J0igv2VWdc"
      },
      "source": [
        ""
      ],
      "execution_count": null,
      "outputs": []
    }
  ]
}