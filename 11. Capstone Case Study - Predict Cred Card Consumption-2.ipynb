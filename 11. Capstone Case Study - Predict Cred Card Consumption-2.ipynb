{
  "nbformat": 4,
  "nbformat_minor": 0,
  "metadata": {
    "kernelspec": {
      "display_name": "Python 3",
      "language": "python",
      "name": "python3"
    },
    "language_info": {
      "codemirror_mode": {
        "name": "ipython",
        "version": 3
      },
      "file_extension": ".py",
      "mimetype": "text/x-python",
      "name": "python",
      "nbconvert_exporter": "python",
      "pygments_lexer": "ipython3",
      "version": "3.8.5"
    },
    "colab": {
      "name": "11. Capstone Case Study - Predict Cred Card Consumption.ipynb",
      "provenance": []
    }
  },
  "cells": [
    {
      "cell_type": "code",
      "metadata": {
        "id": "zxsHzBZZmGF1"
      },
      "source": [
        "import pandas as pd\n",
        "import numpy as np\n",
        "import matplotlib.pyplot as plt\n",
        "import seaborn as sns\n",
        "\n",
        "from pandas_profiling import ProfileReport\n",
        "\n",
        "from sklearn.model_selection import train_test_split\n",
        "from sklearn.linear_model import LinearRegression\n",
        "import sklearn.metrics as met\n",
        "from sklearn.preprocessing import OneHotEncoder\n",
        "from sklearn.feature_selection import RFE\n",
        "\n",
        "from scipy import stats"
      ],
      "execution_count": 4,
      "outputs": []
    },
    {
      "cell_type": "markdown",
      "metadata": {
        "id": "6Jv5H5bsmGF7"
      },
      "source": [
        "## Importing Data"
      ]
    },
    {
      "cell_type": "code",
      "metadata": {
        "id": "FlMNqDGPmGF9"
      },
      "source": [
        "# behaviour = pd.read_csv('CustomerBehaviorData.csv')\n",
        "# consumption = pd.read_csv('CreditConsumptionData.csv')\n",
        "# customer = pd.read_csv('CustomerDemographics.csv')"
      ],
      "execution_count": 5,
      "outputs": []
    },
    {
      "cell_type": "code",
      "metadata": {
        "id": "NgO8xoo5gPAT"
      },
      "source": [
        "behaviour = pd.read_csv('https://github.com/lalit-kumr/credit_card_consumption/blob/main/CustomerBehaviorData.csv?raw=true')\n",
        "consumption = pd.read_csv('https://github.com/lalit-kumr/credit_card_consumption/raw/main/CreditConsumptionData.csv')\n",
        "customer = pd.read_csv('https://github.com/lalit-kumr/credit_card_consumption/raw/main/CustomerDemographics.csv')"
      ],
      "execution_count": 6,
      "outputs": []
    },
    {
      "cell_type": "markdown",
      "metadata": {
        "id": "E-txyd8UmGF-"
      },
      "source": [
        "### Cleaning Customer df"
      ]
    },
    {
      "cell_type": "code",
      "metadata": {
        "colab": {
          "base_uri": "https://localhost:8080/"
        },
        "id": "M-FVxKE2mGF-",
        "outputId": "e7126bb4-720b-42d3-ce15-3294a96ebdeb"
      },
      "source": [
        "#finding NaN values in customer df\n",
        "customer.isna().sum()"
      ],
      "execution_count": 7,
      "outputs": [
        {
          "output_type": "execute_result",
          "data": {
            "text/plain": [
              "customer_id                     0\n",
              "account_type                    1\n",
              "gender                          1\n",
              "age                             0\n",
              "income                          1\n",
              "emp_tenure_years                0\n",
              "tenure_with_bank                0\n",
              "region_code                     1\n",
              "net_banking_flag                0\n",
              "avg_days_between_transaction    3\n",
              "dtype: int64"
            ]
          },
          "metadata": {},
          "execution_count": 7
        }
      ]
    },
    {
      "cell_type": "code",
      "metadata": {
        "colab": {
          "base_uri": "https://localhost:8080/"
        },
        "id": "-a8HigSemGGB",
        "outputId": "6759b2bc-6866-4800-b721-27c9dddd9b6c"
      },
      "source": [
        "#Droppping observations having NaN values\n",
        "customer.dropna(inplace=True)\n",
        "customer.isna().sum()"
      ],
      "execution_count": 8,
      "outputs": [
        {
          "output_type": "execute_result",
          "data": {
            "text/plain": [
              "customer_id                     0\n",
              "account_type                    0\n",
              "gender                          0\n",
              "age                             0\n",
              "income                          0\n",
              "emp_tenure_years                0\n",
              "tenure_with_bank                0\n",
              "region_code                     0\n",
              "net_banking_flag                0\n",
              "avg_days_between_transaction    0\n",
              "dtype: int64"
            ]
          },
          "metadata": {},
          "execution_count": 8
        }
      ]
    },
    {
      "cell_type": "markdown",
      "metadata": {
        "id": "c_BplhxPmGGC"
      },
      "source": [
        "### Cleaning behaviour df"
      ]
    },
    {
      "cell_type": "code",
      "metadata": {
        "colab": {
          "base_uri": "https://localhost:8080/"
        },
        "id": "v0BPwegmmGGD",
        "outputId": "d8959674-4982-4281-d3e4-15e39b67ac59"
      },
      "source": [
        "behaviour.isna().sum()"
      ],
      "execution_count": 9,
      "outputs": [
        {
          "output_type": "execute_result",
          "data": {
            "text/plain": [
              "customer_id              0\n",
              "cc_cons_apr              0\n",
              "dc_cons_apr              0\n",
              "cc_cons_may              1\n",
              "dc_cons_may              0\n",
              "cc_cons_jun              0\n",
              "dc_cons_jun              1\n",
              "cc_count_apr             1\n",
              "cc_count_may             0\n",
              "cc_count_jun             0\n",
              "dc_count_apr             0\n",
              "dc_count_may             0\n",
              "dc_count_jun             0\n",
              "card_lim                 0\n",
              "personal_loan_active     0\n",
              "vehicle_loan_active      0\n",
              "personal_loan_closed     1\n",
              "vehicle_loan_closed      0\n",
              "investment_1             0\n",
              "investment_2             0\n",
              "investment_3             2\n",
              "investment_4             0\n",
              "debit_amount_apr         0\n",
              "credit_amount_apr        0\n",
              "debit_count_apr          1\n",
              "credit_count_apr         0\n",
              "max_credit_amount_apr    0\n",
              "debit_amount_may         0\n",
              "credit_amount_may        0\n",
              "credit_count_may         0\n",
              "debit_count_may          0\n",
              "max_credit_amount_may    0\n",
              "debit_amount_jun         0\n",
              "credit_amount_jun        0\n",
              "credit_count_jun         0\n",
              "debit_count_jun          0\n",
              "max_credit_amount_jun    0\n",
              "loan_enq                 2\n",
              "emi_active               1\n",
              "dtype: int64"
            ]
          },
          "metadata": {},
          "execution_count": 9
        }
      ]
    },
    {
      "cell_type": "code",
      "metadata": {
        "colab": {
          "base_uri": "https://localhost:8080/"
        },
        "id": "jV4NtedEmGGF",
        "outputId": "35a3ad8c-1278-4d6d-a243-2004a18db18a"
      },
      "source": [
        "#Droppping observations having NaN values\n",
        "behaviour.dropna(inplace=True)\n",
        "behaviour.isna().sum()"
      ],
      "execution_count": 10,
      "outputs": [
        {
          "output_type": "execute_result",
          "data": {
            "text/plain": [
              "customer_id              0\n",
              "cc_cons_apr              0\n",
              "dc_cons_apr              0\n",
              "cc_cons_may              0\n",
              "dc_cons_may              0\n",
              "cc_cons_jun              0\n",
              "dc_cons_jun              0\n",
              "cc_count_apr             0\n",
              "cc_count_may             0\n",
              "cc_count_jun             0\n",
              "dc_count_apr             0\n",
              "dc_count_may             0\n",
              "dc_count_jun             0\n",
              "card_lim                 0\n",
              "personal_loan_active     0\n",
              "vehicle_loan_active      0\n",
              "personal_loan_closed     0\n",
              "vehicle_loan_closed      0\n",
              "investment_1             0\n",
              "investment_2             0\n",
              "investment_3             0\n",
              "investment_4             0\n",
              "debit_amount_apr         0\n",
              "credit_amount_apr        0\n",
              "debit_count_apr          0\n",
              "credit_count_apr         0\n",
              "max_credit_amount_apr    0\n",
              "debit_amount_may         0\n",
              "credit_amount_may        0\n",
              "credit_count_may         0\n",
              "debit_count_may          0\n",
              "max_credit_amount_may    0\n",
              "debit_amount_jun         0\n",
              "credit_amount_jun        0\n",
              "credit_count_jun         0\n",
              "debit_count_jun          0\n",
              "max_credit_amount_jun    0\n",
              "loan_enq                 0\n",
              "emi_active               0\n",
              "dtype: int64"
            ]
          },
          "metadata": {},
          "execution_count": 10
        }
      ]
    },
    {
      "cell_type": "code",
      "metadata": {
        "id": "QeR4OGpHB2Hn"
      },
      "source": [
        ""
      ],
      "execution_count": 10,
      "outputs": []
    },
    {
      "cell_type": "code",
      "metadata": {
        "id": "iyKt2x3JB2D_"
      },
      "source": [
        ""
      ],
      "execution_count": 10,
      "outputs": []
    },
    {
      "cell_type": "code",
      "metadata": {
        "id": "sML0bwy1B1_U"
      },
      "source": [
        ""
      ],
      "execution_count": 10,
      "outputs": []
    },
    {
      "cell_type": "code",
      "metadata": {
        "id": "BeWSJ7iJB17q"
      },
      "source": [
        ""
      ],
      "execution_count": 10,
      "outputs": []
    },
    {
      "cell_type": "code",
      "metadata": {
        "id": "KIsG8yErB13c"
      },
      "source": [
        ""
      ],
      "execution_count": 10,
      "outputs": []
    },
    {
      "cell_type": "code",
      "metadata": {
        "id": "7XyPmVAYB1y3"
      },
      "source": [
        ""
      ],
      "execution_count": 10,
      "outputs": []
    },
    {
      "cell_type": "markdown",
      "metadata": {
        "id": "YMkKem4xmGGH"
      },
      "source": [
        "### Cleaning consumption df"
      ]
    },
    {
      "cell_type": "code",
      "metadata": {
        "colab": {
          "base_uri": "https://localhost:8080/"
        },
        "id": "1O7__viLmGGH",
        "outputId": "380306c2-80c4-4366-e797-a9777045c460"
      },
      "source": [
        "consumption.isna().sum() # no NaN values except the ones we have to predict"
      ],
      "execution_count": 11,
      "outputs": [
        {
          "output_type": "execute_result",
          "data": {
            "text/plain": [
              "customer_id          0\n",
              "cc_cons_target    5000\n",
              "dtype: int64"
            ]
          },
          "metadata": {},
          "execution_count": 11
        }
      ]
    },
    {
      "cell_type": "markdown",
      "metadata": {
        "id": "yftDGJlemGGJ"
      },
      "source": [
        "### Merging the dataframes \n",
        "- now we will merge all three dataframes on the basis of customer_id.\n",
        "- first we will merge customer and behaviour dataframes as customer_be\n",
        "- next we will merge the cosumption dataframe with the custoemr_be df and store the resultant dataframe in **final**"
      ]
    },
    {
      "cell_type": "code",
      "metadata": {
        "colab": {
          "base_uri": "https://localhost:8080/",
          "height": 0
        },
        "id": "7CaWIBuNmGGJ",
        "outputId": "f2346ed8-aecc-4bea-d2a1-ca75a114ab86"
      },
      "source": [
        "customer_behaviour = pd.merge(left=customer, right=behaviour, on='customer_id')\n",
        "final = pd.merge(left=customer_behaviour, right=consumption, on='customer_id')\n",
        "final.head(2)"
      ],
      "execution_count": 127,
      "outputs": [
        {
          "output_type": "execute_result",
          "data": {
            "text/html": [
              "<div>\n",
              "<style scoped>\n",
              "    .dataframe tbody tr th:only-of-type {\n",
              "        vertical-align: middle;\n",
              "    }\n",
              "\n",
              "    .dataframe tbody tr th {\n",
              "        vertical-align: top;\n",
              "    }\n",
              "\n",
              "    .dataframe thead th {\n",
              "        text-align: right;\n",
              "    }\n",
              "</style>\n",
              "<table border=\"1\" class=\"dataframe\">\n",
              "  <thead>\n",
              "    <tr style=\"text-align: right;\">\n",
              "      <th></th>\n",
              "      <th>customer_id</th>\n",
              "      <th>account_type</th>\n",
              "      <th>gender</th>\n",
              "      <th>age</th>\n",
              "      <th>income</th>\n",
              "      <th>emp_tenure_years</th>\n",
              "      <th>tenure_with_bank</th>\n",
              "      <th>region_code</th>\n",
              "      <th>net_banking_flag</th>\n",
              "      <th>avg_days_between_transaction</th>\n",
              "      <th>cc_cons_apr</th>\n",
              "      <th>dc_cons_apr</th>\n",
              "      <th>cc_cons_may</th>\n",
              "      <th>dc_cons_may</th>\n",
              "      <th>cc_cons_jun</th>\n",
              "      <th>dc_cons_jun</th>\n",
              "      <th>cc_count_apr</th>\n",
              "      <th>cc_count_may</th>\n",
              "      <th>cc_count_jun</th>\n",
              "      <th>dc_count_apr</th>\n",
              "      <th>dc_count_may</th>\n",
              "      <th>dc_count_jun</th>\n",
              "      <th>card_lim</th>\n",
              "      <th>personal_loan_active</th>\n",
              "      <th>vehicle_loan_active</th>\n",
              "      <th>personal_loan_closed</th>\n",
              "      <th>vehicle_loan_closed</th>\n",
              "      <th>investment_1</th>\n",
              "      <th>investment_2</th>\n",
              "      <th>investment_3</th>\n",
              "      <th>investment_4</th>\n",
              "      <th>debit_amount_apr</th>\n",
              "      <th>credit_amount_apr</th>\n",
              "      <th>debit_count_apr</th>\n",
              "      <th>credit_count_apr</th>\n",
              "      <th>max_credit_amount_apr</th>\n",
              "      <th>debit_amount_may</th>\n",
              "      <th>credit_amount_may</th>\n",
              "      <th>credit_count_may</th>\n",
              "      <th>debit_count_may</th>\n",
              "      <th>max_credit_amount_may</th>\n",
              "      <th>debit_amount_jun</th>\n",
              "      <th>credit_amount_jun</th>\n",
              "      <th>credit_count_jun</th>\n",
              "      <th>debit_count_jun</th>\n",
              "      <th>max_credit_amount_jun</th>\n",
              "      <th>loan_enq</th>\n",
              "      <th>emi_active</th>\n",
              "      <th>cc_cons_target</th>\n",
              "    </tr>\n",
              "  </thead>\n",
              "  <tbody>\n",
              "    <tr>\n",
              "      <th>0</th>\n",
              "      <td>19427</td>\n",
              "      <td>current</td>\n",
              "      <td>M</td>\n",
              "      <td>63</td>\n",
              "      <td>MEDIUM</td>\n",
              "      <td>30.1</td>\n",
              "      <td>10</td>\n",
              "      <td>628.0</td>\n",
              "      <td>1</td>\n",
              "      <td>5.0</td>\n",
              "      <td>7998.48</td>\n",
              "      <td>2289.0</td>\n",
              "      <td>9553.00</td>\n",
              "      <td>2879.58</td>\n",
              "      <td>6881.81</td>\n",
              "      <td>3124.0</td>\n",
              "      <td>8.0</td>\n",
              "      <td>23</td>\n",
              "      <td>13</td>\n",
              "      <td>47</td>\n",
              "      <td>3</td>\n",
              "      <td>30</td>\n",
              "      <td>519000</td>\n",
              "      <td>1</td>\n",
              "      <td>1</td>\n",
              "      <td>1.0</td>\n",
              "      <td>1</td>\n",
              "      <td>13659.0</td>\n",
              "      <td>14000.0</td>\n",
              "      <td>80000.0</td>\n",
              "      <td>6885.0</td>\n",
              "      <td>79085.00</td>\n",
              "      <td>44630.50</td>\n",
              "      <td>63.0</td>\n",
              "      <td>1</td>\n",
              "      <td>48134.0</td>\n",
              "      <td>107662.02</td>\n",
              "      <td>61887.50</td>\n",
              "      <td>5</td>\n",
              "      <td>14</td>\n",
              "      <td>20770.0</td>\n",
              "      <td>44884.90</td>\n",
              "      <td>369000.75</td>\n",
              "      <td>40</td>\n",
              "      <td>96</td>\n",
              "      <td>46088.0</td>\n",
              "      <td>Y</td>\n",
              "      <td>2646.72</td>\n",
              "      <td>NaN</td>\n",
              "    </tr>\n",
              "    <tr>\n",
              "      <th>1</th>\n",
              "      <td>16150</td>\n",
              "      <td>current</td>\n",
              "      <td>M</td>\n",
              "      <td>36</td>\n",
              "      <td>MEDIUM</td>\n",
              "      <td>14.4</td>\n",
              "      <td>10</td>\n",
              "      <td>656.0</td>\n",
              "      <td>0</td>\n",
              "      <td>12.0</td>\n",
              "      <td>16479.64</td>\n",
              "      <td>415.0</td>\n",
              "      <td>7386.49</td>\n",
              "      <td>6763.00</td>\n",
              "      <td>12032.60</td>\n",
              "      <td>6738.0</td>\n",
              "      <td>19.0</td>\n",
              "      <td>32</td>\n",
              "      <td>7</td>\n",
              "      <td>1</td>\n",
              "      <td>37</td>\n",
              "      <td>16</td>\n",
              "      <td>402000</td>\n",
              "      <td>1</td>\n",
              "      <td>1</td>\n",
              "      <td>1.0</td>\n",
              "      <td>1</td>\n",
              "      <td>942327.7</td>\n",
              "      <td>172131.0</td>\n",
              "      <td>28912.0</td>\n",
              "      <td>553.0</td>\n",
              "      <td>85171.16</td>\n",
              "      <td>216770.95</td>\n",
              "      <td>10.0</td>\n",
              "      <td>1</td>\n",
              "      <td>31820.0</td>\n",
              "      <td>34376.79</td>\n",
              "      <td>36644.25</td>\n",
              "      <td>4</td>\n",
              "      <td>63</td>\n",
              "      <td>78627.0</td>\n",
              "      <td>91073.84</td>\n",
              "      <td>243182.32</td>\n",
              "      <td>7</td>\n",
              "      <td>12</td>\n",
              "      <td>17953.0</td>\n",
              "      <td>Y</td>\n",
              "      <td>5469.79</td>\n",
              "      <td>NaN</td>\n",
              "    </tr>\n",
              "  </tbody>\n",
              "</table>\n",
              "</div>"
            ],
            "text/plain": [
              "   customer_id account_type gender  ...  loan_enq emi_active  cc_cons_target\n",
              "0        19427      current      M  ...         Y    2646.72             NaN\n",
              "1        16150      current      M  ...         Y    5469.79             NaN\n",
              "\n",
              "[2 rows x 49 columns]"
            ]
          },
          "metadata": {},
          "execution_count": 127
        }
      ]
    },
    {
      "cell_type": "code",
      "metadata": {
        "id": "d6labVz7B5RQ"
      },
      "source": [
        "#Total investments\n",
        "final['investment'] = final['investment_1']+final['investment_2']+final['investment_3']+final['investment_4']\n",
        "#Total debit amount\n",
        "final[\"Total_debit_amount\"]=final['debit_amount_apr']+final['debit_amount_may']+final['debit_amount_jun']\n",
        "#Total Credit Amount\n",
        "final[\"Total_credit_amount\"]=final['credit_amount_apr']+final['credit_amount_may']+final['credit_amount_jun']\n",
        "#Total Max Credit amount\n",
        "final[\"Total_max_credit_acmout\"]=final['max_credit_amount_apr']+final['max_credit_amount_may']+final['max_credit_amount_jun']\n",
        "#Total Active Loan\n",
        "final[\"Totat_active_loan\"]= final['personal_loan_active'] + final['vehicle_loan_active']\n",
        "#Toatal Closed Loan\n",
        "final[\"Total_closed_loan\"]= final['personal_loan_closed'] + final['vehicle_loan_closed']\n",
        "#Credit Card expenditure total\n",
        "final['creditcard_exp']= final['cc_cons_apr'] + final['cc_cons_may'] + final['cc_cons_jun'] \n",
        "#Debit Card expenditure total\n",
        "final['debitcard_exp']= final['dc_cons_apr'] + final['dc_cons_may'] + final['dc_cons_jun']\n",
        "\n",
        "\n"
      ],
      "execution_count": 128,
      "outputs": []
    },
    {
      "cell_type": "code",
      "metadata": {
        "id": "KsQl6kPcFITN"
      },
      "source": [
        "extra = ['investment_1','investment_2','investment_3','investment_4',\n",
        "         'debit_amount_apr','debit_amount_may','debit_amount_jun',\n",
        "         'credit_amount_apr','credit_amount_may','credit_amount_jun',\n",
        "         'max_credit_amount_apr','max_credit_amount_may','max_credit_amount_jun',\n",
        "         'personal_loan_active','vehicle_loan_active',\n",
        "         'personal_loan_closed','vehicle_loan_closed',\n",
        "         'cc_cons_apr','cc_cons_may','cc_cons_jun',\n",
        "         'dc_cons_apr','dc_cons_may','dc_cons_jun'\n",
        "         ]\n",
        "\n",
        "\n",
        "\n",
        "  "
      ],
      "execution_count": 129,
      "outputs": []
    },
    {
      "cell_type": "code",
      "metadata": {
        "id": "5u-ED7SlEYJb"
      },
      "source": [
        "final.drop(labels=extra,axis=1,inplace=True)"
      ],
      "execution_count": 130,
      "outputs": []
    },
    {
      "cell_type": "code",
      "metadata": {
        "id": "0bqmW8iaEYFb",
        "outputId": "a2e0ec6d-eabf-4a21-d7e4-b6069699a800",
        "colab": {
          "base_uri": "https://localhost:8080/",
          "height": 0
        }
      },
      "source": [
        "final.head(3)"
      ],
      "execution_count": 131,
      "outputs": [
        {
          "output_type": "execute_result",
          "data": {
            "text/html": [
              "<div>\n",
              "<style scoped>\n",
              "    .dataframe tbody tr th:only-of-type {\n",
              "        vertical-align: middle;\n",
              "    }\n",
              "\n",
              "    .dataframe tbody tr th {\n",
              "        vertical-align: top;\n",
              "    }\n",
              "\n",
              "    .dataframe thead th {\n",
              "        text-align: right;\n",
              "    }\n",
              "</style>\n",
              "<table border=\"1\" class=\"dataframe\">\n",
              "  <thead>\n",
              "    <tr style=\"text-align: right;\">\n",
              "      <th></th>\n",
              "      <th>customer_id</th>\n",
              "      <th>account_type</th>\n",
              "      <th>gender</th>\n",
              "      <th>age</th>\n",
              "      <th>income</th>\n",
              "      <th>emp_tenure_years</th>\n",
              "      <th>tenure_with_bank</th>\n",
              "      <th>region_code</th>\n",
              "      <th>net_banking_flag</th>\n",
              "      <th>avg_days_between_transaction</th>\n",
              "      <th>cc_count_apr</th>\n",
              "      <th>cc_count_may</th>\n",
              "      <th>cc_count_jun</th>\n",
              "      <th>dc_count_apr</th>\n",
              "      <th>dc_count_may</th>\n",
              "      <th>dc_count_jun</th>\n",
              "      <th>card_lim</th>\n",
              "      <th>debit_count_apr</th>\n",
              "      <th>credit_count_apr</th>\n",
              "      <th>credit_count_may</th>\n",
              "      <th>debit_count_may</th>\n",
              "      <th>credit_count_jun</th>\n",
              "      <th>debit_count_jun</th>\n",
              "      <th>loan_enq</th>\n",
              "      <th>emi_active</th>\n",
              "      <th>cc_cons_target</th>\n",
              "      <th>investment</th>\n",
              "      <th>Total_debit_amount</th>\n",
              "      <th>Total_credit_amount</th>\n",
              "      <th>Total_max_credit_acmout</th>\n",
              "      <th>Totat_active_loan</th>\n",
              "      <th>Total_closed_loan</th>\n",
              "      <th>creditcard_exp</th>\n",
              "      <th>debitcard_exp</th>\n",
              "    </tr>\n",
              "  </thead>\n",
              "  <tbody>\n",
              "    <tr>\n",
              "      <th>0</th>\n",
              "      <td>19427</td>\n",
              "      <td>current</td>\n",
              "      <td>M</td>\n",
              "      <td>63</td>\n",
              "      <td>MEDIUM</td>\n",
              "      <td>30.1</td>\n",
              "      <td>10</td>\n",
              "      <td>628.0</td>\n",
              "      <td>1</td>\n",
              "      <td>5.0</td>\n",
              "      <td>8.0</td>\n",
              "      <td>23</td>\n",
              "      <td>13</td>\n",
              "      <td>47</td>\n",
              "      <td>3</td>\n",
              "      <td>30</td>\n",
              "      <td>519000</td>\n",
              "      <td>63.0</td>\n",
              "      <td>1</td>\n",
              "      <td>5</td>\n",
              "      <td>14</td>\n",
              "      <td>40</td>\n",
              "      <td>96</td>\n",
              "      <td>Y</td>\n",
              "      <td>2646.72</td>\n",
              "      <td>NaN</td>\n",
              "      <td>114544.0</td>\n",
              "      <td>231631.92</td>\n",
              "      <td>475518.75</td>\n",
              "      <td>114992.00</td>\n",
              "      <td>2</td>\n",
              "      <td>2.0</td>\n",
              "      <td>24433.29</td>\n",
              "      <td>8292.58</td>\n",
              "    </tr>\n",
              "    <tr>\n",
              "      <th>1</th>\n",
              "      <td>16150</td>\n",
              "      <td>current</td>\n",
              "      <td>M</td>\n",
              "      <td>36</td>\n",
              "      <td>MEDIUM</td>\n",
              "      <td>14.4</td>\n",
              "      <td>10</td>\n",
              "      <td>656.0</td>\n",
              "      <td>0</td>\n",
              "      <td>12.0</td>\n",
              "      <td>19.0</td>\n",
              "      <td>32</td>\n",
              "      <td>7</td>\n",
              "      <td>1</td>\n",
              "      <td>37</td>\n",
              "      <td>16</td>\n",
              "      <td>402000</td>\n",
              "      <td>10.0</td>\n",
              "      <td>1</td>\n",
              "      <td>4</td>\n",
              "      <td>63</td>\n",
              "      <td>7</td>\n",
              "      <td>12</td>\n",
              "      <td>Y</td>\n",
              "      <td>5469.79</td>\n",
              "      <td>NaN</td>\n",
              "      <td>1143923.7</td>\n",
              "      <td>210621.79</td>\n",
              "      <td>496597.52</td>\n",
              "      <td>128400.00</td>\n",
              "      <td>2</td>\n",
              "      <td>2.0</td>\n",
              "      <td>35898.73</td>\n",
              "      <td>13916.00</td>\n",
              "    </tr>\n",
              "    <tr>\n",
              "      <th>2</th>\n",
              "      <td>11749</td>\n",
              "      <td>current</td>\n",
              "      <td>F</td>\n",
              "      <td>28</td>\n",
              "      <td>MEDIUM</td>\n",
              "      <td>4.8</td>\n",
              "      <td>10</td>\n",
              "      <td>314.0</td>\n",
              "      <td>1</td>\n",
              "      <td>13.0</td>\n",
              "      <td>12.0</td>\n",
              "      <td>30</td>\n",
              "      <td>44</td>\n",
              "      <td>22</td>\n",
              "      <td>15</td>\n",
              "      <td>37</td>\n",
              "      <td>114000</td>\n",
              "      <td>55.0</td>\n",
              "      <td>33</td>\n",
              "      <td>6</td>\n",
              "      <td>82</td>\n",
              "      <td>16</td>\n",
              "      <td>42</td>\n",
              "      <td>Y</td>\n",
              "      <td>7207.85</td>\n",
              "      <td>NaN</td>\n",
              "      <td>281087.6</td>\n",
              "      <td>281651.29</td>\n",
              "      <td>110466.00</td>\n",
              "      <td>1077812.79</td>\n",
              "      <td>2</td>\n",
              "      <td>2.0</td>\n",
              "      <td>33973.99</td>\n",
              "      <td>71489.30</td>\n",
              "    </tr>\n",
              "  </tbody>\n",
              "</table>\n",
              "</div>"
            ],
            "text/plain": [
              "   customer_id account_type  ... creditcard_exp  debitcard_exp\n",
              "0        19427      current  ...       24433.29        8292.58\n",
              "1        16150      current  ...       35898.73       13916.00\n",
              "2        11749      current  ...       33973.99       71489.30\n",
              "\n",
              "[3 rows x 34 columns]"
            ]
          },
          "metadata": {},
          "execution_count": 131
        }
      ]
    },
    {
      "cell_type": "markdown",
      "metadata": {
        "id": "OZriwRAJmGGK"
      },
      "source": [
        "### Profile report\n",
        "After importing the data, the first tasks is to detect and treat outliers and balnk values. For that reason we will first generate a profile report of our dataframe by using pandas profiling package.\\\n",
        "Some info about the profiling package from their [website](https://pandas-profiling.github.io/pandas-profiling/docs/master/index.html):\n",
        "pandas_profiling extends the pandas DataFrame with df.profile_report() for quick data analysis.For each column the following statistics - if relevant for the column type - are presented in an interactive HTML report:\n",
        "- Type inference: detect the types of columns in a dataframe.\n",
        "- Essentials: type, unique values, missing values\n",
        "- Quantile statistics like minimum value, Q1, median, Q3, maximum, range, interquartile range\n",
        "- Descriptive statistics like mean, mode, standard deviation, sum, median absolute deviation, coefficient of variation, kurtosis, skewness\n",
        "- Most frequent values\n",
        "- Histogram\n",
        "- Correlations highlighting of highly correlated variables, Spearman, Pearson and Kendall matrices\n",
        "- Missing values matrix, count, heatmap and dendrogram of missing values\n",
        "- Text analysis learn about categories (Uppercase, Space), scripts (Latin, Cyrillic) and blocks (ASCII) of text data.\n",
        "- File and Image analysis extract file sizes, creation dates and dimensions and scan for truncated images or those containing EXIF information.\n",
        "\n"
      ]
    },
    {
      "cell_type": "markdown",
      "metadata": {
        "id": "YnfhRR_nmGGK"
      },
      "source": [
        "#### Generating profile report\n"
      ]
    },
    {
      "cell_type": "code",
      "metadata": {
        "id": "7Za4YuDgmGGL"
      },
      "source": [
        "# profile_report = ProfileReport(final)\n",
        "# profile_report.to_widgets()"
      ],
      "execution_count": 72,
      "outputs": []
    },
    {
      "cell_type": "markdown",
      "metadata": {
        "id": "01CiKugUSRc-"
      },
      "source": [
        "### EDA"
      ]
    },
    {
      "cell_type": "code",
      "metadata": {
        "id": "mpl3CsFnSVBA",
        "outputId": "4ee4f223-c393-40d7-9a66-a12f4e9ba1a6",
        "colab": {
          "base_uri": "https://localhost:8080/",
          "height": 444
        }
      },
      "source": [
        "final.select_dtypes(include=['int64','float64'])"
      ],
      "execution_count": 74,
      "outputs": [
        {
          "output_type": "execute_result",
          "data": {
            "text/html": [
              "<div>\n",
              "<style scoped>\n",
              "    .dataframe tbody tr th:only-of-type {\n",
              "        vertical-align: middle;\n",
              "    }\n",
              "\n",
              "    .dataframe tbody tr th {\n",
              "        vertical-align: top;\n",
              "    }\n",
              "\n",
              "    .dataframe thead th {\n",
              "        text-align: right;\n",
              "    }\n",
              "</style>\n",
              "<table border=\"1\" class=\"dataframe\">\n",
              "  <thead>\n",
              "    <tr style=\"text-align: right;\">\n",
              "      <th></th>\n",
              "      <th>emp_tenure_years</th>\n",
              "      <th>region_code</th>\n",
              "      <th>avg_days_between_transaction</th>\n",
              "      <th>cc_count_apr</th>\n",
              "      <th>debit_count_apr</th>\n",
              "      <th>emi_active</th>\n",
              "      <th>cc_cons_target</th>\n",
              "      <th>investment</th>\n",
              "      <th>Total_debit_amount</th>\n",
              "      <th>Total_credit_amount</th>\n",
              "      <th>Total_max_credit_acmout</th>\n",
              "      <th>Total_closed_loan</th>\n",
              "      <th>creditcard_exp</th>\n",
              "      <th>debitcard_exp</th>\n",
              "    </tr>\n",
              "  </thead>\n",
              "  <tbody>\n",
              "    <tr>\n",
              "      <th>0</th>\n",
              "      <td>30.1</td>\n",
              "      <td>628.0</td>\n",
              "      <td>5.0</td>\n",
              "      <td>8.0</td>\n",
              "      <td>63.0</td>\n",
              "      <td>2646.72</td>\n",
              "      <td>NaN</td>\n",
              "      <td>114544.00</td>\n",
              "      <td>231631.92</td>\n",
              "      <td>475518.75</td>\n",
              "      <td>114992.00</td>\n",
              "      <td>2.0</td>\n",
              "      <td>24433.29</td>\n",
              "      <td>8292.58</td>\n",
              "    </tr>\n",
              "    <tr>\n",
              "      <th>1</th>\n",
              "      <td>14.4</td>\n",
              "      <td>656.0</td>\n",
              "      <td>12.0</td>\n",
              "      <td>19.0</td>\n",
              "      <td>10.0</td>\n",
              "      <td>5469.79</td>\n",
              "      <td>NaN</td>\n",
              "      <td>1143923.70</td>\n",
              "      <td>210621.79</td>\n",
              "      <td>496597.52</td>\n",
              "      <td>128400.00</td>\n",
              "      <td>2.0</td>\n",
              "      <td>35898.73</td>\n",
              "      <td>13916.00</td>\n",
              "    </tr>\n",
              "    <tr>\n",
              "      <th>2</th>\n",
              "      <td>4.8</td>\n",
              "      <td>314.0</td>\n",
              "      <td>13.0</td>\n",
              "      <td>12.0</td>\n",
              "      <td>55.0</td>\n",
              "      <td>7207.85</td>\n",
              "      <td>NaN</td>\n",
              "      <td>281087.60</td>\n",
              "      <td>281651.29</td>\n",
              "      <td>110466.00</td>\n",
              "      <td>1077812.79</td>\n",
              "      <td>2.0</td>\n",
              "      <td>33973.99</td>\n",
              "      <td>71489.30</td>\n",
              "    </tr>\n",
              "    <tr>\n",
              "      <th>3</th>\n",
              "      <td>9.6</td>\n",
              "      <td>614.0</td>\n",
              "      <td>19.0</td>\n",
              "      <td>24.0</td>\n",
              "      <td>32.0</td>\n",
              "      <td>591.34</td>\n",
              "      <td>NaN</td>\n",
              "      <td>205434.25</td>\n",
              "      <td>82508.33</td>\n",
              "      <td>336450.35</td>\n",
              "      <td>215182.00</td>\n",
              "      <td>2.0</td>\n",
              "      <td>22919.31</td>\n",
              "      <td>17534.18</td>\n",
              "    </tr>\n",
              "    <tr>\n",
              "      <th>4</th>\n",
              "      <td>12.0</td>\n",
              "      <td>750.0</td>\n",
              "      <td>18.0</td>\n",
              "      <td>100.0</td>\n",
              "      <td>67.0</td>\n",
              "      <td>2621.39</td>\n",
              "      <td>NaN</td>\n",
              "      <td>140601.15</td>\n",
              "      <td>289285.89</td>\n",
              "      <td>168824.00</td>\n",
              "      <td>108610.04</td>\n",
              "      <td>2.0</td>\n",
              "      <td>38417.74</td>\n",
              "      <td>34300.86</td>\n",
              "    </tr>\n",
              "    <tr>\n",
              "      <th>...</th>\n",
              "      <td>...</td>\n",
              "      <td>...</td>\n",
              "      <td>...</td>\n",
              "      <td>...</td>\n",
              "      <td>...</td>\n",
              "      <td>...</td>\n",
              "      <td>...</td>\n",
              "      <td>...</td>\n",
              "      <td>...</td>\n",
              "      <td>...</td>\n",
              "      <td>...</td>\n",
              "      <td>...</td>\n",
              "      <td>...</td>\n",
              "      <td>...</td>\n",
              "    </tr>\n",
              "    <tr>\n",
              "      <th>19983</th>\n",
              "      <td>32.2</td>\n",
              "      <td>354.0</td>\n",
              "      <td>7.0</td>\n",
              "      <td>5.0</td>\n",
              "      <td>29.0</td>\n",
              "      <td>6334.20</td>\n",
              "      <td>NaN</td>\n",
              "      <td>417009.50</td>\n",
              "      <td>372903.21</td>\n",
              "      <td>148587.00</td>\n",
              "      <td>97040.00</td>\n",
              "      <td>2.0</td>\n",
              "      <td>74132.74</td>\n",
              "      <td>13394.04</td>\n",
              "    </tr>\n",
              "    <tr>\n",
              "      <th>19984</th>\n",
              "      <td>19.8</td>\n",
              "      <td>809.0</td>\n",
              "      <td>14.0</td>\n",
              "      <td>1.0</td>\n",
              "      <td>5.0</td>\n",
              "      <td>102216.02</td>\n",
              "      <td>NaN</td>\n",
              "      <td>1776525.25</td>\n",
              "      <td>126608.23</td>\n",
              "      <td>157606.00</td>\n",
              "      <td>271850.00</td>\n",
              "      <td>2.0</td>\n",
              "      <td>21791.77</td>\n",
              "      <td>8261.00</td>\n",
              "    </tr>\n",
              "    <tr>\n",
              "      <th>19985</th>\n",
              "      <td>18.4</td>\n",
              "      <td>466.0</td>\n",
              "      <td>10.0</td>\n",
              "      <td>6.0</td>\n",
              "      <td>11.0</td>\n",
              "      <td>1930.19</td>\n",
              "      <td>NaN</td>\n",
              "      <td>145830.52</td>\n",
              "      <td>329834.38</td>\n",
              "      <td>121357.00</td>\n",
              "      <td>97637.00</td>\n",
              "      <td>2.0</td>\n",
              "      <td>13841.01</td>\n",
              "      <td>97476.49</td>\n",
              "    </tr>\n",
              "    <tr>\n",
              "      <th>19986</th>\n",
              "      <td>6.0</td>\n",
              "      <td>619.0</td>\n",
              "      <td>17.0</td>\n",
              "      <td>5.0</td>\n",
              "      <td>5.0</td>\n",
              "      <td>24499.91</td>\n",
              "      <td>NaN</td>\n",
              "      <td>66244.43</td>\n",
              "      <td>111379.12</td>\n",
              "      <td>145093.76</td>\n",
              "      <td>115984.00</td>\n",
              "      <td>2.0</td>\n",
              "      <td>35217.81</td>\n",
              "      <td>16116.46</td>\n",
              "    </tr>\n",
              "    <tr>\n",
              "      <th>19987</th>\n",
              "      <td>78.4</td>\n",
              "      <td>882.0</td>\n",
              "      <td>10.0</td>\n",
              "      <td>531.0</td>\n",
              "      <td>24.0</td>\n",
              "      <td>5311.54</td>\n",
              "      <td>NaN</td>\n",
              "      <td>213925.00</td>\n",
              "      <td>69995.98</td>\n",
              "      <td>85386.50</td>\n",
              "      <td>101683.00</td>\n",
              "      <td>2.0</td>\n",
              "      <td>56652.06</td>\n",
              "      <td>18963.77</td>\n",
              "    </tr>\n",
              "  </tbody>\n",
              "</table>\n",
              "<p>19988 rows × 14 columns</p>\n",
              "</div>"
            ],
            "text/plain": [
              "       emp_tenure_years  region_code  ...  creditcard_exp  debitcard_exp\n",
              "0                  30.1        628.0  ...        24433.29        8292.58\n",
              "1                  14.4        656.0  ...        35898.73       13916.00\n",
              "2                   4.8        314.0  ...        33973.99       71489.30\n",
              "3                   9.6        614.0  ...        22919.31       17534.18\n",
              "4                  12.0        750.0  ...        38417.74       34300.86\n",
              "...                 ...          ...  ...             ...            ...\n",
              "19983              32.2        354.0  ...        74132.74       13394.04\n",
              "19984              19.8        809.0  ...        21791.77        8261.00\n",
              "19985              18.4        466.0  ...        13841.01       97476.49\n",
              "19986               6.0        619.0  ...        35217.81       16116.46\n",
              "19987              78.4        882.0  ...        56652.06       18963.77\n",
              "\n",
              "[19988 rows x 14 columns]"
            ]
          },
          "metadata": {},
          "execution_count": 74
        }
      ]
    },
    {
      "cell_type": "markdown",
      "metadata": {
        "id": "moDIT130mGGP"
      },
      "source": [
        "### Splitting the dataframe in df_predict and df_train for the data to predict and data to train on respectively"
      ]
    },
    {
      "cell_type": "markdown",
      "metadata": {
        "id": "Tr-T8Qf3mGGP"
      },
      "source": [
        "Splitting the rows into df_predict and df_train. df_predict contains cc_cons_target having NA values. These are the customers that we have to predit consumption for.\n",
        "\n",
        "df_train contains all rows that have a numerical value in cc_cons_target. this df will train out liner regression algo"
      ]
    },
    {
      "cell_type": "code",
      "metadata": {
        "colab": {
          "base_uri": "https://localhost:8080/"
        },
        "id": "YUQQGNyumGGP",
        "outputId": "dbec7b50-7e9c-4475-a4f0-d5ae32048534"
      },
      "source": [
        "#filtering all the rows from final that contain NaN values in cc_cons_target and storing those rows in df_predict.\n",
        "df_predict = final[final.cc_cons_target.isna()]\n",
        "#dropping the NaN values of cc_cons_target \n",
        "df_predict.drop(labels='cc_cons_target',axis=1,inplace=True)\n",
        "\n",
        "# droppping  all the rows that are in the df_predict dataframe and storing the result in df_train\n",
        "df_train = final.drop(df_predict.index)"
      ],
      "execution_count": 132,
      "outputs": [
        {
          "output_type": "stream",
          "text": [
            "/usr/local/lib/python3.7/dist-packages/pandas/core/frame.py:4174: SettingWithCopyWarning: \n",
            "A value is trying to be set on a copy of a slice from a DataFrame\n",
            "\n",
            "See the caveats in the documentation: https://pandas.pydata.org/pandas-docs/stable/user_guide/indexing.html#returning-a-view-versus-a-copy\n",
            "  errors=errors,\n"
          ],
          "name": "stderr"
        }
      ]
    },
    {
      "cell_type": "code",
      "metadata": {
        "colab": {
          "base_uri": "https://localhost:8080/"
        },
        "id": "xFViOOiEmGGQ",
        "outputId": "cbe55a1e-d3da-431f-fb87-b3f7b0c955f6"
      },
      "source": [
        "df_train.shape"
      ],
      "execution_count": 133,
      "outputs": [
        {
          "output_type": "execute_result",
          "data": {
            "text/plain": [
              "(14995, 34)"
            ]
          },
          "metadata": {},
          "execution_count": 133
        }
      ]
    },
    {
      "cell_type": "markdown",
      "metadata": {
        "id": "Gl1iu16KmGGR"
      },
      "source": [
        "### Encoding categorical variables of final_train"
      ]
    },
    {
      "cell_type": "code",
      "metadata": {
        "colab": {
          "base_uri": "https://localhost:8080/",
          "height": 0
        },
        "id": "4vNhdxB8mGGR",
        "outputId": "4ac25d29-e47d-4a7f-dd2a-18ee7965e625"
      },
      "source": [
        "#using pd.get_dummies to encode categorical variables in continunous variables and replace the categorical variables.\n",
        "df_train = pd.get_dummies(df_train)\n",
        "df_train.loc[:,['account_type_current','account_type_saving','gender_F','gender_M','income_HIGH','income_LOW','income_MEDIUM','loan_enq_Y']]"
      ],
      "execution_count": 134,
      "outputs": [
        {
          "output_type": "execute_result",
          "data": {
            "text/html": [
              "<div>\n",
              "<style scoped>\n",
              "    .dataframe tbody tr th:only-of-type {\n",
              "        vertical-align: middle;\n",
              "    }\n",
              "\n",
              "    .dataframe tbody tr th {\n",
              "        vertical-align: top;\n",
              "    }\n",
              "\n",
              "    .dataframe thead th {\n",
              "        text-align: right;\n",
              "    }\n",
              "</style>\n",
              "<table border=\"1\" class=\"dataframe\">\n",
              "  <thead>\n",
              "    <tr style=\"text-align: right;\">\n",
              "      <th></th>\n",
              "      <th>account_type_current</th>\n",
              "      <th>account_type_saving</th>\n",
              "      <th>gender_F</th>\n",
              "      <th>gender_M</th>\n",
              "      <th>income_HIGH</th>\n",
              "      <th>income_LOW</th>\n",
              "      <th>income_MEDIUM</th>\n",
              "      <th>loan_enq_Y</th>\n",
              "    </tr>\n",
              "  </thead>\n",
              "  <tbody>\n",
              "    <tr>\n",
              "      <th>104</th>\n",
              "      <td>1</td>\n",
              "      <td>0</td>\n",
              "      <td>0</td>\n",
              "      <td>1</td>\n",
              "      <td>0</td>\n",
              "      <td>0</td>\n",
              "      <td>1</td>\n",
              "      <td>1</td>\n",
              "    </tr>\n",
              "    <tr>\n",
              "      <th>105</th>\n",
              "      <td>1</td>\n",
              "      <td>0</td>\n",
              "      <td>0</td>\n",
              "      <td>1</td>\n",
              "      <td>1</td>\n",
              "      <td>0</td>\n",
              "      <td>0</td>\n",
              "      <td>1</td>\n",
              "    </tr>\n",
              "    <tr>\n",
              "      <th>106</th>\n",
              "      <td>1</td>\n",
              "      <td>0</td>\n",
              "      <td>0</td>\n",
              "      <td>1</td>\n",
              "      <td>0</td>\n",
              "      <td>0</td>\n",
              "      <td>1</td>\n",
              "      <td>1</td>\n",
              "    </tr>\n",
              "    <tr>\n",
              "      <th>107</th>\n",
              "      <td>1</td>\n",
              "      <td>0</td>\n",
              "      <td>1</td>\n",
              "      <td>0</td>\n",
              "      <td>0</td>\n",
              "      <td>0</td>\n",
              "      <td>1</td>\n",
              "      <td>1</td>\n",
              "    </tr>\n",
              "    <tr>\n",
              "      <th>108</th>\n",
              "      <td>1</td>\n",
              "      <td>0</td>\n",
              "      <td>0</td>\n",
              "      <td>1</td>\n",
              "      <td>0</td>\n",
              "      <td>0</td>\n",
              "      <td>1</td>\n",
              "      <td>1</td>\n",
              "    </tr>\n",
              "    <tr>\n",
              "      <th>...</th>\n",
              "      <td>...</td>\n",
              "      <td>...</td>\n",
              "      <td>...</td>\n",
              "      <td>...</td>\n",
              "      <td>...</td>\n",
              "      <td>...</td>\n",
              "      <td>...</td>\n",
              "      <td>...</td>\n",
              "    </tr>\n",
              "    <tr>\n",
              "      <th>15094</th>\n",
              "      <td>1</td>\n",
              "      <td>0</td>\n",
              "      <td>1</td>\n",
              "      <td>0</td>\n",
              "      <td>0</td>\n",
              "      <td>1</td>\n",
              "      <td>0</td>\n",
              "      <td>1</td>\n",
              "    </tr>\n",
              "    <tr>\n",
              "      <th>15095</th>\n",
              "      <td>1</td>\n",
              "      <td>0</td>\n",
              "      <td>0</td>\n",
              "      <td>1</td>\n",
              "      <td>0</td>\n",
              "      <td>0</td>\n",
              "      <td>1</td>\n",
              "      <td>1</td>\n",
              "    </tr>\n",
              "    <tr>\n",
              "      <th>15096</th>\n",
              "      <td>1</td>\n",
              "      <td>0</td>\n",
              "      <td>0</td>\n",
              "      <td>1</td>\n",
              "      <td>0</td>\n",
              "      <td>0</td>\n",
              "      <td>1</td>\n",
              "      <td>1</td>\n",
              "    </tr>\n",
              "    <tr>\n",
              "      <th>15097</th>\n",
              "      <td>1</td>\n",
              "      <td>0</td>\n",
              "      <td>0</td>\n",
              "      <td>1</td>\n",
              "      <td>0</td>\n",
              "      <td>0</td>\n",
              "      <td>1</td>\n",
              "      <td>1</td>\n",
              "    </tr>\n",
              "    <tr>\n",
              "      <th>15098</th>\n",
              "      <td>1</td>\n",
              "      <td>0</td>\n",
              "      <td>0</td>\n",
              "      <td>1</td>\n",
              "      <td>0</td>\n",
              "      <td>0</td>\n",
              "      <td>1</td>\n",
              "      <td>1</td>\n",
              "    </tr>\n",
              "  </tbody>\n",
              "</table>\n",
              "<p>14995 rows × 8 columns</p>\n",
              "</div>"
            ],
            "text/plain": [
              "       account_type_current  account_type_saving  ...  income_MEDIUM  loan_enq_Y\n",
              "104                       1                    0  ...              1           1\n",
              "105                       1                    0  ...              0           1\n",
              "106                       1                    0  ...              1           1\n",
              "107                       1                    0  ...              1           1\n",
              "108                       1                    0  ...              1           1\n",
              "...                     ...                  ...  ...            ...         ...\n",
              "15094                     1                    0  ...              0           1\n",
              "15095                     1                    0  ...              1           1\n",
              "15096                     1                    0  ...              1           1\n",
              "15097                     1                    0  ...              1           1\n",
              "15098                     1                    0  ...              1           1\n",
              "\n",
              "[14995 rows x 8 columns]"
            ]
          },
          "metadata": {},
          "execution_count": 134
        }
      ]
    },
    {
      "cell_type": "markdown",
      "metadata": {
        "id": "5EpbHDX1mGGT"
      },
      "source": [
        "### Outlier Removal"
      ]
    },
    {
      "cell_type": "markdown",
      "metadata": {
        "id": "WZjqqXEkmGGT"
      },
      "source": [
        "To remove outliers we use scipy.stats.mstats.winsorize function.\n",
        "\n",
        "Winsorizing or winsorization is the transformation of statistics by limiting extreme values in the statistical data to reduce the effect of possibly spurious outliers. It is named after the engineer-turned-biostatistician Charles P. Winsor (1895–1951)\n"
      ]
    },
    {
      "cell_type": "code",
      "metadata": {
        "id": "xMZt3TaTmGGT"
      },
      "source": [
        "#outlier removal with limits:\n",
        "#     lower limit: 5% of range\n",
        "#     upper limit: 95% of range\n",
        "from scipy.stats import mstats\n",
        "\n",
        "for x in df_train.columns:\n",
        "    df_train[x] = mstats.winsorize(df_train[x], limits=[0.05, 0.05])"
      ],
      "execution_count": 135,
      "outputs": []
    },
    {
      "cell_type": "markdown",
      "metadata": {
        "id": "njC5pNtsmGGU"
      },
      "source": [
        "## applying the same aboe steps of missing value removal and outlier imputation to df_predict"
      ]
    },
    {
      "cell_type": "code",
      "metadata": {
        "colab": {
          "base_uri": "https://localhost:8080/",
          "height": 0
        },
        "id": "jfUEuHdlmGGV",
        "outputId": "e59ac283-aa1c-4a0b-961d-459c31f7a822"
      },
      "source": [
        "df_predict = pd.get_dummies(df_predict)\n",
        "df_predict.loc[:,['account_type_current','account_type_saving','gender_F','gender_M','income_HIGH','income_LOW','income_MEDIUM','loan_enq_Y']]"
      ],
      "execution_count": 136,
      "outputs": [
        {
          "output_type": "execute_result",
          "data": {
            "text/html": [
              "<div>\n",
              "<style scoped>\n",
              "    .dataframe tbody tr th:only-of-type {\n",
              "        vertical-align: middle;\n",
              "    }\n",
              "\n",
              "    .dataframe tbody tr th {\n",
              "        vertical-align: top;\n",
              "    }\n",
              "\n",
              "    .dataframe thead th {\n",
              "        text-align: right;\n",
              "    }\n",
              "</style>\n",
              "<table border=\"1\" class=\"dataframe\">\n",
              "  <thead>\n",
              "    <tr style=\"text-align: right;\">\n",
              "      <th></th>\n",
              "      <th>account_type_current</th>\n",
              "      <th>account_type_saving</th>\n",
              "      <th>gender_F</th>\n",
              "      <th>gender_M</th>\n",
              "      <th>income_HIGH</th>\n",
              "      <th>income_LOW</th>\n",
              "      <th>income_MEDIUM</th>\n",
              "      <th>loan_enq_Y</th>\n",
              "    </tr>\n",
              "  </thead>\n",
              "  <tbody>\n",
              "    <tr>\n",
              "      <th>0</th>\n",
              "      <td>1</td>\n",
              "      <td>0</td>\n",
              "      <td>0</td>\n",
              "      <td>1</td>\n",
              "      <td>0</td>\n",
              "      <td>0</td>\n",
              "      <td>1</td>\n",
              "      <td>1</td>\n",
              "    </tr>\n",
              "    <tr>\n",
              "      <th>1</th>\n",
              "      <td>1</td>\n",
              "      <td>0</td>\n",
              "      <td>0</td>\n",
              "      <td>1</td>\n",
              "      <td>0</td>\n",
              "      <td>0</td>\n",
              "      <td>1</td>\n",
              "      <td>1</td>\n",
              "    </tr>\n",
              "    <tr>\n",
              "      <th>2</th>\n",
              "      <td>1</td>\n",
              "      <td>0</td>\n",
              "      <td>1</td>\n",
              "      <td>0</td>\n",
              "      <td>0</td>\n",
              "      <td>0</td>\n",
              "      <td>1</td>\n",
              "      <td>1</td>\n",
              "    </tr>\n",
              "    <tr>\n",
              "      <th>3</th>\n",
              "      <td>1</td>\n",
              "      <td>0</td>\n",
              "      <td>0</td>\n",
              "      <td>1</td>\n",
              "      <td>0</td>\n",
              "      <td>0</td>\n",
              "      <td>1</td>\n",
              "      <td>1</td>\n",
              "    </tr>\n",
              "    <tr>\n",
              "      <th>4</th>\n",
              "      <td>1</td>\n",
              "      <td>0</td>\n",
              "      <td>0</td>\n",
              "      <td>1</td>\n",
              "      <td>1</td>\n",
              "      <td>0</td>\n",
              "      <td>0</td>\n",
              "      <td>1</td>\n",
              "    </tr>\n",
              "    <tr>\n",
              "      <th>...</th>\n",
              "      <td>...</td>\n",
              "      <td>...</td>\n",
              "      <td>...</td>\n",
              "      <td>...</td>\n",
              "      <td>...</td>\n",
              "      <td>...</td>\n",
              "      <td>...</td>\n",
              "      <td>...</td>\n",
              "    </tr>\n",
              "    <tr>\n",
              "      <th>19983</th>\n",
              "      <td>1</td>\n",
              "      <td>0</td>\n",
              "      <td>1</td>\n",
              "      <td>0</td>\n",
              "      <td>0</td>\n",
              "      <td>0</td>\n",
              "      <td>1</td>\n",
              "      <td>1</td>\n",
              "    </tr>\n",
              "    <tr>\n",
              "      <th>19984</th>\n",
              "      <td>1</td>\n",
              "      <td>0</td>\n",
              "      <td>0</td>\n",
              "      <td>1</td>\n",
              "      <td>0</td>\n",
              "      <td>0</td>\n",
              "      <td>1</td>\n",
              "      <td>1</td>\n",
              "    </tr>\n",
              "    <tr>\n",
              "      <th>19985</th>\n",
              "      <td>1</td>\n",
              "      <td>0</td>\n",
              "      <td>1</td>\n",
              "      <td>0</td>\n",
              "      <td>0</td>\n",
              "      <td>0</td>\n",
              "      <td>1</td>\n",
              "      <td>1</td>\n",
              "    </tr>\n",
              "    <tr>\n",
              "      <th>19986</th>\n",
              "      <td>1</td>\n",
              "      <td>0</td>\n",
              "      <td>0</td>\n",
              "      <td>1</td>\n",
              "      <td>0</td>\n",
              "      <td>1</td>\n",
              "      <td>0</td>\n",
              "      <td>1</td>\n",
              "    </tr>\n",
              "    <tr>\n",
              "      <th>19987</th>\n",
              "      <td>1</td>\n",
              "      <td>0</td>\n",
              "      <td>1</td>\n",
              "      <td>0</td>\n",
              "      <td>0</td>\n",
              "      <td>1</td>\n",
              "      <td>0</td>\n",
              "      <td>1</td>\n",
              "    </tr>\n",
              "  </tbody>\n",
              "</table>\n",
              "<p>4993 rows × 8 columns</p>\n",
              "</div>"
            ],
            "text/plain": [
              "       account_type_current  account_type_saving  ...  income_MEDIUM  loan_enq_Y\n",
              "0                         1                    0  ...              1           1\n",
              "1                         1                    0  ...              1           1\n",
              "2                         1                    0  ...              1           1\n",
              "3                         1                    0  ...              1           1\n",
              "4                         1                    0  ...              0           1\n",
              "...                     ...                  ...  ...            ...         ...\n",
              "19983                     1                    0  ...              1           1\n",
              "19984                     1                    0  ...              1           1\n",
              "19985                     1                    0  ...              1           1\n",
              "19986                     1                    0  ...              0           1\n",
              "19987                     1                    0  ...              0           1\n",
              "\n",
              "[4993 rows x 8 columns]"
            ]
          },
          "metadata": {},
          "execution_count": 136
        }
      ]
    },
    {
      "cell_type": "code",
      "metadata": {
        "id": "D6CUxnrPmGGV"
      },
      "source": [
        "for x in df_predict.columns:\n",
        "    df_predict[x] = mstats.winsorize(df_predict[x], limits=[0.05, 0.05])"
      ],
      "execution_count": 137,
      "outputs": []
    },
    {
      "cell_type": "markdown",
      "metadata": {
        "id": "Cnq6De5xmGGW"
      },
      "source": [
        "### Standardization"
      ]
    },
    {
      "cell_type": "code",
      "metadata": {
        "id": "oOA-XULnmGGY"
      },
      "source": [
        ""
      ],
      "execution_count": 137,
      "outputs": []
    },
    {
      "cell_type": "code",
      "metadata": {
        "id": "mIVV3y50mGGY"
      },
      "source": [
        ""
      ],
      "execution_count": 137,
      "outputs": []
    },
    {
      "cell_type": "code",
      "metadata": {
        "id": "nn5t92JmmGGY"
      },
      "source": [
        ""
      ],
      "execution_count": 137,
      "outputs": []
    },
    {
      "cell_type": "markdown",
      "metadata": {
        "id": "MkvPUlz9mGGY"
      },
      "source": [
        "## Implementing a linear regression model"
      ]
    },
    {
      "cell_type": "code",
      "metadata": {
        "id": "s1k5Y-xa3otr"
      },
      "source": [
        "##df_train.columns.difference(['cc_cons_target'])"
      ],
      "execution_count": null,
      "outputs": []
    },
    {
      "cell_type": "markdown",
      "metadata": {
        "id": "SCOguuwpmGGZ"
      },
      "source": [
        "### Splitting x and y teach data into train and test data for model building and model testing"
      ]
    },
    {
      "cell_type": "code",
      "metadata": {
        "id": "6y0bLIibmGGa"
      },
      "source": [
        "df_train_x = df_train[df_train.columns.difference(['cc_cons_target'])]\n",
        "df_train_y = df_train[['cc_cons_target']]\n",
        "\n",
        "\n",
        "x_train, x_test, y_train, y_test = train_test_split(df_train_x, df_train_y, test_size=0.25, random_state=72)"
      ],
      "execution_count": 141,
      "outputs": []
    },
    {
      "cell_type": "markdown",
      "metadata": {
        "id": "EtVcK0N4N05z"
      },
      "source": [
        "### Scaling Data\n"
      ]
    },
    {
      "cell_type": "code",
      "metadata": {
        "colab": {
          "base_uri": "https://localhost:8080/"
        },
        "id": "2Kni6Fe8mGGW",
        "outputId": "3e9a1e04-4568-49d3-9966-12e70b80f9e7"
      },
      "source": [
        "# from sklearn.preprocessing import LabelEncoder,MinMaxScaler,StandardScaler\n",
        "\n",
        "\n",
        "# scaler = StandardScaler()\n",
        "# X = scaler.fit_transform(x_train)\n",
        "# x_train = pd.DataFrame(X, columns=x_train.columns)\n",
        "\n",
        "# x_train\n",
        "\n",
        "# sqrt of whole dataset\n",
        "np.log(x_train)\n",
        "\n",
        "\n",
        "# for x in x_train.columns:\n",
        "#   if x_train[x].mean() > 1000:\n",
        "#     x_train[x]=np.log(x_train[x])"
      ],
      "execution_count": 156,
      "outputs": [
        {
          "output_type": "stream",
          "text": [
            "/usr/local/lib/python3.7/dist-packages/ipykernel_launcher.py:14: SettingWithCopyWarning: \n",
            "A value is trying to be set on a copy of a slice from a DataFrame.\n",
            "Try using .loc[row_indexer,col_indexer] = value instead\n",
            "\n",
            "See the caveats in the documentation: https://pandas.pydata.org/pandas-docs/stable/user_guide/indexing.html#returning-a-view-versus-a-copy\n",
            "  \n"
          ],
          "name": "stderr"
        }
      ]
    },
    {
      "cell_type": "code",
      "metadata": {
        "id": "YN4TDhGT5Hd1"
      },
      "source": [
        "y_train = np.log(y_train)\n",
        "y_test = np.log(y_test)"
      ],
      "execution_count": 163,
      "outputs": []
    },
    {
      "cell_type": "code",
      "metadata": {
        "id": "Hregwr9N9-z8"
      },
      "source": [
        ""
      ],
      "execution_count": null,
      "outputs": []
    },
    {
      "cell_type": "markdown",
      "metadata": {
        "id": "_z8scdQkmGGa"
      },
      "source": [
        "### RFE and selecting features"
      ]
    },
    {
      "cell_type": "code",
      "metadata": {
        "colab": {
          "base_uri": "https://localhost:8080/",
          "height": 168
        },
        "id": "slg_vU3HmGGa",
        "outputId": "1a1ec2e2-c13d-467d-dbdc-940f6cffc9bc"
      },
      "source": [
        "from sklearn.tree import DecisionTreeRegressor\n",
        "dt_reg = DecisionTreeRegressor(random_state=0)\n",
        "\n",
        "lr = LinearRegression()\n",
        "rfe = RFE(estimator=dt_reg, n_features_to_select=10)\n",
        "rfe.fit(x_train, y_train)\n",
        "\n",
        "rfe.ranking_\n",
        "\n",
        "\n",
        "# selecting features given by RFE\n",
        "f = rfe.get_support(1) #the most important features\n",
        "x_train_select = x_train[x_train.columns[f]] # final features`\n",
        "x_train_select.head(2)"
      ],
      "execution_count": 162,
      "outputs": [
        {
          "output_type": "stream",
          "text": [
            "/usr/local/lib/python3.7/dist-packages/sklearn/utils/validation.py:760: DataConversionWarning: A column-vector y was passed when a 1d array was expected. Please change the shape of y to (n_samples, ), for example using ravel().\n",
            "  y = column_or_1d(y, warn=True)\n"
          ],
          "name": "stderr"
        },
        {
          "output_type": "execute_result",
          "data": {
            "text/html": [
              "<div>\n",
              "<style scoped>\n",
              "    .dataframe tbody tr th:only-of-type {\n",
              "        vertical-align: middle;\n",
              "    }\n",
              "\n",
              "    .dataframe tbody tr th {\n",
              "        vertical-align: top;\n",
              "    }\n",
              "\n",
              "    .dataframe thead th {\n",
              "        text-align: right;\n",
              "    }\n",
              "</style>\n",
              "<table border=\"1\" class=\"dataframe\">\n",
              "  <thead>\n",
              "    <tr style=\"text-align: right;\">\n",
              "      <th></th>\n",
              "      <th>Total_credit_amount</th>\n",
              "      <th>Total_max_credit_acmout</th>\n",
              "      <th>card_lim</th>\n",
              "      <th>creditcard_exp</th>\n",
              "      <th>customer_id</th>\n",
              "      <th>debitcard_exp</th>\n",
              "      <th>emi_active</th>\n",
              "      <th>emp_tenure_years</th>\n",
              "      <th>investment</th>\n",
              "      <th>region_code</th>\n",
              "    </tr>\n",
              "  </thead>\n",
              "  <tbody>\n",
              "    <tr>\n",
              "      <th>8517</th>\n",
              "      <td>12.078381</td>\n",
              "      <td>11.946835</td>\n",
              "      <td>11.512925</td>\n",
              "      <td>10.231765</td>\n",
              "      <td>9.761463</td>\n",
              "      <td>9.731987</td>\n",
              "      <td>6.947457</td>\n",
              "      <td>20.0</td>\n",
              "      <td>14.227394</td>\n",
              "      <td>799.0</td>\n",
              "    </tr>\n",
              "    <tr>\n",
              "      <th>665</th>\n",
              "      <td>12.202504</td>\n",
              "      <td>12.197637</td>\n",
              "      <td>13.186277</td>\n",
              "      <td>10.168080</td>\n",
              "      <td>9.725556</td>\n",
              "      <td>8.923991</td>\n",
              "      <td>8.986941</td>\n",
              "      <td>10.8</td>\n",
              "      <td>13.316346</td>\n",
              "      <td>685.0</td>\n",
              "    </tr>\n",
              "  </tbody>\n",
              "</table>\n",
              "</div>"
            ],
            "text/plain": [
              "      Total_credit_amount  Total_max_credit_acmout  ...  investment  region_code\n",
              "8517            12.078381                11.946835  ...   14.227394        799.0\n",
              "665             12.202504                12.197637  ...   13.316346        685.0\n",
              "\n",
              "[2 rows x 10 columns]"
            ]
          },
          "metadata": {},
          "execution_count": 162
        }
      ]
    },
    {
      "cell_type": "code",
      "metadata": {
        "colab": {
          "base_uri": "https://localhost:8080/",
          "height": 132
        },
        "id": "7rGxBJGkmGGa",
        "outputId": "08c69ba0-0c8a-4052-9dd9-f8c5e1225a3b"
      },
      "source": [
        "#selecting the same features in test data\n",
        "x_test_select = x_test[x_test.columns[f]]\n",
        "x_test_select.head(2)"
      ],
      "execution_count": 164,
      "outputs": [
        {
          "output_type": "execute_result",
          "data": {
            "text/html": [
              "<div>\n",
              "<style scoped>\n",
              "    .dataframe tbody tr th:only-of-type {\n",
              "        vertical-align: middle;\n",
              "    }\n",
              "\n",
              "    .dataframe tbody tr th {\n",
              "        vertical-align: top;\n",
              "    }\n",
              "\n",
              "    .dataframe thead th {\n",
              "        text-align: right;\n",
              "    }\n",
              "</style>\n",
              "<table border=\"1\" class=\"dataframe\">\n",
              "  <thead>\n",
              "    <tr style=\"text-align: right;\">\n",
              "      <th></th>\n",
              "      <th>Total_credit_amount</th>\n",
              "      <th>Total_max_credit_acmout</th>\n",
              "      <th>card_lim</th>\n",
              "      <th>creditcard_exp</th>\n",
              "      <th>customer_id</th>\n",
              "      <th>debitcard_exp</th>\n",
              "      <th>emi_active</th>\n",
              "      <th>emp_tenure_years</th>\n",
              "      <th>investment</th>\n",
              "      <th>region_code</th>\n",
              "    </tr>\n",
              "  </thead>\n",
              "  <tbody>\n",
              "    <tr>\n",
              "      <th>6853</th>\n",
              "      <td>203388.25</td>\n",
              "      <td>223559.11</td>\n",
              "      <td>327000</td>\n",
              "      <td>31761.18</td>\n",
              "      <td>10825</td>\n",
              "      <td>22614.60</td>\n",
              "      <td>4271.29</td>\n",
              "      <td>13.5</td>\n",
              "      <td>205673.25</td>\n",
              "      <td>867.0</td>\n",
              "    </tr>\n",
              "    <tr>\n",
              "      <th>1323</th>\n",
              "      <td>315668.77</td>\n",
              "      <td>91587.00</td>\n",
              "      <td>510000</td>\n",
              "      <td>105645.91</td>\n",
              "      <td>1043</td>\n",
              "      <td>42194.54</td>\n",
              "      <td>6141.61</td>\n",
              "      <td>10.5</td>\n",
              "      <td>409703.00</td>\n",
              "      <td>249.0</td>\n",
              "    </tr>\n",
              "  </tbody>\n",
              "</table>\n",
              "</div>"
            ],
            "text/plain": [
              "      Total_credit_amount  Total_max_credit_acmout  ...  investment  region_code\n",
              "6853            203388.25                223559.11  ...   205673.25        867.0\n",
              "1323            315668.77                 91587.00  ...   409703.00        249.0\n",
              "\n",
              "[2 rows x 10 columns]"
            ]
          },
          "metadata": {},
          "execution_count": 164
        }
      ]
    },
    {
      "cell_type": "markdown",
      "metadata": {
        "id": "pw586_fv6apo"
      },
      "source": [
        "### Select k best - not used\n"
      ]
    },
    {
      "cell_type": "code",
      "metadata": {
        "id": "-sw7rBEi6fp0",
        "outputId": "aef212c4-74ad-485f-e6ab-670042aad321",
        "colab": {
          "base_uri": "https://localhost:8080/"
        }
      },
      "source": [
        "from sklearn.feature_selection import SelectKBest, f_regression\n",
        "\n",
        "x_train_select = SelectKBest(f_regression, k=5).fit_transform(x_train, y_train)\n",
        "x_train_select.shape\n"
      ],
      "execution_count": 54,
      "outputs": [
        {
          "output_type": "stream",
          "text": [
            "/usr/local/lib/python3.7/dist-packages/sklearn/utils/validation.py:760: DataConversionWarning: A column-vector y was passed when a 1d array was expected. Please change the shape of y to (n_samples, ), for example using ravel().\n",
            "  y = column_or_1d(y, warn=True)\n"
          ],
          "name": "stderr"
        },
        {
          "output_type": "execute_result",
          "data": {
            "text/plain": [
              "(11246, 5)"
            ]
          },
          "metadata": {},
          "execution_count": 54
        }
      ]
    },
    {
      "cell_type": "code",
      "metadata": {
        "id": "C424TLM06fm9"
      },
      "source": [
        ""
      ],
      "execution_count": 54,
      "outputs": []
    },
    {
      "cell_type": "code",
      "metadata": {
        "id": "WkeMfHEBQwu3"
      },
      "source": [
        ""
      ],
      "execution_count": 54,
      "outputs": []
    },
    {
      "cell_type": "markdown",
      "metadata": {
        "id": "xBk3tLrQK-qt"
      },
      "source": [
        "### OLS regression"
      ]
    },
    {
      "cell_type": "code",
      "metadata": {
        "id": "m529qW9r6fND",
        "outputId": "8f5128b0-246d-4000-e45d-3d46b78531ca",
        "colab": {
          "base_uri": "https://localhost:8080/"
        }
      },
      "source": [
        "### OLS regression\n",
        "import statsmodels.api as sm\n",
        "# y_train = y_train.reindex(x_train.index)\n",
        "mod = sm.OLS(y_train,x_train_select)\n",
        "\n",
        "res = mod.fit()\n",
        "\n",
        "print(res.summary())\n",
        "\n",
        "\n",
        "\n",
        "#best ols results with np.log(y_train) and rfe with DTreg features = 10\n",
        "#best ols results with np.log(y_train) and rfe with DTreg features = 15"
      ],
      "execution_count": 165,
      "outputs": [
        {
          "output_type": "stream",
          "text": [
            "                                 OLS Regression Results                                \n",
            "=======================================================================================\n",
            "Dep. Variable:         cc_cons_target   R-squared (uncentered):                   0.995\n",
            "Model:                            OLS   Adj. R-squared (uncentered):              0.995\n",
            "Method:                 Least Squares   F-statistic:                          2.269e+05\n",
            "Date:                Fri, 20 Aug 2021   Prob (F-statistic):                        0.00\n",
            "Time:                        14:25:05   Log-Likelihood:                          4725.6\n",
            "No. Observations:               11246   AIC:                                     -9431.\n",
            "Df Residuals:                   11236   BIC:                                     -9358.\n",
            "Df Model:                          10                                                  \n",
            "Covariance Type:            nonrobust                                                  \n",
            "===========================================================================================\n",
            "                              coef    std err          t      P>|t|      [0.025      0.975]\n",
            "-------------------------------------------------------------------------------------------\n",
            "Total_credit_amount         0.0452      0.002     20.024      0.000       0.041       0.050\n",
            "Total_max_credit_acmout     0.0474      0.002     19.758      0.000       0.043       0.052\n",
            "card_lim                    0.0172      0.002     10.825      0.000       0.014       0.020\n",
            "creditcard_exp              0.0319      0.002     14.931      0.000       0.028       0.036\n",
            "customer_id                 0.0168      0.002      9.548      0.000       0.013       0.020\n",
            "debitcard_exp               0.0227      0.002     11.399      0.000       0.019       0.027\n",
            "emi_active                  0.0067      0.001      6.166      0.000       0.005       0.009\n",
            "emp_tenure_years        -3.433e-05      0.000     -0.245      0.807      -0.000       0.000\n",
            "investment                  0.0146      0.001     11.116      0.000       0.012       0.017\n",
            "region_code              2.993e-06   6.93e-06      0.432      0.666   -1.06e-05    1.66e-05\n",
            "==============================================================================\n",
            "Omnibus:                      102.654   Durbin-Watson:                   1.990\n",
            "Prob(Omnibus):                  0.000   Jarque-Bera (JB):               92.019\n",
            "Skew:                           0.176   Prob(JB):                     1.04e-20\n",
            "Kurtosis:                       2.730   Cond. No.                     1.15e+03\n",
            "==============================================================================\n",
            "\n",
            "Warnings:\n",
            "[1] Standard Errors assume that the covariance matrix of the errors is correctly specified.\n",
            "[2] The condition number is large, 1.15e+03. This might indicate that there are\n",
            "strong multicollinearity or other numerical problems.\n"
          ],
          "name": "stdout"
        }
      ]
    },
    {
      "cell_type": "markdown",
      "metadata": {
        "id": "fayFesOPmGGa"
      },
      "source": [
        "### Applying liner regresssion on selected features"
      ]
    },
    {
      "cell_type": "code",
      "metadata": {
        "colab": {
          "base_uri": "https://localhost:8080/"
        },
        "id": "EPH8c312mGGb",
        "outputId": "9fb63041-fff6-4b47-ab49-188285eae685"
      },
      "source": [
        "lr = LinearRegression()\n",
        "# training the linear regression model on x_train_select and y_train \n",
        "lr.fit(x_train_select, y_train.iloc[:,0])\n",
        "\n",
        "# predicting the values of x_train_select and storing them in y_hat_train\n",
        "y_hat_train = np.log(lr.predict(x_train_select))\n",
        "\n",
        "## Checking the accuracy of the train data predictions\n",
        "#This is a value between [0 = no-fit] and [1 = perfect fit ]\n",
        "r_sq = met.r2_score(y_pred=y_hat_train,y_true= y_train.iloc[:,0])\n",
        "print('The accuracy of the model in r^2 :',r_sq)\n",
        "\n",
        "\n",
        "#mae\n",
        "mae = met.mean_absolute_error(y_pred=y_hat_train,y_true= y_train)\n",
        "print('The accuracy of the model in mae :',mae)\n",
        "\n",
        "\n",
        "# #MAPE\n",
        "# y_diff = y_hat_train - y_train\n",
        "# # y_diff  = np.abs(y_diff)/np.max(y_train)#/ np.maximum(np.abs(y_diff))\n",
        "\n",
        "# maperror = (np.sum(np.abs((y_hat_train - y_train))/y_train))/y_train.count()*100\n",
        "# print('The accuracy of the model in mape:',maperror,'%')\n",
        "\n"
      ],
      "execution_count": 166,
      "outputs": [
        {
          "output_type": "stream",
          "text": [
            "The accuracy of the model in r^2 : -92.4089811295283\n",
            "The accuracy of the model in mae : 1.444292945834555\n"
          ],
          "name": "stdout"
        }
      ]
    },
    {
      "cell_type": "markdown",
      "metadata": {
        "id": "D014tPwwmGGc"
      },
      "source": [
        "### Predicting the values for test dataset and checking the accuracy of the model"
      ]
    },
    {
      "cell_type": "code",
      "metadata": {
        "colab": {
          "base_uri": "https://localhost:8080/"
        },
        "id": "wNwu1l1vmGGd",
        "outputId": "c35e40e1-e375-4a73-d7ef-fde505267dc3"
      },
      "source": [
        "y_hat_test = lr.predict(x_test_select)\n",
        "\n",
        "# checking the accuracy of test_data predictions\n",
        "r_sq = met.r2_score(y_pred=y_hat_test, y_true= y_test)\n",
        "print('The accuracy of the model in r^2 :',r_sq)\n",
        "\n",
        "met.mean_squared_error(y_pred=y_hat_test, y_true= y_test)\n",
        "\n",
        "# mae = met.mean_absolute_error(y_pred=y_hat_test,y_true= y_test)\n",
        "\n",
        "# # #mape calculations\n",
        "# y_diff = y_test - y_hat_test\n",
        "# y_diff  = np.abs(y_diff)/np.abs(y_test)\n",
        "# print('The accuracy of the model in mape:',np.average(y_diff)*100,'%')\n",
        "\n",
        "# print('The accuracy of the model in mae :',mae)"
      ],
      "execution_count": 168,
      "outputs": [
        {
          "output_type": "stream",
          "text": [
            "The accuracy of the model in r^2 : -443674.9410112742\n"
          ],
          "name": "stdout"
        },
        {
          "output_type": "execute_result",
          "data": {
            "text/plain": [
              "998229.9467211296"
            ]
          },
          "metadata": {},
          "execution_count": 168
        }
      ]
    },
    {
      "cell_type": "code",
      "metadata": {
        "collapsed": true,
        "id": "IKAhMGGMOyAZ",
        "outputId": "1a694e3f-1b78-4eb0-e977-88794daab80a",
        "colab": {
          "base_uri": "https://localhost:8080/",
          "height": 323
        }
      },
      "source": [
        "(np.sum(np.abs((y_hat_train - y_train))/y_train))/y_train.count()"
      ],
      "execution_count": 63,
      "outputs": [
        {
          "output_type": "error",
          "ename": "ValueError",
          "evalue": "ignored",
          "traceback": [
            "\u001b[0;31m---------------------------------------------------------------------------\u001b[0m",
            "\u001b[0;31mValueError\u001b[0m                                Traceback (most recent call last)",
            "\u001b[0;32m<ipython-input-63-3d9d9aed7687>\u001b[0m in \u001b[0;36m<module>\u001b[0;34m()\u001b[0m\n\u001b[0;32m----> 1\u001b[0;31m \u001b[0;34m(\u001b[0m\u001b[0mnp\u001b[0m\u001b[0;34m.\u001b[0m\u001b[0msum\u001b[0m\u001b[0;34m(\u001b[0m\u001b[0mnp\u001b[0m\u001b[0;34m.\u001b[0m\u001b[0mabs\u001b[0m\u001b[0;34m(\u001b[0m\u001b[0;34m(\u001b[0m\u001b[0my_hat_train\u001b[0m \u001b[0;34m-\u001b[0m \u001b[0my_train\u001b[0m\u001b[0;34m)\u001b[0m\u001b[0;34m)\u001b[0m\u001b[0;34m/\u001b[0m\u001b[0my_train\u001b[0m\u001b[0;34m)\u001b[0m\u001b[0;34m)\u001b[0m\u001b[0;34m/\u001b[0m\u001b[0my_train\u001b[0m\u001b[0;34m.\u001b[0m\u001b[0mcount\u001b[0m\u001b[0;34m(\u001b[0m\u001b[0;34m)\u001b[0m\u001b[0;34m\u001b[0m\u001b[0;34m\u001b[0m\u001b[0m\n\u001b[0m",
            "\u001b[0;32m/usr/local/lib/python3.7/dist-packages/pandas/core/ops/__init__.py\u001b[0m in \u001b[0;36mf\u001b[0;34m(self, other, axis, level, fill_value)\u001b[0m\n\u001b[1;32m    649\u001b[0m         \u001b[0;31m# TODO: why are we passing flex=True instead of flex=not special?\u001b[0m\u001b[0;34m\u001b[0m\u001b[0;34m\u001b[0m\u001b[0;34m\u001b[0m\u001b[0m\n\u001b[1;32m    650\u001b[0m         \u001b[0;31m#  15 tests fail if we pass flex=not special instead\u001b[0m\u001b[0;34m\u001b[0m\u001b[0;34m\u001b[0m\u001b[0;34m\u001b[0m\u001b[0m\n\u001b[0;32m--> 651\u001b[0;31m         \u001b[0mself\u001b[0m\u001b[0;34m,\u001b[0m \u001b[0mother\u001b[0m \u001b[0;34m=\u001b[0m \u001b[0m_align_method_FRAME\u001b[0m\u001b[0;34m(\u001b[0m\u001b[0mself\u001b[0m\u001b[0;34m,\u001b[0m \u001b[0mother\u001b[0m\u001b[0;34m,\u001b[0m \u001b[0maxis\u001b[0m\u001b[0;34m,\u001b[0m \u001b[0mflex\u001b[0m\u001b[0;34m=\u001b[0m\u001b[0;32mTrue\u001b[0m\u001b[0;34m,\u001b[0m \u001b[0mlevel\u001b[0m\u001b[0;34m=\u001b[0m\u001b[0mlevel\u001b[0m\u001b[0;34m)\u001b[0m\u001b[0;34m\u001b[0m\u001b[0;34m\u001b[0m\u001b[0m\n\u001b[0m\u001b[1;32m    652\u001b[0m \u001b[0;34m\u001b[0m\u001b[0m\n\u001b[1;32m    653\u001b[0m         \u001b[0;32mif\u001b[0m \u001b[0misinstance\u001b[0m\u001b[0;34m(\u001b[0m\u001b[0mother\u001b[0m\u001b[0;34m,\u001b[0m \u001b[0mABCDataFrame\u001b[0m\u001b[0;34m)\u001b[0m\u001b[0;34m:\u001b[0m\u001b[0;34m\u001b[0m\u001b[0;34m\u001b[0m\u001b[0m\n",
            "\u001b[0;32m/usr/local/lib/python3.7/dist-packages/pandas/core/ops/__init__.py\u001b[0m in \u001b[0;36m_align_method_FRAME\u001b[0;34m(left, right, axis, flex, level)\u001b[0m\n\u001b[1;32m    472\u001b[0m \u001b[0;34m\u001b[0m\u001b[0m\n\u001b[1;32m    473\u001b[0m         \u001b[0;32mif\u001b[0m \u001b[0mright\u001b[0m\u001b[0;34m.\u001b[0m\u001b[0mndim\u001b[0m \u001b[0;34m==\u001b[0m \u001b[0;36m1\u001b[0m\u001b[0;34m:\u001b[0m\u001b[0;34m\u001b[0m\u001b[0;34m\u001b[0m\u001b[0m\n\u001b[0;32m--> 474\u001b[0;31m             \u001b[0mright\u001b[0m \u001b[0;34m=\u001b[0m \u001b[0mto_series\u001b[0m\u001b[0;34m(\u001b[0m\u001b[0mright\u001b[0m\u001b[0;34m)\u001b[0m\u001b[0;34m\u001b[0m\u001b[0;34m\u001b[0m\u001b[0m\n\u001b[0m\u001b[1;32m    475\u001b[0m \u001b[0;34m\u001b[0m\u001b[0m\n\u001b[1;32m    476\u001b[0m         \u001b[0;32melif\u001b[0m \u001b[0mright\u001b[0m\u001b[0;34m.\u001b[0m\u001b[0mndim\u001b[0m \u001b[0;34m==\u001b[0m \u001b[0;36m2\u001b[0m\u001b[0;34m:\u001b[0m\u001b[0;34m\u001b[0m\u001b[0;34m\u001b[0m\u001b[0m\n",
            "\u001b[0;32m/usr/local/lib/python3.7/dist-packages/pandas/core/ops/__init__.py\u001b[0m in \u001b[0;36mto_series\u001b[0;34m(right)\u001b[0m\n\u001b[1;32m    464\u001b[0m             \u001b[0;32mif\u001b[0m \u001b[0mlen\u001b[0m\u001b[0;34m(\u001b[0m\u001b[0mleft\u001b[0m\u001b[0;34m.\u001b[0m\u001b[0mcolumns\u001b[0m\u001b[0;34m)\u001b[0m \u001b[0;34m!=\u001b[0m \u001b[0mlen\u001b[0m\u001b[0;34m(\u001b[0m\u001b[0mright\u001b[0m\u001b[0;34m)\u001b[0m\u001b[0;34m:\u001b[0m\u001b[0;34m\u001b[0m\u001b[0;34m\u001b[0m\u001b[0m\n\u001b[1;32m    465\u001b[0m                 raise ValueError(\n\u001b[0;32m--> 466\u001b[0;31m                     \u001b[0mmsg\u001b[0m\u001b[0;34m.\u001b[0m\u001b[0mformat\u001b[0m\u001b[0;34m(\u001b[0m\u001b[0mreq_len\u001b[0m\u001b[0;34m=\u001b[0m\u001b[0mlen\u001b[0m\u001b[0;34m(\u001b[0m\u001b[0mleft\u001b[0m\u001b[0;34m.\u001b[0m\u001b[0mcolumns\u001b[0m\u001b[0;34m)\u001b[0m\u001b[0;34m,\u001b[0m \u001b[0mgiven_len\u001b[0m\u001b[0;34m=\u001b[0m\u001b[0mlen\u001b[0m\u001b[0;34m(\u001b[0m\u001b[0mright\u001b[0m\u001b[0;34m)\u001b[0m\u001b[0;34m)\u001b[0m\u001b[0;34m\u001b[0m\u001b[0;34m\u001b[0m\u001b[0m\n\u001b[0m\u001b[1;32m    467\u001b[0m                 )\n\u001b[1;32m    468\u001b[0m             \u001b[0mright\u001b[0m \u001b[0;34m=\u001b[0m \u001b[0mleft\u001b[0m\u001b[0;34m.\u001b[0m\u001b[0m_constructor_sliced\u001b[0m\u001b[0;34m(\u001b[0m\u001b[0mright\u001b[0m\u001b[0;34m,\u001b[0m \u001b[0mindex\u001b[0m\u001b[0;34m=\u001b[0m\u001b[0mleft\u001b[0m\u001b[0;34m.\u001b[0m\u001b[0mcolumns\u001b[0m\u001b[0;34m)\u001b[0m\u001b[0;34m\u001b[0m\u001b[0;34m\u001b[0m\u001b[0m\n",
            "\u001b[0;31mValueError\u001b[0m: Unable to coerce to Series, length must be 1: given 11246"
          ]
        }
      ]
    }
  ]
}