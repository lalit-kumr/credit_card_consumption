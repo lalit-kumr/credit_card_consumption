{
  "nbformat": 4,
  "nbformat_minor": 0,
  "metadata": {
    "kernelspec": {
      "display_name": "Python 3",
      "language": "python",
      "name": "python3"
    },
    "language_info": {
      "codemirror_mode": {
        "name": "ipython",
        "version": 3
      },
      "file_extension": ".py",
      "mimetype": "text/x-python",
      "name": "python",
      "nbconvert_exporter": "python",
      "pygments_lexer": "ipython3",
      "version": "3.8.5"
    },
    "colab": {
      "name": "11. Capstone Case Study - Predict Cred Card Consumption.ipynb",
      "provenance": []
    }
  },
  "cells": [
    {
      "cell_type": "code",
      "metadata": {
        "id": "zxsHzBZZmGF1"
      },
      "source": [
        "import pandas as pd\n",
        "import numpy as np\n",
        "import matplotlib.pyplot as plt\n",
        "import seaborn as sns\n",
        "\n",
        "from pandas_profiling import ProfileReport\n",
        "\n",
        "from sklearn.model_selection import train_test_split\n",
        "from sklearn.linear_model import LinearRegression\n",
        "import sklearn.metrics as met\n",
        "from sklearn.preprocessing import OneHotEncoder\n",
        "from sklearn.feature_selection import RFE\n",
        "\n",
        "from scipy import stats"
      ],
      "execution_count": null,
      "outputs": []
    },
    {
      "cell_type": "markdown",
      "metadata": {
        "id": "6Jv5H5bsmGF7"
      },
      "source": [
        "## Importing Data"
      ]
    },
    {
      "cell_type": "code",
      "metadata": {
        "id": "FlMNqDGPmGF9"
      },
      "source": [
        "behaviour = pd.read_csv('CustomerBehaviorData.csv')\n",
        "consumption = pd.read_csv('CreditConsumptionData.csv')\n",
        "customer = pd.read_csv('CustomerDemographics.csv')"
      ],
      "execution_count": null,
      "outputs": []
    },
    {
      "cell_type": "code",
      "metadata": {
        "id": "NgO8xoo5gPAT"
      },
      "source": [
        "behaviour = pd.read_csv('https://github.com/lalit-kumr/credit_card_consumption/blob/main/CustomerBehaviorData.csv?raw=true')\n",
        "consumption = pd.read_csv('https://github.com/lalit-kumr/credit_card_consumption/raw/main/CreditConsumptionData.csv')\n",
        "customer = pd.read_csv('https://github.com/lalit-kumr/credit_card_consumption/raw/main/CustomerDemographics.csv')"
      ],
      "execution_count": null,
      "outputs": []
    },
    {
      "cell_type": "markdown",
      "metadata": {
        "id": "E-txyd8UmGF-"
      },
      "source": [
        "### Cleaning Customer df"
      ]
    },
    {
      "cell_type": "code",
      "metadata": {
        "id": "M-FVxKE2mGF-",
        "outputId": "ee4086d1-a42a-4cce-8e9f-d2f5116e8e13"
      },
      "source": [
        "#finding NaN values in customer df\n",
        "customer.isna().sum()"
      ],
      "execution_count": null,
      "outputs": [
        {
          "data": {
            "text/plain": [
              "customer_id                     0\n",
              "account_type                    1\n",
              "gender                          1\n",
              "age                             0\n",
              "income                          1\n",
              "emp_tenure_years                0\n",
              "tenure_with_bank                0\n",
              "region_code                     1\n",
              "net_banking_flag                0\n",
              "avg_days_between_transaction    3\n",
              "dtype: int64"
            ]
          },
          "execution_count": 4,
          "metadata": {},
          "output_type": "execute_result"
        }
      ]
    },
    {
      "cell_type": "code",
      "metadata": {
        "id": "-a8HigSemGGB",
        "outputId": "a529d4cf-41d7-4b96-9712-710a040e6e9e"
      },
      "source": [
        "#Droppping observations having NaN values\n",
        "customer.dropna(inplace=True)\n",
        "customer.isna().sum()"
      ],
      "execution_count": null,
      "outputs": [
        {
          "data": {
            "text/plain": [
              "customer_id                     0\n",
              "account_type                    0\n",
              "gender                          0\n",
              "age                             0\n",
              "income                          0\n",
              "emp_tenure_years                0\n",
              "tenure_with_bank                0\n",
              "region_code                     0\n",
              "net_banking_flag                0\n",
              "avg_days_between_transaction    0\n",
              "dtype: int64"
            ]
          },
          "execution_count": 5,
          "metadata": {},
          "output_type": "execute_result"
        }
      ]
    },
    {
      "cell_type": "markdown",
      "metadata": {
        "id": "c_BplhxPmGGC"
      },
      "source": [
        "### Cleaning behaviour df"
      ]
    },
    {
      "cell_type": "code",
      "metadata": {
        "id": "v0BPwegmmGGD",
        "outputId": "cea95a65-aaf3-4445-bfcb-383539ef5150"
      },
      "source": [
        "behaviour.isna().sum()"
      ],
      "execution_count": null,
      "outputs": [
        {
          "data": {
            "text/plain": [
              "customer_id              0\n",
              "cc_cons_apr              0\n",
              "dc_cons_apr              0\n",
              "cc_cons_may              1\n",
              "dc_cons_may              0\n",
              "cc_cons_jun              0\n",
              "dc_cons_jun              1\n",
              "cc_count_apr             1\n",
              "cc_count_may             0\n",
              "cc_count_jun             0\n",
              "dc_count_apr             0\n",
              "dc_count_may             0\n",
              "dc_count_jun             0\n",
              "card_lim                 0\n",
              "personal_loan_active     0\n",
              "vehicle_loan_active      0\n",
              "personal_loan_closed     1\n",
              "vehicle_loan_closed      0\n",
              "investment_1             0\n",
              "investment_2             0\n",
              "investment_3             2\n",
              "investment_4             0\n",
              "debit_amount_apr         0\n",
              "credit_amount_apr        0\n",
              "debit_count_apr          1\n",
              "credit_count_apr         0\n",
              "max_credit_amount_apr    0\n",
              "debit_amount_may         0\n",
              "credit_amount_may        0\n",
              "credit_count_may         0\n",
              "debit_count_may          0\n",
              "max_credit_amount_may    0\n",
              "debit_amount_jun         0\n",
              "credit_amount_jun        0\n",
              "credit_count_jun         0\n",
              "debit_count_jun          0\n",
              "max_credit_amount_jun    0\n",
              "loan_enq                 2\n",
              "emi_active               1\n",
              "dtype: int64"
            ]
          },
          "execution_count": 6,
          "metadata": {},
          "output_type": "execute_result"
        }
      ]
    },
    {
      "cell_type": "code",
      "metadata": {
        "id": "jV4NtedEmGGF",
        "outputId": "43285567-ac0e-4427-8685-be9fda197f38"
      },
      "source": [
        "#Droppping observations having NaN values\n",
        "behaviour.dropna(inplace=True)\n",
        "behaviour.isna().sum()"
      ],
      "execution_count": null,
      "outputs": [
        {
          "data": {
            "text/plain": [
              "customer_id              0\n",
              "cc_cons_apr              0\n",
              "dc_cons_apr              0\n",
              "cc_cons_may              0\n",
              "dc_cons_may              0\n",
              "cc_cons_jun              0\n",
              "dc_cons_jun              0\n",
              "cc_count_apr             0\n",
              "cc_count_may             0\n",
              "cc_count_jun             0\n",
              "dc_count_apr             0\n",
              "dc_count_may             0\n",
              "dc_count_jun             0\n",
              "card_lim                 0\n",
              "personal_loan_active     0\n",
              "vehicle_loan_active      0\n",
              "personal_loan_closed     0\n",
              "vehicle_loan_closed      0\n",
              "investment_1             0\n",
              "investment_2             0\n",
              "investment_3             0\n",
              "investment_4             0\n",
              "debit_amount_apr         0\n",
              "credit_amount_apr        0\n",
              "debit_count_apr          0\n",
              "credit_count_apr         0\n",
              "max_credit_amount_apr    0\n",
              "debit_amount_may         0\n",
              "credit_amount_may        0\n",
              "credit_count_may         0\n",
              "debit_count_may          0\n",
              "max_credit_amount_may    0\n",
              "debit_amount_jun         0\n",
              "credit_amount_jun        0\n",
              "credit_count_jun         0\n",
              "debit_count_jun          0\n",
              "max_credit_amount_jun    0\n",
              "loan_enq                 0\n",
              "emi_active               0\n",
              "dtype: int64"
            ]
          },
          "execution_count": 7,
          "metadata": {},
          "output_type": "execute_result"
        }
      ]
    },
    {
      "cell_type": "markdown",
      "metadata": {
        "id": "YMkKem4xmGGH"
      },
      "source": [
        "### Cleaning consumption df"
      ]
    },
    {
      "cell_type": "code",
      "metadata": {
        "id": "1O7__viLmGGH",
        "outputId": "dd2aeaa8-5946-4f3a-ca36-7581768a974a"
      },
      "source": [
        "consumption.isna().sum() # no NaN values except the ones we have to predict"
      ],
      "execution_count": null,
      "outputs": [
        {
          "data": {
            "text/plain": [
              "customer_id          0\n",
              "cc_cons_target    5000\n",
              "dtype: int64"
            ]
          },
          "execution_count": 8,
          "metadata": {},
          "output_type": "execute_result"
        }
      ]
    },
    {
      "cell_type": "markdown",
      "metadata": {
        "id": "yftDGJlemGGJ"
      },
      "source": [
        "### Merging the dataframes \n",
        "- now we will merge all three dataframes on the basis of customer_id.\n",
        "- first we will merge customer and behaviour dataframes as customer_be\n",
        "- next we will merge the cosumption dataframe with the custoemr_be df and store the resultant dataframe in **final**"
      ]
    },
    {
      "cell_type": "code",
      "metadata": {
        "id": "7CaWIBuNmGGJ",
        "outputId": "1ef73a8a-0e1f-4583-abe1-191f06da15ea"
      },
      "source": [
        "customer_behaviour = pd.merge(left=customer, right=behaviour, on='customer_id')\n",
        "final = pd.merge(left=customer_behaviour, right=consumption, on='customer_id')\n",
        "final"
      ],
      "execution_count": null,
      "outputs": [
        {
          "data": {
            "text/html": [
              "<div>\n",
              "<style scoped>\n",
              "    .dataframe tbody tr th:only-of-type {\n",
              "        vertical-align: middle;\n",
              "    }\n",
              "\n",
              "    .dataframe tbody tr th {\n",
              "        vertical-align: top;\n",
              "    }\n",
              "\n",
              "    .dataframe thead th {\n",
              "        text-align: right;\n",
              "    }\n",
              "</style>\n",
              "<table border=\"1\" class=\"dataframe\">\n",
              "  <thead>\n",
              "    <tr style=\"text-align: right;\">\n",
              "      <th></th>\n",
              "      <th>customer_id</th>\n",
              "      <th>account_type</th>\n",
              "      <th>gender</th>\n",
              "      <th>age</th>\n",
              "      <th>income</th>\n",
              "      <th>emp_tenure_years</th>\n",
              "      <th>tenure_with_bank</th>\n",
              "      <th>region_code</th>\n",
              "      <th>net_banking_flag</th>\n",
              "      <th>avg_days_between_transaction</th>\n",
              "      <th>...</th>\n",
              "      <th>debit_count_may</th>\n",
              "      <th>max_credit_amount_may</th>\n",
              "      <th>debit_amount_jun</th>\n",
              "      <th>credit_amount_jun</th>\n",
              "      <th>credit_count_jun</th>\n",
              "      <th>debit_count_jun</th>\n",
              "      <th>max_credit_amount_jun</th>\n",
              "      <th>loan_enq</th>\n",
              "      <th>emi_active</th>\n",
              "      <th>cc_cons_target</th>\n",
              "    </tr>\n",
              "  </thead>\n",
              "  <tbody>\n",
              "    <tr>\n",
              "      <th>0</th>\n",
              "      <td>19427</td>\n",
              "      <td>current</td>\n",
              "      <td>M</td>\n",
              "      <td>63</td>\n",
              "      <td>MEDIUM</td>\n",
              "      <td>30.1</td>\n",
              "      <td>10</td>\n",
              "      <td>628.0</td>\n",
              "      <td>1</td>\n",
              "      <td>5.0</td>\n",
              "      <td>...</td>\n",
              "      <td>14</td>\n",
              "      <td>20770.0</td>\n",
              "      <td>44884.90</td>\n",
              "      <td>369000.75</td>\n",
              "      <td>40</td>\n",
              "      <td>96</td>\n",
              "      <td>46088.0</td>\n",
              "      <td>Y</td>\n",
              "      <td>2646.72</td>\n",
              "      <td>NaN</td>\n",
              "    </tr>\n",
              "    <tr>\n",
              "      <th>1</th>\n",
              "      <td>16150</td>\n",
              "      <td>current</td>\n",
              "      <td>M</td>\n",
              "      <td>36</td>\n",
              "      <td>MEDIUM</td>\n",
              "      <td>14.4</td>\n",
              "      <td>10</td>\n",
              "      <td>656.0</td>\n",
              "      <td>0</td>\n",
              "      <td>12.0</td>\n",
              "      <td>...</td>\n",
              "      <td>63</td>\n",
              "      <td>78627.0</td>\n",
              "      <td>91073.84</td>\n",
              "      <td>243182.32</td>\n",
              "      <td>7</td>\n",
              "      <td>12</td>\n",
              "      <td>17953.0</td>\n",
              "      <td>Y</td>\n",
              "      <td>5469.79</td>\n",
              "      <td>NaN</td>\n",
              "    </tr>\n",
              "    <tr>\n",
              "      <th>2</th>\n",
              "      <td>11749</td>\n",
              "      <td>current</td>\n",
              "      <td>F</td>\n",
              "      <td>28</td>\n",
              "      <td>MEDIUM</td>\n",
              "      <td>4.8</td>\n",
              "      <td>10</td>\n",
              "      <td>314.0</td>\n",
              "      <td>1</td>\n",
              "      <td>13.0</td>\n",
              "      <td>...</td>\n",
              "      <td>82</td>\n",
              "      <td>1260.0</td>\n",
              "      <td>96552.00</td>\n",
              "      <td>35467.00</td>\n",
              "      <td>16</td>\n",
              "      <td>42</td>\n",
              "      <td>41121.0</td>\n",
              "      <td>Y</td>\n",
              "      <td>7207.85</td>\n",
              "      <td>NaN</td>\n",
              "    </tr>\n",
              "    <tr>\n",
              "      <th>3</th>\n",
              "      <td>11635</td>\n",
              "      <td>current</td>\n",
              "      <td>M</td>\n",
              "      <td>32</td>\n",
              "      <td>MEDIUM</td>\n",
              "      <td>9.6</td>\n",
              "      <td>2</td>\n",
              "      <td>614.0</td>\n",
              "      <td>1</td>\n",
              "      <td>19.0</td>\n",
              "      <td>...</td>\n",
              "      <td>78</td>\n",
              "      <td>23332.0</td>\n",
              "      <td>18250.00</td>\n",
              "      <td>87204.35</td>\n",
              "      <td>2</td>\n",
              "      <td>10</td>\n",
              "      <td>32003.0</td>\n",
              "      <td>Y</td>\n",
              "      <td>591.34</td>\n",
              "      <td>NaN</td>\n",
              "    </tr>\n",
              "    <tr>\n",
              "      <th>4</th>\n",
              "      <td>8908</td>\n",
              "      <td>current</td>\n",
              "      <td>M</td>\n",
              "      <td>32</td>\n",
              "      <td>HIGH</td>\n",
              "      <td>12.0</td>\n",
              "      <td>7</td>\n",
              "      <td>750.0</td>\n",
              "      <td>1</td>\n",
              "      <td>18.0</td>\n",
              "      <td>...</td>\n",
              "      <td>171</td>\n",
              "      <td>41672.0</td>\n",
              "      <td>83525.75</td>\n",
              "      <td>83992.00</td>\n",
              "      <td>21</td>\n",
              "      <td>12</td>\n",
              "      <td>9626.0</td>\n",
              "      <td>Y</td>\n",
              "      <td>2621.39</td>\n",
              "      <td>NaN</td>\n",
              "    </tr>\n",
              "    <tr>\n",
              "      <th>...</th>\n",
              "      <td>...</td>\n",
              "      <td>...</td>\n",
              "      <td>...</td>\n",
              "      <td>...</td>\n",
              "      <td>...</td>\n",
              "      <td>...</td>\n",
              "      <td>...</td>\n",
              "      <td>...</td>\n",
              "      <td>...</td>\n",
              "      <td>...</td>\n",
              "      <td>...</td>\n",
              "      <td>...</td>\n",
              "      <td>...</td>\n",
              "      <td>...</td>\n",
              "      <td>...</td>\n",
              "      <td>...</td>\n",
              "      <td>...</td>\n",
              "      <td>...</td>\n",
              "      <td>...</td>\n",
              "      <td>...</td>\n",
              "      <td>...</td>\n",
              "    </tr>\n",
              "    <tr>\n",
              "      <th>19983</th>\n",
              "      <td>1270</td>\n",
              "      <td>current</td>\n",
              "      <td>F</td>\n",
              "      <td>66</td>\n",
              "      <td>MEDIUM</td>\n",
              "      <td>32.2</td>\n",
              "      <td>6</td>\n",
              "      <td>354.0</td>\n",
              "      <td>1</td>\n",
              "      <td>7.0</td>\n",
              "      <td>...</td>\n",
              "      <td>8</td>\n",
              "      <td>24438.0</td>\n",
              "      <td>153772.21</td>\n",
              "      <td>31284.00</td>\n",
              "      <td>3</td>\n",
              "      <td>38</td>\n",
              "      <td>42872.0</td>\n",
              "      <td>Y</td>\n",
              "      <td>6334.20</td>\n",
              "      <td>NaN</td>\n",
              "    </tr>\n",
              "    <tr>\n",
              "      <th>19984</th>\n",
              "      <td>15992</td>\n",
              "      <td>current</td>\n",
              "      <td>M</td>\n",
              "      <td>53</td>\n",
              "      <td>MEDIUM</td>\n",
              "      <td>19.8</td>\n",
              "      <td>5</td>\n",
              "      <td>809.0</td>\n",
              "      <td>0</td>\n",
              "      <td>14.0</td>\n",
              "      <td>...</td>\n",
              "      <td>11</td>\n",
              "      <td>213000.0</td>\n",
              "      <td>18098.47</td>\n",
              "      <td>93108.00</td>\n",
              "      <td>43</td>\n",
              "      <td>11</td>\n",
              "      <td>36747.0</td>\n",
              "      <td>Y</td>\n",
              "      <td>102216.02</td>\n",
              "      <td>NaN</td>\n",
              "    </tr>\n",
              "    <tr>\n",
              "      <th>19985</th>\n",
              "      <td>7081</td>\n",
              "      <td>current</td>\n",
              "      <td>F</td>\n",
              "      <td>66</td>\n",
              "      <td>MEDIUM</td>\n",
              "      <td>18.4</td>\n",
              "      <td>1</td>\n",
              "      <td>466.0</td>\n",
              "      <td>0</td>\n",
              "      <td>10.0</td>\n",
              "      <td>...</td>\n",
              "      <td>171</td>\n",
              "      <td>34327.0</td>\n",
              "      <td>32198.63</td>\n",
              "      <td>46800.00</td>\n",
              "      <td>3</td>\n",
              "      <td>38</td>\n",
              "      <td>18810.0</td>\n",
              "      <td>Y</td>\n",
              "      <td>1930.19</td>\n",
              "      <td>NaN</td>\n",
              "    </tr>\n",
              "    <tr>\n",
              "      <th>19986</th>\n",
              "      <td>6821</td>\n",
              "      <td>current</td>\n",
              "      <td>M</td>\n",
              "      <td>32</td>\n",
              "      <td>LOW</td>\n",
              "      <td>6.0</td>\n",
              "      <td>8</td>\n",
              "      <td>619.0</td>\n",
              "      <td>0</td>\n",
              "      <td>17.0</td>\n",
              "      <td>...</td>\n",
              "      <td>82</td>\n",
              "      <td>51929.0</td>\n",
              "      <td>27334.14</td>\n",
              "      <td>20201.00</td>\n",
              "      <td>47</td>\n",
              "      <td>80</td>\n",
              "      <td>11443.0</td>\n",
              "      <td>Y</td>\n",
              "      <td>24499.91</td>\n",
              "      <td>NaN</td>\n",
              "    </tr>\n",
              "    <tr>\n",
              "      <th>19987</th>\n",
              "      <td>13730</td>\n",
              "      <td>current</td>\n",
              "      <td>F</td>\n",
              "      <td>118</td>\n",
              "      <td>LOW</td>\n",
              "      <td>78.4</td>\n",
              "      <td>7</td>\n",
              "      <td>882.0</td>\n",
              "      <td>1</td>\n",
              "      <td>10.0</td>\n",
              "      <td>...</td>\n",
              "      <td>8</td>\n",
              "      <td>32431.0</td>\n",
              "      <td>23464.59</td>\n",
              "      <td>38503.00</td>\n",
              "      <td>5</td>\n",
              "      <td>42</td>\n",
              "      <td>47504.0</td>\n",
              "      <td>Y</td>\n",
              "      <td>5311.54</td>\n",
              "      <td>NaN</td>\n",
              "    </tr>\n",
              "  </tbody>\n",
              "</table>\n",
              "<p>19988 rows × 49 columns</p>\n",
              "</div>"
            ],
            "text/plain": [
              "       customer_id account_type gender  age  income  emp_tenure_years  \\\n",
              "0            19427      current      M   63  MEDIUM              30.1   \n",
              "1            16150      current      M   36  MEDIUM              14.4   \n",
              "2            11749      current      F   28  MEDIUM               4.8   \n",
              "3            11635      current      M   32  MEDIUM               9.6   \n",
              "4             8908      current      M   32    HIGH              12.0   \n",
              "...            ...          ...    ...  ...     ...               ...   \n",
              "19983         1270      current      F   66  MEDIUM              32.2   \n",
              "19984        15992      current      M   53  MEDIUM              19.8   \n",
              "19985         7081      current      F   66  MEDIUM              18.4   \n",
              "19986         6821      current      M   32     LOW               6.0   \n",
              "19987        13730      current      F  118     LOW              78.4   \n",
              "\n",
              "       tenure_with_bank  region_code  net_banking_flag  \\\n",
              "0                    10        628.0                 1   \n",
              "1                    10        656.0                 0   \n",
              "2                    10        314.0                 1   \n",
              "3                     2        614.0                 1   \n",
              "4                     7        750.0                 1   \n",
              "...                 ...          ...               ...   \n",
              "19983                 6        354.0                 1   \n",
              "19984                 5        809.0                 0   \n",
              "19985                 1        466.0                 0   \n",
              "19986                 8        619.0                 0   \n",
              "19987                 7        882.0                 1   \n",
              "\n",
              "       avg_days_between_transaction  ...  debit_count_may  \\\n",
              "0                               5.0  ...               14   \n",
              "1                              12.0  ...               63   \n",
              "2                              13.0  ...               82   \n",
              "3                              19.0  ...               78   \n",
              "4                              18.0  ...              171   \n",
              "...                             ...  ...              ...   \n",
              "19983                           7.0  ...                8   \n",
              "19984                          14.0  ...               11   \n",
              "19985                          10.0  ...              171   \n",
              "19986                          17.0  ...               82   \n",
              "19987                          10.0  ...                8   \n",
              "\n",
              "       max_credit_amount_may  debit_amount_jun  credit_amount_jun  \\\n",
              "0                    20770.0          44884.90          369000.75   \n",
              "1                    78627.0          91073.84          243182.32   \n",
              "2                     1260.0          96552.00           35467.00   \n",
              "3                    23332.0          18250.00           87204.35   \n",
              "4                    41672.0          83525.75           83992.00   \n",
              "...                      ...               ...                ...   \n",
              "19983                24438.0         153772.21           31284.00   \n",
              "19984               213000.0          18098.47           93108.00   \n",
              "19985                34327.0          32198.63           46800.00   \n",
              "19986                51929.0          27334.14           20201.00   \n",
              "19987                32431.0          23464.59           38503.00   \n",
              "\n",
              "       credit_count_jun  debit_count_jun  max_credit_amount_jun  loan_enq  \\\n",
              "0                    40               96                46088.0         Y   \n",
              "1                     7               12                17953.0         Y   \n",
              "2                    16               42                41121.0         Y   \n",
              "3                     2               10                32003.0         Y   \n",
              "4                    21               12                 9626.0         Y   \n",
              "...                 ...              ...                    ...       ...   \n",
              "19983                 3               38                42872.0         Y   \n",
              "19984                43               11                36747.0         Y   \n",
              "19985                 3               38                18810.0         Y   \n",
              "19986                47               80                11443.0         Y   \n",
              "19987                 5               42                47504.0         Y   \n",
              "\n",
              "       emi_active  cc_cons_target  \n",
              "0         2646.72             NaN  \n",
              "1         5469.79             NaN  \n",
              "2         7207.85             NaN  \n",
              "3          591.34             NaN  \n",
              "4         2621.39             NaN  \n",
              "...           ...             ...  \n",
              "19983     6334.20             NaN  \n",
              "19984   102216.02             NaN  \n",
              "19985     1930.19             NaN  \n",
              "19986    24499.91             NaN  \n",
              "19987     5311.54             NaN  \n",
              "\n",
              "[19988 rows x 49 columns]"
            ]
          },
          "execution_count": 9,
          "metadata": {},
          "output_type": "execute_result"
        }
      ]
    },
    {
      "cell_type": "markdown",
      "metadata": {
        "id": "OZriwRAJmGGK"
      },
      "source": [
        "### Profile report\n",
        "After importing the data, the first tasks is to detect and treat outliers and balnk values. For that reason we will first generate a profile report of our dataframe by using pandas profiling package.\\\n",
        "Some info about the profiling package from their [website](https://pandas-profiling.github.io/pandas-profiling/docs/master/index.html):\n",
        "pandas_profiling extends the pandas DataFrame with df.profile_report() for quick data analysis.For each column the following statistics - if relevant for the column type - are presented in an interactive HTML report:\n",
        "- Type inference: detect the types of columns in a dataframe.\n",
        "- Essentials: type, unique values, missing values\n",
        "- Quantile statistics like minimum value, Q1, median, Q3, maximum, range, interquartile range\n",
        "- Descriptive statistics like mean, mode, standard deviation, sum, median absolute deviation, coefficient of variation, kurtosis, skewness\n",
        "- Most frequent values\n",
        "- Histogram\n",
        "- Correlations highlighting of highly correlated variables, Spearman, Pearson and Kendall matrices\n",
        "- Missing values matrix, count, heatmap and dendrogram of missing values\n",
        "- Text analysis learn about categories (Uppercase, Space), scripts (Latin, Cyrillic) and blocks (ASCII) of text data.\n",
        "- File and Image analysis extract file sizes, creation dates and dimensions and scan for truncated images or those containing EXIF information.\n",
        "\n"
      ]
    },
    {
      "cell_type": "markdown",
      "metadata": {
        "id": "YnfhRR_nmGGK"
      },
      "source": [
        "#### Generating profile report\n"
      ]
    },
    {
      "cell_type": "code",
      "metadata": {
        "id": "7Za4YuDgmGGL",
        "outputId": "8d787a62-40c7-4601-ebe8-802ef81ea995",
        "colab": {
          "referenced_widgets": [
            "9b477a4197004da7a4cb7c2bdd88e9c7",
            "4eaa2c46a9e048428e7d59242336e789",
            "42edc145e2294e59941860a57cc3934c",
            "dd52cac065004126b5e22baf6537b458"
          ]
        }
      },
      "source": [
        "profile_report = ProfileReport(final)\n",
        "profile_report.to_file(\"your_report.html\")"
      ],
      "execution_count": null,
      "outputs": [
        {
          "data": {
            "application/vnd.jupyter.widget-view+json": {
              "model_id": "9b477a4197004da7a4cb7c2bdd88e9c7",
              "version_major": 2,
              "version_minor": 0
            },
            "text/plain": [
              "HBox(children=(HTML(value='Summarize dataset'), FloatProgress(value=0.0, max=62.0), HTML(value='')))"
            ]
          },
          "metadata": {},
          "output_type": "display_data"
        },
        {
          "name": "stdout",
          "output_type": "stream",
          "text": [
            "\n"
          ]
        },
        {
          "data": {
            "application/vnd.jupyter.widget-view+json": {
              "model_id": "4eaa2c46a9e048428e7d59242336e789",
              "version_major": 2,
              "version_minor": 0
            },
            "text/plain": [
              "HBox(children=(HTML(value='Generate report structure'), FloatProgress(value=0.0, max=1.0), HTML(value='')))"
            ]
          },
          "metadata": {},
          "output_type": "display_data"
        },
        {
          "name": "stdout",
          "output_type": "stream",
          "text": [
            "\n"
          ]
        },
        {
          "data": {
            "application/vnd.jupyter.widget-view+json": {
              "model_id": "42edc145e2294e59941860a57cc3934c",
              "version_major": 2,
              "version_minor": 0
            },
            "text/plain": [
              "HBox(children=(HTML(value='Render HTML'), FloatProgress(value=0.0, max=1.0), HTML(value='')))"
            ]
          },
          "metadata": {},
          "output_type": "display_data"
        },
        {
          "name": "stdout",
          "output_type": "stream",
          "text": [
            "\n"
          ]
        },
        {
          "data": {
            "application/vnd.jupyter.widget-view+json": {
              "model_id": "dd52cac065004126b5e22baf6537b458",
              "version_major": 2,
              "version_minor": 0
            },
            "text/plain": [
              "HBox(children=(HTML(value='Export report to file'), FloatProgress(value=0.0, max=1.0), HTML(value='')))"
            ]
          },
          "metadata": {},
          "output_type": "display_data"
        },
        {
          "name": "stdout",
          "output_type": "stream",
          "text": [
            "\n"
          ]
        }
      ]
    },
    {
      "cell_type": "markdown",
      "metadata": {
        "id": "Cf9R02wPmGGM"
      },
      "source": [
        "#### Tasks after analyzing pandas report\n",
        "\n",
        "\n",
        "\n",
        "- Treat outliers\n",
        "\n",
        "\n",
        "- Missing values treatment\n",
        "\n",
        "\n",
        "- Remove constant columns as those are of no use to the learning algo.\n",
        "    > - ***personal_loan_active***  has constant value \"1\"\n",
        "    > - ***vehicle_loan_active***  has constant value \"1\"\n",
        "    > - ***personal_loan_closed***  has constant value \"1.0\"\n",
        "    > - ***vehicle_loan_closed***  has constant value \"1\"\n",
        "    > - ***loan_enq***  has constant value \"True\"\n",
        "    \n",
        "\n",
        "- Remove columns having low variance\n",
        "\n",
        "\n",
        "\n",
        "- transform columns having skewed observations\n",
        "   > - ***dc_cons_may*** is highly skewed (γ1 = 23.64870391)\n",
        "   > - ***credit_amount_apr*** is highly skewed (γ1 = 32.14621581)\n",
        "   > - ***max_credit_amount_apr*** is highly skewed (γ1 = 47.23251791)\n",
        "   > - ***credit_amount_may*** is highly skewed (γ1 = 22.1395434)\n",
        "   > - ***max_credit_amount_may*** is highly skewed (γ1 = 35.18401822)\n",
        "   > - ***debit_amount_jun*** is highly skewed (γ1 = 67.58004653)\n",
        "   > - ***max_credit_amount_jun*** is highly skewed (γ1 = 21.54480362)\n",
        "   \n"
      ]
    },
    {
      "cell_type": "code",
      "metadata": {
        "id": "bbjS1YQamGGN"
      },
      "source": [
        ""
      ],
      "execution_count": null,
      "outputs": []
    },
    {
      "cell_type": "code",
      "metadata": {
        "id": "yLnTadt5mGGN"
      },
      "source": [
        "final.drop(labels='customer_id',axis=1,inplace=True)"
      ],
      "execution_count": null,
      "outputs": []
    },
    {
      "cell_type": "code",
      "metadata": {
        "id": "D3u4Mn3bmGGN",
        "outputId": "7a1edcf1-9069-406c-df1c-d49495d6379f"
      },
      "source": [
        "final"
      ],
      "execution_count": null,
      "outputs": [
        {
          "data": {
            "text/html": [
              "<div>\n",
              "<style scoped>\n",
              "    .dataframe tbody tr th:only-of-type {\n",
              "        vertical-align: middle;\n",
              "    }\n",
              "\n",
              "    .dataframe tbody tr th {\n",
              "        vertical-align: top;\n",
              "    }\n",
              "\n",
              "    .dataframe thead th {\n",
              "        text-align: right;\n",
              "    }\n",
              "</style>\n",
              "<table border=\"1\" class=\"dataframe\">\n",
              "  <thead>\n",
              "    <tr style=\"text-align: right;\">\n",
              "      <th></th>\n",
              "      <th>account_type</th>\n",
              "      <th>gender</th>\n",
              "      <th>age</th>\n",
              "      <th>income</th>\n",
              "      <th>emp_tenure_years</th>\n",
              "      <th>tenure_with_bank</th>\n",
              "      <th>region_code</th>\n",
              "      <th>net_banking_flag</th>\n",
              "      <th>avg_days_between_transaction</th>\n",
              "      <th>cc_cons_apr</th>\n",
              "      <th>...</th>\n",
              "      <th>debit_count_may</th>\n",
              "      <th>max_credit_amount_may</th>\n",
              "      <th>debit_amount_jun</th>\n",
              "      <th>credit_amount_jun</th>\n",
              "      <th>credit_count_jun</th>\n",
              "      <th>debit_count_jun</th>\n",
              "      <th>max_credit_amount_jun</th>\n",
              "      <th>loan_enq</th>\n",
              "      <th>emi_active</th>\n",
              "      <th>cc_cons_target</th>\n",
              "    </tr>\n",
              "  </thead>\n",
              "  <tbody>\n",
              "    <tr>\n",
              "      <th>0</th>\n",
              "      <td>current</td>\n",
              "      <td>M</td>\n",
              "      <td>63</td>\n",
              "      <td>MEDIUM</td>\n",
              "      <td>30.1</td>\n",
              "      <td>10</td>\n",
              "      <td>628.0</td>\n",
              "      <td>1</td>\n",
              "      <td>5.0</td>\n",
              "      <td>7998.48</td>\n",
              "      <td>...</td>\n",
              "      <td>14</td>\n",
              "      <td>20770.0</td>\n",
              "      <td>44884.90</td>\n",
              "      <td>369000.75</td>\n",
              "      <td>40</td>\n",
              "      <td>96</td>\n",
              "      <td>46088.0</td>\n",
              "      <td>Y</td>\n",
              "      <td>2646.72</td>\n",
              "      <td>NaN</td>\n",
              "    </tr>\n",
              "    <tr>\n",
              "      <th>1</th>\n",
              "      <td>current</td>\n",
              "      <td>M</td>\n",
              "      <td>36</td>\n",
              "      <td>MEDIUM</td>\n",
              "      <td>14.4</td>\n",
              "      <td>10</td>\n",
              "      <td>656.0</td>\n",
              "      <td>0</td>\n",
              "      <td>12.0</td>\n",
              "      <td>16479.64</td>\n",
              "      <td>...</td>\n",
              "      <td>63</td>\n",
              "      <td>78627.0</td>\n",
              "      <td>91073.84</td>\n",
              "      <td>243182.32</td>\n",
              "      <td>7</td>\n",
              "      <td>12</td>\n",
              "      <td>17953.0</td>\n",
              "      <td>Y</td>\n",
              "      <td>5469.79</td>\n",
              "      <td>NaN</td>\n",
              "    </tr>\n",
              "    <tr>\n",
              "      <th>2</th>\n",
              "      <td>current</td>\n",
              "      <td>F</td>\n",
              "      <td>28</td>\n",
              "      <td>MEDIUM</td>\n",
              "      <td>4.8</td>\n",
              "      <td>10</td>\n",
              "      <td>314.0</td>\n",
              "      <td>1</td>\n",
              "      <td>13.0</td>\n",
              "      <td>29272.03</td>\n",
              "      <td>...</td>\n",
              "      <td>82</td>\n",
              "      <td>1260.0</td>\n",
              "      <td>96552.00</td>\n",
              "      <td>35467.00</td>\n",
              "      <td>16</td>\n",
              "      <td>42</td>\n",
              "      <td>41121.0</td>\n",
              "      <td>Y</td>\n",
              "      <td>7207.85</td>\n",
              "      <td>NaN</td>\n",
              "    </tr>\n",
              "    <tr>\n",
              "      <th>3</th>\n",
              "      <td>current</td>\n",
              "      <td>M</td>\n",
              "      <td>32</td>\n",
              "      <td>MEDIUM</td>\n",
              "      <td>9.6</td>\n",
              "      <td>2</td>\n",
              "      <td>614.0</td>\n",
              "      <td>1</td>\n",
              "      <td>19.0</td>\n",
              "      <td>9662.31</td>\n",
              "      <td>...</td>\n",
              "      <td>78</td>\n",
              "      <td>23332.0</td>\n",
              "      <td>18250.00</td>\n",
              "      <td>87204.35</td>\n",
              "      <td>2</td>\n",
              "      <td>10</td>\n",
              "      <td>32003.0</td>\n",
              "      <td>Y</td>\n",
              "      <td>591.34</td>\n",
              "      <td>NaN</td>\n",
              "    </tr>\n",
              "    <tr>\n",
              "      <th>4</th>\n",
              "      <td>current</td>\n",
              "      <td>M</td>\n",
              "      <td>32</td>\n",
              "      <td>HIGH</td>\n",
              "      <td>12.0</td>\n",
              "      <td>7</td>\n",
              "      <td>750.0</td>\n",
              "      <td>1</td>\n",
              "      <td>18.0</td>\n",
              "      <td>13239.86</td>\n",
              "      <td>...</td>\n",
              "      <td>171</td>\n",
              "      <td>41672.0</td>\n",
              "      <td>83525.75</td>\n",
              "      <td>83992.00</td>\n",
              "      <td>21</td>\n",
              "      <td>12</td>\n",
              "      <td>9626.0</td>\n",
              "      <td>Y</td>\n",
              "      <td>2621.39</td>\n",
              "      <td>NaN</td>\n",
              "    </tr>\n",
              "    <tr>\n",
              "      <th>...</th>\n",
              "      <td>...</td>\n",
              "      <td>...</td>\n",
              "      <td>...</td>\n",
              "      <td>...</td>\n",
              "      <td>...</td>\n",
              "      <td>...</td>\n",
              "      <td>...</td>\n",
              "      <td>...</td>\n",
              "      <td>...</td>\n",
              "      <td>...</td>\n",
              "      <td>...</td>\n",
              "      <td>...</td>\n",
              "      <td>...</td>\n",
              "      <td>...</td>\n",
              "      <td>...</td>\n",
              "      <td>...</td>\n",
              "      <td>...</td>\n",
              "      <td>...</td>\n",
              "      <td>...</td>\n",
              "      <td>...</td>\n",
              "      <td>...</td>\n",
              "    </tr>\n",
              "    <tr>\n",
              "      <th>19983</th>\n",
              "      <td>current</td>\n",
              "      <td>F</td>\n",
              "      <td>66</td>\n",
              "      <td>MEDIUM</td>\n",
              "      <td>32.2</td>\n",
              "      <td>6</td>\n",
              "      <td>354.0</td>\n",
              "      <td>1</td>\n",
              "      <td>7.0</td>\n",
              "      <td>4611.00</td>\n",
              "      <td>...</td>\n",
              "      <td>8</td>\n",
              "      <td>24438.0</td>\n",
              "      <td>153772.21</td>\n",
              "      <td>31284.00</td>\n",
              "      <td>3</td>\n",
              "      <td>38</td>\n",
              "      <td>42872.0</td>\n",
              "      <td>Y</td>\n",
              "      <td>6334.20</td>\n",
              "      <td>NaN</td>\n",
              "    </tr>\n",
              "    <tr>\n",
              "      <th>19984</th>\n",
              "      <td>current</td>\n",
              "      <td>M</td>\n",
              "      <td>53</td>\n",
              "      <td>MEDIUM</td>\n",
              "      <td>19.8</td>\n",
              "      <td>5</td>\n",
              "      <td>809.0</td>\n",
              "      <td>0</td>\n",
              "      <td>14.0</td>\n",
              "      <td>9545.00</td>\n",
              "      <td>...</td>\n",
              "      <td>11</td>\n",
              "      <td>213000.0</td>\n",
              "      <td>18098.47</td>\n",
              "      <td>93108.00</td>\n",
              "      <td>43</td>\n",
              "      <td>11</td>\n",
              "      <td>36747.0</td>\n",
              "      <td>Y</td>\n",
              "      <td>102216.02</td>\n",
              "      <td>NaN</td>\n",
              "    </tr>\n",
              "    <tr>\n",
              "      <th>19985</th>\n",
              "      <td>current</td>\n",
              "      <td>F</td>\n",
              "      <td>66</td>\n",
              "      <td>MEDIUM</td>\n",
              "      <td>18.4</td>\n",
              "      <td>1</td>\n",
              "      <td>466.0</td>\n",
              "      <td>0</td>\n",
              "      <td>10.0</td>\n",
              "      <td>2028.93</td>\n",
              "      <td>...</td>\n",
              "      <td>171</td>\n",
              "      <td>34327.0</td>\n",
              "      <td>32198.63</td>\n",
              "      <td>46800.00</td>\n",
              "      <td>3</td>\n",
              "      <td>38</td>\n",
              "      <td>18810.0</td>\n",
              "      <td>Y</td>\n",
              "      <td>1930.19</td>\n",
              "      <td>NaN</td>\n",
              "    </tr>\n",
              "    <tr>\n",
              "      <th>19986</th>\n",
              "      <td>current</td>\n",
              "      <td>M</td>\n",
              "      <td>32</td>\n",
              "      <td>LOW</td>\n",
              "      <td>6.0</td>\n",
              "      <td>8</td>\n",
              "      <td>619.0</td>\n",
              "      <td>0</td>\n",
              "      <td>17.0</td>\n",
              "      <td>11456.23</td>\n",
              "      <td>...</td>\n",
              "      <td>82</td>\n",
              "      <td>51929.0</td>\n",
              "      <td>27334.14</td>\n",
              "      <td>20201.00</td>\n",
              "      <td>47</td>\n",
              "      <td>80</td>\n",
              "      <td>11443.0</td>\n",
              "      <td>Y</td>\n",
              "      <td>24499.91</td>\n",
              "      <td>NaN</td>\n",
              "    </tr>\n",
              "    <tr>\n",
              "      <th>19987</th>\n",
              "      <td>current</td>\n",
              "      <td>F</td>\n",
              "      <td>118</td>\n",
              "      <td>LOW</td>\n",
              "      <td>78.4</td>\n",
              "      <td>7</td>\n",
              "      <td>882.0</td>\n",
              "      <td>1</td>\n",
              "      <td>10.0</td>\n",
              "      <td>23551.00</td>\n",
              "      <td>...</td>\n",
              "      <td>8</td>\n",
              "      <td>32431.0</td>\n",
              "      <td>23464.59</td>\n",
              "      <td>38503.00</td>\n",
              "      <td>5</td>\n",
              "      <td>42</td>\n",
              "      <td>47504.0</td>\n",
              "      <td>Y</td>\n",
              "      <td>5311.54</td>\n",
              "      <td>NaN</td>\n",
              "    </tr>\n",
              "  </tbody>\n",
              "</table>\n",
              "<p>19988 rows × 48 columns</p>\n",
              "</div>"
            ],
            "text/plain": [
              "      account_type gender  age  income  emp_tenure_years  tenure_with_bank  \\\n",
              "0          current      M   63  MEDIUM              30.1                10   \n",
              "1          current      M   36  MEDIUM              14.4                10   \n",
              "2          current      F   28  MEDIUM               4.8                10   \n",
              "3          current      M   32  MEDIUM               9.6                 2   \n",
              "4          current      M   32    HIGH              12.0                 7   \n",
              "...            ...    ...  ...     ...               ...               ...   \n",
              "19983      current      F   66  MEDIUM              32.2                 6   \n",
              "19984      current      M   53  MEDIUM              19.8                 5   \n",
              "19985      current      F   66  MEDIUM              18.4                 1   \n",
              "19986      current      M   32     LOW               6.0                 8   \n",
              "19987      current      F  118     LOW              78.4                 7   \n",
              "\n",
              "       region_code  net_banking_flag  avg_days_between_transaction  \\\n",
              "0            628.0                 1                           5.0   \n",
              "1            656.0                 0                          12.0   \n",
              "2            314.0                 1                          13.0   \n",
              "3            614.0                 1                          19.0   \n",
              "4            750.0                 1                          18.0   \n",
              "...            ...               ...                           ...   \n",
              "19983        354.0                 1                           7.0   \n",
              "19984        809.0                 0                          14.0   \n",
              "19985        466.0                 0                          10.0   \n",
              "19986        619.0                 0                          17.0   \n",
              "19987        882.0                 1                          10.0   \n",
              "\n",
              "       cc_cons_apr  ...  debit_count_may  max_credit_amount_may  \\\n",
              "0          7998.48  ...               14                20770.0   \n",
              "1         16479.64  ...               63                78627.0   \n",
              "2         29272.03  ...               82                 1260.0   \n",
              "3          9662.31  ...               78                23332.0   \n",
              "4         13239.86  ...              171                41672.0   \n",
              "...            ...  ...              ...                    ...   \n",
              "19983      4611.00  ...                8                24438.0   \n",
              "19984      9545.00  ...               11               213000.0   \n",
              "19985      2028.93  ...              171                34327.0   \n",
              "19986     11456.23  ...               82                51929.0   \n",
              "19987     23551.00  ...                8                32431.0   \n",
              "\n",
              "       debit_amount_jun  credit_amount_jun  credit_count_jun  debit_count_jun  \\\n",
              "0              44884.90          369000.75                40               96   \n",
              "1              91073.84          243182.32                 7               12   \n",
              "2              96552.00           35467.00                16               42   \n",
              "3              18250.00           87204.35                 2               10   \n",
              "4              83525.75           83992.00                21               12   \n",
              "...                 ...                ...               ...              ...   \n",
              "19983         153772.21           31284.00                 3               38   \n",
              "19984          18098.47           93108.00                43               11   \n",
              "19985          32198.63           46800.00                 3               38   \n",
              "19986          27334.14           20201.00                47               80   \n",
              "19987          23464.59           38503.00                 5               42   \n",
              "\n",
              "       max_credit_amount_jun  loan_enq  emi_active  cc_cons_target  \n",
              "0                    46088.0         Y     2646.72             NaN  \n",
              "1                    17953.0         Y     5469.79             NaN  \n",
              "2                    41121.0         Y     7207.85             NaN  \n",
              "3                    32003.0         Y      591.34             NaN  \n",
              "4                     9626.0         Y     2621.39             NaN  \n",
              "...                      ...       ...         ...             ...  \n",
              "19983                42872.0         Y     6334.20             NaN  \n",
              "19984                36747.0         Y   102216.02             NaN  \n",
              "19985                18810.0         Y     1930.19             NaN  \n",
              "19986                11443.0         Y    24499.91             NaN  \n",
              "19987                47504.0         Y     5311.54             NaN  \n",
              "\n",
              "[19988 rows x 48 columns]"
            ]
          },
          "execution_count": 47,
          "metadata": {},
          "output_type": "execute_result"
        }
      ]
    },
    {
      "cell_type": "markdown",
      "metadata": {
        "id": "moDIT130mGGP"
      },
      "source": [
        "### Splitting the dataframe in df_predict and df_train for the data to predict and data to train on respectively"
      ]
    },
    {
      "cell_type": "markdown",
      "metadata": {
        "id": "Tr-T8Qf3mGGP"
      },
      "source": [
        "Splitting the rows into df_predict and df_train. df_predict contains cc_cons_target having NA values. These are the customers that we have to predit consumption for.\n",
        "\n",
        "df_train contains all rows that have a numerical value in cc_cons_target. this df will train out liner regression algo"
      ]
    },
    {
      "cell_type": "code",
      "metadata": {
        "id": "YUQQGNyumGGP",
        "outputId": "eadaa003-50a2-4721-faa7-0997273b66ab"
      },
      "source": [
        "#filtering all the rows from final that contain NaN values in cc_cons_target and storing those rows in df_predict.\n",
        "df_predict = final[final.cc_cons_target.isna()]\n",
        "#dropping the NaN values of cc_cons_target \n",
        "df_predict.drop(labels='cc_cons_target',axis=1,inplace=True)\n",
        "\n",
        "# droppping  all the rows that are in the df_predict dataframe and storing the result in df_train\n",
        "df_train = final.drop(df_predict.index)"
      ],
      "execution_count": null,
      "outputs": [
        {
          "name": "stderr",
          "output_type": "stream",
          "text": [
            "D:\\software\\anaconda\\lib\\site-packages\\pandas\\core\\frame.py:4163: SettingWithCopyWarning: \n",
            "A value is trying to be set on a copy of a slice from a DataFrame\n",
            "\n",
            "See the caveats in the documentation: https://pandas.pydata.org/pandas-docs/stable/user_guide/indexing.html#returning-a-view-versus-a-copy\n",
            "  return super().drop(\n"
          ]
        }
      ]
    },
    {
      "cell_type": "code",
      "metadata": {
        "id": "xFViOOiEmGGQ",
        "outputId": "18c7e180-b707-475b-fd30-45ce627bc5d5"
      },
      "source": [
        "df_train.shape"
      ],
      "execution_count": null,
      "outputs": [
        {
          "data": {
            "text/plain": [
              "(14995, 48)"
            ]
          },
          "execution_count": 49,
          "metadata": {},
          "output_type": "execute_result"
        }
      ]
    },
    {
      "cell_type": "markdown",
      "metadata": {
        "id": "Gl1iu16KmGGR"
      },
      "source": [
        "### Encoding categorical variables of final_train"
      ]
    },
    {
      "cell_type": "code",
      "metadata": {
        "id": "4vNhdxB8mGGR",
        "outputId": "2162b95d-f57b-466a-8920-d763c494ee97"
      },
      "source": [
        "#using pd.get_dummies to encode categorical variables in continunous variables and replace the categorical variables.\n",
        "df_train = pd.get_dummies(df_train)\n",
        "df_train.loc[:,['account_type_current','account_type_saving','gender_F','gender_M','income_HIGH','income_LOW','income_MEDIUM','loan_enq_Y']]"
      ],
      "execution_count": null,
      "outputs": [
        {
          "data": {
            "text/html": [
              "<div>\n",
              "<style scoped>\n",
              "    .dataframe tbody tr th:only-of-type {\n",
              "        vertical-align: middle;\n",
              "    }\n",
              "\n",
              "    .dataframe tbody tr th {\n",
              "        vertical-align: top;\n",
              "    }\n",
              "\n",
              "    .dataframe thead th {\n",
              "        text-align: right;\n",
              "    }\n",
              "</style>\n",
              "<table border=\"1\" class=\"dataframe\">\n",
              "  <thead>\n",
              "    <tr style=\"text-align: right;\">\n",
              "      <th></th>\n",
              "      <th>account_type_current</th>\n",
              "      <th>account_type_saving</th>\n",
              "      <th>gender_F</th>\n",
              "      <th>gender_M</th>\n",
              "      <th>income_HIGH</th>\n",
              "      <th>income_LOW</th>\n",
              "      <th>income_MEDIUM</th>\n",
              "      <th>loan_enq_Y</th>\n",
              "    </tr>\n",
              "  </thead>\n",
              "  <tbody>\n",
              "    <tr>\n",
              "      <th>104</th>\n",
              "      <td>1</td>\n",
              "      <td>0</td>\n",
              "      <td>0</td>\n",
              "      <td>1</td>\n",
              "      <td>0</td>\n",
              "      <td>0</td>\n",
              "      <td>1</td>\n",
              "      <td>1</td>\n",
              "    </tr>\n",
              "    <tr>\n",
              "      <th>105</th>\n",
              "      <td>1</td>\n",
              "      <td>0</td>\n",
              "      <td>0</td>\n",
              "      <td>1</td>\n",
              "      <td>1</td>\n",
              "      <td>0</td>\n",
              "      <td>0</td>\n",
              "      <td>1</td>\n",
              "    </tr>\n",
              "    <tr>\n",
              "      <th>106</th>\n",
              "      <td>1</td>\n",
              "      <td>0</td>\n",
              "      <td>0</td>\n",
              "      <td>1</td>\n",
              "      <td>0</td>\n",
              "      <td>0</td>\n",
              "      <td>1</td>\n",
              "      <td>1</td>\n",
              "    </tr>\n",
              "    <tr>\n",
              "      <th>107</th>\n",
              "      <td>1</td>\n",
              "      <td>0</td>\n",
              "      <td>1</td>\n",
              "      <td>0</td>\n",
              "      <td>0</td>\n",
              "      <td>0</td>\n",
              "      <td>1</td>\n",
              "      <td>1</td>\n",
              "    </tr>\n",
              "    <tr>\n",
              "      <th>108</th>\n",
              "      <td>1</td>\n",
              "      <td>0</td>\n",
              "      <td>0</td>\n",
              "      <td>1</td>\n",
              "      <td>0</td>\n",
              "      <td>0</td>\n",
              "      <td>1</td>\n",
              "      <td>1</td>\n",
              "    </tr>\n",
              "    <tr>\n",
              "      <th>...</th>\n",
              "      <td>...</td>\n",
              "      <td>...</td>\n",
              "      <td>...</td>\n",
              "      <td>...</td>\n",
              "      <td>...</td>\n",
              "      <td>...</td>\n",
              "      <td>...</td>\n",
              "      <td>...</td>\n",
              "    </tr>\n",
              "    <tr>\n",
              "      <th>15094</th>\n",
              "      <td>1</td>\n",
              "      <td>0</td>\n",
              "      <td>1</td>\n",
              "      <td>0</td>\n",
              "      <td>0</td>\n",
              "      <td>1</td>\n",
              "      <td>0</td>\n",
              "      <td>1</td>\n",
              "    </tr>\n",
              "    <tr>\n",
              "      <th>15095</th>\n",
              "      <td>1</td>\n",
              "      <td>0</td>\n",
              "      <td>0</td>\n",
              "      <td>1</td>\n",
              "      <td>0</td>\n",
              "      <td>0</td>\n",
              "      <td>1</td>\n",
              "      <td>1</td>\n",
              "    </tr>\n",
              "    <tr>\n",
              "      <th>15096</th>\n",
              "      <td>1</td>\n",
              "      <td>0</td>\n",
              "      <td>0</td>\n",
              "      <td>1</td>\n",
              "      <td>0</td>\n",
              "      <td>0</td>\n",
              "      <td>1</td>\n",
              "      <td>1</td>\n",
              "    </tr>\n",
              "    <tr>\n",
              "      <th>15097</th>\n",
              "      <td>1</td>\n",
              "      <td>0</td>\n",
              "      <td>0</td>\n",
              "      <td>1</td>\n",
              "      <td>0</td>\n",
              "      <td>0</td>\n",
              "      <td>1</td>\n",
              "      <td>1</td>\n",
              "    </tr>\n",
              "    <tr>\n",
              "      <th>15098</th>\n",
              "      <td>1</td>\n",
              "      <td>0</td>\n",
              "      <td>0</td>\n",
              "      <td>1</td>\n",
              "      <td>0</td>\n",
              "      <td>0</td>\n",
              "      <td>1</td>\n",
              "      <td>1</td>\n",
              "    </tr>\n",
              "  </tbody>\n",
              "</table>\n",
              "<p>14995 rows × 8 columns</p>\n",
              "</div>"
            ],
            "text/plain": [
              "       account_type_current  account_type_saving  gender_F  gender_M  \\\n",
              "104                       1                    0         0         1   \n",
              "105                       1                    0         0         1   \n",
              "106                       1                    0         0         1   \n",
              "107                       1                    0         1         0   \n",
              "108                       1                    0         0         1   \n",
              "...                     ...                  ...       ...       ...   \n",
              "15094                     1                    0         1         0   \n",
              "15095                     1                    0         0         1   \n",
              "15096                     1                    0         0         1   \n",
              "15097                     1                    0         0         1   \n",
              "15098                     1                    0         0         1   \n",
              "\n",
              "       income_HIGH  income_LOW  income_MEDIUM  loan_enq_Y  \n",
              "104              0           0              1           1  \n",
              "105              1           0              0           1  \n",
              "106              0           0              1           1  \n",
              "107              0           0              1           1  \n",
              "108              0           0              1           1  \n",
              "...            ...         ...            ...         ...  \n",
              "15094            0           1              0           1  \n",
              "15095            0           0              1           1  \n",
              "15096            0           0              1           1  \n",
              "15097            0           0              1           1  \n",
              "15098            0           0              1           1  \n",
              "\n",
              "[14995 rows x 8 columns]"
            ]
          },
          "execution_count": 50,
          "metadata": {},
          "output_type": "execute_result"
        }
      ]
    },
    {
      "cell_type": "markdown",
      "metadata": {
        "id": "5EpbHDX1mGGT"
      },
      "source": [
        "### Outlier Removal"
      ]
    },
    {
      "cell_type": "markdown",
      "metadata": {
        "id": "WZjqqXEkmGGT"
      },
      "source": [
        "To remove outliers we use scipy.stats.mstats.winsorize function.\n",
        "\n",
        "Winsorizing or winsorization is the transformation of statistics by limiting extreme values in the statistical data to reduce the effect of possibly spurious outliers. It is named after the engineer-turned-biostatistician Charles P. Winsor (1895–1951)\n"
      ]
    },
    {
      "cell_type": "code",
      "metadata": {
        "id": "xMZt3TaTmGGT"
      },
      "source": [
        "#outlier removal with limits:\n",
        "#     lower limit: 5% of range\n",
        "#     upper limit: 95% of range\n",
        "from scipy.stats import mstats\n",
        "\n",
        "for x in df_train.columns:\n",
        "    df_train[x] = mstats.winsorize(df_train[x], limits=[0.05, 0.05])"
      ],
      "execution_count": null,
      "outputs": []
    },
    {
      "cell_type": "markdown",
      "metadata": {
        "id": "njC5pNtsmGGU"
      },
      "source": [
        "## applying the same aboe steps of missing value removal and outlier imputation to df_predict"
      ]
    },
    {
      "cell_type": "code",
      "metadata": {
        "id": "jfUEuHdlmGGV",
        "outputId": "180d9d32-d7d0-4e4d-eb57-e4ac102fc43c"
      },
      "source": [
        "df_predict = pd.get_dummies(df_predict)\n",
        "df_predict.loc[:,['account_type_current','account_type_saving','gender_F','gender_M','income_HIGH','income_LOW','income_MEDIUM','loan_enq_Y']]"
      ],
      "execution_count": null,
      "outputs": [
        {
          "data": {
            "text/html": [
              "<div>\n",
              "<style scoped>\n",
              "    .dataframe tbody tr th:only-of-type {\n",
              "        vertical-align: middle;\n",
              "    }\n",
              "\n",
              "    .dataframe tbody tr th {\n",
              "        vertical-align: top;\n",
              "    }\n",
              "\n",
              "    .dataframe thead th {\n",
              "        text-align: right;\n",
              "    }\n",
              "</style>\n",
              "<table border=\"1\" class=\"dataframe\">\n",
              "  <thead>\n",
              "    <tr style=\"text-align: right;\">\n",
              "      <th></th>\n",
              "      <th>account_type_current</th>\n",
              "      <th>account_type_saving</th>\n",
              "      <th>gender_F</th>\n",
              "      <th>gender_M</th>\n",
              "      <th>income_HIGH</th>\n",
              "      <th>income_LOW</th>\n",
              "      <th>income_MEDIUM</th>\n",
              "      <th>loan_enq_Y</th>\n",
              "    </tr>\n",
              "  </thead>\n",
              "  <tbody>\n",
              "    <tr>\n",
              "      <th>0</th>\n",
              "      <td>1</td>\n",
              "      <td>0</td>\n",
              "      <td>0</td>\n",
              "      <td>1</td>\n",
              "      <td>0</td>\n",
              "      <td>0</td>\n",
              "      <td>1</td>\n",
              "      <td>1</td>\n",
              "    </tr>\n",
              "    <tr>\n",
              "      <th>1</th>\n",
              "      <td>1</td>\n",
              "      <td>0</td>\n",
              "      <td>0</td>\n",
              "      <td>1</td>\n",
              "      <td>0</td>\n",
              "      <td>0</td>\n",
              "      <td>1</td>\n",
              "      <td>1</td>\n",
              "    </tr>\n",
              "    <tr>\n",
              "      <th>2</th>\n",
              "      <td>1</td>\n",
              "      <td>0</td>\n",
              "      <td>1</td>\n",
              "      <td>0</td>\n",
              "      <td>0</td>\n",
              "      <td>0</td>\n",
              "      <td>1</td>\n",
              "      <td>1</td>\n",
              "    </tr>\n",
              "    <tr>\n",
              "      <th>3</th>\n",
              "      <td>1</td>\n",
              "      <td>0</td>\n",
              "      <td>0</td>\n",
              "      <td>1</td>\n",
              "      <td>0</td>\n",
              "      <td>0</td>\n",
              "      <td>1</td>\n",
              "      <td>1</td>\n",
              "    </tr>\n",
              "    <tr>\n",
              "      <th>4</th>\n",
              "      <td>1</td>\n",
              "      <td>0</td>\n",
              "      <td>0</td>\n",
              "      <td>1</td>\n",
              "      <td>1</td>\n",
              "      <td>0</td>\n",
              "      <td>0</td>\n",
              "      <td>1</td>\n",
              "    </tr>\n",
              "    <tr>\n",
              "      <th>...</th>\n",
              "      <td>...</td>\n",
              "      <td>...</td>\n",
              "      <td>...</td>\n",
              "      <td>...</td>\n",
              "      <td>...</td>\n",
              "      <td>...</td>\n",
              "      <td>...</td>\n",
              "      <td>...</td>\n",
              "    </tr>\n",
              "    <tr>\n",
              "      <th>19983</th>\n",
              "      <td>1</td>\n",
              "      <td>0</td>\n",
              "      <td>1</td>\n",
              "      <td>0</td>\n",
              "      <td>0</td>\n",
              "      <td>0</td>\n",
              "      <td>1</td>\n",
              "      <td>1</td>\n",
              "    </tr>\n",
              "    <tr>\n",
              "      <th>19984</th>\n",
              "      <td>1</td>\n",
              "      <td>0</td>\n",
              "      <td>0</td>\n",
              "      <td>1</td>\n",
              "      <td>0</td>\n",
              "      <td>0</td>\n",
              "      <td>1</td>\n",
              "      <td>1</td>\n",
              "    </tr>\n",
              "    <tr>\n",
              "      <th>19985</th>\n",
              "      <td>1</td>\n",
              "      <td>0</td>\n",
              "      <td>1</td>\n",
              "      <td>0</td>\n",
              "      <td>0</td>\n",
              "      <td>0</td>\n",
              "      <td>1</td>\n",
              "      <td>1</td>\n",
              "    </tr>\n",
              "    <tr>\n",
              "      <th>19986</th>\n",
              "      <td>1</td>\n",
              "      <td>0</td>\n",
              "      <td>0</td>\n",
              "      <td>1</td>\n",
              "      <td>0</td>\n",
              "      <td>1</td>\n",
              "      <td>0</td>\n",
              "      <td>1</td>\n",
              "    </tr>\n",
              "    <tr>\n",
              "      <th>19987</th>\n",
              "      <td>1</td>\n",
              "      <td>0</td>\n",
              "      <td>1</td>\n",
              "      <td>0</td>\n",
              "      <td>0</td>\n",
              "      <td>1</td>\n",
              "      <td>0</td>\n",
              "      <td>1</td>\n",
              "    </tr>\n",
              "  </tbody>\n",
              "</table>\n",
              "<p>4993 rows × 8 columns</p>\n",
              "</div>"
            ],
            "text/plain": [
              "       account_type_current  account_type_saving  gender_F  gender_M  \\\n",
              "0                         1                    0         0         1   \n",
              "1                         1                    0         0         1   \n",
              "2                         1                    0         1         0   \n",
              "3                         1                    0         0         1   \n",
              "4                         1                    0         0         1   \n",
              "...                     ...                  ...       ...       ...   \n",
              "19983                     1                    0         1         0   \n",
              "19984                     1                    0         0         1   \n",
              "19985                     1                    0         1         0   \n",
              "19986                     1                    0         0         1   \n",
              "19987                     1                    0         1         0   \n",
              "\n",
              "       income_HIGH  income_LOW  income_MEDIUM  loan_enq_Y  \n",
              "0                0           0              1           1  \n",
              "1                0           0              1           1  \n",
              "2                0           0              1           1  \n",
              "3                0           0              1           1  \n",
              "4                1           0              0           1  \n",
              "...            ...         ...            ...         ...  \n",
              "19983            0           0              1           1  \n",
              "19984            0           0              1           1  \n",
              "19985            0           0              1           1  \n",
              "19986            0           1              0           1  \n",
              "19987            0           1              0           1  \n",
              "\n",
              "[4993 rows x 8 columns]"
            ]
          },
          "execution_count": 52,
          "metadata": {},
          "output_type": "execute_result"
        }
      ]
    },
    {
      "cell_type": "code",
      "metadata": {
        "id": "D6CUxnrPmGGV"
      },
      "source": [
        "for x in df_predict.columns:\n",
        "    df_predict[x] = mstats.winsorize(df_predict[x], limits=[0.05, 0.05])"
      ],
      "execution_count": null,
      "outputs": []
    },
    {
      "cell_type": "markdown",
      "metadata": {
        "id": "Cnq6De5xmGGW"
      },
      "source": [
        "### Standardization"
      ]
    },
    {
      "cell_type": "code",
      "metadata": {
        "id": "2Kni6Fe8mGGW"
      },
      "source": [
        "from sklearn.preprocessing import LabelEncoder,MinMaxScaler,StandardScaler\n",
        "\n",
        "\n",
        "scaler = StandardScaler()\n",
        "X = scaler.fit_transform(x_train)\n",
        "X = pd.DataFrame(X, columns=x_train.columns)\n",
        "\n"
      ],
      "execution_count": null,
      "outputs": []
    },
    {
      "cell_type": "code",
      "metadata": {
        "id": "EDY3ihf2mGGW"
      },
      "source": [
        ""
      ],
      "execution_count": null,
      "outputs": []
    },
    {
      "cell_type": "code",
      "metadata": {
        "id": "uK5sW5n8mGGX"
      },
      "source": [
        ""
      ],
      "execution_count": null,
      "outputs": []
    },
    {
      "cell_type": "code",
      "metadata": {
        "id": "xwwMtSb3mGGX"
      },
      "source": [
        ""
      ],
      "execution_count": null,
      "outputs": []
    },
    {
      "cell_type": "code",
      "metadata": {
        "id": "JYSEuxHQmGGX"
      },
      "source": [
        ""
      ],
      "execution_count": null,
      "outputs": []
    },
    {
      "cell_type": "code",
      "metadata": {
        "id": "oOA-XULnmGGY"
      },
      "source": [
        ""
      ],
      "execution_count": null,
      "outputs": []
    },
    {
      "cell_type": "code",
      "metadata": {
        "id": "mIVV3y50mGGY"
      },
      "source": [
        ""
      ],
      "execution_count": null,
      "outputs": []
    },
    {
      "cell_type": "code",
      "metadata": {
        "id": "nn5t92JmmGGY"
      },
      "source": [
        ""
      ],
      "execution_count": null,
      "outputs": []
    },
    {
      "cell_type": "markdown",
      "metadata": {
        "id": "MkvPUlz9mGGY"
      },
      "source": [
        "## Implementing a linear regression model"
      ]
    },
    {
      "cell_type": "code",
      "metadata": {
        "id": "R8H2eClKmGGZ"
      },
      "source": [
        "train_cols_x = ['age', 'emp_tenure_years', 'tenure_with_bank','region_code', \n",
        "              'net_banking_flag', 'avg_days_between_transaction','cc_cons_apr', 'dc_cons_apr', \n",
        "              'cc_cons_may', 'dc_cons_may','cc_cons_jun', 'dc_cons_jun', 'cc_count_apr', 'cc_count_may',\n",
        "              'cc_count_jun', 'dc_count_apr', 'dc_count_may', 'dc_count_jun','card_lim', 'personal_loan_active', \n",
        "              'vehicle_loan_active','personal_loan_closed', 'vehicle_loan_closed', 'investment_1','investment_2', \n",
        "              'investment_3', 'investment_4', 'debit_amount_apr','credit_amount_apr', 'debit_count_apr', \n",
        "              'credit_count_apr','max_credit_amount_apr', 'debit_amount_may', 'credit_amount_may','credit_count_may', \n",
        "              'debit_count_may', 'max_credit_amount_may','debit_amount_jun', 'credit_amount_jun', 'credit_count_jun',\n",
        "              'debit_count_jun', 'max_credit_amount_jun', 'emi_active','account_type_current', 'account_type_saving',\n",
        "              'gender_F', 'gender_M', 'income_HIGH', 'income_LOW', 'income_MEDIUM','loan_enq_Y']\n",
        "\n",
        "\n",
        "\n",
        "train_cols_y = ['cc_cons_target']"
      ],
      "execution_count": null,
      "outputs": []
    },
    {
      "cell_type": "markdown",
      "metadata": {
        "id": "SCOguuwpmGGZ"
      },
      "source": [
        "### Splitting x and y teach data into train and test data for model building and model testing"
      ]
    },
    {
      "cell_type": "code",
      "metadata": {
        "id": "6y0bLIibmGGa"
      },
      "source": [
        "x_train, x_test, y_train, y_test = train_test_split(df_train[train_cols_x], df_train[train_cols_y], test_size=0.25, random_state=72)"
      ],
      "execution_count": null,
      "outputs": []
    },
    {
      "cell_type": "markdown",
      "metadata": {
        "id": "_z8scdQkmGGa"
      },
      "source": [
        "### RFE and selecting features"
      ]
    },
    {
      "cell_type": "code",
      "metadata": {
        "id": "slg_vU3HmGGa",
        "outputId": "aa0fabe0-cf69-445a-e2a9-1598e5c388d9"
      },
      "source": [
        "from sklearn.tree import DecisionTreeRegressor\n",
        "regressor = DecisionTreeRegressor(random_state=0)\n",
        "\n",
        "lr = LinearRegression()\n",
        "rfe = RFE(estimator=lr, n_features_to_select=25)\n",
        "rfe.fit(x_train, y_train)\n",
        "\n",
        "rfe.ranking_\n",
        "\n",
        "\n",
        "# # selecting features given by RFE\n",
        "# f = rfe.get_support(3) #the most important features\n",
        "# x_train_select = x_train[x_train.columns[f]] # final features`\n",
        "# x_train_select.head(2)"
      ],
      "execution_count": null,
      "outputs": [
        {
          "data": {
            "text/plain": [
              "array([ 1,  1,  1,  1,  1,  1, 13,  5,  4,  2, 10,  7,  1,  1,  1,  1,  1,\n",
              "        1, 16, 25, 24, 23, 26, 20, 17, 14,  6, 22,  9,  1,  1, 21, 19, 12,\n",
              "        1,  1, 11, 18, 15,  1,  1,  8,  3,  1,  1,  1,  1,  1,  1,  1, 27])"
            ]
          },
          "execution_count": 171,
          "metadata": {},
          "output_type": "execute_result"
        }
      ]
    },
    {
      "cell_type": "code",
      "metadata": {
        "id": "7rGxBJGkmGGa",
        "outputId": "40e42e97-07b0-4ea2-8c56-694dd5137b87"
      },
      "source": [
        "#selecting the same features in test data\n",
        "x_test_select = x_test[x_test.columns[f]]\n",
        "x_test_select.head(2)"
      ],
      "execution_count": null,
      "outputs": [
        {
          "data": {
            "text/html": [
              "<div>\n",
              "<style scoped>\n",
              "    .dataframe tbody tr th:only-of-type {\n",
              "        vertical-align: middle;\n",
              "    }\n",
              "\n",
              "    .dataframe tbody tr th {\n",
              "        vertical-align: top;\n",
              "    }\n",
              "\n",
              "    .dataframe thead th {\n",
              "        text-align: right;\n",
              "    }\n",
              "</style>\n",
              "<table border=\"1\" class=\"dataframe\">\n",
              "  <thead>\n",
              "    <tr style=\"text-align: right;\">\n",
              "      <th></th>\n",
              "      <th>age</th>\n",
              "      <th>emp_tenure_years</th>\n",
              "      <th>tenure_with_bank</th>\n",
              "      <th>region_code</th>\n",
              "      <th>net_banking_flag</th>\n",
              "      <th>avg_days_between_transaction</th>\n",
              "      <th>cc_count_apr</th>\n",
              "      <th>cc_count_may</th>\n",
              "      <th>cc_count_jun</th>\n",
              "      <th>dc_count_apr</th>\n",
              "      <th>...</th>\n",
              "      <th>debit_count_may</th>\n",
              "      <th>credit_count_jun</th>\n",
              "      <th>debit_count_jun</th>\n",
              "      <th>account_type_current</th>\n",
              "      <th>account_type_saving</th>\n",
              "      <th>gender_F</th>\n",
              "      <th>gender_M</th>\n",
              "      <th>income_HIGH</th>\n",
              "      <th>income_LOW</th>\n",
              "      <th>income_MEDIUM</th>\n",
              "    </tr>\n",
              "  </thead>\n",
              "  <tbody>\n",
              "    <tr>\n",
              "      <th>6853</th>\n",
              "      <td>47</td>\n",
              "      <td>13.5</td>\n",
              "      <td>10</td>\n",
              "      <td>867.0</td>\n",
              "      <td>1</td>\n",
              "      <td>4.0</td>\n",
              "      <td>2.0</td>\n",
              "      <td>93</td>\n",
              "      <td>4</td>\n",
              "      <td>30</td>\n",
              "      <td>...</td>\n",
              "      <td>70</td>\n",
              "      <td>2</td>\n",
              "      <td>2</td>\n",
              "      <td>1</td>\n",
              "      <td>0</td>\n",
              "      <td>0</td>\n",
              "      <td>1</td>\n",
              "      <td>0</td>\n",
              "      <td>0</td>\n",
              "      <td>1</td>\n",
              "    </tr>\n",
              "    <tr>\n",
              "      <th>1323</th>\n",
              "      <td>55</td>\n",
              "      <td>10.5</td>\n",
              "      <td>4</td>\n",
              "      <td>249.0</td>\n",
              "      <td>1</td>\n",
              "      <td>9.0</td>\n",
              "      <td>6.0</td>\n",
              "      <td>2</td>\n",
              "      <td>27</td>\n",
              "      <td>4</td>\n",
              "      <td>...</td>\n",
              "      <td>63</td>\n",
              "      <td>94</td>\n",
              "      <td>75</td>\n",
              "      <td>0</td>\n",
              "      <td>1</td>\n",
              "      <td>0</td>\n",
              "      <td>1</td>\n",
              "      <td>0</td>\n",
              "      <td>0</td>\n",
              "      <td>1</td>\n",
              "    </tr>\n",
              "  </tbody>\n",
              "</table>\n",
              "<p>2 rows × 25 columns</p>\n",
              "</div>"
            ],
            "text/plain": [
              "      age  emp_tenure_years  tenure_with_bank  region_code  net_banking_flag  \\\n",
              "6853   47              13.5                10        867.0                 1   \n",
              "1323   55              10.5                 4        249.0                 1   \n",
              "\n",
              "      avg_days_between_transaction  cc_count_apr  cc_count_may  cc_count_jun  \\\n",
              "6853                           4.0           2.0            93             4   \n",
              "1323                           9.0           6.0             2            27   \n",
              "\n",
              "      dc_count_apr  ...  debit_count_may  credit_count_jun  debit_count_jun  \\\n",
              "6853            30  ...               70                 2                2   \n",
              "1323             4  ...               63                94               75   \n",
              "\n",
              "      account_type_current  account_type_saving  gender_F  gender_M  \\\n",
              "6853                     1                    0         0         1   \n",
              "1323                     0                    1         0         1   \n",
              "\n",
              "      income_HIGH  income_LOW  income_MEDIUM  \n",
              "6853            0           0              1  \n",
              "1323            0           0              1  \n",
              "\n",
              "[2 rows x 25 columns]"
            ]
          },
          "execution_count": 165,
          "metadata": {},
          "output_type": "execute_result"
        }
      ]
    },
    {
      "cell_type": "markdown",
      "metadata": {
        "id": "fayFesOPmGGa"
      },
      "source": [
        "### Applying liner regresssion on selected features"
      ]
    },
    {
      "cell_type": "code",
      "metadata": {
        "id": "EPH8c312mGGb"
      },
      "source": [
        "# training the linear regression model on x_train_select and y_train \n",
        "lr.fit(x_train_select, y_train)\n",
        "\n",
        "# predicting the values of x_train_select and storing them in y_hat_train\n",
        "y_hat_train = lr.predict(x_train_select)"
      ],
      "execution_count": null,
      "outputs": []
    },
    {
      "cell_type": "markdown",
      "metadata": {
        "id": "JZaIH85qmGGb"
      },
      "source": [
        "### Checking the accuracy of the train data predictions"
      ]
    },
    {
      "cell_type": "code",
      "metadata": {
        "id": "t2IPArRcmGGc",
        "outputId": "59770695-be6c-464b-afaf-431a7b17c6ce"
      },
      "source": [
        "#This is a value between [0 = no-fit] and [1 = perfect fit ]\n",
        "r_sq = met.r2_score(y_pred=y_hat_train,y_true= y_train)\n",
        "print('The accuracy of the model in r^2 :',r_sq)\n",
        "\n",
        "\n",
        "# #mae\n",
        "# mae = met.mean_absolute_error(y_pred=y_hat_train,y_true= y_train)\n",
        "# print('The accuracy of the model in mae :',mae)\n",
        "\n",
        "\n",
        "# #MAPE\n",
        "# y_diff = y_hat_train - y_train\n",
        "# y_diff  = np.abs(y_diff)/np.max(y_train)#/ np.maximum(np.abs(y_diff))\n",
        "# print('The accuracy of the model in mape:',np.average(y_diff)*100,'%')\n",
        "\n"
      ],
      "execution_count": null,
      "outputs": [
        {
          "name": "stdout",
          "output_type": "stream",
          "text": [
            "The accuracy of the model in r^2 : 0.0022404347243404343\n"
          ]
        }
      ]
    },
    {
      "cell_type": "markdown",
      "metadata": {
        "id": "D014tPwwmGGc"
      },
      "source": [
        "### Predicting the values for test dataset and checking the accuracy of the model"
      ]
    },
    {
      "cell_type": "code",
      "metadata": {
        "id": "wNwu1l1vmGGd",
        "outputId": "e1eaad0f-d7ea-4b77-b3a0-fc94449ba713"
      },
      "source": [
        "y_hat_test = lr.predict(x_test_select)\n",
        "\n",
        "# checking the accuracy of test_data predictions\n",
        "r_sq = met.r2_score(y_pred=y_hat_test, y_true= y_test)\n",
        "print('The accuracy of the model in r^2 :',r_sq)\n",
        "\n",
        "met.mean_squared_error(y_pred=y_hat_test, y_true= y_test)\n",
        "\n",
        "# mae = met.mean_absolute_error(y_pred=y_hat_test,y_true= y_test)\n",
        "\n",
        "# # #mape calculations\n",
        "# y_diff = y_test - y_hat_test\n",
        "# y_diff  = np.abs(y_diff)/np.abs(y_test)\n",
        "# print('The accuracy of the model in mape:',np.average(y_diff)*100,'%')\n",
        "\n",
        "# print('The accuracy of the model in mae :',mae)"
      ],
      "execution_count": null,
      "outputs": [
        {
          "name": "stdout",
          "output_type": "stream",
          "text": [
            "The accuracy of the model in r^2 : -0.0037223545512643508\n"
          ]
        },
        {
          "data": {
            "text/plain": [
              "8506432758.817084"
            ]
          },
          "execution_count": 168,
          "metadata": {},
          "output_type": "execute_result"
        }
      ]
    },
    {
      "cell_type": "code",
      "metadata": {
        "id": "Dx_z0OJVmGGe",
        "outputId": "f4c14976-0a57-4a29-d564-15b362000fcb"
      },
      "source": [
        "np.sqrt(met.mean_squared_error(y_pred=y_hat_train, y_true= y_train))"
      ],
      "execution_count": null,
      "outputs": [
        {
          "data": {
            "text/plain": [
              "91266.10430604055"
            ]
          },
          "execution_count": 145,
          "metadata": {},
          "output_type": "execute_result"
        }
      ]
    }
  ]
}